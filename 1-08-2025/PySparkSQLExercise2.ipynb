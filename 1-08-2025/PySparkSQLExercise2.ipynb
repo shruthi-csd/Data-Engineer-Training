{
  "nbformat": 4,
  "nbformat_minor": 0,
  "metadata": {
    "colab": {
      "provenance": []
    },
    "kernelspec": {
      "name": "python3",
      "display_name": "Python 3"
    },
    "language_info": {
      "name": "python"
    }
  },
  "cells": [
    {
      "cell_type": "markdown",
      "source": [
        "# **Spark SQL Exercise Set – Product Orders Analytics**\n",
        "\n",
        "**Dataset Theme: E-Commerce Orders**"
      ],
      "metadata": {
        "id": "1y2QayysgQPO"
      }
    },
    {
      "cell_type": "code",
      "execution_count": 1,
      "metadata": {
        "colab": {
          "base_uri": "https://localhost:8080/",
          "height": 221
        },
        "id": "u7iZTCCKXnP1",
        "outputId": "3a41b41b-4ae4-414e-9a0a-398194c9ca1a"
      },
      "outputs": [
        {
          "output_type": "execute_result",
          "data": {
            "text/plain": [
              "<pyspark.sql.session.SparkSession at 0x7caa18489210>"
            ],
            "text/html": [
              "\n",
              "            <div>\n",
              "                <p><b>SparkSession - in-memory</b></p>\n",
              "                \n",
              "        <div>\n",
              "            <p><b>SparkContext</b></p>\n",
              "\n",
              "            <p><a href=\"http://21662be72496:4040\">Spark UI</a></p>\n",
              "\n",
              "            <dl>\n",
              "              <dt>Version</dt>\n",
              "                <dd><code>v3.5.1</code></dd>\n",
              "              <dt>Master</dt>\n",
              "                <dd><code>local[*]</code></dd>\n",
              "              <dt>AppName</dt>\n",
              "                <dd><code>orderAnalytics</code></dd>\n",
              "            </dl>\n",
              "        </div>\n",
              "        \n",
              "            </div>\n",
              "        "
            ]
          },
          "metadata": {},
          "execution_count": 1
        }
      ],
      "source": [
        "from pyspark.sql import SparkSession\n",
        "\n",
        "spark = SparkSession.builder.appName('orderAnalytics').getOrCreate()\n",
        "spark"
      ]
    },
    {
      "cell_type": "markdown",
      "source": [
        "1. Create a PySpark DataFrame with the following schema:"
      ],
      "metadata": {
        "id": "LXK40JMzgh45"
      }
    },
    {
      "cell_type": "code",
      "source": [
        "from pyspark.sql import Row\n",
        "\n",
        "data = [\n",
        "    Row(OrderID = 1, CustomerName = 'Karthika', Product = 'Saree', Category = 'Clothing', Quantity = 2, UnitPrice = 2000, OrderDate = '2025-07-20'),\n",
        "    Row(OrderID = 2, CustomerName = 'Dharun', Product = 'Mobile', Category = 'Electronics', Quantity = 3, UnitPrice = 25000, OrderDate = '2023-01-20'),\n",
        "    Row(OrderID = 3, CustomerName = 'Meena', Product = 'Dressing table', Category = 'Furniture', Quantity = 4, UnitPrice = 10000, OrderDate = '2024-09-25'),\n",
        "    Row(OrderID = 4, CustomerName = 'Asha', Product = 'Kurta', Category = 'Clothing', Quantity = 7, UnitPrice = 500, OrderDate = '2025-02-19'),\n",
        "    Row(OrderID = 5, CustomerName = 'Jayasree', Product = 'Bed', Category = 'Furniture', Quantity = 1, UnitPrice = 30000, OrderDate = '2022-07-22'),\n",
        "    Row(OrderID = 6, CustomerName = 'Kalimthu', Product = 'Bluetooth', Category = 'Electronics', Quantity = 3, UnitPrice = 3000, OrderDate = '2025-03-06'),\n",
        "    Row(OrderID = 7, CustomerName = 'Mohan', Product = 'Laptop', Category = 'Electronics', Quantity = 2, UnitPrice = 40000, OrderDate = '2025-05-15'),\n",
        "    Row(OrderID = 8, CustomerName = 'Hareesh', Product = 'Comics', Category = 'Books', Quantity = 5, UnitPrice = 1500, OrderDate = '2023-10-10'),\n",
        "    Row(OrderID = 9, CustomerName = 'Charan', Product = 'Science Fiction', Category = 'Books', Quantity = 8, UnitPrice = 2500, OrderDate = '2024-07-02'),\n",
        "    Row(OrderID = 10, CustomerName = 'Siva', Product = 'Salwar', Category = 'Clothing', Quantity = 4, UnitPrice = 2700, OrderDate = '2025-02-28'),\n",
        "    Row(OrderID = 11, CustomerName = 'Amutha', Product = 'Chair', Category = 'Furniture', Quantity = 9, UnitPrice = 1900, OrderDate = '2023-01-01'),\n",
        "    Row(OrderID = 12, CustomerName = 'Ramya', Product = 'Television', Category = 'Electronics', Quantity = 1, UnitPrice = 55000, OrderDate = '2024-06-22'),\n",
        "]\n",
        "\n",
        "df = spark.createDataFrame(data)\n",
        "df.show()"
      ],
      "metadata": {
        "colab": {
          "base_uri": "https://localhost:8080/"
        },
        "id": "dp0aKKRcaEO8",
        "outputId": "dd0a1fab-7f0c-4b16-b509-330c08e43ab0"
      },
      "execution_count": 2,
      "outputs": [
        {
          "output_type": "stream",
          "name": "stdout",
          "text": [
            "+-------+------------+---------------+-----------+--------+---------+----------+\n",
            "|OrderID|CustomerName|        Product|   Category|Quantity|UnitPrice| OrderDate|\n",
            "+-------+------------+---------------+-----------+--------+---------+----------+\n",
            "|      1|    Karthika|          Saree|   Clothing|       2|     2000|2025-07-20|\n",
            "|      2|      Dharun|         Mobile|Electronics|       3|    25000|2023-01-20|\n",
            "|      3|       Meena| Dressing table|  Furniture|       4|    10000|2024-09-25|\n",
            "|      4|        Asha|          Kurta|   Clothing|       7|      500|2025-02-19|\n",
            "|      5|    Jayasree|            Bed|  Furniture|       1|    30000|2022-07-22|\n",
            "|      6|    Kalimthu|      Bluetooth|Electronics|       3|     3000|2025-03-06|\n",
            "|      7|       Mohan|         Laptop|Electronics|       2|    40000|2025-05-15|\n",
            "|      8|     Hareesh|         Comics|      Books|       5|     1500|2023-10-10|\n",
            "|      9|      Charan|Science Fiction|      Books|       8|     2500|2024-07-02|\n",
            "|     10|        Siva|         Salwar|   Clothing|       4|     2700|2025-02-28|\n",
            "|     11|      Amutha|          Chair|  Furniture|       9|     1900|2023-01-01|\n",
            "|     12|       Ramya|     Television|Electronics|       1|    55000|2024-06-22|\n",
            "+-------+------------+---------------+-----------+--------+---------+----------+\n",
            "\n"
          ]
        }
      ]
    },
    {
      "cell_type": "markdown",
      "source": [],
      "metadata": {
        "id": "jpicIu7Jf-S9"
      }
    },
    {
      "cell_type": "code",
      "source": [
        "df.createOrReplaceTempView('orders_local')"
      ],
      "metadata": {
        "id": "8belUuopgz_I"
      },
      "execution_count": 4,
      "outputs": []
    },
    {
      "cell_type": "markdown",
      "source": [
        "**Part A: Local View – orders_local**\n",
        "\n",
        "1. List all orders placed for \"Electronics\" with a Quantity of 2 or more."
      ],
      "metadata": {
        "id": "i2lgczedhX-o"
      }
    },
    {
      "cell_type": "code",
      "source": [
        "spark.sql(\"SELECT * FROM orders_local WHERE Category = 'Electronics' AND Quantity >= 2\").show()"
      ],
      "metadata": {
        "colab": {
          "base_uri": "https://localhost:8080/"
        },
        "id": "buapZPV0hvcu",
        "outputId": "b528b883-f675-47d8-c79d-fdecbe398b3a"
      },
      "execution_count": 8,
      "outputs": [
        {
          "output_type": "stream",
          "name": "stdout",
          "text": [
            "+-------+------------+---------+-----------+--------+---------+----------+\n",
            "|OrderID|CustomerName|  Product|   Category|Quantity|UnitPrice| OrderDate|\n",
            "+-------+------------+---------+-----------+--------+---------+----------+\n",
            "|      2|      Dharun|   Mobile|Electronics|       3|    25000|2023-01-20|\n",
            "|      6|    Kalimthu|Bluetooth|Electronics|       3|     3000|2025-03-06|\n",
            "|      7|       Mohan|   Laptop|Electronics|       2|    40000|2025-05-15|\n",
            "+-------+------------+---------+-----------+--------+---------+----------+\n",
            "\n"
          ]
        }
      ]
    },
    {
      "cell_type": "markdown",
      "source": [
        "2. Calculate TotalAmount (Quantity × UnitPrice) for each order."
      ],
      "metadata": {
        "id": "Xt6EFJf3mZ_z"
      }
    },
    {
      "cell_type": "code",
      "source": [
        "spark.sql(\"SELECT OrderID, Quantity * UnitPrice AS TotalAmount FROM orders_local\").show()"
      ],
      "metadata": {
        "colab": {
          "base_uri": "https://localhost:8080/"
        },
        "id": "K8YN7UpmmfZ3",
        "outputId": "c78e1fbb-634b-4a3b-ccf1-2408eec96f3c"
      },
      "execution_count": 9,
      "outputs": [
        {
          "output_type": "stream",
          "name": "stdout",
          "text": [
            "+-------+-----------+\n",
            "|OrderID|TotalAmount|\n",
            "+-------+-----------+\n",
            "|      1|       4000|\n",
            "|      2|      75000|\n",
            "|      3|      40000|\n",
            "|      4|       3500|\n",
            "|      5|      30000|\n",
            "|      6|       9000|\n",
            "|      7|      80000|\n",
            "|      8|       7500|\n",
            "|      9|      20000|\n",
            "|     10|      10800|\n",
            "|     11|      17100|\n",
            "|     12|      55000|\n",
            "+-------+-----------+\n",
            "\n"
          ]
        }
      ]
    },
    {
      "cell_type": "markdown",
      "source": [
        "3. Show the total number of orders per Category ."
      ],
      "metadata": {
        "id": "EnoRa4tImo6G"
      }
    },
    {
      "cell_type": "code",
      "source": [
        "spark.sql(\"SELECT Category, COUNT(OrderID) FROM orders_local GROUP BY Category\").show()"
      ],
      "metadata": {
        "colab": {
          "base_uri": "https://localhost:8080/"
        },
        "id": "wvOgprMOmrtu",
        "outputId": "c067ce34-4167-42a5-9170-90ed4a035104"
      },
      "execution_count": 10,
      "outputs": [
        {
          "output_type": "stream",
          "name": "stdout",
          "text": [
            "+-----------+--------------+\n",
            "|   Category|count(OrderID)|\n",
            "+-----------+--------------+\n",
            "|Electronics|             4|\n",
            "|   Clothing|             3|\n",
            "|  Furniture|             3|\n",
            "|      Books|             2|\n",
            "+-----------+--------------+\n",
            "\n"
          ]
        }
      ]
    },
    {
      "cell_type": "markdown",
      "source": [
        "4. List orders placed in \"January 2023\" only."
      ],
      "metadata": {
        "id": "iv6-DDxXm7JF"
      }
    },
    {
      "cell_type": "code",
      "source": [
        "spark.sql(\"SELECT * FROM orders_local WHERE OrderDate LIKE '2023-01%'\").show()"
      ],
      "metadata": {
        "colab": {
          "base_uri": "https://localhost:8080/"
        },
        "id": "yANy0WKJm-CD",
        "outputId": "cf413f72-2c12-4847-f515-5ba2f659ee13"
      },
      "execution_count": 11,
      "outputs": [
        {
          "output_type": "stream",
          "name": "stdout",
          "text": [
            "+-------+------------+-------+-----------+--------+---------+----------+\n",
            "|OrderID|CustomerName|Product|   Category|Quantity|UnitPrice| OrderDate|\n",
            "+-------+------------+-------+-----------+--------+---------+----------+\n",
            "|      2|      Dharun| Mobile|Electronics|       3|    25000|2023-01-20|\n",
            "|     11|      Amutha|  Chair|  Furniture|       9|     1900|2023-01-01|\n",
            "+-------+------------+-------+-----------+--------+---------+----------+\n",
            "\n"
          ]
        }
      ]
    },
    {
      "cell_type": "markdown",
      "source": [
        "5. Show the average UnitPrice per category."
      ],
      "metadata": {
        "id": "Vc6mv9qInUVQ"
      }
    },
    {
      "cell_type": "code",
      "source": [
        "spark.sql(\"SELECT Category, AVG(UnitPrice) AS avg_unitPrice FROM orders_local GROUP BY Category\").show()"
      ],
      "metadata": {
        "colab": {
          "base_uri": "https://localhost:8080/"
        },
        "id": "gNPLDJognXNI",
        "outputId": "44466c05-5b48-465c-86b1-deec76ca2f6c"
      },
      "execution_count": 14,
      "outputs": [
        {
          "output_type": "stream",
          "name": "stdout",
          "text": [
            "+-----------+------------------+\n",
            "|   Category|     avg_unitPrice|\n",
            "+-----------+------------------+\n",
            "|Electronics|           30750.0|\n",
            "|   Clothing|1733.3333333333333|\n",
            "|  Furniture|13966.666666666666|\n",
            "|      Books|            2000.0|\n",
            "+-----------+------------------+\n",
            "\n"
          ]
        }
      ]
    },
    {
      "cell_type": "markdown",
      "source": [
        "6. Find the order with the highest total amount."
      ],
      "metadata": {
        "id": "VKlMFhm1nuBi"
      }
    },
    {
      "cell_type": "code",
      "source": [
        "spark.sql(\"SELECT OrderID, Quantity * UnitPrice AS TotAmount FROM orders_local ORDER BY TotAmount DESC LIMIT 1\").show()"
      ],
      "metadata": {
        "colab": {
          "base_uri": "https://localhost:8080/"
        },
        "id": "UbDG5kqhnwoj",
        "outputId": "33fbab80-ebdf-4d28-9f02-858c67d4d017"
      },
      "execution_count": 17,
      "outputs": [
        {
          "output_type": "stream",
          "name": "stdout",
          "text": [
            "+-------+---------+\n",
            "|OrderID|TotAmount|\n",
            "+-------+---------+\n",
            "|      7|    80000|\n",
            "+-------+---------+\n",
            "\n"
          ]
        }
      ]
    },
    {
      "cell_type": "markdown",
      "source": [
        "7. Drop the local view and try querying it again."
      ],
      "metadata": {
        "id": "3RrV5HXVoawj"
      }
    },
    {
      "cell_type": "code",
      "source": [
        "spark.sql(\"DROP VIEW orders_local\")\n",
        "\n",
        "spark.sql(\"SELECT * FROM orders_local\").show()"
      ],
      "metadata": {
        "colab": {
          "base_uri": "https://localhost:8080/",
          "height": 383
        },
        "id": "HFkV9FSPogME",
        "outputId": "0f884f20-bfab-4465-ade6-2def2b8364c7"
      },
      "execution_count": 19,
      "outputs": [
        {
          "output_type": "error",
          "ename": "AnalysisException",
          "evalue": "[TABLE_OR_VIEW_NOT_FOUND] The table or view `spark_catalog`.`default`.`orders_local` cannot be found. Verify the spelling and correctness of the schema and catalog.\nIf you did not qualify the name with a schema, verify the current_schema() output, or qualify the name with the correct schema and catalog.\nTo tolerate the error on drop use DROP VIEW IF EXISTS or DROP TABLE IF EXISTS.",
          "traceback": [
            "\u001b[0;31m---------------------------------------------------------------------------\u001b[0m",
            "\u001b[0;31mAnalysisException\u001b[0m                         Traceback (most recent call last)",
            "\u001b[0;32m/tmp/ipython-input-1485000533.py\u001b[0m in \u001b[0;36m<cell line: 0>\u001b[0;34m()\u001b[0m\n\u001b[0;32m----> 1\u001b[0;31m \u001b[0mspark\u001b[0m\u001b[0;34m.\u001b[0m\u001b[0msql\u001b[0m\u001b[0;34m(\u001b[0m\u001b[0;34m\"DROP VIEW orders_local\"\u001b[0m\u001b[0;34m)\u001b[0m\u001b[0;34m\u001b[0m\u001b[0;34m\u001b[0m\u001b[0m\n\u001b[0m\u001b[1;32m      2\u001b[0m \u001b[0;34m\u001b[0m\u001b[0m\n\u001b[1;32m      3\u001b[0m \u001b[0mspark\u001b[0m\u001b[0;34m.\u001b[0m\u001b[0msql\u001b[0m\u001b[0;34m(\u001b[0m\u001b[0;34m\"SELECT * FROM orders_local\"\u001b[0m\u001b[0;34m)\u001b[0m\u001b[0;34m.\u001b[0m\u001b[0mshow\u001b[0m\u001b[0;34m(\u001b[0m\u001b[0;34m)\u001b[0m\u001b[0;34m\u001b[0m\u001b[0;34m\u001b[0m\u001b[0m\n",
            "\u001b[0;32m/usr/local/lib/python3.11/dist-packages/pyspark/sql/session.py\u001b[0m in \u001b[0;36msql\u001b[0;34m(self, sqlQuery, args, **kwargs)\u001b[0m\n\u001b[1;32m   1629\u001b[0m                     \u001b[0;34m[\u001b[0m\u001b[0m_to_java_column\u001b[0m\u001b[0;34m(\u001b[0m\u001b[0mlit\u001b[0m\u001b[0;34m(\u001b[0m\u001b[0mv\u001b[0m\u001b[0;34m)\u001b[0m\u001b[0;34m)\u001b[0m \u001b[0;32mfor\u001b[0m \u001b[0mv\u001b[0m \u001b[0;32min\u001b[0m \u001b[0;34m(\u001b[0m\u001b[0margs\u001b[0m \u001b[0;32mor\u001b[0m \u001b[0;34m[\u001b[0m\u001b[0;34m]\u001b[0m\u001b[0;34m)\u001b[0m\u001b[0;34m]\u001b[0m\u001b[0;34m\u001b[0m\u001b[0;34m\u001b[0m\u001b[0m\n\u001b[1;32m   1630\u001b[0m                 )\n\u001b[0;32m-> 1631\u001b[0;31m             \u001b[0;32mreturn\u001b[0m \u001b[0mDataFrame\u001b[0m\u001b[0;34m(\u001b[0m\u001b[0mself\u001b[0m\u001b[0;34m.\u001b[0m\u001b[0m_jsparkSession\u001b[0m\u001b[0;34m.\u001b[0m\u001b[0msql\u001b[0m\u001b[0;34m(\u001b[0m\u001b[0msqlQuery\u001b[0m\u001b[0;34m,\u001b[0m \u001b[0mlitArgs\u001b[0m\u001b[0;34m)\u001b[0m\u001b[0;34m,\u001b[0m \u001b[0mself\u001b[0m\u001b[0;34m)\u001b[0m\u001b[0;34m\u001b[0m\u001b[0;34m\u001b[0m\u001b[0m\n\u001b[0m\u001b[1;32m   1632\u001b[0m         \u001b[0;32mfinally\u001b[0m\u001b[0;34m:\u001b[0m\u001b[0;34m\u001b[0m\u001b[0;34m\u001b[0m\u001b[0m\n\u001b[1;32m   1633\u001b[0m             \u001b[0;32mif\u001b[0m \u001b[0mlen\u001b[0m\u001b[0;34m(\u001b[0m\u001b[0mkwargs\u001b[0m\u001b[0;34m)\u001b[0m \u001b[0;34m>\u001b[0m \u001b[0;36m0\u001b[0m\u001b[0;34m:\u001b[0m\u001b[0;34m\u001b[0m\u001b[0;34m\u001b[0m\u001b[0m\n",
            "\u001b[0;32m/usr/local/lib/python3.11/dist-packages/py4j/java_gateway.py\u001b[0m in \u001b[0;36m__call__\u001b[0;34m(self, *args)\u001b[0m\n\u001b[1;32m   1320\u001b[0m \u001b[0;34m\u001b[0m\u001b[0m\n\u001b[1;32m   1321\u001b[0m         \u001b[0manswer\u001b[0m \u001b[0;34m=\u001b[0m \u001b[0mself\u001b[0m\u001b[0;34m.\u001b[0m\u001b[0mgateway_client\u001b[0m\u001b[0;34m.\u001b[0m\u001b[0msend_command\u001b[0m\u001b[0;34m(\u001b[0m\u001b[0mcommand\u001b[0m\u001b[0;34m)\u001b[0m\u001b[0;34m\u001b[0m\u001b[0;34m\u001b[0m\u001b[0m\n\u001b[0;32m-> 1322\u001b[0;31m         return_value = get_return_value(\n\u001b[0m\u001b[1;32m   1323\u001b[0m             answer, self.gateway_client, self.target_id, self.name)\n\u001b[1;32m   1324\u001b[0m \u001b[0;34m\u001b[0m\u001b[0m\n",
            "\u001b[0;32m/usr/local/lib/python3.11/dist-packages/pyspark/errors/exceptions/captured.py\u001b[0m in \u001b[0;36mdeco\u001b[0;34m(*a, **kw)\u001b[0m\n\u001b[1;32m    183\u001b[0m                 \u001b[0;31m# Hide where the exception came from that shows a non-Pythonic\u001b[0m\u001b[0;34m\u001b[0m\u001b[0;34m\u001b[0m\u001b[0m\n\u001b[1;32m    184\u001b[0m                 \u001b[0;31m# JVM exception message.\u001b[0m\u001b[0;34m\u001b[0m\u001b[0;34m\u001b[0m\u001b[0m\n\u001b[0;32m--> 185\u001b[0;31m                 \u001b[0;32mraise\u001b[0m \u001b[0mconverted\u001b[0m \u001b[0;32mfrom\u001b[0m \u001b[0;32mNone\u001b[0m\u001b[0;34m\u001b[0m\u001b[0;34m\u001b[0m\u001b[0m\n\u001b[0m\u001b[1;32m    186\u001b[0m             \u001b[0;32melse\u001b[0m\u001b[0;34m:\u001b[0m\u001b[0;34m\u001b[0m\u001b[0;34m\u001b[0m\u001b[0m\n\u001b[1;32m    187\u001b[0m                 \u001b[0;32mraise\u001b[0m\u001b[0;34m\u001b[0m\u001b[0;34m\u001b[0m\u001b[0m\n",
            "\u001b[0;31mAnalysisException\u001b[0m: [TABLE_OR_VIEW_NOT_FOUND] The table or view `spark_catalog`.`default`.`orders_local` cannot be found. Verify the spelling and correctness of the schema and catalog.\nIf you did not qualify the name with a schema, verify the current_schema() output, or qualify the name with the correct schema and catalog.\nTo tolerate the error on drop use DROP VIEW IF EXISTS or DROP TABLE IF EXISTS."
          ]
        }
      ]
    },
    {
      "cell_type": "markdown",
      "source": [
        "**Part B: Global View – orders_global**\n",
        "\n",
        "1. Display all \"Furniture\" orders with TotalAmount above 10,000."
      ],
      "metadata": {
        "id": "npT71SVsotJG"
      }
    },
    {
      "cell_type": "code",
      "source": [
        "new_spark = SparkSession.builder.appName('orderAnalytics1').getOrCreate()\n",
        "\n",
        "df.createOrReplaceGlobalTempView('orders_global')\n",
        "\n",
        "new_spark.sql(\"SELECT * FROM global_temp.orders_global WHERE Category = 'Furniture' AND Quantity * UnitPrice > 10000\").show()"
      ],
      "metadata": {
        "colab": {
          "base_uri": "https://localhost:8080/"
        },
        "id": "SPBxSnFioz0C",
        "outputId": "164ea320-10bc-4d00-ceaf-1c9278abbbc9"
      },
      "execution_count": 20,
      "outputs": [
        {
          "output_type": "stream",
          "name": "stdout",
          "text": [
            "+-------+------------+--------------+---------+--------+---------+----------+\n",
            "|OrderID|CustomerName|       Product| Category|Quantity|UnitPrice| OrderDate|\n",
            "+-------+------------+--------------+---------+--------+---------+----------+\n",
            "|      3|       Meena|Dressing table|Furniture|       4|    10000|2024-09-25|\n",
            "|      5|    Jayasree|           Bed|Furniture|       1|    30000|2022-07-22|\n",
            "|     11|      Amutha|         Chair|Furniture|       9|     1900|2023-01-01|\n",
            "+-------+------------+--------------+---------+--------+---------+----------+\n",
            "\n"
          ]
        }
      ]
    },
    {
      "cell_type": "markdown",
      "source": [
        "2. Create a column called DiscountFlag :\n",
        "\n",
        "Mark \"Yes\" if Quantity > 3\n",
        "Otherwise \"No\""
      ],
      "metadata": {
        "id": "eSvdt0_TpIoM"
      }
    },
    {
      "cell_type": "code",
      "source": [
        "new_spark.sql(\"SELECT *, CASE WHEN Quantity > 3 THEN 'Yes' ELSE 'No' END AS DiscountFlag FROM global_temp.orders_global\").show()"
      ],
      "metadata": {
        "colab": {
          "base_uri": "https://localhost:8080/"
        },
        "id": "4S_r_KsIpMhk",
        "outputId": "8f5ab728-4e7f-4dd9-c384-7c418330c605"
      },
      "execution_count": 24,
      "outputs": [
        {
          "output_type": "stream",
          "name": "stdout",
          "text": [
            "+-------+------------+---------------+-----------+--------+---------+----------+------------+\n",
            "|OrderID|CustomerName|        Product|   Category|Quantity|UnitPrice| OrderDate|DiscountFlag|\n",
            "+-------+------------+---------------+-----------+--------+---------+----------+------------+\n",
            "|      1|    Karthika|          Saree|   Clothing|       2|     2000|2025-07-20|          No|\n",
            "|      2|      Dharun|         Mobile|Electronics|       3|    25000|2023-01-20|          No|\n",
            "|      3|       Meena| Dressing table|  Furniture|       4|    10000|2024-09-25|         Yes|\n",
            "|      4|        Asha|          Kurta|   Clothing|       7|      500|2025-02-19|         Yes|\n",
            "|      5|    Jayasree|            Bed|  Furniture|       1|    30000|2022-07-22|          No|\n",
            "|      6|    Kalimthu|      Bluetooth|Electronics|       3|     3000|2025-03-06|          No|\n",
            "|      7|       Mohan|         Laptop|Electronics|       2|    40000|2025-05-15|          No|\n",
            "|      8|     Hareesh|         Comics|      Books|       5|     1500|2023-10-10|         Yes|\n",
            "|      9|      Charan|Science Fiction|      Books|       8|     2500|2024-07-02|         Yes|\n",
            "|     10|        Siva|         Salwar|   Clothing|       4|     2700|2025-02-28|         Yes|\n",
            "|     11|      Amutha|          Chair|  Furniture|       9|     1900|2023-01-01|         Yes|\n",
            "|     12|       Ramya|     Television|Electronics|       1|    55000|2024-06-22|          No|\n",
            "+-------+------------+---------------+-----------+--------+---------+----------+------------+\n",
            "\n"
          ]
        }
      ]
    },
    {
      "cell_type": "markdown",
      "source": [
        "3. List customers who ordered more than 1 product type (Hint: use GROUP BY and HAVING)."
      ],
      "metadata": {
        "id": "pOhOPxUjq0zk"
      }
    },
    {
      "cell_type": "code",
      "source": [
        "new_spark.sql(\"SELECT CustomerName, COUNT(Product) FROM global_temp.orders_global GROUP BY CustomerName HAVING COUNT(Product) > 1\").show()"
      ],
      "metadata": {
        "colab": {
          "base_uri": "https://localhost:8080/"
        },
        "id": "lxa8qVk9q4yB",
        "outputId": "f85173e3-828d-4876-d9ff-e053cd5fcf75"
      },
      "execution_count": 27,
      "outputs": [
        {
          "output_type": "stream",
          "name": "stdout",
          "text": [
            "+------------+--------------+\n",
            "|CustomerName|count(Product)|\n",
            "+------------+--------------+\n",
            "+------------+--------------+\n",
            "\n"
          ]
        }
      ]
    },
    {
      "cell_type": "markdown",
      "source": [
        "4. Count number of orders per month across the dataset."
      ],
      "metadata": {
        "id": "WVOnR7IcuvcD"
      }
    },
    {
      "cell_type": "code",
      "source": [
        "new_spark.sql(\"SELECT COUNT(OrderID) AS no_of_orders, MONTH(OrderDate) AS Month FROM global_temp.orders_global GROUP BY Month\").show()"
      ],
      "metadata": {
        "colab": {
          "base_uri": "https://localhost:8080/"
        },
        "id": "vBwEAe44u7PP",
        "outputId": "426cc451-e835-4ee4-979b-331dc4390359"
      },
      "execution_count": 29,
      "outputs": [
        {
          "output_type": "stream",
          "name": "stdout",
          "text": [
            "+------------+-----+\n",
            "|no_of_orders|Month|\n",
            "+------------+-----+\n",
            "|           2|    1|\n",
            "|           1|    3|\n",
            "|           1|    9|\n",
            "|           3|    7|\n",
            "|           2|    2|\n",
            "|           1|    6|\n",
            "|           1|    5|\n",
            "|           1|   10|\n",
            "+------------+-----+\n",
            "\n"
          ]
        }
      ]
    },
    {
      "cell_type": "markdown",
      "source": [
        "5. Rank all products by total quantity sold across all orders using a window function."
      ],
      "metadata": {
        "id": "2vW1ljDSvRNs"
      }
    },
    {
      "cell_type": "code",
      "source": [
        "new_spark.sql(\"SELECT Product, SUM(Quantity) AS TotalQuantity, RANK() OVER (ORDER BY SUM(Quantity) DESC) AS Rank FROM global_temp.orders_global GROUP BY Product\").show()"
      ],
      "metadata": {
        "colab": {
          "base_uri": "https://localhost:8080/"
        },
        "id": "uY6VIXMgu2Zi",
        "outputId": "2ddc9024-e4fd-4f2a-edd6-a76c9078f8ff"
      },
      "execution_count": 30,
      "outputs": [
        {
          "output_type": "stream",
          "name": "stdout",
          "text": [
            "+---------------+-------------+----+\n",
            "|        Product|TotalQuantity|Rank|\n",
            "+---------------+-------------+----+\n",
            "|          Chair|            9|   1|\n",
            "|Science Fiction|            8|   2|\n",
            "|          Kurta|            7|   3|\n",
            "|         Comics|            5|   4|\n",
            "| Dressing table|            4|   5|\n",
            "|         Salwar|            4|   5|\n",
            "|      Bluetooth|            3|   7|\n",
            "|         Mobile|            3|   7|\n",
            "|          Saree|            2|   9|\n",
            "|         Laptop|            2|   9|\n",
            "|            Bed|            1|  11|\n",
            "|     Television|            1|  11|\n",
            "+---------------+-------------+----+\n",
            "\n"
          ]
        }
      ]
    },
    {
      "cell_type": "markdown",
      "source": [
        "6. Run a query using a new SparkSession and the global view."
      ],
      "metadata": {
        "id": "wdl-Z0vIvpBX"
      }
    },
    {
      "cell_type": "code",
      "source": [
        "spark1 = SparkSession.builder.appName('orderAnalytics2').getOrCreate()\n",
        "\n",
        "spark1.sql(\"SELECT * FROM global_temp.orders_global\").show()"
      ],
      "metadata": {
        "colab": {
          "base_uri": "https://localhost:8080/"
        },
        "id": "MNXL86VZvsAi",
        "outputId": "c20c5319-a14c-4cb1-d00d-abc3110aa255"
      },
      "execution_count": 31,
      "outputs": [
        {
          "output_type": "stream",
          "name": "stdout",
          "text": [
            "+-------+------------+---------------+-----------+--------+---------+----------+\n",
            "|OrderID|CustomerName|        Product|   Category|Quantity|UnitPrice| OrderDate|\n",
            "+-------+------------+---------------+-----------+--------+---------+----------+\n",
            "|      1|    Karthika|          Saree|   Clothing|       2|     2000|2025-07-20|\n",
            "|      2|      Dharun|         Mobile|Electronics|       3|    25000|2023-01-20|\n",
            "|      3|       Meena| Dressing table|  Furniture|       4|    10000|2024-09-25|\n",
            "|      4|        Asha|          Kurta|   Clothing|       7|      500|2025-02-19|\n",
            "|      5|    Jayasree|            Bed|  Furniture|       1|    30000|2022-07-22|\n",
            "|      6|    Kalimthu|      Bluetooth|Electronics|       3|     3000|2025-03-06|\n",
            "|      7|       Mohan|         Laptop|Electronics|       2|    40000|2025-05-15|\n",
            "|      8|     Hareesh|         Comics|      Books|       5|     1500|2023-10-10|\n",
            "|      9|      Charan|Science Fiction|      Books|       8|     2500|2024-07-02|\n",
            "|     10|        Siva|         Salwar|   Clothing|       4|     2700|2025-02-28|\n",
            "|     11|      Amutha|          Chair|  Furniture|       9|     1900|2023-01-01|\n",
            "|     12|       Ramya|     Television|Electronics|       1|    55000|2024-06-22|\n",
            "+-------+------------+---------------+-----------+--------+---------+----------+\n",
            "\n"
          ]
        }
      ]
    },
    {
      "cell_type": "markdown",
      "source": [
        "**Bonus Challenges**\n",
        "\n",
        "1. Save a filtered subset (only \"Books\" category) as a new global temp view."
      ],
      "metadata": {
        "id": "LawvjO_EwHxX"
      }
    },
    {
      "cell_type": "code",
      "source": [
        "df.createOrReplaceGlobalTempView('books_global')\n",
        "\n",
        "new_spark.sql(\"SELECT * FROM global_temp.books_global WHERE Category = 'Books'\").show()"
      ],
      "metadata": {
        "colab": {
          "base_uri": "https://localhost:8080/"
        },
        "id": "pt1S8zTPwNw_",
        "outputId": "59b43f8f-17c7-4928-e6d3-de3cbfd3c25e"
      },
      "execution_count": 32,
      "outputs": [
        {
          "output_type": "stream",
          "name": "stdout",
          "text": [
            "+-------+------------+---------------+--------+--------+---------+----------+\n",
            "|OrderID|CustomerName|        Product|Category|Quantity|UnitPrice| OrderDate|\n",
            "+-------+------------+---------------+--------+--------+---------+----------+\n",
            "|      8|     Hareesh|         Comics|   Books|       5|     1500|2023-10-10|\n",
            "|      9|      Charan|Science Fiction|   Books|       8|     2500|2024-07-02|\n",
            "+-------+------------+---------------+--------+--------+---------+----------+\n",
            "\n"
          ]
        }
      ]
    },
    {
      "cell_type": "markdown",
      "source": [
        "2. Find the most purchased product per category."
      ],
      "metadata": {
        "id": "AfO-NqUHwb-H"
      }
    },
    {
      "cell_type": "code",
      "source": [
        "new_spark.sql(\"SELECT Category, Product, COUNT(OrderID) AS PurchaseCount FROM global_temp.orders_global GROUP BY Category, Product ORDER BY PurchaseCount DESC\").show()"
      ],
      "metadata": {
        "colab": {
          "base_uri": "https://localhost:8080/"
        },
        "id": "WwurRvgIwe0O",
        "outputId": "95e89b51-2530-4079-c13e-266521c94a76"
      },
      "execution_count": 33,
      "outputs": [
        {
          "output_type": "stream",
          "name": "stdout",
          "text": [
            "+-----------+---------------+-------------+\n",
            "|   Category|        Product|PurchaseCount|\n",
            "+-----------+---------------+-------------+\n",
            "|  Furniture| Dressing table|            1|\n",
            "|Electronics|      Bluetooth|            1|\n",
            "|  Furniture|            Bed|            1|\n",
            "|Electronics|         Mobile|            1|\n",
            "|   Clothing|          Saree|            1|\n",
            "|   Clothing|          Kurta|            1|\n",
            "|Electronics|     Television|            1|\n",
            "|      Books|         Comics|            1|\n",
            "|      Books|Science Fiction|            1|\n",
            "|  Furniture|          Chair|            1|\n",
            "|Electronics|         Laptop|            1|\n",
            "|   Clothing|         Salwar|            1|\n",
            "+-----------+---------------+-------------+\n",
            "\n"
          ]
        }
      ]
    },
    {
      "cell_type": "markdown",
      "source": [
        "3. Create a view that excludes all \"Clothing\" orders and call it\n",
        "\"filtered_orders\" ."
      ],
      "metadata": {
        "id": "yVTWlVkLwoj_"
      }
    },
    {
      "cell_type": "code",
      "source": [
        "df.createOrReplaceGlobalTempView('filtered_orders')\n",
        "\n",
        "new_spark.sql(\"SELECT * FROM global_temp.filtered_orders WHERE Category != 'Clothing'\").show()"
      ],
      "metadata": {
        "colab": {
          "base_uri": "https://localhost:8080/"
        },
        "id": "WpbmD2m4wr6r",
        "outputId": "979021da-538c-4afe-89d4-f2873684d79c"
      },
      "execution_count": 34,
      "outputs": [
        {
          "output_type": "stream",
          "name": "stdout",
          "text": [
            "+-------+------------+---------------+-----------+--------+---------+----------+\n",
            "|OrderID|CustomerName|        Product|   Category|Quantity|UnitPrice| OrderDate|\n",
            "+-------+------------+---------------+-----------+--------+---------+----------+\n",
            "|      2|      Dharun|         Mobile|Electronics|       3|    25000|2023-01-20|\n",
            "|      3|       Meena| Dressing table|  Furniture|       4|    10000|2024-09-25|\n",
            "|      5|    Jayasree|            Bed|  Furniture|       1|    30000|2022-07-22|\n",
            "|      6|    Kalimthu|      Bluetooth|Electronics|       3|     3000|2025-03-06|\n",
            "|      7|       Mohan|         Laptop|Electronics|       2|    40000|2025-05-15|\n",
            "|      8|     Hareesh|         Comics|      Books|       5|     1500|2023-10-10|\n",
            "|      9|      Charan|Science Fiction|      Books|       8|     2500|2024-07-02|\n",
            "|     11|      Amutha|          Chair|  Furniture|       9|     1900|2023-01-01|\n",
            "|     12|       Ramya|     Television|Electronics|       1|    55000|2024-06-22|\n",
            "+-------+------------+---------------+-----------+--------+---------+----------+\n",
            "\n"
          ]
        }
      ]
    }
  ]
}