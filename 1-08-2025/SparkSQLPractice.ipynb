{
  "nbformat": 4,
  "nbformat_minor": 0,
  "metadata": {
    "colab": {
      "provenance": []
    },
    "kernelspec": {
      "name": "python3",
      "display_name": "Python 3"
    },
    "language_info": {
      "name": "python"
    }
  },
  "cells": [
    {
      "cell_type": "code",
      "execution_count": 1,
      "metadata": {
        "colab": {
          "base_uri": "https://localhost:8080/",
          "height": 221
        },
        "id": "jYKabdho2Rib",
        "outputId": "2639b418-d79a-49fa-cee4-c657805ee5df"
      },
      "outputs": [
        {
          "output_type": "execute_result",
          "data": {
            "text/plain": [
              "<pyspark.sql.session.SparkSession at 0x7f899c4631d0>"
            ],
            "text/html": [
              "\n",
              "            <div>\n",
              "                <p><b>SparkSession - in-memory</b></p>\n",
              "                \n",
              "        <div>\n",
              "            <p><b>SparkContext</b></p>\n",
              "\n",
              "            <p><a href=\"http://00e6686194d9:4040\">Spark UI</a></p>\n",
              "\n",
              "            <dl>\n",
              "              <dt>Version</dt>\n",
              "                <dd><code>v3.5.1</code></dd>\n",
              "              <dt>Master</dt>\n",
              "                <dd><code>local[*]</code></dd>\n",
              "              <dt>AppName</dt>\n",
              "                <dd><code>SparkSQLExample</code></dd>\n",
              "            </dl>\n",
              "        </div>\n",
              "        \n",
              "            </div>\n",
              "        "
            ]
          },
          "metadata": {},
          "execution_count": 1
        }
      ],
      "source": [
        "from pyspark.sql import SparkSession\n",
        "\n",
        "spark = SparkSession.builder \\\n",
        "    .appName(\"SparkSQLExample\") \\\n",
        "    .getOrCreate()\n",
        "\n",
        "spark"
      ]
    },
    {
      "cell_type": "code",
      "source": [
        "from pyspark.sql import Row\n",
        "\n",
        "data = [\n",
        "    Row(EmpID=101, Name=\"Ravi\", Department=\"Sales\", Salary=50000),\n",
        "    Row(EmpID=102, Name=\"Sneha\", Department=\"Engineering\", Salary=80000),\n",
        "    Row(EmpID=103, Name=\"Kabir\", Department=\"HR\", Salary=45000),\n",
        "    Row(EmpID=104, Name=\"Anita\", Department=\"Engineering\", Salary=85000),\n",
        "    Row(EmpID=105, Name=\"Amit\", Department=\"Sales\", Salary=55000),\n",
        "]\n",
        "\n",
        "df = spark.createDataFrame(data)\n",
        "df.show()"
      ],
      "metadata": {
        "colab": {
          "base_uri": "https://localhost:8080/"
        },
        "id": "3YZmDdfH2lkQ",
        "outputId": "e77408bd-4308-495f-dc88-01c88d65b79b"
      },
      "execution_count": 4,
      "outputs": [
        {
          "output_type": "stream",
          "name": "stdout",
          "text": [
            "+-----+-----+-----------+------+\n",
            "|EmpID| Name| Department|Salary|\n",
            "+-----+-----+-----------+------+\n",
            "|  101| Ravi|      Sales| 50000|\n",
            "|  102|Sneha|Engineering| 80000|\n",
            "|  103|Kabir|         HR| 45000|\n",
            "|  104|Anita|Engineering| 85000|\n",
            "|  105| Amit|      Sales| 55000|\n",
            "+-----+-----+-----------+------+\n",
            "\n"
          ]
        }
      ]
    },
    {
      "cell_type": "code",
      "source": [
        "df.createOrReplaceTempView(\"employees\")"
      ],
      "metadata": {
        "id": "Kkupf2kT2woE"
      },
      "execution_count": 5,
      "outputs": []
    },
    {
      "cell_type": "code",
      "source": [
        "spark.sql('SELECT * FROM employees').show()"
      ],
      "metadata": {
        "colab": {
          "base_uri": "https://localhost:8080/"
        },
        "id": "4Fl1t3sb3Din",
        "outputId": "2addea03-d951-46c3-cf3a-1648ef5fdb85"
      },
      "execution_count": 6,
      "outputs": [
        {
          "output_type": "stream",
          "name": "stdout",
          "text": [
            "+-----+-----+-----------+------+\n",
            "|EmpID| Name| Department|Salary|\n",
            "+-----+-----+-----------+------+\n",
            "|  101| Ravi|      Sales| 50000|\n",
            "|  102|Sneha|Engineering| 80000|\n",
            "|  103|Kabir|         HR| 45000|\n",
            "|  104|Anita|Engineering| 85000|\n",
            "|  105| Amit|      Sales| 55000|\n",
            "+-----+-----+-----------+------+\n",
            "\n"
          ]
        }
      ]
    },
    {
      "cell_type": "code",
      "source": [
        "spark.sql('SELECT Name, Department FROM employees').show()"
      ],
      "metadata": {
        "colab": {
          "base_uri": "https://localhost:8080/"
        },
        "id": "KHbIzRJR3MZD",
        "outputId": "fee97058-3f01-476a-9f36-f05a0ce234a3"
      },
      "execution_count": 7,
      "outputs": [
        {
          "output_type": "stream",
          "name": "stdout",
          "text": [
            "+-----+-----------+\n",
            "| Name| Department|\n",
            "+-----+-----------+\n",
            "| Ravi|      Sales|\n",
            "|Sneha|Engineering|\n",
            "|Kabir|         HR|\n",
            "|Anita|Engineering|\n",
            "| Amit|      Sales|\n",
            "+-----+-----------+\n",
            "\n"
          ]
        }
      ]
    },
    {
      "cell_type": "code",
      "source": [
        "spark.sql('SELECT Name, Salary FROM employees WHERE Department=\"Engineering\"').show()"
      ],
      "metadata": {
        "colab": {
          "base_uri": "https://localhost:8080/"
        },
        "id": "q29Sr3-X3VyQ",
        "outputId": "a74f99a2-e006-425d-8b1c-85e74bc5fce3"
      },
      "execution_count": 8,
      "outputs": [
        {
          "output_type": "stream",
          "name": "stdout",
          "text": [
            "+-----+------+\n",
            "| Name|Salary|\n",
            "+-----+------+\n",
            "|Sneha| 80000|\n",
            "|Anita| 85000|\n",
            "+-----+------+\n",
            "\n"
          ]
        }
      ]
    },
    {
      "cell_type": "code",
      "source": [
        "spark.sql('SELECT * FROM employees WHERE Salary > 50000').show()"
      ],
      "metadata": {
        "colab": {
          "base_uri": "https://localhost:8080/"
        },
        "id": "nX5unK2d3bvd",
        "outputId": "8a9b616f-402d-447c-9664-a72cea3c61ba"
      },
      "execution_count": 9,
      "outputs": [
        {
          "output_type": "stream",
          "name": "stdout",
          "text": [
            "+-----+-----+-----------+------+\n",
            "|EmpID| Name| Department|Salary|\n",
            "+-----+-----+-----------+------+\n",
            "|  102|Sneha|Engineering| 80000|\n",
            "|  104|Anita|Engineering| 85000|\n",
            "|  105| Amit|      Sales| 55000|\n",
            "+-----+-----+-----------+------+\n",
            "\n"
          ]
        }
      ]
    },
    {
      "cell_type": "code",
      "source": [
        "spark.sql('SELECT Department, AVG(Salary) FROM employees GROUP BY Department').show()"
      ],
      "metadata": {
        "colab": {
          "base_uri": "https://localhost:8080/"
        },
        "id": "aYq2XhEm3kar",
        "outputId": "629f372c-7bf2-4317-e494-4da2e298f4a2"
      },
      "execution_count": 10,
      "outputs": [
        {
          "output_type": "stream",
          "name": "stdout",
          "text": [
            "+-----------+-----------+\n",
            "| Department|avg(Salary)|\n",
            "+-----------+-----------+\n",
            "|      Sales|    52500.0|\n",
            "|Engineering|    82500.0|\n",
            "|         HR|    45000.0|\n",
            "+-----------+-----------+\n",
            "\n"
          ]
        }
      ]
    },
    {
      "cell_type": "code",
      "source": [
        "spark.sql('SELECT * FROM employees ORDER BY Salary DESC').show()"
      ],
      "metadata": {
        "colab": {
          "base_uri": "https://localhost:8080/"
        },
        "id": "9kmzV3qs38Ln",
        "outputId": "48524db7-bab8-4ffe-d778-ae213799855b"
      },
      "execution_count": 11,
      "outputs": [
        {
          "output_type": "stream",
          "name": "stdout",
          "text": [
            "+-----+-----+-----------+------+\n",
            "|EmpID| Name| Department|Salary|\n",
            "+-----+-----+-----------+------+\n",
            "|  104|Anita|Engineering| 85000|\n",
            "|  102|Sneha|Engineering| 80000|\n",
            "|  105| Amit|      Sales| 55000|\n",
            "|  101| Ravi|      Sales| 50000|\n",
            "|  103|Kabir|         HR| 45000|\n",
            "+-----+-----+-----------+------+\n",
            "\n"
          ]
        }
      ]
    },
    {
      "cell_type": "code",
      "source": [
        "df.createOrReplaceGlobalTempView(\"employees_global\")"
      ],
      "metadata": {
        "id": "VuEfF0826AWy"
      },
      "execution_count": 14,
      "outputs": []
    },
    {
      "cell_type": "code",
      "source": [
        "spark.sql('SELECT * FROM global_temp.employees_global').show()"
      ],
      "metadata": {
        "colab": {
          "base_uri": "https://localhost:8080/"
        },
        "id": "2YlqRulq6PYt",
        "outputId": "31046261-b69e-409c-b284-dbee1fe100cb"
      },
      "execution_count": 15,
      "outputs": [
        {
          "output_type": "stream",
          "name": "stdout",
          "text": [
            "+-----+-----+-----------+------+\n",
            "|EmpID| Name| Department|Salary|\n",
            "+-----+-----+-----------+------+\n",
            "|  101| Ravi|      Sales| 50000|\n",
            "|  102|Sneha|Engineering| 80000|\n",
            "|  103|Kabir|         HR| 45000|\n",
            "|  104|Anita|Engineering| 85000|\n",
            "|  105| Amit|      Sales| 55000|\n",
            "+-----+-----+-----------+------+\n",
            "\n"
          ]
        }
      ]
    },
    {
      "cell_type": "code",
      "source": [
        "new_spark = SparkSession.builder \\\n",
        "    .appName(\"NewSession\") \\\n",
        "    .getOrCreate()\n",
        "\n",
        "new_spark"
      ],
      "metadata": {
        "colab": {
          "base_uri": "https://localhost:8080/",
          "height": 221
        },
        "id": "cYhB2PL76UYN",
        "outputId": "bb5c400c-913a-4f8c-eeaa-35a66e565c31"
      },
      "execution_count": 16,
      "outputs": [
        {
          "output_type": "execute_result",
          "data": {
            "text/plain": [
              "<pyspark.sql.session.SparkSession at 0x7f899c4631d0>"
            ],
            "text/html": [
              "\n",
              "            <div>\n",
              "                <p><b>SparkSession - in-memory</b></p>\n",
              "                \n",
              "        <div>\n",
              "            <p><b>SparkContext</b></p>\n",
              "\n",
              "            <p><a href=\"http://00e6686194d9:4040\">Spark UI</a></p>\n",
              "\n",
              "            <dl>\n",
              "              <dt>Version</dt>\n",
              "                <dd><code>v3.5.1</code></dd>\n",
              "              <dt>Master</dt>\n",
              "                <dd><code>local[*]</code></dd>\n",
              "              <dt>AppName</dt>\n",
              "                <dd><code>SparkSQLExample</code></dd>\n",
              "            </dl>\n",
              "        </div>\n",
              "        \n",
              "            </div>\n",
              "        "
            ]
          },
          "metadata": {},
          "execution_count": 16
        }
      ]
    },
    {
      "cell_type": "code",
      "source": [
        "new_spark.sql('SELECT Name FROM global_temp.employees_global').show()"
      ],
      "metadata": {
        "colab": {
          "base_uri": "https://localhost:8080/"
        },
        "id": "g5w0vUIi6pwb",
        "outputId": "1308079a-76bb-4f7a-be85-19691fc82371"
      },
      "execution_count": 17,
      "outputs": [
        {
          "output_type": "stream",
          "name": "stdout",
          "text": [
            "+-----+\n",
            "| Name|\n",
            "+-----+\n",
            "| Ravi|\n",
            "|Sneha|\n",
            "|Kabir|\n",
            "|Anita|\n",
            "| Amit|\n",
            "+-----+\n",
            "\n"
          ]
        }
      ]
    }
  ]
}