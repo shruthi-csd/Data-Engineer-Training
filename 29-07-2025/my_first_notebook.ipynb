{
  "nbformat": 4,
  "nbformat_minor": 0,
  "metadata": {
    "colab": {
      "provenance": []
    },
    "kernelspec": {
      "name": "python3",
      "display_name": "Python 3"
    },
    "language_info": {
      "name": "python"
    }
  },
  "cells": [
    {
      "cell_type": "markdown",
      "source": [
        "MY FIRST NOTEBOOK"
      ],
      "metadata": {
        "id": "In62HweM_wd5"
      }
    },
    {
      "cell_type": "code",
      "execution_count": 2,
      "metadata": {
        "colab": {
          "base_uri": "https://localhost:8080/"
        },
        "id": "SpZAtSkp8_SG",
        "outputId": "b8834c9a-a822-421c-a909-e5b40aebebdc"
      },
      "outputs": [
        {
          "output_type": "stream",
          "name": "stdout",
          "text": [
            "hello shruthi\n"
          ]
        }
      ],
      "source": [
        "name = \"shruthi\"\n",
        "print(\"hello\",name)"
      ]
    },
    {
      "cell_type": "code",
      "source": [
        "length = 10\n",
        "width = 20\n",
        "\n",
        "area =length*width\n",
        "print(\"the area of the rectangle is\",area)"
      ],
      "metadata": {
        "colab": {
          "base_uri": "https://localhost:8080/"
        },
        "id": "RA0cQgW0BikQ",
        "outputId": "09dddfce-96bb-4a59-db60-d9fbf3875c32"
      },
      "execution_count": 3,
      "outputs": [
        {
          "output_type": "stream",
          "name": "stdout",
          "text": [
            "the area of the rectangle is 200\n"
          ]
        }
      ]
    },
    {
      "cell_type": "code",
      "source": [
        "import pandas as pd\n",
        "\n",
        "data = {\n",
        "    'Name': ['Raj', 'Priya', 'Amit'],\n",
        "    'Age': [25, 30, 22],\n",
        "    'City': ['Delhi', 'Mumbai', 'Bangalore']\n",
        "}\n",
        "\n",
        "df = pd.DataFrame(data)\n",
        "print(df)"
      ],
      "metadata": {
        "colab": {
          "base_uri": "https://localhost:8080/"
        },
        "id": "UUU_J8zFCdhO",
        "outputId": "e78c3d69-91d5-43c7-ce36-fbef6d523147"
      },
      "execution_count": 4,
      "outputs": [
        {
          "output_type": "stream",
          "name": "stdout",
          "text": [
            "    Name  Age       City\n",
            "0    Raj   25      Delhi\n",
            "1  Priya   30     Mumbai\n",
            "2   Amit   22  Bangalore\n"
          ]
        }
      ]
    },
    {
      "cell_type": "code",
      "source": [
        "print (df['Name'])"
      ],
      "metadata": {
        "colab": {
          "base_uri": "https://localhost:8080/"
        },
        "id": "p3IiN1p6ZxbI",
        "outputId": "0a361193-0411-4ef6-c91b-d2fd0701fd18"
      },
      "execution_count": 6,
      "outputs": [
        {
          "output_type": "stream",
          "name": "stdout",
          "text": [
            "0      Raj\n",
            "1    Priya\n",
            "2     Amit\n",
            "Name: Name, dtype: object\n"
          ]
        }
      ]
    },
    {
      "cell_type": "code",
      "source": [
        "print(df.shape)\n",
        "print(df.columns)\n",
        "print(df.info())\n",
        "print(df.describe())"
      ],
      "metadata": {
        "colab": {
          "base_uri": "https://localhost:8080/"
        },
        "id": "ER_667vcaXJ1",
        "outputId": "9ef0b3d9-9220-44ac-f7c3-79898b396dfa"
      },
      "execution_count": 13,
      "outputs": [
        {
          "output_type": "stream",
          "name": "stdout",
          "text": [
            "(3, 3)\n",
            "Index(['Name', 'Age', 'City'], dtype='object')\n",
            "<class 'pandas.core.frame.DataFrame'>\n",
            "RangeIndex: 3 entries, 0 to 2\n",
            "Data columns (total 3 columns):\n",
            " #   Column  Non-Null Count  Dtype \n",
            "---  ------  --------------  ----- \n",
            " 0   Name    3 non-null      object\n",
            " 1   Age     3 non-null      int64 \n",
            " 2   City    3 non-null      object\n",
            "dtypes: int64(1), object(2)\n",
            "memory usage: 204.0+ bytes\n",
            "None\n",
            "             Age\n",
            "count   3.000000\n",
            "mean   25.666667\n",
            "std     4.041452\n",
            "min    22.000000\n",
            "25%    23.500000\n",
            "50%    25.000000\n",
            "75%    27.500000\n",
            "max    30.000000\n"
          ]
        }
      ]
    },
    {
      "cell_type": "code",
      "source": [
        "csv_data = \"\"\"Name,Age,Department,Salary\n",
        "Aarav,28,Sales,50000\n",
        "Sneha,32,Engineering,80000\n",
        "Kabir,25,HR,45000\n",
        "Anaya,29,Marketing,60000\n",
        "Rohan,35,Engineering,85000\n",
        "\"\"\"\n",
        "\n",
        "with open('employees.csv' , 'w') as file:\n",
        "  file.write(csv_data)"
      ],
      "metadata": {
        "id": "jnxELgOmfaep"
      },
      "execution_count": 15,
      "outputs": []
    },
    {
      "cell_type": "code",
      "source": [
        "import pandas as pd\n",
        "\n",
        "df=pd.read_csv('employees.csv')\n",
        "print(df)"
      ],
      "metadata": {
        "colab": {
          "base_uri": "https://localhost:8080/"
        },
        "id": "8F1Y9WXBf3M-",
        "outputId": "4e19bc1f-e1e3-4b47-e635-23ae034cfac7"
      },
      "execution_count": 16,
      "outputs": [
        {
          "output_type": "stream",
          "name": "stdout",
          "text": [
            "    Name  Age   Department  Salary\n",
            "0  Aarav   28        Sales   50000\n",
            "1  Sneha   32  Engineering   80000\n",
            "2  Kabir   25           HR   45000\n",
            "3  Anaya   29    Marketing   60000\n",
            "4  Rohan   35  Engineering   85000\n"
          ]
        }
      ]
    },
    {
      "cell_type": "code",
      "source": [
        "engg_employees = df[df['Department'] == 'Engineering']\n",
        "print(engg_employees)"
      ],
      "metadata": {
        "colab": {
          "base_uri": "https://localhost:8080/"
        },
        "id": "ZJjgaiKyhmiH",
        "outputId": "c3a9ed1c-fc46-4296-e898-7876732cc704"
      },
      "execution_count": 20,
      "outputs": [
        {
          "output_type": "stream",
          "name": "stdout",
          "text": [
            "    Name  Age   Department  Salary\n",
            "1  Sneha   32  Engineering   80000\n",
            "4  Rohan   35  Engineering   85000\n"
          ]
        }
      ]
    },
    {
      "cell_type": "code",
      "source": [
        "average_salary = df['Salary'].mean()\n",
        "print('AVERAGE SALARY:',average_salary)"
      ],
      "metadata": {
        "colab": {
          "base_uri": "https://localhost:8080/"
        },
        "id": "C5A8JNt1iLff",
        "outputId": "248774fd-7bcc-4bcf-e21d-a8a58ef4a7bc"
      },
      "execution_count": 25,
      "outputs": [
        {
          "output_type": "stream",
          "name": "stdout",
          "text": [
            "AVERAGE SALARY: 64000.0\n"
          ]
        }
      ]
    },
    {
      "cell_type": "code",
      "source": [
        "highpaid = df[df['Salary'] == df['Salary'].max()]\n",
        "print('high paid:',highpaid)"
      ],
      "metadata": {
        "colab": {
          "base_uri": "https://localhost:8080/"
        },
        "id": "CVxkh-PBkFBU",
        "outputId": "3d31882b-3ce3-4d1d-a47c-4fb0b3890afa"
      },
      "execution_count": 31,
      "outputs": [
        {
          "output_type": "stream",
          "name": "stdout",
          "text": [
            "high paid:     Name  Age   Department  Salary\n",
            "4  Rohan   35  Engineering   85000\n"
          ]
        }
      ]
    },
    {
      "cell_type": "code",
      "source": [
        "avg_salary_paid = df.groupby('Department')['Salary'].mean()\n",
        "print('the_average_salary:\\n',avg_salary_paid)"
      ],
      "metadata": {
        "colab": {
          "base_uri": "https://localhost:8080/"
        },
        "id": "0vhplCkelPh1",
        "outputId": "79f7a938-bb18-410d-863f-33a95c2cad13"
      },
      "execution_count": 35,
      "outputs": [
        {
          "output_type": "stream",
          "name": "stdout",
          "text": [
            "the_average_salary:\n",
            " Department\n",
            "Engineering    82500.0\n",
            "HR             45000.0\n",
            "Marketing      60000.0\n",
            "Sales          50000.0\n",
            "Name: Salary, dtype: float64\n"
          ]
        }
      ]
    },
    {
      "cell_type": "code",
      "source": [
        "sorted_age = df.sort_values (by='Age')\n",
        "print(\"the sorted age is:\\n\",sorted_age)"
      ],
      "metadata": {
        "colab": {
          "base_uri": "https://localhost:8080/"
        },
        "id": "ZjGydItll-Ps",
        "outputId": "b77985b0-4671-4cc5-b2e3-6f986d5b3e52"
      },
      "execution_count": 37,
      "outputs": [
        {
          "output_type": "stream",
          "name": "stdout",
          "text": [
            "the sorted age is:\n",
            "     Name  Age   Department  Salary\n",
            "2  Kabir   25           HR   45000\n",
            "0  Aarav   28        Sales   50000\n",
            "3  Anaya   29    Marketing   60000\n",
            "1  Sneha   32  Engineering   80000\n",
            "4  Rohan   35  Engineering   85000\n"
          ]
        }
      ]
    },
    {
      "cell_type": "code",
      "source": [
        "import matplotlib.pyplot as plt\n",
        "plt.figure(figsize=(8,5))\n",
        "\n",
        "plt.bar(df['Name'], df ['Salary'], color='skyblue')\n",
        "\n",
        "plt.title('Employee Salaries')\n",
        "\n",
        "plt.xlabel('Name')\n",
        "\n",
        "plt.ylabel('Salary')\n",
        "\n",
        "plt.xticks(rotation=45)\n",
        "\n",
        "plt.grid(True)\n",
        "\n",
        "plt.tight_layout()\n",
        "\n",
        "plt.show()"
      ],
      "metadata": {
        "colab": {
          "base_uri": "https://localhost:8080/",
          "height": 507
        },
        "id": "4SYsTuLHmcvz",
        "outputId": "4d8c5cb3-b649-4ea8-afb1-c54b9e346d92"
      },
      "execution_count": 41,
      "outputs": [
        {
          "output_type": "display_data",
          "data": {
            "text/plain": [
              "<Figure size 800x500 with 1 Axes>"
            ],
            "image/png": "[encoded data removed]"
          },
          "metadata": {}
        }
      ]
    }
  ]
}