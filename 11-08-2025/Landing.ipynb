{
 "cells": [
  {
   "cell_type": "code",
   "execution_count": 0,
   "metadata": {
    "application/vnd.databricks.v1+cell": {
     "cellMetadata": {
      "byteLimit": 2048000,
      "rowLimit": 10000
     },
     "inputWidgets": {},
     "nuid": "d7e1f70d-0940-44f2-ab46-779da77eb1f7",
     "showTitle": false,
     "tableResultSettingsMap": {},
     "title": ""
    }
   },
   "outputs": [
    {
     "output_type": "stream",
     "name": "stdout",
     "output_type": "stream",
     "text": [
      "We will store data in:\nLanding Orders folder:    dbfs:/FileStore/tables/dlt/landing/orders\nLanding Customers folder: dbfs:/FileStore/tables/dlt/landing/customers\nSilver Delta folder:      dbfs:/tmp/delta/sil_orders\nSQL Table name:           sil_orders_tbl\n"
     ]
    }
   ],
   "source": [
    "# STEP 0 — Setup\n",
    "# These variables store the paths for each stage of the pipeline\n",
    "\n",
    "# Landing folders: raw files exactly as they arrive\n",
    "LANDING_ORDERS    = \"dbfs:/FileStore/tables/dlt/landing/orders\"\n",
    "LANDING_CUSTOMERS = \"dbfs:/FileStore/tables/dlt/landing/customers\"\n",
    "\n",
    "# Silver folder: cleaned data in Delta format\n",
    "DELTA_SILVER_PATH = \"dbfs:/tmp/delta/sil_orders\"\n",
    "\n",
    "# SQL table name pointing to the silver Delta folder\n",
    "DELTA_TABLE_NAME  = \"sil_orders_tbl\"\n",
    "\n",
    "print(\"We will store data in:\")\n",
    "print(f\"Landing Orders folder:    {LANDING_ORDERS}\")\n",
    "print(f\"Landing Customers folder: {LANDING_CUSTOMERS}\")\n",
    "print(f\"Silver Delta folder:      {DELTA_SILVER_PATH}\")\n",
    "print(f\"SQL Table name:           {DELTA_TABLE_NAME}\")"
   ]
  },
  {
   "cell_type": "code",
   "execution_count": 0,
   "metadata": {
    "application/vnd.databricks.v1+cell": {
     "cellMetadata": {
      "byteLimit": 2048000,
      "rowLimit": 10000
     },
     "inputWidgets": {},
     "nuid": "f3dcdffb-4145-472f-a329-0aa7ab49492b",
     "showTitle": false,
     "tableResultSettingsMap": {},
     "title": ""
    }
   },
   "outputs": [
    {
     "output_type": "stream",
     "name": "stdout",
     "output_type": "stream",
     "text": [
      "STEP 1: Seeding inline data to landing (JSON) ...\n✅ Seeded landing JSON:\n  dbfs:/FileStore/tables/dlt/landing/orders\n  dbfs:/FileStore/tables/dlt/landing/customers\n"
     ]
    }
   ],
   "source": [
    "from delta import *\n",
    "import pyspark.sql.functions as F\n",
    "from pyspark.sql import types as T\n",
    "\n",
    "print(\"STEP 1: Seeding inline data to landing (JSON) ...\")\n",
    "\n",
    "orders_rows = [\n",
    "    (1, \"C001\", \"2025-08-08 09:00:00\", 12000, \"placed\"),\n",
    "    (2, \"C002\", \"2025-08-08 09:05:00\",  4500, \"placed\"),\n",
    "    (3, \"C001\", \"2025-08-08 09:10:00\", 22000, \"cancelled\"),\n",
    "    (4, \"C003\", \"2025-08-08 09:15:00\",   800, \"placed\")\n",
    "]\n",
    "customers_rows = [\n",
    "    (\"C001\", \"Ananya\", \"Bengaluru\"),\n",
    "    (\"C002\", \"Rahul\",  \"Hyderabad\"),\n",
    "    (\"C003\", \"Meera\",  \"Pune\")\n",
    "]\n",
    "\n",
    "orders_schema = T.StructType([\n",
    "    T.StructField(\"order_id\",    T.IntegerType()),\n",
    "    T.StructField(\"customer_id\", T.StringType()),\n",
    "    T.StructField(\"order_ts\",    T.StringType()),\n",
    "    T.StructField(\"amount\",      T.IntegerType()),\n",
    "    T.StructField(\"status\",      T.StringType())\n",
    "])\n",
    "cust_schema = T.StructType([\n",
    "    T.StructField(\"customer_id\", T.StringType()),\n",
    "    T.StructField(\"name\",        T.StringType()),\n",
    "    T.StructField(\"city\",        T.StringType())\n",
    "])\n",
    "\n",
    "orders_df = (spark.createDataFrame(orders_rows, orders_schema)\n",
    "             .withColumn(\"order_ts\", F.to_timestamp(\"order_ts\")))\n",
    "customers_df = spark.createDataFrame(customers_rows, cust_schema)\n",
    "\n",
    "orders_df.write.mode(\"overwrite\").json(LANDING_ORDERS)\n",
    "customers_df.write.mode(\"overwrite\").json(LANDING_CUSTOMERS)\n",
    "\n",
    "print(\"✅ Seeded landing JSON:\")\n",
    "print(f\"  {LANDING_ORDERS}\")\n",
    "print(f\"  {LANDING_CUSTOMERS}\")\n"
   ]
  }
 ],
 "metadata": {
  "application/vnd.databricks.v1+notebook": {
   "computePreferences": null,
   "dashboards": [],
   "environmentMetadata": {
    "base_environment": "",
    "environment_version": "2"
   },
   "inputWidgetPreferences": null,
   "language": "python",
   "notebookMetadata": {
    "pythonIndentUnit": 4
   },
   "notebookName": "Landing",
   "widgets": {}
  },
  "language_info": {
   "name": "python"
  }
 },
 "nbformat": 4,
 "nbformat_minor": 0
}