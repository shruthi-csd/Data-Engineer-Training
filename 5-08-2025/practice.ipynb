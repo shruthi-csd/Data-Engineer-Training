{
  "nbformat": 4,
  "nbformat_minor": 0,
  "metadata": {
    "colab": {
      "provenance": []
    },
    "kernelspec": {
      "name": "python3",
      "display_name": "Python 3"
    },
    "language_info": {
      "name": "python"
    }
  },
  "cells": [
    {
      "cell_type": "code",
      "execution_count": 5,
      "metadata": {
        "id": "gdvGh23Gbj_N"
      },
      "outputs": [],
      "source": [
        "from pyspark.sql import SparkSession\n",
        "spark = SparkSession.builder \\\n",
        "    .appName(\"RDDExamples.com\") \\\n",
        "    .master(\"local[*]\") \\\n",
        "    .getOrCreate()\n",
        "sc = spark.sparkContext"
      ]
    },
    {
      "cell_type": "code",
      "source": [
        "nums = sc.parallelize([1, 2, 3, 4, 5])\n"
      ],
      "metadata": {
        "id": "OMO4CLfpc1P0"
      },
      "execution_count": 4,
      "outputs": []
    },
    {
      "cell_type": "code",
      "source": [
        "nums.collect()\n",
        "nums.count()\n",
        "nums.take(3)"
      ],
      "metadata": {
        "colab": {
          "base_uri": "https://localhost:8080/"
        },
        "id": "xdqH3KOUdPkQ",
        "outputId": "a0e05225-8da3-43a3-ef9b-b35061e1c0ad"
      },
      "execution_count": 3,
      "outputs": [
        {
          "output_type": "execute_result",
          "data": {
            "text/plain": [
              "[1, 2, 3]"
            ]
          },
          "metadata": {},
          "execution_count": 3
        }
      ]
    },
    {
      "cell_type": "code",
      "source": [
        "squares = nums.map(lambda x: x * x)\n",
        "even_squares = squares.filter(lambda x: x % 2 == 0)\n",
        "even_squares.collect()\n"
      ],
      "metadata": {
        "colab": {
          "base_uri": "https://localhost:8080/"
        },
        "id": "8Xlb1yxghmqW",
        "outputId": "eb028f0b-3d25-4a80-80c3-f8db3b830465"
      },
      "execution_count": 7,
      "outputs": [
        {
          "output_type": "execute_result",
          "data": {
            "text/plain": [
              "[4, 16]"
            ]
          },
          "metadata": {},
          "execution_count": 7
        }
      ]
    },
    {
      "cell_type": "code",
      "source": [
        "lines = sc.parallelize([\n",
        "    \"spark makes big data simple\",\n",
        "    \"rdds are resilient distributed datasets\",\n",
        "    \"sparks runs fast\"\n",
        "])\n",
        "word_counts = lines.flatMap(lambda line: line.split(\" \")) \\\n",
        "    .map(lambda word: (word, 1)) \\\n",
        "    .reduceByKey(lambda a, b: a + b)\n",
        "word_counts.take(10)"
      ],
      "metadata": {
        "colab": {
          "base_uri": "https://localhost:8080/"
        },
        "id": "C4V5vk5zl49L",
        "outputId": "a4c598ce-81ba-4cb6-b68f-daaa92ad0783"
      },
      "execution_count": 8,
      "outputs": [
        {
          "output_type": "execute_result",
          "data": {
            "text/plain": [
              "[('big', 1),\n",
              " ('are', 1),\n",
              " ('resilient', 1),\n",
              " ('distributed', 1),\n",
              " ('datasets', 1),\n",
              " ('runs', 1),\n",
              " ('fast', 1),\n",
              " ('spark', 1),\n",
              " ('makes', 1),\n",
              " ('data', 1)]"
            ]
          },
          "metadata": {},
          "execution_count": 8
        }
      ]
    }
  ]
}