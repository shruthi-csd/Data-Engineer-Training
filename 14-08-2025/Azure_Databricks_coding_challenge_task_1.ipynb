{
  "nbformat": 4,
  "nbformat_minor": 0,
  "metadata": {
    "colab": {
      "provenance": []
    },
    "kernelspec": {
      "name": "python3",
      "display_name": "Python 3"
    },
    "language_info": {
      "name": "python"
    }
  },
  "cells": [
    {
      "cell_type": "code",
      "execution_count": 1,
      "metadata": {
        "colab": {
          "base_uri": "https://localhost:8080/"
        },
        "id": "zadw5EkK1M-J",
        "outputId": "cac04d5a-0622-4445-e58c-c12c08a5baf3"
      },
      "outputs": [
        {
          "output_type": "stream",
          "name": "stdout",
          "text": [
            "Collecting pyspark==3.5.0\n",
            "  Downloading pyspark-3.5.0.tar.gz (316.9 MB)\n",
            "\u001b[2K     \u001b[90m━━━━━━━━━━━━━━━━━━━━━━━━━━━━━━━━━━━━━━━\u001b[0m \u001b[32m316.9/316.9 MB\u001b[0m \u001b[31m4.6 MB/s\u001b[0m eta \u001b[36m0:00:00\u001b[0m\n",
            "\u001b[?25h  Preparing metadata (setup.py) ... \u001b[?25l\u001b[?25hdone\n",
            "Collecting delta-spark==3.1.0\n",
            "  Downloading delta_spark-3.1.0-py3-none-any.whl.metadata (1.9 kB)\n",
            "Requirement already satisfied: py4j==0.10.9.7 in /usr/local/lib/python3.11/dist-packages (from pyspark==3.5.0) (0.10.9.7)\n",
            "Requirement already satisfied: importlib-metadata>=1.0.0 in /usr/local/lib/python3.11/dist-packages (from delta-spark==3.1.0) (8.7.0)\n",
            "Requirement already satisfied: zipp>=3.20 in /usr/local/lib/python3.11/dist-packages (from importlib-metadata>=1.0.0->delta-spark==3.1.0) (3.23.0)\n",
            "Downloading delta_spark-3.1.0-py3-none-any.whl (21 kB)\n",
            "Building wheels for collected packages: pyspark\n",
            "  Building wheel for pyspark (setup.py) ... \u001b[?25l\u001b[?25hdone\n",
            "  Created wheel for pyspark: filename=pyspark-3.5.0-py2.py3-none-any.whl size=317425346 sha256=e96d20671e78f8ef25ab56601361c9b95e5ff431b413f4554089c42ab5ac285d\n",
            "  Stored in directory: /root/.cache/pip/wheels/38/df/61/8c121f50c3cffd77f8178180dd232d90b3b99d1bd61fb6d6be\n",
            "Successfully built pyspark\n",
            "Installing collected packages: pyspark, delta-spark\n",
            "  Attempting uninstall: pyspark\n",
            "    Found existing installation: pyspark 3.5.1\n",
            "    Uninstalling pyspark-3.5.1:\n",
            "      Successfully uninstalled pyspark-3.5.1\n",
            "\u001b[31mERROR: pip's dependency resolver does not currently take into account all the packages that are installed. This behaviour is the source of the following dependency conflicts.\n",
            "dataproc-spark-connect 0.8.3 requires pyspark[connect]~=3.5.1, but you have pyspark 3.5.0 which is incompatible.\u001b[0m\u001b[31m\n",
            "\u001b[0mSuccessfully installed delta-spark-3.1.0 pyspark-3.5.0\n"
          ]
        }
      ],
      "source": [
        "!pip install pyspark==3.5.0 delta-spark==3.1.0\n"
      ]
    },
    {
      "cell_type": "code",
      "source": [
        "from pyspark.sql import SparkSession\n",
        "from delta import configure_spark_with_delta_pip\n",
        "\n",
        "builder = (\n",
        "    SparkSession.builder.appName(\"DeltaDemo\")\n",
        "    .config(\"spark.sql.extensions\", \"io.delta.sql.DeltaSparkSessionExtension\")\n",
        "    .config(\"spark.sql.catalog.spark_catalog\", \"org.apache.spark.sql.delta.catalog.DeltaCatalog\")\n",
        ")\n",
        "\n",
        "spark = configure_spark_with_delta_pip(builder).getOrCreate()\n"
      ],
      "metadata": {
        "id": "2Z0xxyHF1m1g"
      },
      "execution_count": 2,
      "outputs": []
    },
    {
      "cell_type": "markdown",
      "source": [
        "# Create and Save Initial Delta Table"
      ],
      "metadata": {
        "id": "Pct0_8SQ5JSE"
      }
    },
    {
      "cell_type": "code",
      "source": [
        "\n",
        "print(\"\\n=== Creating initial Delta table ===\")\n",
        "data = [\n",
        "    (1, \"John\", \"Electronics\", 2, 300),\n",
        "    (2, \"Sara\", \"Clothing\", 1, 50),\n",
        "    (3, \"Mike\", \"Electronics\", 4, 600),\n",
        "    (4, \"Nina\", \"Clothing\", 3, 150),\n",
        "]\n",
        "columns = [\"order_id\", \"customer_name\", \"category\", \"quantity\", \"amount\"]\n",
        "\n",
        "df = spark.createDataFrame(data, columns)\n",
        "df.write.format(\"delta\").mode(\"overwrite\").save(\"/content/orders_delta\")\n",
        "\n",
        "print(\"Initial Data:\")\n",
        "df.show()\n"
      ],
      "metadata": {
        "colab": {
          "base_uri": "https://localhost:8080/"
        },
        "id": "no4Didef1uxR",
        "outputId": "c1502037-10c3-483f-9716-274708880825"
      },
      "execution_count": 15,
      "outputs": [
        {
          "output_type": "stream",
          "name": "stdout",
          "text": [
            "\n",
            "=== Creating initial Delta table ===\n",
            "Initial Data:\n",
            "+--------+-------------+-----------+--------+------+\n",
            "|order_id|customer_name|   category|quantity|amount|\n",
            "+--------+-------------+-----------+--------+------+\n",
            "|       1|         John|Electronics|       2|   300|\n",
            "|       2|         Sara|   Clothing|       1|    50|\n",
            "|       3|         Mike|Electronics|       4|   600|\n",
            "|       4|         Nina|   Clothing|       3|   150|\n",
            "+--------+-------------+-----------+--------+------+\n",
            "\n"
          ]
        }
      ]
    },
    {
      "cell_type": "markdown",
      "source": [
        "#Managed and Unmanaged Tables"
      ],
      "metadata": {
        "id": "insxswgM5Xq8"
      }
    },
    {
      "cell_type": "code",
      "source": [
        "print(\"\\n=== Managed and Unmanaged Tables ===\")\n",
        "\n",
        "spark.sql(\"DROP TABLE IF EXISTS orders_managed\")\n",
        "spark.sql(\"DROP TABLE IF EXISTS orders_unmanaged\")"
      ],
      "metadata": {
        "colab": {
          "base_uri": "https://localhost:8080/"
        },
        "id": "I3e495aU2Dal",
        "outputId": "b0fb2e7b-9782-48e7-fcce-2c95352298e7"
      },
      "execution_count": 16,
      "outputs": [
        {
          "output_type": "stream",
          "name": "stdout",
          "text": [
            "\n",
            "=== Managed and Unmanaged Tables ===\n"
          ]
        },
        {
          "output_type": "execute_result",
          "data": {
            "text/plain": [
              "DataFrame[]"
            ]
          },
          "metadata": {},
          "execution_count": 16
        }
      ]
    },
    {
      "cell_type": "code",
      "source": [
        "spark.sql(\"\"\"\n",
        "CREATE TABLE orders_managed\n",
        "USING DELTA\n",
        "LOCATION '/content/orders_delta'\n",
        "\"\"\")\n",
        "print(\"Managed Table Data:\")\n",
        "spark.sql(\"SELECT * FROM orders_managed\").show()"
      ],
      "metadata": {
        "colab": {
          "base_uri": "https://localhost:8080/"
        },
        "id": "NY3NvDO75gn8",
        "outputId": "38edd655-7319-404e-fa10-b075f223d341"
      },
      "execution_count": 17,
      "outputs": [
        {
          "output_type": "stream",
          "name": "stdout",
          "text": [
            "Managed Table Data:\n",
            "+--------+-------------+-----------+--------+------+\n",
            "|order_id|customer_name|   category|quantity|amount|\n",
            "+--------+-------------+-----------+--------+------+\n",
            "|       3|         Mike|Electronics|       4|   600|\n",
            "|       4|         Nina|   Clothing|       3|   150|\n",
            "|       1|         John|Electronics|       2|   300|\n",
            "|       2|         Sara|   Clothing|       1|    50|\n",
            "+--------+-------------+-----------+--------+------+\n",
            "\n"
          ]
        }
      ]
    },
    {
      "cell_type": "code",
      "source": [
        "spark.sql(\"\"\"\n",
        "CREATE TABLE orders_unmanaged\n",
        "USING DELTA\n",
        "LOCATION '/content/orders_delta'\n",
        "\"\"\")\n",
        "\n",
        "\n",
        "\n",
        "print(\"Unmanaged Table Data:\")\n",
        "spark.sql(\"SELECT * FROM orders_unmanaged\").show()"
      ],
      "metadata": {
        "colab": {
          "base_uri": "https://localhost:8080/"
        },
        "id": "nUMenwBX5nT7",
        "outputId": "f65ad790-7a1c-409d-b57b-70eb1444d9bb"
      },
      "execution_count": 18,
      "outputs": [
        {
          "output_type": "stream",
          "name": "stdout",
          "text": [
            "Unmanaged Table Data:\n",
            "+--------+-------------+-----------+--------+------+\n",
            "|order_id|customer_name|   category|quantity|amount|\n",
            "+--------+-------------+-----------+--------+------+\n",
            "|       3|         Mike|Electronics|       4|   600|\n",
            "|       4|         Nina|   Clothing|       3|   150|\n",
            "|       1|         John|Electronics|       2|   300|\n",
            "|       2|         Sara|   Clothing|       1|    50|\n",
            "+--------+-------------+-----------+--------+------+\n",
            "\n"
          ]
        }
      ]
    },
    {
      "cell_type": "markdown",
      "source": [
        "#CRUD Operations"
      ],
      "metadata": {
        "id": "zQNrZm7y51si"
      }
    },
    {
      "cell_type": "code",
      "source": [
        "from delta.tables import DeltaTable\n",
        "print(\"\\n===  CRUD Operations ===\")\n",
        "\n",
        "delta_table = DeltaTable.forPath(spark, \"/content/orders_delta\")"
      ],
      "metadata": {
        "colab": {
          "base_uri": "https://localhost:8080/"
        },
        "id": "tLZyjho92J8F",
        "outputId": "4b19810e-ecfc-4ed0-c282-18cb2013ce66"
      },
      "execution_count": 11,
      "outputs": [
        {
          "output_type": "stream",
          "name": "stdout",
          "text": [
            "\n",
            "===  CRUD Operations ===\n"
          ]
        }
      ]
    },
    {
      "cell_type": "code",
      "source": [
        "print(\"\\n-- Updating 'Clothing' category amount by +20 --\")\n",
        "delta_table.update(\n",
        "    condition=\"category = 'Clothing'\",\n",
        "    set={\"amount\": \"amount + 20\"}\n",
        ")\n",
        "delta_table.toDF().show()"
      ],
      "metadata": {
        "colab": {
          "base_uri": "https://localhost:8080/"
        },
        "id": "UwfOf3cI27GD",
        "outputId": "4afd50af-73b3-45d4-df9f-a80cf93b3521"
      },
      "execution_count": 12,
      "outputs": [
        {
          "output_type": "stream",
          "name": "stdout",
          "text": [
            "\n",
            "-- Updating 'Clothing' category amount by +20 --\n",
            "+--------+-------------+-----------+--------+------+\n",
            "|order_id|customer_name|   category|quantity|amount|\n",
            "+--------+-------------+-----------+--------+------+\n",
            "|       3|         Mike|Electronics|       4|   650|\n",
            "|       4|         Nina|   Clothing|       3|   190|\n",
            "|       5|         Anna|   Clothing|       2|   100|\n",
            "|       6|          Tom|Electronics|       1|   200|\n",
            "|       1|         John|Electronics|       2|   300|\n",
            "|       7|          Sam|Electronics|       3|   400|\n",
            "|       8|         Lily|   Clothing|       2|   140|\n",
            "+--------+-------------+-----------+--------+------+\n",
            "\n"
          ]
        }
      ]
    },
    {
      "cell_type": "code",
      "source": [
        "print(\"\\n-- Deleting orders with quantity < 2 --\")\n",
        "delta_table.delete(\"quantity < 2\")\n",
        "delta_table.toDF().show()"
      ],
      "metadata": {
        "colab": {
          "base_uri": "https://localhost:8080/"
        },
        "id": "dNFIB1zs29rK",
        "outputId": "0be4371b-abb2-47fd-d59a-90f0f6061069"
      },
      "execution_count": 13,
      "outputs": [
        {
          "output_type": "stream",
          "name": "stdout",
          "text": [
            "\n",
            "-- Deleting orders with quantity < 2 --\n",
            "+--------+-------------+-----------+--------+------+\n",
            "|order_id|customer_name|   category|quantity|amount|\n",
            "+--------+-------------+-----------+--------+------+\n",
            "|       3|         Mike|Electronics|       4|   650|\n",
            "|       4|         Nina|   Clothing|       3|   190|\n",
            "|       5|         Anna|   Clothing|       2|   100|\n",
            "|       1|         John|Electronics|       2|   300|\n",
            "|       7|          Sam|Electronics|       3|   400|\n",
            "|       8|         Lily|   Clothing|       2|   140|\n",
            "+--------+-------------+-----------+--------+------+\n",
            "\n"
          ]
        }
      ]
    },
    {
      "cell_type": "code",
      "source": [
        "\n",
        "print(\"\\n-- Merging new and updated orders --\")\n",
        "new_data = [\n",
        "    (3, \"Mike\", \"Electronics\", 4, 650),  # Updated\n",
        "    (5, \"Anna\", \"Clothing\", 2, 80),      # New\n",
        "    (6, \"Tom\", \"Electronics\", 1, 200)    # New\n",
        "]\n",
        "columns = [\"order_id\", \"customer_name\", \"category\", \"quantity\", \"amount\"]\n",
        "df_new = spark.createDataFrame(new_data, columns)\n",
        "\n",
        "delta_table.alias(\"t\").merge(\n",
        "    df_new.alias(\"s\"),\n",
        "    \"t.order_id = s.order_id\"\n",
        ").whenMatchedUpdateAll(\n",
        ").whenNotMatchedInsertAll().execute()\n",
        "\n",
        "print(\"After Merge:\")\n",
        "delta_table.toDF().show()"
      ],
      "metadata": {
        "colab": {
          "base_uri": "https://localhost:8080/"
        },
        "id": "rSldF7pI3ALy",
        "outputId": "5063bcb6-48fc-4e99-d0c5-4ee00548ecef"
      },
      "execution_count": 14,
      "outputs": [
        {
          "output_type": "stream",
          "name": "stdout",
          "text": [
            "\n",
            "-- Merging new and updated orders --\n",
            "After Merge:\n",
            "+--------+-------------+-----------+--------+------+\n",
            "|order_id|customer_name|   category|quantity|amount|\n",
            "+--------+-------------+-----------+--------+------+\n",
            "|       3|         Mike|Electronics|       4|   650|\n",
            "|       4|         Nina|   Clothing|       3|   190|\n",
            "|       5|         Anna|   Clothing|       2|    80|\n",
            "|       6|          Tom|Electronics|       1|   200|\n",
            "|       1|         John|Electronics|       2|   300|\n",
            "|       7|          Sam|Electronics|       3|   400|\n",
            "|       8|         Lily|   Clothing|       2|   140|\n",
            "+--------+-------------+-----------+--------+------+\n",
            "\n"
          ]
        }
      ]
    },
    {
      "cell_type": "markdown",
      "source": [
        "# History and Time Travel"
      ],
      "metadata": {
        "id": "JIP4xuA86AWT"
      }
    },
    {
      "cell_type": "code",
      "source": [
        "print(\"\\n=== History & Time Travel ===\")\n",
        "\n",
        "print(\"\\n-- History of Delta Table --\")\n",
        "delta_table.history().show()\n",
        "\n",
        "print(\"\\n-- Version 0 Data --\")\n",
        "df_v0 = spark.read.format(\"delta\").option(\"versionAsOf\", 0).load(\"/content/orders_delta\")\n",
        "df_v0.show()\n",
        "\n",
        "print(\"\\n-- Latest Version Data --\")\n",
        "df_latest = spark.read.format(\"delta\").load(\"/content/orders_delta\")\n",
        "df_latest.show()\n"
      ],
      "metadata": {
        "colab": {
          "base_uri": "https://localhost:8080/"
        },
        "id": "A3JdNK5A2aJV",
        "outputId": "177d5cf7-7119-416e-ed92-c1dd047dfacd"
      },
      "execution_count": 19,
      "outputs": [
        {
          "output_type": "stream",
          "name": "stdout",
          "text": [
            "\n",
            "=== History & Time Travel ===\n",
            "\n",
            "-- History of Delta Table --\n",
            "+-------+--------------------+------+--------+---------+--------------------+----+--------+---------+-----------+--------------+-------------+--------------------+------------+--------------------+\n",
            "|version|           timestamp|userId|userName|operation| operationParameters| job|notebook|clusterId|readVersion|isolationLevel|isBlindAppend|    operationMetrics|userMetadata|          engineInfo|\n",
            "+-------+--------------------+------+--------+---------+--------------------+----+--------+---------+-----------+--------------+-------------+--------------------+------------+--------------------+\n",
            "|      8|2025-08-14 04:44:...|  NULL|    NULL|    WRITE|{mode -> Overwrit...|NULL|    NULL|     NULL|          7|  Serializable|        false|{numFiles -> 2, n...|        NULL|Apache-Spark/3.5....|\n",
            "|      7|2025-08-14 04:35:...|  NULL|    NULL|    MERGE|{predicate -> [\"(...|NULL|    NULL|     NULL|          6|  Serializable|        false|{numTargetRowsCop...|        NULL|Apache-Spark/3.5....|\n",
            "|      6|2025-08-14 04:35:...|  NULL|    NULL|   DELETE|{predicate -> [\"(...|NULL|    NULL|     NULL|          5|  Serializable|        false|{numRemovedFiles ...|        NULL|Apache-Spark/3.5....|\n",
            "|      5|2025-08-14 04:35:...|  NULL|    NULL|   UPDATE|{predicate -> [\"(...|NULL|    NULL|     NULL|          4|  Serializable|        false|{numRemovedFiles ...|        NULL|Apache-Spark/3.5....|\n",
            "|      4|2025-08-14 04:33:...|  NULL|    NULL|    WRITE|{mode -> Append, ...|NULL|    NULL|     NULL|          3|  Serializable|         true|{numFiles -> 2, n...|        NULL|Apache-Spark/3.5....|\n",
            "|      3|2025-08-14 04:31:...|  NULL|    NULL|    MERGE|{predicate -> [\"(...|NULL|    NULL|     NULL|          2|  Serializable|        false|{numTargetRowsCop...|        NULL|Apache-Spark/3.5....|\n",
            "|      2|2025-08-14 04:31:...|  NULL|    NULL|   DELETE|{predicate -> [\"(...|NULL|    NULL|     NULL|          1|  Serializable|        false|{numRemovedFiles ...|        NULL|Apache-Spark/3.5....|\n",
            "|      1|2025-08-14 04:31:...|  NULL|    NULL|   UPDATE|{predicate -> [\"(...|NULL|    NULL|     NULL|          0|  Serializable|        false|{numRemovedFiles ...|        NULL|Apache-Spark/3.5....|\n",
            "|      0|2025-08-14 04:30:...|  NULL|    NULL|    WRITE|{mode -> Overwrit...|NULL|    NULL|     NULL|       NULL|  Serializable|        false|{numFiles -> 2, n...|        NULL|Apache-Spark/3.5....|\n",
            "+-------+--------------------+------+--------+---------+--------------------+----+--------+---------+-----------+--------------+-------------+--------------------+------------+--------------------+\n",
            "\n",
            "\n",
            "-- Version 0 Data --\n",
            "+--------+-------------+-----------+--------+------+\n",
            "|order_id|customer_name|   category|quantity|amount|\n",
            "+--------+-------------+-----------+--------+------+\n",
            "|       1|         John|Electronics|       2|   300|\n",
            "|       2|         Sara|   Clothing|       1|    50|\n",
            "|       3|         Mike|Electronics|       4|   600|\n",
            "|       4|         Nina|   Clothing|       3|   150|\n",
            "+--------+-------------+-----------+--------+------+\n",
            "\n",
            "\n",
            "-- Latest Version Data --\n",
            "+--------+-------------+-----------+--------+------+\n",
            "|order_id|customer_name|   category|quantity|amount|\n",
            "+--------+-------------+-----------+--------+------+\n",
            "|       3|         Mike|Electronics|       4|   600|\n",
            "|       4|         Nina|   Clothing|       3|   150|\n",
            "|       1|         John|Electronics|       2|   300|\n",
            "|       2|         Sara|   Clothing|       1|    50|\n",
            "+--------+-------------+-----------+--------+------+\n",
            "\n"
          ]
        }
      ]
    },
    {
      "cell_type": "markdown",
      "source": [
        "#Incremental Load Pattern"
      ],
      "metadata": {
        "id": "1Fp1fI-S6Ki5"
      }
    },
    {
      "cell_type": "code",
      "source": [
        "print(\"\\n=== Incremental Load Pattern ===\")\n",
        "\n",
        "new_batch = [\n",
        "    (7, \"Sam\", \"Electronics\", 3, 400),\n",
        "    (8, \"Lily\", \"Clothing\", 2, 120)\n",
        "]\n",
        "df_batch = spark.createDataFrame(new_batch, columns)\n",
        "\n",
        "print(\"-- Appending new batch --\")\n",
        "df_batch.write.format(\"delta\").mode(\"append\").save(\"/content/orders_delta\")\n",
        "\n",
        "print(\"Final Table After Incremental Load:\")\n",
        "spark.read.format(\"delta\").load(\"/content/orders_delta\").show()\n"
      ],
      "metadata": {
        "colab": {
          "base_uri": "https://localhost:8080/"
        },
        "id": "ju9dTQhy2iUc",
        "outputId": "763038f4-230c-4b6f-a696-c69f4e0ac98c"
      },
      "execution_count": 20,
      "outputs": [
        {
          "output_type": "stream",
          "name": "stdout",
          "text": [
            "\n",
            "=== Incremental Load Pattern ===\n",
            "-- Appending new batch --\n",
            "Final Table After Incremental Load:\n",
            "+--------+-------------+-----------+--------+------+\n",
            "|order_id|customer_name|   category|quantity|amount|\n",
            "+--------+-------------+-----------+--------+------+\n",
            "|       3|         Mike|Electronics|       4|   600|\n",
            "|       4|         Nina|   Clothing|       3|   150|\n",
            "|       1|         John|Electronics|       2|   300|\n",
            "|       2|         Sara|   Clothing|       1|    50|\n",
            "|       7|          Sam|Electronics|       3|   400|\n",
            "|       8|         Lily|   Clothing|       2|   120|\n",
            "+--------+-------------+-----------+--------+------+\n",
            "\n"
          ]
        }
      ]
    },
    {
      "cell_type": "markdown",
      "source": [
        "#Streaming Read"
      ],
      "metadata": {
        "id": "7uzubJqt6a4x"
      }
    },
    {
      "cell_type": "code",
      "source": [
        "print(\"\\n=== Streaming Read ===\")\n",
        "\n",
        "stream_df = (\n",
        "    spark.readStream.format(\"delta\")\n",
        "    .load(\"/content/orders_delta\")\n",
        ")\n",
        "\n",
        "query = (\n",
        "    stream_df.writeStream\n",
        "    .format(\"console\")\n",
        "    .outputMode(\"append\")\n",
        "    .trigger(processingTime=\"5 seconds\")\n",
        "    .start()\n",
        ")\n",
        "\n",
        "\n"
      ],
      "metadata": {
        "colab": {
          "base_uri": "https://localhost:8080/"
        },
        "id": "YFRcTYwJ2oRs",
        "outputId": "c83e2f9f-f4c5-4d7a-fdef-5dd0dda7180e"
      },
      "execution_count": 21,
      "outputs": [
        {
          "output_type": "stream",
          "name": "stdout",
          "text": [
            "\n",
            "=== Streaming Read ===\n"
          ]
        }
      ]
    },
    {
      "cell_type": "markdown",
      "source": [
        "#Visualization"
      ],
      "metadata": {
        "id": "yrCmSwzu6kZI"
      }
    },
    {
      "cell_type": "code",
      "source": [
        "import pandas as pd\n",
        "import matplotlib.pyplot as plt\n",
        "\n",
        "print(\"\\n=== Visualization ===\")\n",
        "pdf = spark.read.format(\"delta\").load(\"/content/orders_delta\").toPandas()\n",
        "pdf_grouped = pdf.groupby(\"category\")[\"amount\"].sum().reset_index()\n",
        "\n",
        "plt.bar(pdf_grouped[\"category\"], pdf_grouped[\"amount\"])\n",
        "plt.xlabel(\"Category\")\n",
        "plt.ylabel(\"Total Amount\")\n",
        "plt.title(\"Category vs Total Amount\")\n",
        "plt.show()\n",
        "\n",
        "print(\"\\nGrouped Data for Chart:\")\n",
        "print(pdf_grouped)\n"
      ],
      "metadata": {
        "colab": {
          "base_uri": "https://localhost:8080/",
          "height": 594
        },
        "id": "mYxvgcas2uVT",
        "outputId": "95122abe-864c-4334-9cd2-37c270280c8a"
      },
      "execution_count": 22,
      "outputs": [
        {
          "output_type": "stream",
          "name": "stdout",
          "text": [
            "\n",
            "=== Visualization ===\n"
          ]
        },
        {
          "output_type": "display_data",
          "data": {
            "text/plain": [
              "<Figure size 640x480 with 1 Axes>"
            ],
            "image/png": "[encoded data removed]"
          },
          "metadata": {}
        },
        {
          "output_type": "stream",
          "name": "stdout",
          "text": [
            "\n",
            "Grouped Data for Chart:\n",
            "      category  amount\n",
            "0     Clothing     320\n",
            "1  Electronics    1300\n"
          ]
        }
      ]
    }
  ]
}