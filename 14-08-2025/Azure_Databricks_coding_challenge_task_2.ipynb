{
  "nbformat": 4,
  "nbformat_minor": 0,
  "metadata": {
    "colab": {
      "provenance": []
    },
    "kernelspec": {
      "name": "python3",
      "display_name": "Python 3"
    },
    "language_info": {
      "name": "python"
    }
  },
  "cells": [
    {
      "cell_type": "code",
      "execution_count": 1,
      "metadata": {
        "colab": {
          "base_uri": "https://localhost:8080/"
        },
        "id": "Q5JYVSnF6_3U",
        "outputId": "6ee73a69-2821-442b-9bd4-98593ab90750"
      },
      "outputs": [
        {
          "output_type": "stream",
          "name": "stdout",
          "text": [
            "Requirement already satisfied: pyspark==3.5.0 in /usr/local/lib/python3.11/dist-packages (3.5.0)\n",
            "Requirement already satisfied: delta-spark==3.1.0 in /usr/local/lib/python3.11/dist-packages (3.1.0)\n",
            "Requirement already satisfied: py4j==0.10.9.7 in /usr/local/lib/python3.11/dist-packages (from pyspark==3.5.0) (0.10.9.7)\n",
            "Requirement already satisfied: importlib-metadata>=1.0.0 in /usr/local/lib/python3.11/dist-packages (from delta-spark==3.1.0) (8.7.0)\n",
            "Requirement already satisfied: zipp>=3.20 in /usr/local/lib/python3.11/dist-packages (from importlib-metadata>=1.0.0->delta-spark==3.1.0) (3.23.0)\n"
          ]
        }
      ],
      "source": [
        "!pip install pyspark==3.5.0 delta-spark==3.1.0\n",
        "\n",
        "from pyspark.sql import SparkSession\n",
        "from delta import configure_spark_with_delta_pip\n",
        "from pyspark.sql import functions as F, types as T\n",
        "import datetime\n"
      ]
    },
    {
      "cell_type": "markdown",
      "source": [
        "# 1. Spark Session with Delta Support"
      ],
      "metadata": {
        "id": "gHFvs1qmJH_f"
      }
    },
    {
      "cell_type": "code",
      "source": [
        "\n",
        "builder = (\n",
        "    SparkSession.builder.appName(\"DeltaRideHailing\")\n",
        "    .config(\"spark.sql.extensions\", \"io.delta.sql.DeltaSparkSessionExtension\")\n",
        "    .config(\"spark.sql.catalog.spark_catalog\", \"org.apache.spark.sql.delta.catalog.DeltaCatalog\")\n",
        ")\n",
        "spark = configure_spark_with_delta_pip(builder).getOrCreate()\n",
        "\n",
        "print(\" Spark Session Created with Delta Support\")"
      ],
      "metadata": {
        "colab": {
          "base_uri": "https://localhost:8080/"
        },
        "id": "EUwegSv8DwDJ",
        "outputId": "eeaf160f-972a-40f5-a58b-669d8f835aa7"
      },
      "execution_count": 30,
      "outputs": [
        {
          "output_type": "stream",
          "name": "stdout",
          "text": [
            " Spark Session Created with Delta Support\n"
          ]
        }
      ]
    },
    {
      "cell_type": "markdown",
      "source": [
        "# 2. Schema Definitions"
      ],
      "metadata": {
        "id": "yPo7uNVKJMMv"
      }
    },
    {
      "cell_type": "code",
      "source": [
        "trip_schema = T.StructType([\n",
        "    T.StructField(\"trip_id\", T.IntegerType()),\n",
        "    T.StructField(\"rider_id\", T.StringType()),\n",
        "    T.StructField(\"driver_id\", T.StringType()),\n",
        "    T.StructField(\"city\", T.StringType()),\n",
        "    T.StructField(\"distance_km\", T.DoubleType()),\n",
        "    T.StructField(\"fare\", T.DoubleType()),\n",
        "    T.StructField(\"tip\", T.DoubleType()),\n",
        "    T.StructField(\"ts\", T.TimestampType())\n",
        "])\n",
        "\n",
        "driver_schema = T.StructType([\n",
        "    T.StructField(\"driver_id\", T.StringType()),\n",
        "    T.StructField(\"driver_name\", T.StringType()),\n",
        "    T.StructField(\"rating\", T.DoubleType()),\n",
        "    T.StructField(\"vehicle\", T.StringType())\n",
        "])"
      ],
      "metadata": {
        "id": "zteLypJzEBKV"
      },
      "execution_count": 31,
      "outputs": []
    },
    {
      "cell_type": "markdown",
      "source": [
        "# Inline Data"
      ],
      "metadata": {
        "id": "hZDi6oEVJTfN"
      }
    },
    {
      "cell_type": "code",
      "source": [
        "\n",
        "trips_rows = [\n",
        "    (1001, \"R001\", \"D010\", \"Bengaluru\", 12.4, 320.0, 20.0, datetime.datetime(2025,8,8,8,5,0)),\n",
        "    (1002, \"R002\", \"D011\", \"Hyderabad\", 6.2, 150.0, 10.0, datetime.datetime(2025,8,8,8,15,0)),\n",
        "    (1003, \"R003\", \"D012\", \"Pune\", 3.5, 90.0, 0.0, datetime.datetime(2025,8,8,8,20,0)),\n",
        "    (1004, \"R001\", \"D010\", \"Bengaluru\", 18.9, 480.0, 25.0, datetime.datetime(2025,8,8,8,45,0)),\n",
        "    (1005, \"R004\", \"D013\", \"Chennai\", 10.0, 260.0, 15.0, datetime.datetime(2025,8,8,9,5,0)),\n",
        "    (1006, \"R005\", \"D012\", \"Pune\", 2.2, 70.0, 0.0, datetime.datetime(2025,8,8,9,10,0))\n",
        "]\n",
        "\n",
        "drivers_rows = [\n",
        "    (\"D010\", \"Anil\", 4.8, \"WagonR\"),\n",
        "    (\"D011\", \"Sana\", 4.6, \"i20\"),\n",
        "    (\"D012\", \"Rakesh\", 4.4, \"Swift\"),\n",
        "    (\"D013\", \"Meera\", 4.9, \"Ciaz\")\n",
        "]"
      ],
      "metadata": {
        "id": "uYlv9mU_EEvl"
      },
      "execution_count": 32,
      "outputs": []
    },
    {
      "cell_type": "code",
      "source": [
        "trips_df = spark.createDataFrame(trips_rows, schema=trip_schema)\n",
        "drivers_df = spark.createDataFrame(drivers_rows, schema=driver_schema)"
      ],
      "metadata": {
        "id": "xsEa5xkeEHdX"
      },
      "execution_count": 33,
      "outputs": []
    },
    {
      "cell_type": "code",
      "source": [
        "BASE = \"/tmp/delta/ride_hailing\"\n",
        "TRIPS_PATH = f\"{BASE}/trips\"\n",
        "DRIVERS_PATH = f\"{BASE}/drivers\"\n",
        "\n",
        "trips_df.write.format(\"delta\").mode(\"overwrite\").save(TRIPS_PATH)\n",
        "drivers_df.write.format(\"delta\").mode(\"overwrite\").save(DRIVERS_PATH)\n",
        "\n",
        "print(\" Seeded Data:\")\n",
        "print(\"   Trips  ->\", TRIPS_PATH)\n",
        "print(\"   Drivers->\", DRIVERS_PATH)"
      ],
      "metadata": {
        "colab": {
          "base_uri": "https://localhost:8080/"
        },
        "id": "TPvmWo6XEXv8",
        "outputId": "a8808e42-8b66-4d7f-a14f-751ebd50f606"
      },
      "execution_count": 34,
      "outputs": [
        {
          "output_type": "stream",
          "name": "stdout",
          "text": [
            " Seeded Data:\n",
            "   Trips  -> /tmp/delta/ride_hailing/trips\n",
            "   Drivers-> /tmp/delta/ride_hailing/drivers\n"
          ]
        }
      ]
    },
    {
      "cell_type": "code",
      "source": [
        "print(\"\\nTrips DataFrame:\")\n",
        "trips_df.show()\n",
        "print(\"\\nDrivers DataFrame:\")\n",
        "drivers_df.show()"
      ],
      "metadata": {
        "colab": {
          "base_uri": "https://localhost:8080/"
        },
        "id": "f5U2tcDVEnEr",
        "outputId": "b2deb3af-8c4d-4594-ac8b-f08f8b85eee0"
      },
      "execution_count": 35,
      "outputs": [
        {
          "output_type": "stream",
          "name": "stdout",
          "text": [
            "\n",
            "Trips DataFrame:\n",
            "+-------+--------+---------+---------+-----------+-----+----+-------------------+\n",
            "|trip_id|rider_id|driver_id|     city|distance_km| fare| tip|                 ts|\n",
            "+-------+--------+---------+---------+-----------+-----+----+-------------------+\n",
            "|   1001|    R001|     D010|Bengaluru|       12.4|320.0|20.0|2025-08-08 08:05:00|\n",
            "|   1002|    R002|     D011|Hyderabad|        6.2|150.0|10.0|2025-08-08 08:15:00|\n",
            "|   1003|    R003|     D012|     Pune|        3.5| 90.0| 0.0|2025-08-08 08:20:00|\n",
            "|   1004|    R001|     D010|Bengaluru|       18.9|480.0|25.0|2025-08-08 08:45:00|\n",
            "|   1005|    R004|     D013|  Chennai|       10.0|260.0|15.0|2025-08-08 09:05:00|\n",
            "|   1006|    R005|     D012|     Pune|        2.2| 70.0| 0.0|2025-08-08 09:10:00|\n",
            "+-------+--------+---------+---------+-----------+-----+----+-------------------+\n",
            "\n",
            "\n",
            "Drivers DataFrame:\n",
            "+---------+-----------+------+-------+\n",
            "|driver_id|driver_name|rating|vehicle|\n",
            "+---------+-----------+------+-------+\n",
            "|     D010|       Anil|   4.8| WagonR|\n",
            "|     D011|       Sana|   4.6|    i20|\n",
            "|     D012|     Rakesh|   4.4|  Swift|\n",
            "|     D013|      Meera|   4.9|   Ciaz|\n",
            "+---------+-----------+------+-------+\n",
            "\n"
          ]
        }
      ]
    },
    {
      "cell_type": "markdown",
      "source": [
        "#Managed and Unmanaged Tables"
      ],
      "metadata": {
        "id": "-yxwK7a7JjGk"
      }
    },
    {
      "cell_type": "code",
      "source": [
        "print(\"\\n===  Managed vs Unmanaged Tables ===\")\n",
        "spark.sql(\"DROP TABLE IF EXISTS trips_managed\")\n",
        "spark.sql(\"DROP TABLE IF EXISTS drivers_ext\")\n",
        "\n",
        "spark.sql(f\"CREATE TABLE trips_managed USING DELTA LOCATION '{TRIPS_PATH}'\")\n",
        "spark.sql(f\"CREATE TABLE drivers_ext USING DELTA LOCATION '{DRIVERS_PATH}'\")\n",
        "\n",
        "print(\"\\nTrips Managed Table Detail:\")\n",
        "spark.sql(\"DESCRIBE DETAIL trips_managed\").show(truncate=False)\n",
        "print(\"\\nDrivers External Table Detail:\")\n",
        "spark.sql(\"DESCRIBE DETAIL drivers_ext\").show(truncate=False)\n",
        "\n",
        "print(\"\\nDifference: Managed tables store data inside warehouse; unmanaged tables keep data at external path.\")\n"
      ],
      "metadata": {
        "colab": {
          "base_uri": "https://localhost:8080/"
        },
        "id": "WzEl61H7Guut",
        "outputId": "b9546915-baed-4412-cf8a-86dae9508494"
      },
      "execution_count": 37,
      "outputs": [
        {
          "output_type": "stream",
          "name": "stdout",
          "text": [
            "\n",
            "===  Managed vs Unmanaged Tables ===\n",
            "\n",
            "Trips Managed Table Detail:\n",
            "+------+------------------------------------+-----------------------------------+-----------+----------------------------------+-----------------------+-----------------------+----------------+--------+-----------+----------+----------------+----------------+------------------------+\n",
            "|format|id                                  |name                               |description|location                          |createdAt              |lastModified           |partitionColumns|numFiles|sizeInBytes|properties|minReaderVersion|minWriterVersion|tableFeatures           |\n",
            "+------+------------------------------------+-----------------------------------+-----------+----------------------------------+-----------------------+-----------------------+----------------+--------+-----------+----------+----------------+----------------+------------------------+\n",
            "|delta |8062238e-e862-450e-a272-3ead1a4223e3|spark_catalog.default.trips_managed|NULL       |file:/tmp/delta/ride_hailing/trips|2025-08-14 05:36:40.661|2025-08-14 05:55:31.522|[]              |2       |4536       |{}        |1               |2               |[appendOnly, invariants]|\n",
            "+------+------------------------------------+-----------------------------------+-----------+----------------------------------+-----------------------+-----------------------+----------------+--------+-----------+----------+----------------+----------------+------------------------+\n",
            "\n",
            "\n",
            "Drivers External Table Detail:\n",
            "+------+------------------------------------+---------------------------------+-----------+------------------------------------+-----------------------+-----------------------+----------------+--------+-----------+----------+----------------+----------------+------------------------+\n",
            "|format|id                                  |name                             |description|location                            |createdAt              |lastModified           |partitionColumns|numFiles|sizeInBytes|properties|minReaderVersion|minWriterVersion|tableFeatures           |\n",
            "+------+------------------------------------+---------------------------------+-----------+------------------------------------+-----------------------+-----------------------+----------------+--------+-----------+----------+----------------+----------------+------------------------+\n",
            "|delta |daca054c-3e6f-4e8c-95b7-3d14d0b9f1f9|spark_catalog.default.drivers_ext|NULL       |file:/tmp/delta/ride_hailing/drivers|2025-08-14 05:37:14.966|2025-08-14 05:55:37.948|[]              |2       |2481       |{}        |1               |2               |[appendOnly, invariants]|\n",
            "+------+------------------------------------+---------------------------------+-----------+------------------------------------+-----------------------+-----------------------+----------------+--------+-----------+----------+----------------+----------------+------------------------+\n",
            "\n",
            "\n",
            "Difference: Managed tables store data inside warehouse; unmanaged tables keep data at external path.\n"
          ]
        }
      ]
    },
    {
      "cell_type": "markdown",
      "source": [
        "#Read & Explore"
      ],
      "metadata": {
        "id": "QQ24y6z_JxTU"
      }
    },
    {
      "cell_type": "code",
      "source": [
        "print(\"\\n===  Read & Explore ===\")\n",
        "trips = spark.read.format(\"delta\").load(TRIPS_PATH)\n",
        "drivers = spark.read.format(\"delta\").load(DRIVERS_PATH)\n",
        "\n",
        "trips.printSchema()\n",
        "drivers.printSchema()\n",
        "\n",
        "trips.withColumn(\"total_amount\", F.col(\"fare\") + F.col(\"tip\")) \\\n",
        "     .orderBy(F.desc(\"total_amount\")) \\\n",
        "     .show(5, truncate=False)"
      ],
      "metadata": {
        "colab": {
          "base_uri": "https://localhost:8080/"
        },
        "id": "La-3JD7_GweN",
        "outputId": "c6b9bca4-d35a-4142-c7df-171b748c5d3a"
      },
      "execution_count": 38,
      "outputs": [
        {
          "output_type": "stream",
          "name": "stdout",
          "text": [
            "\n",
            "===  Read & Explore ===\n",
            "root\n",
            " |-- trip_id: integer (nullable = true)\n",
            " |-- rider_id: string (nullable = true)\n",
            " |-- driver_id: string (nullable = true)\n",
            " |-- city: string (nullable = true)\n",
            " |-- distance_km: double (nullable = true)\n",
            " |-- fare: double (nullable = true)\n",
            " |-- tip: double (nullable = true)\n",
            " |-- ts: timestamp (nullable = true)\n",
            "\n",
            "root\n",
            " |-- driver_id: string (nullable = true)\n",
            " |-- driver_name: string (nullable = true)\n",
            " |-- rating: double (nullable = true)\n",
            " |-- vehicle: string (nullable = true)\n",
            "\n",
            "+-------+--------+---------+---------+-----------+-----+----+-------------------+------------+\n",
            "|trip_id|rider_id|driver_id|city     |distance_km|fare |tip |ts                 |total_amount|\n",
            "+-------+--------+---------+---------+-----------+-----+----+-------------------+------------+\n",
            "|1004   |R001    |D010     |Bengaluru|18.9       |480.0|25.0|2025-08-08 08:45:00|505.0       |\n",
            "|1001   |R001    |D010     |Bengaluru|12.4       |320.0|20.0|2025-08-08 08:05:00|340.0       |\n",
            "|1005   |R004    |D013     |Chennai  |10.0       |260.0|15.0|2025-08-08 09:05:00|275.0       |\n",
            "|1002   |R002    |D011     |Hyderabad|6.2        |150.0|10.0|2025-08-08 08:15:00|160.0       |\n",
            "|1003   |R003    |D012     |Pune     |3.5        |90.0 |0.0 |2025-08-08 08:20:00|90.0        |\n",
            "+-------+--------+---------+---------+-----------+-----+----+-------------------+------------+\n",
            "only showing top 5 rows\n",
            "\n"
          ]
        }
      ]
    },
    {
      "cell_type": "markdown",
      "source": [
        "#Update"
      ],
      "metadata": {
        "id": "U11yBZf2J6p8"
      }
    },
    {
      "cell_type": "code",
      "source": [
        "\n",
        "print(\"\\n=== Update Tip for Bengaluru Trips (distance > 15) ===\")\n",
        "from delta.tables import DeltaTable\n",
        "delta_trips = DeltaTable.forPath(spark, TRIPS_PATH)\n",
        "print(\"Before update:\")\n",
        "delta_trips.toDF().filter((F.col(\"city\")==\"Bengaluru\") & (F.col(\"distance_km\")>15)).show()\n",
        "\n",
        "delta_trips.update(\n",
        "    condition=\"city = 'Bengaluru' AND distance_km > 15\",\n",
        "    set={\"tip\": \"tip + 5\"}\n",
        ")\n",
        "\n",
        "print(\"After update:\")\n",
        "delta_trips.toDF().filter((F.col(\"city\")==\"Bengaluru\") & (F.col(\"distance_km\")>15)).show()"
      ],
      "metadata": {
        "colab": {
          "base_uri": "https://localhost:8080/"
        },
        "id": "GVthjyfxG0eV",
        "outputId": "aa35bdd6-3075-4ce8-e4a4-3eab9195b06a"
      },
      "execution_count": 39,
      "outputs": [
        {
          "output_type": "stream",
          "name": "stdout",
          "text": [
            "\n",
            "=== Update Tip for Bengaluru Trips (distance > 15) ===\n",
            "Before update:\n",
            "+-------+--------+---------+---------+-----------+-----+----+-------------------+\n",
            "|trip_id|rider_id|driver_id|     city|distance_km| fare| tip|                 ts|\n",
            "+-------+--------+---------+---------+-----------+-----+----+-------------------+\n",
            "|   1004|    R001|     D010|Bengaluru|       18.9|480.0|25.0|2025-08-08 08:45:00|\n",
            "+-------+--------+---------+---------+-----------+-----+----+-------------------+\n",
            "\n",
            "After update:\n",
            "+-------+--------+---------+---------+-----------+-----+----+-------------------+\n",
            "|trip_id|rider_id|driver_id|     city|distance_km| fare| tip|                 ts|\n",
            "+-------+--------+---------+---------+-----------+-----+----+-------------------+\n",
            "|   1004|    R001|     D010|Bengaluru|       18.9|480.0|30.0|2025-08-08 08:45:00|\n",
            "+-------+--------+---------+---------+-----------+-----+----+-------------------+\n",
            "\n"
          ]
        }
      ]
    },
    {
      "cell_type": "markdown",
      "source": [
        "#Delete Bad Data"
      ],
      "metadata": {
        "id": "zarTJS0WKUe7"
      }
    },
    {
      "cell_type": "code",
      "source": [
        "print(\"\\n===  Delete Bad Data ===\")\n",
        "delta_trips.delete(\"fare <= 0 OR distance_km <= 0\")\n",
        "print(\"Remaining rows count:\", delta_trips.toDF().count())"
      ],
      "metadata": {
        "colab": {
          "base_uri": "https://localhost:8080/"
        },
        "id": "k2RnfOBqG6P0",
        "outputId": "abb40b54-38ec-4258-bdaf-d86e6355c729"
      },
      "execution_count": 40,
      "outputs": [
        {
          "output_type": "stream",
          "name": "stdout",
          "text": [
            "\n",
            "===  Delete Bad Data ===\n",
            "Remaining rows count: 6\n"
          ]
        }
      ]
    },
    {
      "cell_type": "markdown",
      "source": [
        "# Merge (Upsert)"
      ],
      "metadata": {
        "id": "4lzUC1f7Kb49"
      }
    },
    {
      "cell_type": "code",
      "source": [
        "\n",
        "print(\"\\n=== Merge New Batch ===\")\n",
        "new_data = [\n",
        "    (1004, \"R001\", \"D010\", \"Bengaluru\", 18.9, 500.0, 30.0, datetime.datetime(2025,8,8,8,45,0)),\n",
        "    (1007, \"R006\", \"D011\", \"Hyderabad\", 8.0, 180.0, 12.0, datetime.datetime(2025,8,8,9,20,0))\n",
        "]\n",
        "new_df = spark.createDataFrame(new_data, schema=trip_schema)\n",
        "\n",
        "delta_trips.alias(\"t\").merge(\n",
        "    new_df.alias(\"n\"),\n",
        "    \"t.trip_id = n.trip_id\"\n",
        ").whenMatchedUpdateAll().whenNotMatchedInsertAll().execute()\n",
        "\n",
        "delta_trips.toDF().filter(F.col(\"trip_id\").isin([1004,1007])).show()"
      ],
      "metadata": {
        "colab": {
          "base_uri": "https://localhost:8080/"
        },
        "id": "FHaqe7BXHDV8",
        "outputId": "89994201-a1ec-418f-fe7a-32b8efc10e46"
      },
      "execution_count": 41,
      "outputs": [
        {
          "output_type": "stream",
          "name": "stdout",
          "text": [
            "\n",
            "=== Merge New Batch ===\n",
            "+-------+--------+---------+---------+-----------+-----+----+-------------------+\n",
            "|trip_id|rider_id|driver_id|     city|distance_km| fare| tip|                 ts|\n",
            "+-------+--------+---------+---------+-----------+-----+----+-------------------+\n",
            "|   1004|    R001|     D010|Bengaluru|       18.9|500.0|30.0|2025-08-08 08:45:00|\n",
            "|   1007|    R006|     D011|Hyderabad|        8.0|180.0|12.0|2025-08-08 09:20:00|\n",
            "+-------+--------+---------+---------+-----------+-----+----+-------------------+\n",
            "\n"
          ]
        }
      ]
    },
    {
      "cell_type": "markdown",
      "source": [
        "# Gold View KPIs"
      ],
      "metadata": {
        "id": "ZwNAYzBAK3Vx"
      }
    },
    {
      "cell_type": "code",
      "source": [
        "print(\"\\n===  Gold View KPIs ===\")\n",
        "gold_df = delta_trips.toDF().join(drivers, \"driver_id\") \\\n",
        "    .withColumn(\"total_amount\", F.col(\"fare\") + F.col(\"tip\")) \\\n",
        "    .select(\"trip_id\",\"city\",\"driver_name\",\"rating\",\"distance_km\",\"total_amount\",\"ts\")\n",
        "\n",
        "print(\"\\nCity-wise total revenue and avg driver rating:\")\n",
        "gold_df.groupBy(\"city\").agg(F.sum(\"total_amount\").alias(\"total_revenue\"),\n",
        "                            F.avg(\"rating\").alias(\"avg_rating\")).show()\n",
        "\n",
        "print(\"\\nDriver-wise total trips and top 3 by revenue:\")\n",
        "gold_df.groupBy(\"driver_name\").agg(F.count(\"*\").alias(\"total_trips\"),\n",
        "                                   F.sum(\"total_amount\").alias(\"total_revenue\")) \\\n",
        "      .orderBy(F.desc(\"total_revenue\")).show(3)"
      ],
      "metadata": {
        "colab": {
          "base_uri": "https://localhost:8080/"
        },
        "id": "THfe8OqiKza5",
        "outputId": "e341ddd9-cf68-42a4-bb38-3c0f3ec2ef46"
      },
      "execution_count": 42,
      "outputs": [
        {
          "output_type": "stream",
          "name": "stdout",
          "text": [
            "\n",
            "===  Gold View KPIs ===\n",
            "\n",
            "City-wise total revenue and avg driver rating:\n",
            "+---------+-------------+----------+\n",
            "|     city|total_revenue|avg_rating|\n",
            "+---------+-------------+----------+\n",
            "|  Chennai|        275.0|       4.9|\n",
            "|     Pune|        160.0|       4.4|\n",
            "|Bengaluru|        870.0|       4.8|\n",
            "|Hyderabad|        352.0|       4.6|\n",
            "+---------+-------------+----------+\n",
            "\n",
            "\n",
            "Driver-wise total trips and top 3 by revenue:\n",
            "+-----------+-----------+-------------+\n",
            "|driver_name|total_trips|total_revenue|\n",
            "+-----------+-----------+-------------+\n",
            "|       Anil|          2|        870.0|\n",
            "|       Sana|          2|        352.0|\n",
            "|      Meera|          1|        275.0|\n",
            "+-----------+-----------+-------------+\n",
            "only showing top 3 rows\n",
            "\n"
          ]
        }
      ]
    },
    {
      "cell_type": "markdown",
      "source": [
        "# Time Travel & History"
      ],
      "metadata": {
        "id": "DWi0Eer_LMRC"
      }
    },
    {
      "cell_type": "code",
      "source": [
        "print(\"\\n===  Time Travel & History ===\")\n",
        "spark.sql(f\"DESCRIBE HISTORY delta.`{TRIPS_PATH}`\").show(truncate=False)\n"
      ],
      "metadata": {
        "colab": {
          "base_uri": "https://localhost:8080/"
        },
        "id": "bRdmbtyqHTWD",
        "outputId": "75a230bb-ed17-4290-da88-c944b30f41ba"
      },
      "execution_count": 44,
      "outputs": [
        {
          "output_type": "stream",
          "name": "stdout",
          "text": [
            "\n",
            "===  Time Travel & History ===\n",
            "+-------+-----------------------+------+--------+---------+-----------------------------------------------------------------------------------------------------------------------------------------------------------------------------------------+----+--------+---------+-----------+--------------+-------------+--------------------------------------------------------------------------------------------------------------------------------------------------------------------------------------------------------------------------------------------------------------------------------------------------------------------------------------------------------------------------------------------------------------------------------------------------------------------------------------------------------------------------------------------------------------------------------------------------------------------------------------------------------+------------+-----------------------------------+\n",
            "|version|timestamp              |userId|userName|operation|operationParameters                                                                                                                                                                      |job |notebook|clusterId|readVersion|isolationLevel|isBlindAppend|operationMetrics                                                                                                                                                                                                                                                                                                                                                                                                                                                                                                                                                                                                                                        |userMetadata|engineInfo                         |\n",
            "+-------+-----------------------+------+--------+---------+-----------------------------------------------------------------------------------------------------------------------------------------------------------------------------------------+----+--------+---------+-----------+--------------+-------------+--------------------------------------------------------------------------------------------------------------------------------------------------------------------------------------------------------------------------------------------------------------------------------------------------------------------------------------------------------------------------------------------------------------------------------------------------------------------------------------------------------------------------------------------------------------------------------------------------------------------------------------------------------+------------+-----------------------------------+\n",
            "|9      |2025-08-14 06:00:16.162|NULL  |NULL    |MERGE    |{predicate -> [\"(trip_id#21393 = trip_id#23082)\"], matchedPredicates -> [{\"actionType\":\"update\"}], notMatchedPredicates -> [{\"actionType\":\"insert\"}], notMatchedBySourcePredicates -> []}|NULL|NULL    |NULL     |8          |Serializable  |false        |{numTargetRowsCopied -> 2, numTargetRowsDeleted -> 0, numTargetFilesAdded -> 1, numTargetBytesAdded -> 2321, numTargetBytesRemoved -> 2268, numTargetDeletionVectorsAdded -> 0, numTargetRowsMatchedUpdated -> 1, executionTimeMs -> 2812, numTargetRowsInserted -> 1, numTargetRowsMatchedDeleted -> 0, numTargetDeletionVectorsUpdated -> 0, scanTimeMs -> 1364, numTargetRowsUpdated -> 1, numOutputRows -> 4, numTargetDeletionVectorsRemoved -> 0, numTargetRowsNotMatchedBySourceUpdated -> 0, numTargetChangeFilesAdded -> 0, numSourceRows -> 2, numTargetFilesRemoved -> 1, numTargetRowsNotMatchedBySourceDeleted -> 0, rewriteTimeMs -> 1078}|NULL        |Apache-Spark/3.5.0 Delta-Lake/3.1.0|\n",
            "|8      |2025-08-14 05:58:33.937|NULL  |NULL    |UPDATE   |{predicate -> [\"((city#21396 = Bengaluru) AND (distance_km#21397 > 15.0))\"]}                                                                                                             |NULL|NULL    |NULL     |7          |Serializable  |false        |{numRemovedFiles -> 1, numRemovedBytes -> 2268, numCopiedRows -> 2, numDeletionVectorsAdded -> 0, numDeletionVectorsRemoved -> 0, numAddedChangeFiles -> 0, executionTimeMs -> 2113, numDeletionVectorsUpdated -> 0, scanTimeMs -> 1662, numAddedFiles -> 1, numUpdatedRows -> 1, numAddedBytes -> 2268, rewriteTimeMs -> 451}                                                                                                                                                                                                                                                                                                                          |NULL        |Apache-Spark/3.5.0 Delta-Lake/3.1.0|\n",
            "|7      |2025-08-14 05:55:31.522|NULL  |NULL    |WRITE    |{mode -> Overwrite, partitionBy -> []}                                                                                                                                                   |NULL|NULL    |NULL     |6          |Serializable  |false        |{numFiles -> 2, numOutputRows -> 6, numOutputBytes -> 4536}                                                                                                                                                                                                                                                                                                                                                                                                                                                                                                                                                                                             |NULL        |Apache-Spark/3.5.0 Delta-Lake/3.1.0|\n",
            "|6      |2025-08-14 05:50:50.117|NULL  |NULL    |WRITE    |{mode -> Append, partitionBy -> []}                                                                                                                                                      |NULL|NULL    |NULL     |5          |Serializable  |true         |{numFiles -> 2, numOutputRows -> 1, numOutputBytes -> 3135}                                                                                                                                                                                                                                                                                                                                                                                                                                                                                                                                                                                             |NULL        |Apache-Spark/3.5.0 Delta-Lake/3.1.0|\n",
            "|5      |2025-08-14 05:50:11.517|NULL  |NULL    |WRITE    |{mode -> Append, partitionBy -> []}                                                                                                                                                      |NULL|NULL    |NULL     |4          |Serializable  |true         |{numFiles -> 2, numOutputRows -> 1, numOutputBytes -> 3135}                                                                                                                                                                                                                                                                                                                                                                                                                                                                                                                                                                                             |NULL        |Apache-Spark/3.5.0 Delta-Lake/3.1.0|\n",
            "|4      |2025-08-14 05:49:42.552|NULL  |NULL    |WRITE    |{mode -> Append, partitionBy -> []}                                                                                                                                                      |NULL|NULL    |NULL     |3          |Serializable  |true         |{numFiles -> 2, numOutputRows -> 1, numOutputBytes -> 3135}                                                                                                                                                                                                                                                                                                                                                                                                                                                                                                                                                                                             |NULL        |Apache-Spark/3.5.0 Delta-Lake/3.1.0|\n",
            "|3      |2025-08-14 05:49:23.53 |NULL  |NULL    |WRITE    |{mode -> Append, partitionBy -> []}                                                                                                                                                      |NULL|NULL    |NULL     |2          |Serializable  |true         |{numFiles -> 2, numOutputRows -> 2, numOutputBytes -> 4491}                                                                                                                                                                                                                                                                                                                                                                                                                                                                                                                                                                                             |NULL        |Apache-Spark/3.5.0 Delta-Lake/3.1.0|\n",
            "|2      |2025-08-14 05:45:20.337|NULL  |NULL    |MERGE    |{predicate -> [\"(trip_id#2672 = trip_id#4362)\"], matchedPredicates -> [{\"actionType\":\"update\"}], notMatchedPredicates -> [{\"actionType\":\"insert\"}], notMatchedBySourcePredicates -> []}  |NULL|NULL    |NULL     |1          |Serializable  |false        |{numTargetRowsCopied -> 2, numTargetRowsDeleted -> 0, numTargetFilesAdded -> 1, numTargetBytesAdded -> 2321, numTargetBytesRemoved -> 2268, numTargetDeletionVectorsAdded -> 0, numTargetRowsMatchedUpdated -> 1, executionTimeMs -> 6381, numTargetRowsInserted -> 1, numTargetRowsMatchedDeleted -> 0, numTargetDeletionVectorsUpdated -> 0, scanTimeMs -> 3620, numTargetRowsUpdated -> 1, numOutputRows -> 4, numTargetDeletionVectorsRemoved -> 0, numTargetRowsNotMatchedBySourceUpdated -> 0, numTargetChangeFilesAdded -> 0, numSourceRows -> 2, numTargetFilesRemoved -> 1, numTargetRowsNotMatchedBySourceDeleted -> 0, rewriteTimeMs -> 1501}|NULL        |Apache-Spark/3.5.0 Delta-Lake/3.1.0|\n",
            "|1      |2025-08-14 05:44:25.617|NULL  |NULL    |UPDATE   |{predicate -> [\"((city#2675 = Bengaluru) AND (distance_km#2676 > 15.0))\"]}                                                                                                               |NULL|NULL    |NULL     |0          |Serializable  |false        |{numRemovedFiles -> 1, numRemovedBytes -> 2268, numCopiedRows -> 2, numDeletionVectorsAdded -> 0, numDeletionVectorsRemoved -> 0, numAddedChangeFiles -> 0, executionTimeMs -> 5183, numDeletionVectorsUpdated -> 0, scanTimeMs -> 3423, numAddedFiles -> 1, numUpdatedRows -> 1, numAddedBytes -> 2268, rewriteTimeMs -> 1747}                                                                                                                                                                                                                                                                                                                         |NULL        |Apache-Spark/3.5.0 Delta-Lake/3.1.0|\n",
            "|0      |2025-08-14 05:36:54.834|NULL  |NULL    |WRITE    |{mode -> Overwrite, partitionBy -> []}                                                                                                                                                   |NULL|NULL    |NULL     |NULL       |Serializable  |false        |{numFiles -> 2, numOutputRows -> 6, numOutputBytes -> 4536}                                                                                                                                                                                                                                                                                                                                                                                                                                                                                                                                                                                             |NULL        |Apache-Spark/3.5.0 Delta-Lake/3.1.0|\n",
            "+-------+-----------------------+------+--------+---------+-----------------------------------------------------------------------------------------------------------------------------------------------------------------------------------------+----+--------+---------+-----------+--------------+-------------+--------------------------------------------------------------------------------------------------------------------------------------------------------------------------------------------------------------------------------------------------------------------------------------------------------------------------------------------------------------------------------------------------------------------------------------------------------------------------------------------------------------------------------------------------------------------------------------------------------------------------------------------------------+------------+-----------------------------------+\n",
            "\n"
          ]
        }
      ]
    },
    {
      "cell_type": "code",
      "source": [
        "\n",
        "print(\"\\nVersion 0 data:\")\n",
        "spark.read.format(\"delta\").option(\"versionAsOf\",0).load(TRIPS_PATH).show()"
      ],
      "metadata": {
        "colab": {
          "base_uri": "https://localhost:8080/"
        },
        "id": "IKOwmPkDLWD2",
        "outputId": "ec1a2e09-f13a-465e-d49d-07d3660fe4b6"
      },
      "execution_count": 45,
      "outputs": [
        {
          "output_type": "stream",
          "name": "stdout",
          "text": [
            "\n",
            "Version 0 data:\n",
            "+-------+--------+---------+---------+-----------+-----+----+-------------------+\n",
            "|trip_id|rider_id|driver_id|     city|distance_km| fare| tip|                 ts|\n",
            "+-------+--------+---------+---------+-----------+-----+----+-------------------+\n",
            "|   1004|    R001|     D010|Bengaluru|       18.9|480.0|25.0|2025-08-08 08:45:00|\n",
            "|   1005|    R004|     D013|  Chennai|       10.0|260.0|15.0|2025-08-08 09:05:00|\n",
            "|   1006|    R005|     D012|     Pune|        2.2| 70.0| 0.0|2025-08-08 09:10:00|\n",
            "|   1001|    R001|     D010|Bengaluru|       12.4|320.0|20.0|2025-08-08 08:05:00|\n",
            "|   1002|    R002|     D011|Hyderabad|        6.2|150.0|10.0|2025-08-08 08:15:00|\n",
            "|   1003|    R003|     D012|     Pune|        3.5| 90.0| 0.0|2025-08-08 08:20:00|\n",
            "+-------+--------+---------+---------+-----------+-----+----+-------------------+\n",
            "\n"
          ]
        }
      ]
    },
    {
      "cell_type": "markdown",
      "source": [
        "#Partitioned Rewrite"
      ],
      "metadata": {
        "id": "WnTDv478Le7n"
      }
    },
    {
      "cell_type": "code",
      "source": [
        "print(\"\\n===  Partitioned Rewrite ===\")\n",
        "PART_PATH = f\"{BASE}/trips_partitioned\"\n",
        "delta_trips.toDF().write.format(\"delta\").mode(\"overwrite\").partitionBy(\"city\").save(PART_PATH)\n",
        "spark.read.format(\"delta\").load(PART_PATH).filter(\"city='Bengaluru'\").show()"
      ],
      "metadata": {
        "colab": {
          "base_uri": "https://localhost:8080/"
        },
        "id": "F3hwqIaGHbwE",
        "outputId": "0081ab1b-8cff-47a2-ee4f-79f6f7c7f9c0"
      },
      "execution_count": 46,
      "outputs": [
        {
          "output_type": "stream",
          "name": "stdout",
          "text": [
            "\n",
            "===  Partitioned Rewrite ===\n",
            "+-------+--------+---------+---------+-----------+-----+----+-------------------+\n",
            "|trip_id|rider_id|driver_id|     city|distance_km| fare| tip|                 ts|\n",
            "+-------+--------+---------+---------+-----------+-----+----+-------------------+\n",
            "|   1004|    R001|     D010|Bengaluru|       18.9|500.0|30.0|2025-08-08 08:45:00|\n",
            "|   1001|    R001|     D010|Bengaluru|       12.4|320.0|20.0|2025-08-08 08:05:00|\n",
            "+-------+--------+---------+---------+-----------+-----+----+-------------------+\n",
            "\n"
          ]
        }
      ]
    },
    {
      "cell_type": "markdown",
      "source": [
        "#Incremental Load"
      ],
      "metadata": {
        "id": "6awf9JT-LpKu"
      }
    },
    {
      "cell_type": "code",
      "source": [
        "print(\"\\n=== Incremental Load ===\")\n",
        "incremental_rows = [\n",
        "    (1008,\"R007\",\"D013\",\"Mumbai\", 5.0, 200.0, 15.0, datetime.datetime(2025,8,8,10,0,0)),\n",
        "    (1009,\"R008\",\"D012\",\"Mumbai\", 7.0, 250.0, 20.0, datetime.datetime(2025,8,8,10,5,0))\n",
        "]\n",
        "spark.createDataFrame(incremental_rows, trip_schema).write.format(\"delta\").mode(\"append\").save(TRIPS_PATH)\n",
        "delta_trips = DeltaTable.forPath(spark, TRIPS_PATH)\n",
        "delta_trips.toDF().groupBy(\"city\").agg(F.sum(F.col(\"fare\")+F.col(\"tip\")).alias(\"total_revenue\")).show()\n"
      ],
      "metadata": {
        "colab": {
          "base_uri": "https://localhost:8080/"
        },
        "id": "uO_qhWHUHjmK",
        "outputId": "933d7dcf-92b5-403a-eac6-cd4fbbdb37ab"
      },
      "execution_count": 47,
      "outputs": [
        {
          "output_type": "stream",
          "name": "stdout",
          "text": [
            "\n",
            "=== Incremental Load ===\n",
            "+---------+-------------+\n",
            "|     city|total_revenue|\n",
            "+---------+-------------+\n",
            "|  Chennai|        275.0|\n",
            "|     Pune|        160.0|\n",
            "|Bengaluru|        870.0|\n",
            "|Hyderabad|        352.0|\n",
            "|   Mumbai|        485.0|\n",
            "+---------+-------------+\n",
            "\n"
          ]
        }
      ]
    },
    {
      "cell_type": "markdown",
      "source": [
        "#Simple Streaming"
      ],
      "metadata": {
        "id": "NppH3JzZL1LV"
      }
    },
    {
      "cell_type": "code",
      "source": [
        "print(\"\\n=== Simple Streaming ===\")\n",
        "stream_df = spark.readStream.format(\"delta\").load(TRIPS_PATH)\n",
        "query = stream_df.writeStream.format(\"console\").outputMode(\"append\").trigger(processingTime=\"5 seconds\").start()\n",
        "\n",
        "\n",
        "import time\n",
        "time.sleep(5)\n",
        "new_trip = [(1010,\"R009\",\"D011\",\"Mumbai\", 6.0, 220.0, 18.0, datetime.datetime(2025,8,8,10,10,0))]\n",
        "spark.createDataFrame(new_trip, trip_schema).write.format(\"delta\").mode(\"append\").save(TRIPS_PATH)\n",
        "\n",
        "time.sleep(10)\n",
        "query.stop()"
      ],
      "metadata": {
        "colab": {
          "base_uri": "https://localhost:8080/"
        },
        "id": "l98A2L_HHreh",
        "outputId": "7bc9ca7b-2785-434d-a985-cd99ef785f01"
      },
      "execution_count": 48,
      "outputs": [
        {
          "output_type": "stream",
          "name": "stdout",
          "text": [
            "\n",
            "=== Simple Streaming ===\n"
          ]
        }
      ]
    },
    {
      "cell_type": "markdown",
      "source": [
        "#Visualization"
      ],
      "metadata": {
        "id": "PAbvq3gWMCV-"
      }
    },
    {
      "cell_type": "code",
      "source": [
        "print(\"\\n===  Visualization ===\")\n",
        "import matplotlib.pyplot as plt\n",
        "city_revenue = gold_df.groupBy(\"city\").agg(F.sum(\"total_amount\").alias(\"total_revenue\")).toPandas()\n",
        "plt.bar(city_revenue[\"city\"], city_revenue[\"total_revenue\"])\n",
        "plt.title(\"City vs Total Revenue\")\n",
        "plt.show()\n",
        "\n"
      ],
      "metadata": {
        "colab": {
          "base_uri": "https://localhost:8080/",
          "height": 487
        },
        "id": "cZStqaXmImRH",
        "outputId": "37ed617f-dafe-4346-c319-b5c04892c36a"
      },
      "execution_count": 49,
      "outputs": [
        {
          "output_type": "stream",
          "name": "stdout",
          "text": [
            "\n",
            "===  Visualization ===\n"
          ]
        },
        {
          "output_type": "display_data",
          "data": {
            "text/plain": [
              "<Figure size 640x480 with 1 Axes>"
            ],
            "image/png": "[encoded data removed]"
          },
          "metadata": {}
        }
      ]
    },
    {
      "cell_type": "code",
      "source": [
        "hourly_rev = gold_df.withColumn(\"hour\", F.hour(\"ts\")) \\\n",
        "                    .groupBy(\"hour\").agg(F.sum(\"total_amount\").alias(\"total_revenue\")).toPandas()\n",
        "plt.plot(hourly_rev[\"hour\"], hourly_rev[\"total_revenue\"], marker=\"o\")\n",
        "plt.title(\"Hourly Revenue\")\n",
        "plt.show()"
      ],
      "metadata": {
        "colab": {
          "base_uri": "https://localhost:8080/",
          "height": 452
        },
        "id": "vLssJoqtItAu",
        "outputId": "d6e04c13-ef40-4921-9a7a-ce2bf9f8eded"
      },
      "execution_count": 50,
      "outputs": [
        {
          "output_type": "display_data",
          "data": {
            "text/plain": [
              "<Figure size 640x480 with 1 Axes>"
            ],
            "image/png": "[encoded data removed]"
          },
          "metadata": {}
        }
      ]
    },
    {
      "cell_type": "markdown",
      "source": [
        "#Managed vs Unmanaged Cleanup"
      ],
      "metadata": {
        "id": "_7vhdD3TMK7M"
      }
    },
    {
      "cell_type": "code",
      "source": [
        "print(\"\\n=== Managed vs Unmanaged Cleanup ===\")\n",
        "spark.sql(\"DROP TABLE trips_managed\")\n",
        "spark.sql(\"DROP TABLE drivers_ext\")\n",
        "print(\"Managed table data removed; unmanaged data still present at:\", DRIVERS_PATH)"
      ],
      "metadata": {
        "colab": {
          "base_uri": "https://localhost:8080/"
        },
        "id": "rI0gfziXH0Ra",
        "outputId": "6fc6aace-b8c7-4dc1-a86f-e7157a254e70"
      },
      "execution_count": 51,
      "outputs": [
        {
          "output_type": "stream",
          "name": "stdout",
          "text": [
            "\n",
            "=== Managed vs Unmanaged Cleanup ===\n",
            "Managed table data removed; unmanaged data still present at: /tmp/delta/ride_hailing/drivers\n"
          ]
        }
      ]
    },
    {
      "cell_type": "markdown",
      "source": [
        "#Constraint/Quality Check"
      ],
      "metadata": {
        "id": "PcmsI9T6MSMl"
      }
    },
    {
      "cell_type": "code",
      "source": [
        "print(\"\\n===  Constraint/Quality Check ===\")\n",
        "bad_data = [(1011,\"R010\",\"D010\",\"Chennai\", 5.0, 200.0, -5.0, datetime.datetime(2025,8,8,11,0,0))]\n",
        "df_bad = spark.createDataFrame(bad_data, trip_schema)\n",
        "df_good = df_bad.filter(F.col(\"tip\") >= 0)\n",
        "df_good.show()"
      ],
      "metadata": {
        "colab": {
          "base_uri": "https://localhost:8080/"
        },
        "id": "2Y7aoJg6H6DR",
        "outputId": "f104e6d4-1554-4e75-8938-2fe80ff6c081"
      },
      "execution_count": 52,
      "outputs": [
        {
          "output_type": "stream",
          "name": "stdout",
          "text": [
            "\n",
            "===  Constraint/Quality Check ===\n",
            "+-------+--------+---------+----+-----------+----+---+---+\n",
            "|trip_id|rider_id|driver_id|city|distance_km|fare|tip| ts|\n",
            "+-------+--------+---------+----+-----------+----+---+---+\n",
            "+-------+--------+---------+----+-----------+----+---+---+\n",
            "\n"
          ]
        }
      ]
    },
    {
      "cell_type": "markdown",
      "source": [
        "#Convert Parquet → Delta"
      ],
      "metadata": {
        "id": "7JwoQ5HGMY5L"
      }
    },
    {
      "cell_type": "code",
      "source": [
        "print(\"\\n=== Convert Parquet → Delta ===\")\n",
        "PARQ_PATH = f\"{BASE}/parquet_subset\"\n",
        "delta_trips.toDF().limit(2).write.mode(\"overwrite\").parquet(PARQ_PATH)\n",
        "spark.sql(f\"CONVERT TO DELTA parquet.`{PARQ_PATH}`\")\n",
        "spark.read.format(\"delta\").load(PARQ_PATH).show()"
      ],
      "metadata": {
        "colab": {
          "base_uri": "https://localhost:8080/"
        },
        "id": "oPoEcJvAH9LK",
        "outputId": "25319c4c-d69f-44ec-d900-82d71c16e189"
      },
      "execution_count": 54,
      "outputs": [
        {
          "output_type": "stream",
          "name": "stdout",
          "text": [
            "\n",
            "=== Convert Parquet → Delta ===\n",
            "+-------+--------+---------+------+-----------+-----+----+-------------------+\n",
            "|trip_id|rider_id|driver_id|  city|distance_km| fare| tip|                 ts|\n",
            "+-------+--------+---------+------+-----------+-----+----+-------------------+\n",
            "|   1008|    R007|     D013|Mumbai|        5.0|200.0|15.0|2025-08-08 10:00:00|\n",
            "|   1009|    R008|     D012|Mumbai|        7.0|250.0|20.0|2025-08-08 10:05:00|\n",
            "+-------+--------+---------+------+-----------+-----+----+-------------------+\n",
            "\n"
          ]
        }
      ]
    },
    {
      "cell_type": "markdown",
      "source": [
        "#Bonus KPI Dashboard"
      ],
      "metadata": {
        "id": "jPcqFllZMuBk"
      }
    },
    {
      "cell_type": "code",
      "source": [
        "print(\"\\n===  Bonus KPI Dashboard ===\")\n",
        "gold_pd = gold_df.toPandas()\n",
        "print(\"Total Revenue:\", gold_pd[\"total_amount\"].sum())\n",
        "gold_pd.groupby(\"city\")[\"total_amount\"].sum().plot(kind=\"bar\", title=\"Trips per City\")\n",
        "plt.show()\n",
        "gold_pd.groupby(\"driver_name\")[\"total_amount\"].sum().nlargest(3).plot(kind=\"bar\", title=\"Top 3 Drivers by Revenue\")\n",
        "plt.show()\n",
        "gold_pd.groupby(gold_pd[\"ts\"].dt.hour)[\"total_amount\"].sum().plot(kind=\"line\", title=\"Revenue by Hour\")\n",
        "plt.show()"
      ],
      "metadata": {
        "colab": {
          "base_uri": "https://localhost:8080/",
          "height": 1000
        },
        "id": "82EZdFvnH-cB",
        "outputId": "39b3e2b4-ed18-471f-c3ab-ca41dff7cc15"
      },
      "execution_count": 55,
      "outputs": [
        {
          "output_type": "stream",
          "name": "stdout",
          "text": [
            "\n",
            "===  Bonus KPI Dashboard ===\n",
            "Total Revenue: 2380.0\n"
          ]
        },
        {
          "output_type": "display_data",
          "data": {
            "text/plain": [
              "<Figure size 640x480 with 1 Axes>"
            ],
            "image/png": "[encoded data removed]"
          },
          "metadata": {}
        },
        {
          "output_type": "display_data",
          "data": {
            "text/plain": [
              "<Figure size 640x480 with 1 Axes>"
            ],
            "image/png": "[encoded data removed]"
          },
          "metadata": {}
        },
        {
          "output_type": "display_data",
          "data": {
            "text/plain": [
              "<Figure size 640x480 with 1 Axes>"
            ],
            "image/png": "[encoded data removed]"
          },
          "metadata": {}
        }
      ]
    }
  ]
}