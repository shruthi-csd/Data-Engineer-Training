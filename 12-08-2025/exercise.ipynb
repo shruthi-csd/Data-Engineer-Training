{
  "nbformat": 4,
  "nbformat_minor": 0,
  "metadata": {
    "colab": {
      "provenance": []
    },
    "kernelspec": {
      "name": "python3",
      "display_name": "Python 3"
    },
    "language_info": {
      "name": "python"
    }
  },
  "cells": [
    {
      "cell_type": "code",
      "source": [
        "from pyspark.sql import SparkSession\n",
        "from pyspark.sql.types import StructType, StructField, StringType, IntegerType, DoubleType\n",
        "\n",
        "spark = SparkSession.builder.getOrCreate()\n",
        "\n",
        "# Schema\n",
        "schema = StructType([\n",
        "    StructField(\"order_id\", StringType()),\n",
        "    StructField(\"region\", StringType()),\n",
        "    StructField(\"category\", StringType()),\n",
        "    StructField(\"quantity\", IntegerType()),\n",
        "    StructField(\"price\", DoubleType())\n",
        "])\n",
        "\n",
        "# Inline data\n",
        "data = [\n",
        "    (\"O001\", \"South\", \"Electronics\", 3, 15000.0),\n",
        "    (\"O002\", \"North\", \"Clothing\", 5, 2000.0),\n",
        "    (\"O003\", \"East\", \"Furniture\", 2, 12000.0),\n",
        "    (\"O004\", \"West\", \"Electronics\", 1, 18000.0),\n",
        "    (\"O005\", \"North\", \"Furniture\", 4, 9000.0),\n",
        "    (\"O006\", \"South\", \"Clothing\", 6, 2500.0),\n",
        "    (\"O007\", \"East\", \"Electronics\", 2, 17000.0)\n",
        "]\n",
        "\n",
        "df = spark.createDataFrame(data, schema)\n",
        "df.show()\n"
      ],
      "metadata": {
        "colab": {
          "base_uri": "https://localhost:8080/"
        },
        "id": "TDH1oIpBeMIc",
        "outputId": "0c198777-9a29-4f39-90f3-ee0b2dc7cf6a"
      },
      "execution_count": 3,
      "outputs": [
        {
          "output_type": "stream",
          "name": "stdout",
          "text": [
            "+--------+------+-----------+--------+-------+\n",
            "|order_id|region|   category|quantity|  price|\n",
            "+--------+------+-----------+--------+-------+\n",
            "|    O001| South|Electronics|       3|15000.0|\n",
            "|    O002| North|   Clothing|       5| 2000.0|\n",
            "|    O003|  East|  Furniture|       2|12000.0|\n",
            "|    O004|  West|Electronics|       1|18000.0|\n",
            "|    O005| North|  Furniture|       4| 9000.0|\n",
            "|    O006| South|   Clothing|       6| 2500.0|\n",
            "|    O007|  East|Electronics|       2|17000.0|\n",
            "+--------+------+-----------+--------+-------+\n",
            "\n"
          ]
        }
      ]
    },
    {
      "cell_type": "code",
      "source": [
        "from pyspark.sql.functions import col, sum as _sum, count\n",
        "\n",
        "df = df.withColumn(\"revenue\", col(\"quantity\") * col(\"price\"))\n",
        "category_summary = df.groupBy(\"category\").agg(\n",
        "    _sum(\"quantity\").alias(\"total_quantity\"),\n",
        "    _sum(\"revenue\").alias(\"avg_order_value\")\n",
        "\n",
        ")\n",
        "category_summary.show()\n",
        "region_summary = df.groupBy(\"region\").agg(\n",
        "    count(\"*\").alias(\"total_orders\"),\n",
        "    _sum(\"revenue\").alias(\"total_revenue\")\n",
        ")\n",
        "region_summary.show()"
      ],
      "metadata": {
        "colab": {
          "base_uri": "https://localhost:8080/"
        },
        "id": "9hi5yTfjf_e4",
        "outputId": "ae5fb9d5-eb8e-44da-82f7-9c3ae79b88d6"
      },
      "execution_count": 7,
      "outputs": [
        {
          "output_type": "stream",
          "name": "stdout",
          "text": [
            "+-----------+--------------+---------------+\n",
            "|   category|total_quantity|avg_order_value|\n",
            "+-----------+--------------+---------------+\n",
            "|Electronics|             6|        97000.0|\n",
            "|   Clothing|            11|        25000.0|\n",
            "|  Furniture|             6|        60000.0|\n",
            "+-----------+--------------+---------------+\n",
            "\n",
            "+------+------------+-------------+\n",
            "|region|total_orders|total_revenue|\n",
            "+------+------------+-------------+\n",
            "| South|           2|      60000.0|\n",
            "|  East|           2|      58000.0|\n",
            "| North|           2|      46000.0|\n",
            "|  West|           1|      18000.0|\n",
            "+------+------------+-------------+\n",
            "\n"
          ]
        }
      ]
    },
    {
      "cell_type": "code",
      "source": [
        "display(category_summary)\n",
        "display(region_summary)"
      ],
      "metadata": {
        "colab": {
          "base_uri": "https://localhost:8080/",
          "height": 52
        },
        "id": "2Djp8R2OlndS",
        "outputId": "a5c6ddfc-88c7-43ad-a6df-eeb3042fbfd9"
      },
      "execution_count": 12,
      "outputs": [
        {
          "output_type": "display_data",
          "data": {
            "text/plain": [
              "DataFrame[category: string, total_quantity: bigint, avg_order_value: double]"
            ]
          },
          "metadata": {}
        },
        {
          "output_type": "display_data",
          "data": {
            "text/plain": [
              "DataFrame[region: string, total_orders: bigint, total_revenue: double]"
            ]
          },
          "metadata": {}
        }
      ]
    },
    {
      "cell_type": "code",
      "source": [
        "import pandas as pd\n",
        "import matplotlib.pyplot as plt\n",
        "\n",
        "pdf = category_summary.toPandas()\n",
        "plt.bar(pdf[\"category\"], pdf[\"avg_order_value\"])\n",
        "plt.xlabel(\"Category\")\n",
        "plt.ylabel(\"Total Revenue\")\n",
        "plt.title(\"Revenue by Category\")\n",
        "plt.show()"
      ],
      "metadata": {
        "colab": {
          "base_uri": "https://localhost:8080/",
          "height": 472
        },
        "id": "wwEd32FUl293",
        "outputId": "9b9b1c73-35a2-46fc-a565-b1a1a8083911"
      },
      "execution_count": 13,
      "outputs": [
        {
          "output_type": "display_data",
          "data": {
            "text/plain": [
              "<Figure size 640x480 with 1 Axes>"
            ],
            "image/png": "[encoded data removed]"
          },
          "metadata": {}
        }
      ]
    }
  ]
}