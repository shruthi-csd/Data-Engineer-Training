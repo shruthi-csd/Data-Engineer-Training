{
  "nbformat": 4,
  "nbformat_minor": 0,
  "metadata": {
    "colab": {
      "provenance": []
    },
    "kernelspec": {
      "name": "python3",
      "display_name": "Python 3"
    },
    "language_info": {
      "name": "python"
    }
  },
  "cells": [
    {
      "cell_type": "code",
      "source": [
        "!pip install delta-spark==3.2.0 -q\n",
        "import pyspark\n",
        "from delta import *\n",
        "from pyspark.sql.functions import *\n",
        "\n",
        "# Create a SparkSession with Delta Lake extensions\n",
        "# The '.config(...)' lines are crucial for enabling Delta Lake's features\n",
        "builder = pyspark.sql.SparkSession.builder.appName(\"DeltaTutorial\") \\\n",
        "    .config(\"spark.sql.extensions\", \"io.delta.sql.DeltaSparkSessionExtension\") \\\n",
        "    .config(\"spark.sql.catalog.spark_catalog\", \"org.apache.spark.sql.delta.catalog.DeltaCatalog\")\n",
        "\n",
        "# Get or create the SparkSession\n",
        "spark = configure_spark_with_delta_pip(builder).getOrCreate()\n",
        "\n",
        "print(\"Spark and Delta Lake are ready!\")"
      ],
      "metadata": {
        "colab": {
          "base_uri": "https://localhost:8080/"
        },
        "id": "IwncZMJ6o9ka",
        "outputId": "852d6a39-dd74-4b46-baef-99fb023fcbba"
      },
      "execution_count": null,
      "outputs": [
        {
          "output_type": "stream",
          "name": "stdout",
          "text": [
            "\u001b[2K     \u001b[90m━━━━━━━━━━━━━━━━━━━━━━━━━━━━━━━━━━━━━━━\u001b[0m \u001b[32m317.4/317.4 MB\u001b[0m \u001b[31m4.7 MB/s\u001b[0m eta \u001b[36m0:00:00\u001b[0m\n",
            "\u001b[?25h  Preparing metadata (setup.py) ... \u001b[?25l\u001b[?25hdone\n",
            "  Building wheel for pyspark (setup.py) ... \u001b[?25l\u001b[?25hdone\n",
            "Spark and Delta Lake are ready!\n"
          ]
        }
      ]
    },
    {
      "cell_type": "code",
      "source": [
        "spark.sql(\"DROP TABLE IF EXISTS managed_tables\")\n",
        "\n"
      ],
      "metadata": {
        "colab": {
          "base_uri": "https://localhost:8080/"
        },
        "id": "XTMigQU3pQr1",
        "outputId": "00d6336f-2ce0-4257-9ddc-ca3922028bb3"
      },
      "execution_count": null,
      "outputs": [
        {
          "output_type": "execute_result",
          "data": {
            "text/plain": [
              "DataFrame[]"
            ]
          },
          "metadata": {},
          "execution_count": 5
        }
      ]
    },
    {
      "cell_type": "code",
      "source": [
        "\n",
        "!pip install pyspark==3.5.0\n",
        "\n",
        "\n",
        "from pyspark.sql import SparkSession\n",
        "\n",
        "spark = SparkSession.builder \\\n",
        "    .appName(\"CSVExample\") \\\n",
        "    .config(\"spark.sql.catalogImplementation\", \"in-memory\") \\\n",
        "    .getOrCreate()\n",
        "\n",
        "\n",
        "import pandas as pd\n",
        "import os\n",
        "\n",
        "data = {\n",
        "    \"Name\": [\"Amit\", \"Priya\", \"Rahul\"],\n",
        "    \"Age\": [28, 32, 25]\n",
        "}\n",
        "csv_path = \"/content/sample_people.csv\"\n",
        "pd.DataFrame(data).to_csv(csv_path, index=False)\n",
        "print(f\"CSV created at: {csv_path}\")\n",
        "\n",
        "\n",
        "df_spark = spark.read.csv(csv_path, header=True, inferSchema=True)\n",
        "df_spark.show()\n",
        "\n",
        "if os.path.exists(csv_path):\n",
        "    os.remove(csv_path)\n",
        "    print(\"CSV file deleted successfully.\")\n",
        "else:\n",
        "    print(\"CSV file not found.\")\n"
      ],
      "metadata": {
        "colab": {
          "base_uri": "https://localhost:8080/"
        },
        "id": "gGQmoh1NrVHM",
        "outputId": "f67cb1f8-d47b-4f1d-92f2-8d00269236e2"
      },
      "execution_count": null,
      "outputs": [
        {
          "output_type": "stream",
          "name": "stdout",
          "text": [
            "Requirement already satisfied: pyspark==3.5.0 in /usr/local/lib/python3.11/dist-packages (3.5.0)\n",
            "Requirement already satisfied: py4j==0.10.9.7 in /usr/local/lib/python3.11/dist-packages (from pyspark==3.5.0) (0.10.9.7)\n",
            "CSV created at: /content/sample_people.csv\n",
            "+-----+---+\n",
            "| Name|Age|\n",
            "+-----+---+\n",
            "| Amit| 28|\n",
            "|Priya| 32|\n",
            "|Rahul| 25|\n",
            "+-----+---+\n",
            "\n",
            "CSV file deleted successfully.\n"
          ]
        }
      ]
    }
  ]
}