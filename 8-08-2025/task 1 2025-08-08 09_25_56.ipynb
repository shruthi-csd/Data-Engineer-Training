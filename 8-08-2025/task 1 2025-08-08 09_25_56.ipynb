{
 "cells": [
  {
   "cell_type": "code",
   "execution_count": 0,
   "metadata": {
    "application/vnd.databricks.v1+cell": {
     "cellMetadata": {
      "byteLimit": 2048000,
      "rowLimit": 10000
     },
     "inputWidgets": {},
     "nuid": "8cf1e3c3-ecb6-450c-92dc-1bc4d28aff8c",
     "showTitle": false,
     "tableResultSettingsMap": {},
     "title": ""
    }
   },
   "outputs": [
    {
     "output_type": "stream",
     "name": "stdout",
     "output_type": "stream",
     "text": [
      "+-----+-----+\n| name|score|\n+-----+-----+\n|Ankit|   85|\n|Divya|   92|\n|Rahul|   78|\n|Sneha|   65|\n|Aryan|   55|\n| Isha|   88|\n|Tanvi|   91|\n|Kunal|   72|\n|Megha|   60|\n|Rohan|   40|\n+-----+-----+\n\n"
     ]
    }
   ],
   "source": [
    "from pyspark.sql import functions as F\n",
    "\n",
    "data = [\n",
    "    (1, \"Ankit\", \"Math\", 85, \"A\"),\n",
    "    (2, \"Divya\", \"Science\", 92, \"A\"),\n",
    "    (3, \"Rahul\", \"English\", 78, \"B\"),\n",
    "    (4, \"Sneha\", \"Math\", 65, \"C\"),\n",
    "    (5, \"Aryan\", \"Science\", 55, \"D\"),\n",
    "    (6, \"Isha\", \"English\", 88, \"A\"),\n",
    "    (7, \"Tanvi\", \"Math\", 91, \"A\"),\n",
    "    (8, \"Kunal\", \"Science\", 72, \"B\"),\n",
    "    (9, \"Megha\", \"English\", 60, \"C\"),\n",
    "    (10, \"Rohan\", \"Math\", 40, \"F\")\n",
    "]\n",
    "columns = [\"student_id\", \"name\", \"subject\", \"score\", \"grade\"]\n",
    "\n",
    "df = spark.createDataFrame(data, columns)\n",
    "\n",
    "delta_path = \"/tmp/delta/student_scores\"\n",
    "df.write.format(\"delta\").mode(\"overwrite\").save(delta_path)\n",
    "\n",
    "\n",
    "df_delta = spark.read.format(\"delta\").load(delta_path)\n",
    "\n",
    "\n",
    "df_delta.createOrReplaceTempView(\"student_scores\")\n",
    "\n",
    "spark.sql(\"SELECT name, score FROM student_scores\").show()\n"
   ]
  },
  {
   "cell_type": "code",
   "execution_count": 0,
   "metadata": {
    "application/vnd.databricks.v1+cell": {
     "cellMetadata": {
      "byteLimit": 2048000,
      "rowLimit": 10000
     },
     "inputWidgets": {},
     "nuid": "fb0ecb8a-800b-4533-979f-ff6b771c0122",
     "showTitle": false,
     "tableResultSettingsMap": {},
     "title": ""
    }
   },
   "outputs": [
    {
     "output_type": "stream",
     "name": "stdout",
     "output_type": "stream",
     "text": [
      "+-----+-----+\n| name|score|\n+-----+-----+\n|Ankit|   85|\n|Divya|   92|\n|Rahul|   78|\n|Sneha|   65|\n|Aryan|   55|\n| Isha|   88|\n|Tanvi|   91|\n|Kunal|   72|\n|Megha|   60|\n|Rohan|   40|\n+-----+-----+\n\n"
     ]
    }
   ],
   "source": [
    "spark.sql(\"SELECT name, score FROM student_scores\").show()\n"
   ]
  },
  {
   "cell_type": "code",
   "execution_count": 0,
   "metadata": {
    "application/vnd.databricks.v1+cell": {
     "cellMetadata": {
      "byteLimit": 2048000,
      "rowLimit": 10000
     },
     "inputWidgets": {},
     "nuid": "2c36de53-a14e-423d-bb36-86c02d724e1b",
     "showTitle": false,
     "tableResultSettingsMap": {},
     "title": ""
    }
   },
   "outputs": [
    {
     "output_type": "stream",
     "name": "stdout",
     "output_type": "stream",
     "text": [
      "+-------+-------------+\n|subject|student_count|\n+-------+-------------+\n|Science|            3|\n|   Math|            4|\n|English|            3|\n+-------+-------------+\n\n"
     ]
    }
   ],
   "source": [
    "spark.sql(\"\"\"\n",
    "SELECT subject, COUNT(*) AS student_count\n",
    "FROM student_scores\n",
    "GROUP BY subject\n",
    "\"\"\").show()\n"
   ]
  },
  {
   "cell_type": "code",
   "execution_count": 0,
   "metadata": {
    "application/vnd.databricks.v1+cell": {
     "cellMetadata": {
      "byteLimit": 2048000,
      "rowLimit": 10000
     },
     "inputWidgets": {},
     "nuid": "4d097d36-1464-4136-a035-2d9898bc8450",
     "showTitle": false,
     "tableResultSettingsMap": {},
     "title": ""
    }
   },
   "outputs": [
    {
     "output_type": "stream",
     "name": "stdout",
     "output_type": "stream",
     "text": [
      "+-------+-----------------+\n|subject|        avg_score|\n+-------+-----------------+\n|Science|             73.0|\n|   Math|            70.25|\n|English|75.33333333333333|\n+-------+-----------------+\n\n"
     ]
    }
   ],
   "source": [
    "spark.sql(\"\"\"\n",
    "SELECT subject, AVG(score) AS avg_score\n",
    "FROM student_scores\n",
    "GROUP BY subject\n",
    "\"\"\").show()\n"
   ]
  },
  {
   "cell_type": "code",
   "execution_count": 0,
   "metadata": {
    "application/vnd.databricks.v1+cell": {
     "cellMetadata": {
      "byteLimit": 2048000,
      "rowLimit": 10000
     },
     "inputWidgets": {},
     "nuid": "5fb163a6-f498-418d-a93d-6ba6edc187d6",
     "showTitle": false,
     "tableResultSettingsMap": {},
     "title": ""
    }
   },
   "outputs": [
    {
     "output_type": "stream",
     "name": "stdout",
     "output_type": "stream",
     "text": [
      "+-----+-----+\n| name|score|\n+-----+-----+\n|Ankit|   85|\n|Divya|   92|\n| Isha|   88|\n|Tanvi|   91|\n+-----+-----+\n\n"
     ]
    }
   ],
   "source": [
    "spark.sql(\"\"\"\n",
    "SELECT name, score\n",
    "FROM student_scores\n",
    "WHERE score > 80\n",
    "\"\"\").show()\n"
   ]
  },
  {
   "cell_type": "code",
   "execution_count": 0,
   "metadata": {
    "application/vnd.databricks.v1+cell": {
     "cellMetadata": {
      "byteLimit": 2048000,
      "rowLimit": 10000
     },
     "inputWidgets": {},
     "nuid": "bc99b633-3a21-4bc2-8bec-a055383ebdf0",
     "showTitle": false,
     "tableResultSettingsMap": {},
     "title": ""
    }
   },
   "outputs": [
    {
     "output_type": "stream",
     "name": "stdout",
     "output_type": "stream",
     "text": [
      "+-------+-----+-----+\n|subject| name|score|\n+-------+-----+-----+\n|English| Isha|   88|\n|   Math|Tanvi|   91|\n|Science|Divya|   92|\n+-------+-----+-----+\n\n"
     ]
    }
   ],
   "source": [
    "spark.sql(\"\"\"\n",
    "SELECT subject, name, score\n",
    "FROM (\n",
    "    SELECT subject, name, score,\n",
    "           RANK() OVER (PARTITION BY subject ORDER BY score DESC) AS rnk\n",
    "    FROM student_scores\n",
    ")\n",
    "WHERE rnk = 1\n",
    "\"\"\").show()\n"
   ]
  },
  {
   "cell_type": "code",
   "execution_count": 0,
   "metadata": {
    "application/vnd.databricks.v1+cell": {
     "cellMetadata": {
      "byteLimit": 2048000,
      "rowLimit": 10000
     },
     "inputWidgets": {},
     "nuid": "bdfafe9f-de68-4b53-8aec-23cc3beefe67",
     "showTitle": false,
     "tableResultSettingsMap": {},
     "title": ""
    }
   },
   "outputs": [
    {
     "output_type": "stream",
     "name": "stdout",
     "output_type": "stream",
     "text": [
      "+-----+-------------+\n|grade|student_count|\n+-----+-------------+\n|    F|            1|\n|    B|            2|\n|    D|            1|\n|    C|            2|\n|    A|            4|\n+-----+-------------+\n\n"
     ]
    }
   ],
   "source": [
    "spark.sql(\"\"\"\n",
    "SELECT grade, COUNT(*) AS student_count\n",
    "FROM student_scores\n",
    "GROUP BY grade\n",
    "\"\"\").show()\n"
   ]
  },
  {
   "cell_type": "code",
   "execution_count": 0,
   "metadata": {
    "application/vnd.databricks.v1+cell": {
     "cellMetadata": {
      "byteLimit": 2048000,
      "rowLimit": 10000
     },
     "inputWidgets": {},
     "nuid": "b28fbaef-eaf8-421d-b037-cb9b8744a0f8",
     "showTitle": false,
     "tableResultSettingsMap": {},
     "title": ""
    }
   },
   "outputs": [
    {
     "output_type": "stream",
     "name": "stdout",
     "output_type": "stream",
     "text": [
      "+-----+\n| name|\n+-----+\n|Rohan|\n+-----+\n\n"
     ]
    }
   ],
   "source": [
    "spark.sql(\"\"\"\n",
    "SELECT name\n",
    "FROM student_scores\n",
    "WHERE grade = 'F'\n",
    "\"\"\").show()\n"
   ]
  },
  {
   "cell_type": "code",
   "execution_count": 0,
   "metadata": {
    "application/vnd.databricks.v1+cell": {
     "cellMetadata": {
      "byteLimit": 2048000,
      "rowLimit": 10000
     },
     "inputWidgets": {},
     "nuid": "4a5e2dbe-a1e3-4801-9283-2e932229a931",
     "showTitle": false,
     "tableResultSettingsMap": {},
     "title": ""
    }
   },
   "outputs": [
    {
     "output_type": "stream",
     "name": "stdout",
     "output_type": "stream",
     "text": [
      "+-----+-----+\n| name|score|\n+-----+-----+\n|Ankit|   85|\n|Rahul|   78|\n|Sneha|   65|\n| Isha|   88|\n|Kunal|   72|\n|Megha|   60|\n+-----+-----+\n\n"
     ]
    }
   ],
   "source": [
    "spark.sql(\"\"\"\n",
    "SELECT name, score\n",
    "FROM student_scores\n",
    "WHERE score BETWEEN 60 AND 90\n",
    "\"\"\").show()\n"
   ]
  },
  {
   "cell_type": "code",
   "execution_count": 0,
   "metadata": {
    "application/vnd.databricks.v1+cell": {
     "cellMetadata": {
      "byteLimit": 2048000,
      "rowLimit": 10000
     },
     "inputWidgets": {},
     "nuid": "f9fbef13-4d1a-45ae-965e-48d442339748",
     "showTitle": false,
     "tableResultSettingsMap": {},
     "title": ""
    }
   },
   "outputs": [
    {
     "output_type": "stream",
     "name": "stdout",
     "output_type": "stream",
     "text": [
      "+-------+-----+-----+----+\n|subject| name|score|rank|\n+-------+-----+-----+----+\n|English| Isha|   88|   1|\n|English|Rahul|   78|   2|\n|English|Megha|   60|   3|\n|   Math|Tanvi|   91|   1|\n|   Math|Ankit|   85|   2|\n|   Math|Sneha|   65|   3|\n|   Math|Rohan|   40|   4|\n|Science|Divya|   92|   1|\n|Science|Kunal|   72|   2|\n|Science|Aryan|   55|   3|\n+-------+-----+-----+----+\n\n"
     ]
    }
   ],
   "source": [
    "spark.sql(\"\"\"\n",
    "SELECT subject, name, score,\n",
    "       RANK() OVER (PARTITION BY subject ORDER BY score DESC) AS rank\n",
    "FROM student_scores\n",
    "\"\"\").show()\n"
   ]
  },
  {
   "cell_type": "code",
   "execution_count": 0,
   "metadata": {
    "application/vnd.databricks.v1+cell": {
     "cellMetadata": {
      "byteLimit": 2048000,
      "rowLimit": 10000
     },
     "inputWidgets": {},
     "nuid": "f6ae111a-e36f-4db2-975d-ae7d36c37ac5",
     "showTitle": false,
     "tableResultSettingsMap": {},
     "title": ""
    }
   },
   "outputs": [
    {
     "output_type": "display_data",
     "data": {
      "text/html": [
       "<style scoped>\n",
       "  .table-result-container {\n",
       "    max-height: 300px;\n",
       "    overflow: auto;\n",
       "  }\n",
       "  table, th, td {\n",
       "    border: 1px solid black;\n",
       "    border-collapse: collapse;\n",
       "  }\n",
       "  th, td {\n",
       "    padding: 5px;\n",
       "  }\n",
       "  th {\n",
       "    text-align: left;\n",
       "  }\n",
       "</style><div class='table-result-container'><table class='table-result'><thead style='background-color: white'><tr><th>student_id</th><th>name</th><th>subject</th><th>score</th><th>grade</th><th>pass_status</th></tr></thead><tbody><tr><td>3</td><td>Rahul</td><td>English</td><td>93</td><td>B</td><td>PASS</td></tr><tr><td>6</td><td>Isha</td><td>English</td><td>103</td><td>A</td><td>PASS</td></tr><tr><td>9</td><td>Megha</td><td>English</td><td>75</td><td>C</td><td>PASS</td></tr><tr><td>1</td><td>Ankit</td><td>Math</td><td>85</td><td>A</td><td>PASS</td></tr><tr><td>2</td><td>Divya</td><td>Science</td><td>92</td><td>A</td><td>PASS</td></tr><tr><td>4</td><td>Sneha</td><td>Math</td><td>65</td><td>C</td><td>PASS</td></tr><tr><td>5</td><td>Aryan</td><td>Science</td><td>55</td><td>D</td><td>PASS</td></tr><tr><td>7</td><td>Tanvi</td><td>Math</td><td>91</td><td>A</td><td>PASS</td></tr><tr><td>8</td><td>Kunal</td><td>Science</td><td>72</td><td>B</td><td>PASS</td></tr></tbody></table></div>"
      ]
     },
     "metadata": {
      "application/vnd.databricks.v1+output": {
       "addedWidgets": {},
       "aggData": [],
       "aggError": "",
       "aggOverflow": false,
       "aggSchema": [],
       "aggSeriesLimitReached": false,
       "aggType": "",
       "arguments": {},
       "columnCustomDisplayInfos": {},
       "data": [
        [
         3,
         "Rahul",
         "English",
         93,
         "B",
         "PASS"
        ],
        [
         6,
         "Isha",
         "English",
         103,
         "A",
         "PASS"
        ],
        [
         9,
         "Megha",
         "English",
         75,
         "C",
         "PASS"
        ],
        [
         1,
         "Ankit",
         "Math",
         85,
         "A",
         "PASS"
        ],
        [
         2,
         "Divya",
         "Science",
         92,
         "A",
         "PASS"
        ],
        [
         4,
         "Sneha",
         "Math",
         65,
         "C",
         "PASS"
        ],
        [
         5,
         "Aryan",
         "Science",
         55,
         "D",
         "PASS"
        ],
        [
         7,
         "Tanvi",
         "Math",
         91,
         "A",
         "PASS"
        ],
        [
         8,
         "Kunal",
         "Science",
         72,
         "B",
         "PASS"
        ]
       ],
       "datasetInfos": [],
       "dbfsResultPath": null,
       "isJsonSchema": true,
       "metadata": {},
       "overflow": false,
       "plotOptions": {
        "customPlotOptions": {},
        "displayType": "table",
        "pivotAggregation": null,
        "pivotColumns": null,
        "xColumns": null,
        "yColumns": null
       },
       "removedWidgets": [],
       "schema": [
        {
         "metadata": "{}",
         "name": "student_id",
         "type": "\"long\""
        },
        {
         "metadata": "{}",
         "name": "name",
         "type": "\"string\""
        },
        {
         "metadata": "{}",
         "name": "subject",
         "type": "\"string\""
        },
        {
         "metadata": "{}",
         "name": "score",
         "type": "\"long\""
        },
        {
         "metadata": "{}",
         "name": "grade",
         "type": "\"string\""
        },
        {
         "metadata": "{}",
         "name": "pass_status",
         "type": "\"string\""
        }
       ],
       "type": "table"
      }
     },
     "output_type": "display_data"
    }
   ],
   "source": [
    "from delta.tables import DeltaTable\n",
    "\n",
    "delta_path = \"/tmp/delta/student_scores\"\n",
    "delta_table = DeltaTable.forPath(spark, delta_path)\n",
    "\n",
    "delta_table.update(\n",
    "    condition=\"subject = 'English'\",\n",
    "    set={\"score\": \"score + 5\"}\n",
    ")\n",
    "\n",
    "\n",
    "df_delta = spark.read.format(\"delta\").load(delta_path)\n",
    "df_delta.createOrReplaceTempView(\"student_scores\")\n",
    "\n",
    "display(df_delta)\n"
   ]
  },
  {
   "cell_type": "code",
   "execution_count": 0,
   "metadata": {
    "application/vnd.databricks.v1+cell": {
     "cellMetadata": {
      "byteLimit": 2048000,
      "rowLimit": 10000
     },
     "inputWidgets": {},
     "nuid": "040c44b2-1446-4a25-8761-73e4e20aabf6",
     "showTitle": false,
     "tableResultSettingsMap": {},
     "title": ""
    }
   },
   "outputs": [
    {
     "output_type": "display_data",
     "data": {
      "text/html": [
       "<style scoped>\n",
       "  .table-result-container {\n",
       "    max-height: 300px;\n",
       "    overflow: auto;\n",
       "  }\n",
       "  table, th, td {\n",
       "    border: 1px solid black;\n",
       "    border-collapse: collapse;\n",
       "  }\n",
       "  th, td {\n",
       "    padding: 5px;\n",
       "  }\n",
       "  th {\n",
       "    text-align: left;\n",
       "  }\n",
       "</style><div class='table-result-container'><table class='table-result'><thead style='background-color: white'><tr><th>student_id</th><th>name</th><th>subject</th><th>score</th><th>grade</th><th>pass_status</th></tr></thead><tbody><tr><td>3</td><td>Rahul</td><td>English</td><td>83</td><td>B</td><td>PASS</td></tr><tr><td>6</td><td>Isha</td><td>English</td><td>93</td><td>A</td><td>PASS</td></tr><tr><td>9</td><td>Megha</td><td>English</td><td>65</td><td>C</td><td>PASS</td></tr><tr><td>1</td><td>Ankit</td><td>Math</td><td>85</td><td>A</td><td>PASS</td></tr><tr><td>2</td><td>Divya</td><td>Science</td><td>92</td><td>A</td><td>PASS</td></tr><tr><td>4</td><td>Sneha</td><td>Math</td><td>65</td><td>C</td><td>PASS</td></tr><tr><td>5</td><td>Aryan</td><td>Science</td><td>55</td><td>D</td><td>PASS</td></tr><tr><td>7</td><td>Tanvi</td><td>Math</td><td>91</td><td>A</td><td>PASS</td></tr><tr><td>8</td><td>Kunal</td><td>Science</td><td>72</td><td>B</td><td>PASS</td></tr></tbody></table></div>"
      ]
     },
     "metadata": {
      "application/vnd.databricks.v1+output": {
       "addedWidgets": {},
       "aggData": [],
       "aggError": "",
       "aggOverflow": false,
       "aggSchema": [],
       "aggSeriesLimitReached": false,
       "aggType": "",
       "arguments": {},
       "columnCustomDisplayInfos": {},
       "data": [
        [
         3,
         "Rahul",
         "English",
         83,
         "B",
         "PASS"
        ],
        [
         6,
         "Isha",
         "English",
         93,
         "A",
         "PASS"
        ],
        [
         9,
         "Megha",
         "English",
         65,
         "C",
         "PASS"
        ],
        [
         1,
         "Ankit",
         "Math",
         85,
         "A",
         "PASS"
        ],
        [
         2,
         "Divya",
         "Science",
         92,
         "A",
         "PASS"
        ],
        [
         4,
         "Sneha",
         "Math",
         65,
         "C",
         "PASS"
        ],
        [
         5,
         "Aryan",
         "Science",
         55,
         "D",
         "PASS"
        ],
        [
         7,
         "Tanvi",
         "Math",
         91,
         "A",
         "PASS"
        ],
        [
         8,
         "Kunal",
         "Science",
         72,
         "B",
         "PASS"
        ]
       ],
       "datasetInfos": [],
       "dbfsResultPath": null,
       "isJsonSchema": true,
       "metadata": {},
       "overflow": false,
       "plotOptions": {
        "customPlotOptions": {},
        "displayType": "table",
        "pivotAggregation": null,
        "pivotColumns": null,
        "xColumns": null,
        "yColumns": null
       },
       "removedWidgets": [],
       "schema": [
        {
         "metadata": "{}",
         "name": "student_id",
         "type": "\"long\""
        },
        {
         "metadata": "{}",
         "name": "name",
         "type": "\"string\""
        },
        {
         "metadata": "{}",
         "name": "subject",
         "type": "\"string\""
        },
        {
         "metadata": "{}",
         "name": "score",
         "type": "\"long\""
        },
        {
         "metadata": "{}",
         "name": "grade",
         "type": "\"string\""
        },
        {
         "metadata": "{}",
         "name": "pass_status",
         "type": "\"string\""
        }
       ],
       "type": "table"
      }
     },
     "output_type": "display_data"
    }
   ],
   "source": [
    "delta_table.delete(\"score < 50\")\n",
    "\n",
    "df_delta = spark.read.format(\"delta\").load(delta_path)\n",
    "df_delta.createOrReplaceTempView(\"student_scores\")\n",
    "display(df_delta)"
   ]
  },
  {
   "cell_type": "code",
   "execution_count": 0,
   "metadata": {
    "application/vnd.databricks.v1+cell": {
     "cellMetadata": {
      "byteLimit": 2048000,
      "rowLimit": 10000
     },
     "inputWidgets": {},
     "nuid": "86c13667-03d8-44f3-a810-3129d9f59086",
     "showTitle": false,
     "tableResultSettingsMap": {},
     "title": ""
    }
   },
   "outputs": [
    {
     "output_type": "display_data",
     "data": {
      "text/html": [
       "<style scoped>\n",
       "  .table-result-container {\n",
       "    max-height: 300px;\n",
       "    overflow: auto;\n",
       "  }\n",
       "  table, th, td {\n",
       "    border: 1px solid black;\n",
       "    border-collapse: collapse;\n",
       "  }\n",
       "  th, td {\n",
       "    padding: 5px;\n",
       "  }\n",
       "  th {\n",
       "    text-align: left;\n",
       "  }\n",
       "</style><div class='table-result-container'><table class='table-result'><thead style='background-color: white'><tr><th>student_id</th><th>name</th><th>subject</th><th>score</th><th>grade</th><th>pass_status</th></tr></thead><tbody><tr><td>3</td><td>Rahul</td><td>English</td><td>83</td><td>B</td><td>PASS</td></tr><tr><td>6</td><td>Isha</td><td>English</td><td>93</td><td>A</td><td>PASS</td></tr><tr><td>9</td><td>Megha</td><td>English</td><td>65</td><td>C</td><td>PASS</td></tr><tr><td>1</td><td>Ankit</td><td>Math</td><td>85</td><td>A</td><td>PASS</td></tr><tr><td>2</td><td>Divya</td><td>Science</td><td>92</td><td>A</td><td>PASS</td></tr><tr><td>4</td><td>Sneha</td><td>Math</td><td>65</td><td>C</td><td>PASS</td></tr><tr><td>5</td><td>Aryan</td><td>Science</td><td>55</td><td>D</td><td>PASS</td></tr><tr><td>7</td><td>Tanvi</td><td>Math</td><td>91</td><td>A</td><td>PASS</td></tr><tr><td>8</td><td>Kunal</td><td>Science</td><td>72</td><td>B</td><td>PASS</td></tr></tbody></table></div>"
      ]
     },
     "metadata": {
      "application/vnd.databricks.v1+output": {
       "addedWidgets": {},
       "aggData": [],
       "aggError": "",
       "aggOverflow": false,
       "aggSchema": [],
       "aggSeriesLimitReached": false,
       "aggType": "",
       "arguments": {},
       "columnCustomDisplayInfos": {},
       "data": [
        [
         3,
         "Rahul",
         "English",
         83,
         "B",
         "PASS"
        ],
        [
         6,
         "Isha",
         "English",
         93,
         "A",
         "PASS"
        ],
        [
         9,
         "Megha",
         "English",
         65,
         "C",
         "PASS"
        ],
        [
         1,
         "Ankit",
         "Math",
         85,
         "A",
         "PASS"
        ],
        [
         2,
         "Divya",
         "Science",
         92,
         "A",
         "PASS"
        ],
        [
         4,
         "Sneha",
         "Math",
         65,
         "C",
         "PASS"
        ],
        [
         5,
         "Aryan",
         "Science",
         55,
         "D",
         "PASS"
        ],
        [
         7,
         "Tanvi",
         "Math",
         91,
         "A",
         "PASS"
        ],
        [
         8,
         "Kunal",
         "Science",
         72,
         "B",
         "PASS"
        ]
       ],
       "datasetInfos": [],
       "dbfsResultPath": null,
       "isJsonSchema": true,
       "metadata": {},
       "overflow": false,
       "plotOptions": {
        "customPlotOptions": {},
        "displayType": "table",
        "pivotAggregation": null,
        "pivotColumns": null,
        "xColumns": null,
        "yColumns": null
       },
       "removedWidgets": [],
       "schema": [
        {
         "metadata": "{}",
         "name": "student_id",
         "type": "\"long\""
        },
        {
         "metadata": "{}",
         "name": "name",
         "type": "\"string\""
        },
        {
         "metadata": "{}",
         "name": "subject",
         "type": "\"string\""
        },
        {
         "metadata": "{}",
         "name": "score",
         "type": "\"long\""
        },
        {
         "metadata": "{}",
         "name": "grade",
         "type": "\"string\""
        },
        {
         "metadata": "{}",
         "name": "pass_status",
         "type": "\"string\""
        }
       ],
       "type": "table"
      }
     },
     "output_type": "display_data"
    }
   ],
   "source": [
    "from pyspark.sql import functions as F\n",
    "\n",
    "df_updated = spark.read.format(\"delta\").load(delta_path) \\\n",
    "    .withColumn(\"pass_status\", F.when(F.col(\"score\") >= 50, \"PASS\").otherwise(\"FAIL\"))\n",
    "\n",
    "df_updated.write.format(\"delta\").mode(\"overwrite\").option(\"mergeSchema\", \"true\").save(delta_path)\n",
    "\n",
    "df_updated.createOrReplaceTempView(\"student_scores\")\n",
    "\n",
    "display(df_updated)\n"
   ]
  },
  {
   "cell_type": "code",
   "execution_count": 0,
   "metadata": {
    "application/vnd.databricks.v1+cell": {
     "cellMetadata": {
      "byteLimit": 2048000,
      "rowLimit": 10000
     },
     "inputWidgets": {},
     "nuid": "4241a967-d23c-4371-883d-fa8b5f591ec7",
     "showTitle": false,
     "tableResultSettingsMap": {},
     "title": ""
    }
   },
   "outputs": [
    {
     "output_type": "stream",
     "name": "stdout",
     "output_type": "stream",
     "text": [
      "+-------+-----------------+\n|subject|        avg_score|\n+-------+-----------------+\n|Science|             73.0|\n|   Math|80.33333333333333|\n|English|80.33333333333333|\n+-------+-----------------+\n\n"
     ]
    }
   ],
   "source": [
    "spark.sql(\"\"\"\n",
    "SELECT subject, AVG(score) AS avg_score\n",
    "FROM student_scores\n",
    "GROUP BY subject\n",
    "\"\"\").show()\n"
   ]
  },
  {
   "cell_type": "code",
   "execution_count": 0,
   "metadata": {
    "application/vnd.databricks.v1+cell": {
     "cellMetadata": {
      "byteLimit": 2048000,
      "rowLimit": 10000
     },
     "inputWidgets": {},
     "nuid": "2f5a7bf1-a17f-48fe-bf99-cb25cf7e0c11",
     "showTitle": false,
     "tableResultSettingsMap": {},
     "title": ""
    }
   },
   "outputs": [
    {
     "output_type": "display_data",
     "data": {
      "text/html": [
       "<style scoped>\n",
       "  .table-result-container {\n",
       "    max-height: 300px;\n",
       "    overflow: auto;\n",
       "  }\n",
       "  table, th, td {\n",
       "    border: 1px solid black;\n",
       "    border-collapse: collapse;\n",
       "  }\n",
       "  th, td {\n",
       "    padding: 5px;\n",
       "  }\n",
       "  th {\n",
       "    text-align: left;\n",
       "  }\n",
       "</style><div class='table-result-container'><table class='table-result'><thead style='background-color: white'><tr><th>student_id</th><th>name</th><th>subject</th><th>score</th><th>grade</th><th>pass_status</th></tr></thead><tbody><tr><td>3</td><td>Rahul</td><td>English</td><td>83</td><td>B</td><td>PASS</td></tr><tr><td>6</td><td>Isha</td><td>English</td><td>93</td><td>A</td><td>PASS</td></tr><tr><td>9</td><td>Megha</td><td>English</td><td>65</td><td>C</td><td>PASS</td></tr><tr><td>1</td><td>Ankit</td><td>Math</td><td>85</td><td>A</td><td>PASS</td></tr><tr><td>2</td><td>Divya</td><td>Science</td><td>92</td><td>A</td><td>PASS</td></tr><tr><td>4</td><td>Sneha</td><td>Math</td><td>65</td><td>C</td><td>PASS</td></tr><tr><td>5</td><td>Aryan</td><td>Science</td><td>55</td><td>D</td><td>PASS</td></tr><tr><td>7</td><td>Tanvi</td><td>Math</td><td>91</td><td>A</td><td>PASS</td></tr><tr><td>8</td><td>Kunal</td><td>Science</td><td>72</td><td>B</td><td>PASS</td></tr></tbody></table></div>"
      ]
     },
     "metadata": {
      "application/vnd.databricks.v1+output": {
       "addedWidgets": {},
       "aggData": [],
       "aggError": "",
       "aggOverflow": false,
       "aggSchema": [],
       "aggSeriesLimitReached": false,
       "aggType": "",
       "arguments": {},
       "columnCustomDisplayInfos": {},
       "data": [
        [
         3,
         "Rahul",
         "English",
         83,
         "B",
         "PASS"
        ],
        [
         6,
         "Isha",
         "English",
         93,
         "A",
         "PASS"
        ],
        [
         9,
         "Megha",
         "English",
         65,
         "C",
         "PASS"
        ],
        [
         1,
         "Ankit",
         "Math",
         85,
         "A",
         "PASS"
        ],
        [
         2,
         "Divya",
         "Science",
         92,
         "A",
         "PASS"
        ],
        [
         4,
         "Sneha",
         "Math",
         65,
         "C",
         "PASS"
        ],
        [
         5,
         "Aryan",
         "Science",
         55,
         "D",
         "PASS"
        ],
        [
         7,
         "Tanvi",
         "Math",
         91,
         "A",
         "PASS"
        ],
        [
         8,
         "Kunal",
         "Science",
         72,
         "B",
         "PASS"
        ]
       ],
       "datasetInfos": [],
       "dbfsResultPath": null,
       "isJsonSchema": true,
       "metadata": {},
       "overflow": false,
       "plotOptions": {
        "customPlotOptions": {},
        "displayType": "table",
        "pivotAggregation": null,
        "pivotColumns": null,
        "xColumns": null,
        "yColumns": null
       },
       "removedWidgets": [],
       "schema": [
        {
         "metadata": "{}",
         "name": "student_id",
         "type": "\"long\""
        },
        {
         "metadata": "{}",
         "name": "name",
         "type": "\"string\""
        },
        {
         "metadata": "{}",
         "name": "subject",
         "type": "\"string\""
        },
        {
         "metadata": "{}",
         "name": "score",
         "type": "\"long\""
        },
        {
         "metadata": "{}",
         "name": "grade",
         "type": "\"string\""
        },
        {
         "metadata": "{}",
         "name": "pass_status",
         "type": "\"string\""
        }
       ],
       "type": "table"
      }
     },
     "output_type": "display_data"
    }
   ],
   "source": [
    "delta_path_v2 = \"/tmp/delta/student_scores_v2\"\n",
    "df_updated.write.format(\"delta\").mode(\"overwrite\").save(delta_path_v2)\n",
    "\n",
    "df_v2 = spark.read.format(\"delta\").load(delta_path_v2)\n",
    "df_v2.createOrReplaceTempView(\"student_scores_v2\")\n",
    "\n",
    "display(df_v2)\n"
   ]
  },
  {
   "cell_type": "code",
   "execution_count": 0,
   "metadata": {
    "application/vnd.databricks.v1+cell": {
     "cellMetadata": {
      "byteLimit": 2048000,
      "rowLimit": 10000
     },
     "inputWidgets": {},
     "nuid": "d030603d-328e-4736-a4ab-987b007cd204",
     "showTitle": false,
     "tableResultSettingsMap": {},
     "title": ""
    }
   },
   "outputs": [],
   "source": [
    "df_updated.write.mode(\"overwrite\").parquet(\"/tmp/output/student_scores_parquet\")\n",
    "df_updated.write.mode(\"overwrite\").json(\"/tmp/output/student_scores_json\")\n"
   ]
  }
 ],
 "metadata": {
  "application/vnd.databricks.v1+notebook": {
   "computePreferences": null,
   "dashboards": [],
   "environmentMetadata": {
    "base_environment": "",
    "environment_version": "2"
   },
   "inputWidgetPreferences": null,
   "language": "python",
   "notebookMetadata": {
    "pythonIndentUnit": 4
   },
   "notebookName": "task 1 2025-08-08 09:25:56",
   "widgets": {}
  },
  "language_info": {
   "name": "python"
  }
 },
 "nbformat": 4,
 "nbformat_minor": 0
}