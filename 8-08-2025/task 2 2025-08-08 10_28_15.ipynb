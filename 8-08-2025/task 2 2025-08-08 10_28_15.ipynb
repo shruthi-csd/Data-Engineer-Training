{
 "cells": [
  {
   "cell_type": "markdown",
   "metadata": {
    "application/vnd.databricks.v1+cell": {
     "cellMetadata": {},
     "inputWidgets": {},
     "nuid": "db159efe-093a-458c-a10f-2f90bdbef2a9",
     "showTitle": false,
     "tableResultSettingsMap": {},
     "title": ""
    }
   },
   "source": [
    "# Ingest and Save\n"
   ]
  },
  {
   "cell_type": "code",
   "execution_count": 0,
   "metadata": {
    "application/vnd.databricks.v1+cell": {
     "cellMetadata": {
      "byteLimit": 2048000,
      "rowLimit": 10000
     },
     "inputWidgets": {},
     "nuid": "21402d2c-12ce-42e8-b535-27c448dc59a3",
     "showTitle": false,
     "tableResultSettingsMap": {},
     "title": ""
    }
   },
   "outputs": [],
   "source": [
    "from pyspark.sql import functions as F\n",
    "from delta.tables import DeltaTable\n",
    "from datetime import date\n",
    "\n",
    "data = [\n",
    "    (1,\"Rajesh\",\"North\",\"Laptop\",\"Electronics\",1,55000,\"2024-01-12\"),\n",
    "    (2,\"Sneha\",\"West\",\"Refrigerator\",\"Electronics\",1,32000,\"2024-02-05\"),\n",
    "    (3,\"Anil\",\"South\",\"Shampoo\",\"Personal Care\",5,150,\"2024-01-17\"),\n",
    "    (4,\"Divya\",\"North\",\"Mobile\",\"Electronics\",2,20000,\"2024-03-22\"),\n",
    "    (5,\"Vikram\",\"East\",\"Washing Machine\",\"Electronics\",1,28000,\"2024-02-28\"),\n",
    "    (6,\"Preeti\",\"West\",\"Sneakers\",\"Fashion\",2,4000,\"2024-01-31\"),\n",
    "    (7,\"Aman\",\"South\",\"TV\",\"Electronics\",1,45000,\"2024-02-15\"),\n",
    "    (8,\"Isha\",\"North\",\"Notebook\",\"Stationery\",10,60,\"2024-01-10\"),\n",
    "    (9,\"Kunal\",\"East\",\"Pencil\",\"Stationery\",20,10,\"2024-03-05\"),\n",
    "    (10,\"Tanvi\",\"West\",\"Face Cream\",\"Personal Care\",3,200,\"2024-03-19\")\n",
    "]\n",
    "columns = [\"transaction_id\",\"customer_name\",\"region\",\"product\",\"category\",\"quantity\",\"unit_price\",\"date\"]\n",
    "\n",
    "df = spark.createDataFrame(data, columns)\n",
    "\n",
    "\n",
    "parquet_path = \"/tmp/parquet/sales_transactions\"\n",
    "delta_path = \"/tmp/delta/sales_transactions\"\n",
    "\n",
    "df.write.mode(\"overwrite\").parquet(parquet_path)\n",
    "\n",
    "df.write.format(\"delta\").mode(\"overwrite\").save(delta_path)\n",
    "\n",
    "df.createOrReplaceTempView(\"sales_transactions\")\n"
   ]
  },
  {
   "cell_type": "markdown",
   "metadata": {
    "application/vnd.databricks.v1+cell": {
     "cellMetadata": {},
     "inputWidgets": {},
     "nuid": "09b30f7b-fef3-41dc-bc6c-61c75dbe5cd4",
     "showTitle": false,
     "tableResultSettingsMap": {},
     "title": ""
    }
   },
   "source": [
    "# Data Transformation "
   ]
  },
  {
   "cell_type": "code",
   "execution_count": 0,
   "metadata": {
    "application/vnd.databricks.v1+cell": {
     "cellMetadata": {
      "byteLimit": 2048000,
      "rowLimit": 10000
     },
     "inputWidgets": {},
     "nuid": "419d57aa-ceca-47b1-8ae9-2d45de19077e",
     "showTitle": false,
     "tableResultSettingsMap": {},
     "title": ""
    }
   },
   "outputs": [
    {
     "output_type": "stream",
     "name": "stdout",
     "output_type": "stream",
     "text": [
      "+--------------+-------------+------+---------------+-------------+--------+----------+----------+------------+-----+--------------+-------------+\n|transaction_id|customer_name|region|        product|     category|quantity|unit_price|      date|total_amount|month|date_formatted|is_high_value|\n+--------------+-------------+------+---------------+-------------+--------+----------+----------+------------+-----+--------------+-------------+\n|             1|       Rajesh| North|         Laptop|  Electronics|       1|     55000|2024-01-12|       55000|    1|   12-Jan-2024|         true|\n|             2|        Sneha|  West|   Refrigerator|  Electronics|       1|     32000|2024-02-05|       32000|    2|   05-Feb-2024|         true|\n|             3|         Anil| South|        Shampoo|Personal Care|       5|       150|2024-01-17|         750|    1|   17-Jan-2024|        false|\n|             4|        Divya| North|         Mobile|  Electronics|       2|     20000|2024-03-22|       40000|    3|   22-Mar-2024|         true|\n|             5|       Vikram|  East|Washing Machine|  Electronics|       1|     28000|2024-02-28|       28000|    2|   28-Feb-2024|        false|\n|             6|       Preeti|  West|       Sneakers|      Fashion|       2|      4000|2024-01-31|        8000|    1|   31-Jan-2024|        false|\n|             7|         Aman| South|             TV|  Electronics|       1|     45000|2024-02-15|       45000|    2|   15-Feb-2024|         true|\n|             8|         Isha| North|       Notebook|   Stationery|      10|        60|2024-01-10|         600|    1|   10-Jan-2024|        false|\n|             9|        Kunal|  East|         Pencil|   Stationery|      20|        10|2024-03-05|         200|    3|   05-Mar-2024|        false|\n|            10|        Tanvi|  West|     Face Cream|Personal Care|       3|       200|2024-03-19|         600|    3|   19-Mar-2024|        false|\n+--------------+-------------+------+---------------+-------------+--------+----------+----------+------------+-----+--------------+-------------+\n\n"
     ]
    }
   ],
   "source": [
    "df_transformed = df \\\n",
    "    .withColumn(\"total_amount\", F.col(\"quantity\") * F.col(\"unit_price\")) \\\n",
    "    .withColumn(\"month\", F.month(F.col(\"date\"))) \\\n",
    "    .withColumn(\"date_formatted\", F.date_format(F.col(\"date\"), \"dd-MMM-yyyy\")) \\\n",
    "    .withColumn(\"is_high_value\", F.col(\"total_amount\") > 30000)\n",
    "\n",
    "df_transformed.show()\n",
    "\n",
    "\n",
    "df_transformed.write.format(\"delta\").mode(\"overwrite\").option(\"mergeSchema\", \"true\").save(delta_path)\n",
    "df_transformed.createOrReplaceTempView(\"sales_transactions\")\n"
   ]
  },
  {
   "cell_type": "markdown",
   "metadata": {
    "application/vnd.databricks.v1+cell": {
     "cellMetadata": {},
     "inputWidgets": {},
     "nuid": "27caca8a-bb53-4875-80cb-aaa4bf591f0c",
     "showTitle": false,
     "tableResultSettingsMap": {},
     "title": ""
    }
   },
   "source": [
    "# Aggregations & Insights"
   ]
  },
  {
   "cell_type": "code",
   "execution_count": 0,
   "metadata": {
    "application/vnd.databricks.v1+cell": {
     "cellMetadata": {
      "byteLimit": 2048000,
      "rowLimit": 10000
     },
     "inputWidgets": {},
     "nuid": "c96ebb03-aeee-4679-b4d2-587a681c2a2c",
     "showTitle": false,
     "tableResultSettingsMap": {},
     "title": ""
    }
   },
   "outputs": [
    {
     "output_type": "stream",
     "name": "stdout",
     "output_type": "stream",
     "text": [
      "+------+-----------------+\n|region|transaction_count|\n+------+-----------------+\n|  West|                3|\n| North|                3|\n| South|                2|\n|  East|                2|\n+------+-----------------+\n\n+-------------+-----------+\n|     category|total_sales|\n+-------------+-----------+\n|  Electronics|     200000|\n|      Fashion|       8000|\n|Personal Care|       1350|\n+-------------+-----------+\n\n+-----+-------+\n|month|revenue|\n+-----+-------+\n|    1|  64350|\n|    2| 105000|\n|    3|  40800|\n+-----+-------+\n\n+-------------+------------+\n|customer_name|total_amount|\n+-------------+------------+\n|       Rajesh|       55000|\n+-------------+------------+\n\n+--------+\n|q1_sales|\n+--------+\n|  210150|\n+--------+\n\n"
     ]
    }
   ],
   "source": [
    "\n",
    "spark.sql(\"\"\"\n",
    "SELECT region, COUNT(*) AS transaction_count\n",
    "FROM sales_transactions\n",
    "GROUP BY region\n",
    "\"\"\").show()\n",
    "\n",
    "spark.sql(\"\"\"\n",
    "SELECT category, SUM(total_amount) AS total_sales\n",
    "FROM sales_transactions\n",
    "GROUP BY category\n",
    "ORDER BY total_sales DESC\n",
    "LIMIT 3\n",
    "\"\"\").show()\n",
    "\n",
    "spark.sql(\"\"\"\n",
    "SELECT month, SUM(total_amount) AS revenue\n",
    "FROM sales_transactions\n",
    "GROUP BY month\n",
    "ORDER BY month\n",
    "\"\"\").show()\n",
    "\n",
    "spark.sql(\"\"\"\n",
    "SELECT customer_name, total_amount\n",
    "FROM sales_transactions\n",
    "ORDER BY total_amount DESC\n",
    "LIMIT 1\n",
    "\"\"\").show()\n",
    "\n",
    "\n",
    "spark.sql(\"\"\"\n",
    "SELECT SUM(total_amount) AS q1_sales\n",
    "FROM sales_transactions\n",
    "WHERE month IN (1,2,3)\n",
    "\"\"\").show()\n"
   ]
  },
  {
   "cell_type": "markdown",
   "metadata": {
    "application/vnd.databricks.v1+cell": {
     "cellMetadata": {},
     "inputWidgets": {},
     "nuid": "8dff8d68-67a5-45d3-a3a9-31b75d4ab5d9",
     "showTitle": false,
     "tableResultSettingsMap": {},
     "title": ""
    }
   },
   "source": [
    "#Update & Delete Scenarios"
   ]
  },
  {
   "cell_type": "code",
   "execution_count": 0,
   "metadata": {
    "application/vnd.databricks.v1+cell": {
     "cellMetadata": {
      "byteLimit": 2048000,
      "rowLimit": 10000
     },
     "inputWidgets": {},
     "nuid": "6a70e780-bfc9-4aba-b14f-8eec2a3c3176",
     "showTitle": false,
     "tableResultSettingsMap": {},
     "title": ""
    }
   },
   "outputs": [
    {
     "output_type": "stream",
     "name": "stdout",
     "output_type": "stream",
     "text": [
      "+--------------+-------------+------+----------+-------------+--------+----------+----------+------------+-----+--------------+-------------+\n|transaction_id|customer_name|region|   product|     category|quantity|unit_price|      date|total_amount|month|date_formatted|is_high_value|\n+--------------+-------------+------+----------+-------------+--------+----------+----------+------------+-----+--------------+-------------+\n|             8|         Isha| North|  Notebook|   Stationery|      10|        86|2024-01-10|         600|    1|   10-Jan-2024|        false|\n|             9|        Kunal|  East|    Pencil|   Stationery|      20|        14|2024-03-05|         200|    3|   05-Mar-2024|        false|\n|             3|         Anil| South|   Shampoo|Personal Care|       5|       150|2024-01-17|         750|    1|   17-Jan-2024|        false|\n|            10|        Tanvi|  West|Face Cream|Personal Care|       3|       200|2024-03-19|         600|    3|   19-Mar-2024|        false|\n|            11|        Meera| North|Headphones|  Electronics|       1|      5000|2025-08-08|        5000|    8|    2025-08-08|        false|\n+--------------+-------------+------+----------+-------------+--------+----------+----------+------------+-----+--------------+-------------+\n\n"
     ]
    }
   ],
   "source": [
    "from datetime import date\n",
    "from delta.tables import DeltaTable\n",
    "import pyspark.sql.functions as F\n",
    "\n",
    "delta_table = DeltaTable.forPath(spark, delta_path)\n",
    "\n",
    "delta_table.update(\n",
    "    condition=\"category = 'Stationery'\",\n",
    "    set={\"unit_price\": \"unit_price * 1.1\"}\n",
    ")\n",
    "\n",
    "delta_table.delete(\"quantity < 3\")\n",
    "\n",
    "today_str = date.today().strftime(\"%Y-%m-%d\")\n",
    "\n",
    "new_data = [\n",
    "    (\n",
    "        11,                         \n",
    "        \"Meera\",                  \n",
    "        \"North\",                   \n",
    "        \"Headphones\",                \n",
    "        \"Electronics\",         \n",
    "        1,                         \n",
    "        5000,                     \n",
    "        today_str,               \n",
    "        5000,                  \n",
    "        int(today_str.split(\"-\")[1]), \n",
    "        today_str,                \n",
    "        False                    \n",
    "    )\n",
    "]\n",
    "\n",
    "\n",
    "new_columns = df_transformed.columns\n",
    "df_new = spark.createDataFrame(new_data, schema=df_transformed.schema)\n",
    "\n",
    "\n",
    "df_new.write.format(\"delta\").mode(\"append\").save(delta_path)\n",
    "\n",
    "\n",
    "df_updated = spark.read.format(\"delta\").load(delta_path)\n",
    "df_updated.createOrReplaceTempView(\"sales_transactions\")\n",
    "\n",
    "df_updated.show()\n"
   ]
  },
  {
   "cell_type": "markdown",
   "metadata": {
    "application/vnd.databricks.v1+cell": {
     "cellMetadata": {},
     "inputWidgets": {},
     "nuid": "ceefde57-e0a1-4fcc-9059-cbc417d84590",
     "showTitle": false,
     "tableResultSettingsMap": {},
     "title": ""
    }
   },
   "source": [
    "#Partitioning & Optimization"
   ]
  },
  {
   "cell_type": "code",
   "execution_count": 0,
   "metadata": {
    "application/vnd.databricks.v1+cell": {
     "cellMetadata": {
      "byteLimit": 2048000,
      "rowLimit": 10000
     },
     "inputWidgets": {},
     "nuid": "3a1e042d-d073-45a4-af80-6a2dacda4c98",
     "showTitle": false,
     "tableResultSettingsMap": {},
     "title": ""
    }
   },
   "outputs": [],
   "source": [
    "\n",
    "df_updated.write.format(\"delta\").mode(\"overwrite\").partitionBy(\"region\").save(\"/tmp/delta/sales_transactions_by_region\")\n",
    "\n",
    "\n",
    "df_updated.write.format(\"delta\").mode(\"overwrite\").partitionBy(\"month\").save(\"/tmp/delta/sales_transactions_by_month\")\n",
    "\n"
   ]
  }
 ],
 "metadata": {
  "application/vnd.databricks.v1+notebook": {
   "computePreferences": null,
   "dashboards": [],
   "environmentMetadata": {
    "base_environment": "",
    "environment_version": "2"
   },
   "inputWidgetPreferences": null,
   "language": "python",
   "notebookMetadata": {
    "pythonIndentUnit": 4
   },
   "notebookName": "task 2 2025-08-08 10:28:15",
   "widgets": {}
  },
  "language_info": {
   "name": "python"
  }
 },
 "nbformat": 4,
 "nbformat_minor": 0
}