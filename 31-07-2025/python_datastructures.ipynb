{
  "nbformat": 4,
  "nbformat_minor": 0,
  "metadata": {
    "colab": {
      "provenance": []
    },
    "kernelspec": {
      "name": "python3",
      "display_name": "Python 3"
    },
    "language_info": {
      "name": "python"
    }
  },
  "cells": [
    {
      "cell_type": "markdown",
      "source": [
        "#Section 1: Nested Lists & Access"
      ],
      "metadata": {
        "id": "GlokKt6SB_NE"
      }
    },
    {
      "cell_type": "code",
      "execution_count": 1,
      "metadata": {
        "id": "3KTn4ZGRBV26"
      },
      "outputs": [],
      "source": [
        "students = [\n",
        "    [\"Ravi\", [85, 72, 90]],\n",
        "    [\"Sneha\", [95, 88, 92]],\n",
        "    [\"Kabir\", [65, 70, 60]],\n",
        "    [\"Anita\", [75, 80, 78]]\n",
        "]"
      ]
    },
    {
      "cell_type": "code",
      "source": [
        "print(\"Ravi's second mark:\", students[0][1][1])"
      ],
      "metadata": {
        "colab": {
          "base_uri": "https://localhost:8080/"
        },
        "id": "RyaxMFZOB6uZ",
        "outputId": "45c97cfe-f631-4bc6-9ba7-86aab25e070f"
      },
      "execution_count": 2,
      "outputs": [
        {
          "output_type": "stream",
          "name": "stdout",
          "text": [
            "Ravi's second mark: 72\n"
          ]
        }
      ]
    },
    {
      "cell_type": "code",
      "source": [
        "for name, marks in students:\n",
        "    avg = sum(marks) / len(marks)\n",
        "    print(f\"{name}'s average: {avg:.2f}\")\n"
      ],
      "metadata": {
        "id": "WZ4obSx_CFrS"
      },
      "execution_count": null,
      "outputs": []
    },
    {
      "cell_type": "code",
      "source": [
        "\n",
        "print(\"\\nStudents scoring >80 in all subjects:\")\n",
        "for name, marks in students:\n",
        "    if all(m > 80 for m in marks):\n",
        "        print(name)"
      ],
      "metadata": {
        "colab": {
          "base_uri": "https://localhost:8080/"
        },
        "id": "1KLz8alRCJUA",
        "outputId": "44547861-cb87-4c0b-cdd8-c8f8e17d5f57"
      },
      "execution_count": 3,
      "outputs": [
        {
          "output_type": "stream",
          "name": "stdout",
          "text": [
            "\n",
            "Students scoring >80 in all subjects:\n",
            "Sneha\n"
          ]
        }
      ]
    },
    {
      "cell_type": "code",
      "source": [
        "avg_list = [[name, sum(marks)/len(marks)] for name, marks in students]\n",
        "print(\"\\nList of [name, average]:\", avg_list)"
      ],
      "metadata": {
        "colab": {
          "base_uri": "https://localhost:8080/"
        },
        "id": "l6oUfZ39Cbwx",
        "outputId": "765a84ca-29cc-49ca-f31c-a2427670dec1"
      },
      "execution_count": 4,
      "outputs": [
        {
          "output_type": "stream",
          "name": "stdout",
          "text": [
            "\n",
            "List of [name, average]: [['Ravi', 82.33333333333333], ['Sneha', 91.66666666666667], ['Kabir', 65.0], ['Anita', 77.66666666666667]]\n"
          ]
        }
      ]
    },
    {
      "cell_type": "markdown",
      "source": [
        "#Section 2: Dictionary of Lists\n"
      ],
      "metadata": {
        "id": "WBqGMulECgSv"
      }
    },
    {
      "cell_type": "code",
      "source": [
        "\n",
        "data = {\n",
        "    \"products\": [\"Mobile\", \"Laptop\", \"Tablet\", \"Camera\"],\n",
        "    \"prices\": [12000, 55000, 18000, 25000],\n",
        "    \"ratings\": [4.5, 4.7, 4.0, 4.2]\n",
        "}\n",
        "print(data)\n"
      ],
      "metadata": {
        "colab": {
          "base_uri": "https://localhost:8080/"
        },
        "id": "DOlWTgqZCc3P",
        "outputId": "50197709-0f2e-4cc6-c1af-032b5e4abd2d"
      },
      "execution_count": 8,
      "outputs": [
        {
          "output_type": "stream",
          "name": "stdout",
          "text": [
            "{'products': ['Mobile', 'Laptop', 'Tablet', 'Camera'], 'prices': [12000, 55000, 18000, 25000], 'ratings': [4.5, 4.7, 4.0, 4.2]}\n"
          ]
        }
      ]
    },
    {
      "cell_type": "code",
      "source": [
        "products_list = [\n",
        "    {'name': n, 'price': p, 'rating': r}\n",
        "    for n, p, r in zip(data['products'], data['prices'], data['ratings'])\n",
        "]\n",
        "print(\"List of product dictionaries:\", products_list)"
      ],
      "metadata": {
        "colab": {
          "base_uri": "https://localhost:8080/"
        },
        "id": "cWQOl9brCrdn",
        "outputId": "c03d442c-614c-4c5f-e7f1-e29ee9fbd8ce"
      },
      "execution_count": 9,
      "outputs": [
        {
          "output_type": "stream",
          "name": "stdout",
          "text": [
            "List of product dictionaries: [{'name': 'Mobile', 'price': 12000, 'rating': 4.5}, {'name': 'Laptop', 'price': 55000, 'rating': 4.7}, {'name': 'Tablet', 'price': 18000, 'rating': 4.0}, {'name': 'Camera', 'price': 25000, 'rating': 4.2}]\n"
          ]
        }
      ]
    },
    {
      "cell_type": "code",
      "source": [
        "filtered_products = [prod for prod in products_list if prod['price'] > 20000 and prod['rating'] >= 4.5]\n",
        "print(\"\\nFiltered products:\", filtered_products)\n"
      ],
      "metadata": {
        "colab": {
          "base_uri": "https://localhost:8080/"
        },
        "id": "tH72LQXhC10G",
        "outputId": "909cc302-fe4c-4ff9-ff7f-8c8e8e9344d0"
      },
      "execution_count": 10,
      "outputs": [
        {
          "output_type": "stream",
          "name": "stdout",
          "text": [
            "\n",
            "Filtered products: [{'name': 'Laptop', 'price': 55000, 'rating': 4.7}]\n"
          ]
        }
      ]
    },
    {
      "cell_type": "code",
      "source": [
        "sorted_products = sorted(products_list, key=lambda x: x['rating'], reverse=True)\n",
        "print(\"\\nProducts sorted by rating (desc):\", sorted_products)"
      ],
      "metadata": {
        "colab": {
          "base_uri": "https://localhost:8080/"
        },
        "id": "klT5ylekC2GW",
        "outputId": "55b23681-1bed-4022-fc4c-05136373a7be"
      },
      "execution_count": 11,
      "outputs": [
        {
          "output_type": "stream",
          "name": "stdout",
          "text": [
            "\n",
            "Products sorted by rating (desc): [{'name': 'Laptop', 'price': 55000, 'rating': 4.7}, {'name': 'Mobile', 'price': 12000, 'rating': 4.5}, {'name': 'Camera', 'price': 25000, 'rating': 4.2}, {'name': 'Tablet', 'price': 18000, 'rating': 4.0}]\n"
          ]
        }
      ]
    },
    {
      "cell_type": "markdown",
      "source": [
        "#Section 3: Frequency Dictionary + Set Operations"
      ],
      "metadata": {
        "id": "0UNSsCLDDBD2"
      }
    },
    {
      "cell_type": "code",
      "source": [
        "text = \"ai is the future and ai will change everything in the ai world\"\n",
        "print(text)"
      ],
      "metadata": {
        "colab": {
          "base_uri": "https://localhost:8080/"
        },
        "id": "exH2Q94hC2YG",
        "outputId": "d7212e22-d1ce-45a9-e527-5b3d37a58f44"
      },
      "execution_count": 13,
      "outputs": [
        {
          "output_type": "stream",
          "name": "stdout",
          "text": [
            "ai is the future and ai will change everything in the ai world\n"
          ]
        }
      ]
    },
    {
      "cell_type": "code",
      "source": [
        "words = text.split()\n",
        "freq = {}\n",
        "for word in words:\n",
        "    freq[word] = freq.get(word, 0) + 1\n",
        "print(\"Word frequencies:\", freq)"
      ],
      "metadata": {
        "colab": {
          "base_uri": "https://localhost:8080/"
        },
        "id": "awqbnqMPDNid",
        "outputId": "b430facb-f41b-4a32-d417-3015cd6173ab"
      },
      "execution_count": 14,
      "outputs": [
        {
          "output_type": "stream",
          "name": "stdout",
          "text": [
            "Word frequencies: {'ai': 3, 'is': 1, 'the': 2, 'future': 1, 'and': 1, 'will': 1, 'change': 1, 'everything': 1, 'in': 1, 'world': 1}\n"
          ]
        }
      ]
    },
    {
      "cell_type": "code",
      "source": [
        "print(\"\\nWords appearing more than once:\", [w for w, c in freq.items() if c > 1])"
      ],
      "metadata": {
        "colab": {
          "base_uri": "https://localhost:8080/"
        },
        "id": "I6nDj0WnDPn-",
        "outputId": "2a1d7dd4-f74b-4805-f1d9-df7353750503"
      },
      "execution_count": 15,
      "outputs": [
        {
          "output_type": "stream",
          "name": "stdout",
          "text": [
            "\n",
            "Words appearing more than once: ['ai', 'the']\n"
          ]
        }
      ]
    },
    {
      "cell_type": "code",
      "source": [
        "unique_words = sorted(set(words))\n",
        "print(\"\\nUnique sorted words:\", unique_words)"
      ],
      "metadata": {
        "colab": {
          "base_uri": "https://localhost:8080/"
        },
        "id": "9o-jty-wDU3N",
        "outputId": "defb1801-4694-46f6-ecb7-668352410858"
      },
      "execution_count": 16,
      "outputs": [
        {
          "output_type": "stream",
          "name": "stdout",
          "text": [
            "\n",
            "Unique sorted words: ['ai', 'and', 'change', 'everything', 'future', 'in', 'is', 'the', 'will', 'world']\n"
          ]
        }
      ]
    },
    {
      "cell_type": "code",
      "source": [
        "set1 = set(words)\n",
        "set2 = {\"ai\", \"ml\", \"data\", \"future\"}\n",
        "common_words = set1.intersection(set2)\n",
        "print(\"\\nCommon words:\", common_words)"
      ],
      "metadata": {
        "colab": {
          "base_uri": "https://localhost:8080/"
        },
        "id": "d9NzXw0BDhd8",
        "outputId": "028b5697-d549-481e-9c72-6596287623c3"
      },
      "execution_count": 17,
      "outputs": [
        {
          "output_type": "stream",
          "name": "stdout",
          "text": [
            "\n",
            "Common words: {'future', 'ai'}\n"
          ]
        }
      ]
    },
    {
      "cell_type": "markdown",
      "source": [
        "#Section 4: Dictionary Comprehension + Conditional Logic"
      ],
      "metadata": {
        "id": "_RQbnOw5DoMs"
      }
    },
    {
      "cell_type": "code",
      "source": [
        "sales = {\n",
        "    'Amit': 70000,\n",
        "    'Sneha': 45000,\n",
        "    'Ravi': 30000,\n",
        "    'Anita': 90000,\n",
        "    'Kabir': 20000\n",
        "}\n",
        "print(sales)\n"
      ],
      "metadata": {
        "colab": {
          "base_uri": "https://localhost:8080/"
        },
        "id": "f2PBepioDk1E",
        "outputId": "49f93cd9-dedc-4a5e-bcfa-10fb9b0f0748"
      },
      "execution_count": 18,
      "outputs": [
        {
          "output_type": "stream",
          "name": "stdout",
          "text": [
            "{'Amit': 70000, 'Sneha': 45000, 'Ravi': 30000, 'Anita': 90000, 'Kabir': 20000}\n"
          ]
        }
      ]
    },
    {
      "cell_type": "code",
      "source": [
        "bonus_sales = {k: v*1.1 for k, v in sales.items()}\n",
        "print(\"Sales with 10% bonus:\", bonus_sales)"
      ],
      "metadata": {
        "colab": {
          "base_uri": "https://localhost:8080/"
        },
        "id": "Cf7hQ7xFDu50",
        "outputId": "854b36aa-9814-449a-d9f2-1c16a23ad674"
      },
      "execution_count": 19,
      "outputs": [
        {
          "output_type": "stream",
          "name": "stdout",
          "text": [
            "Sales with 10% bonus: {'Amit': 77000.0, 'Sneha': 49500.00000000001, 'Ravi': 33000.0, 'Anita': 99000.00000000001, 'Kabir': 22000.0}\n"
          ]
        }
      ]
    },
    {
      "cell_type": "code",
      "source": [
        "high_sales = {k: v for k, v in sales.items() if v > 50000}\n",
        "print(\"\\nSales > 50,000:\", high_sales)\n"
      ],
      "metadata": {
        "colab": {
          "base_uri": "https://localhost:8080/"
        },
        "id": "okzd78F5DvfL",
        "outputId": "49ee8556-27bb-4d09-e0ba-09e22c9e952c"
      },
      "execution_count": 20,
      "outputs": [
        {
          "output_type": "stream",
          "name": "stdout",
          "text": [
            "\n",
            "Sales > 50,000: {'Amit': 70000, 'Anita': 90000}\n"
          ]
        }
      ]
    },
    {
      "cell_type": "code",
      "source": [
        "labels = {\n",
        "    k: 'High' if v >= 75000 else 'Medium' if v >= 40000 else 'Low'\n",
        "    for k, v in sales.items()\n",
        "}\n",
        "print(\"\\nSales labels:\", labels)"
      ],
      "metadata": {
        "colab": {
          "base_uri": "https://localhost:8080/"
        },
        "id": "JKupkIXGDxRr",
        "outputId": "01bc5406-2cda-4454-baac-e0c01d7a2209"
      },
      "execution_count": 21,
      "outputs": [
        {
          "output_type": "stream",
          "name": "stdout",
          "text": [
            "\n",
            "Sales labels: {'Amit': 'Medium', 'Sneha': 'Medium', 'Ravi': 'Low', 'Anita': 'High', 'Kabir': 'Low'}\n"
          ]
        }
      ]
    },
    {
      "cell_type": "markdown",
      "source": [
        "#Section 5: Tuples, Sets, and Zipping"
      ],
      "metadata": {
        "id": "bsb94TfOD-5b"
      }
    },
    {
      "cell_type": "code",
      "source": [
        "names = (\"Ravi\", \"Sneha\", \"Kabir\")\n",
        "marks = (88, 92, 76)\n",
        "print(\"Names:\", names)\n",
        "print(\"Marks:\", marks)\n"
      ],
      "metadata": {
        "colab": {
          "base_uri": "https://localhost:8080/"
        },
        "id": "e4RWlFLFD7I7",
        "outputId": "1cd27ef5-89f7-4e37-803e-0ef02181d0b8"
      },
      "execution_count": 23,
      "outputs": [
        {
          "output_type": "stream",
          "name": "stdout",
          "text": [
            "Names: ('Ravi', 'Sneha', 'Kabir')\n",
            "Marks: (88, 92, 76)\n"
          ]
        }
      ]
    },
    {
      "cell_type": "code",
      "source": [
        "marks_dict = dict(zip(names, marks))\n",
        "print(\"Dictionary from tuples:\", marks_dict)"
      ],
      "metadata": {
        "colab": {
          "base_uri": "https://localhost:8080/"
        },
        "id": "fY_3JJNLEHol",
        "outputId": "de02a457-f780-4eea-ed82-73e0a73a0e49"
      },
      "execution_count": 24,
      "outputs": [
        {
          "output_type": "stream",
          "name": "stdout",
          "text": [
            "Dictionary from tuples: {'Ravi': 88, 'Sneha': 92, 'Kabir': 76}\n"
          ]
        }
      ]
    },
    {
      "cell_type": "code",
      "source": [
        "print(\"Min mark:\", min(marks))\n",
        "print(\"Max mark:\", max(marks))"
      ],
      "metadata": {
        "colab": {
          "base_uri": "https://localhost:8080/"
        },
        "id": "CW6twVYxEIVs",
        "outputId": "13b10e1d-a7a1-4c8c-ea74-4432521825dd"
      },
      "execution_count": 25,
      "outputs": [
        {
          "output_type": "stream",
          "name": "stdout",
          "text": [
            "Min mark: 76\n",
            "Max mark: 92\n"
          ]
        }
      ]
    },
    {
      "cell_type": "code",
      "source": [
        "marks_set = set(marks)\n",
        "marks_set.add(85)\n",
        "print(\"\\nSet after adding 85:\", marks_set)\n"
      ],
      "metadata": {
        "colab": {
          "base_uri": "https://localhost:8080/"
        },
        "id": "o5om0KiNEPUy",
        "outputId": "418c1589-7eb7-4615-aea8-ddaae35cda23"
      },
      "execution_count": 26,
      "outputs": [
        {
          "output_type": "stream",
          "name": "stdout",
          "text": [
            "\n",
            "Set after adding 85: {88, 92, 85, 76}\n"
          ]
        }
      ]
    },
    {
      "cell_type": "code",
      "source": [
        "extra_marks = {70, 92, 88}\n",
        "merged_set = marks_set.union(extra_marks)\n",
        "print(\"Merged unique set:\", merged_set)"
      ],
      "metadata": {
        "colab": {
          "base_uri": "https://localhost:8080/"
        },
        "id": "X8fTe2KuEQHr",
        "outputId": "a4c721e8-b44f-4e0a-88fd-42e62cff0a39"
      },
      "execution_count": 27,
      "outputs": [
        {
          "output_type": "stream",
          "name": "stdout",
          "text": [
            "Merged unique set: {85, 70, 88, 92, 76}\n"
          ]
        }
      ]
    },
    {
      "cell_type": "markdown",
      "source": [
        "#Nested Employee Dictionary"
      ],
      "metadata": {
        "id": "P8xoubKXEebx"
      }
    },
    {
      "cell_type": "code",
      "source": [
        "employees = {\n",
        "    \"E101\": {\"name\": \"Ravi\", \"dept\": \"Sales\", \"salary\": 50000},\n",
        "    \"E102\": {\"name\": \"Sneha\", \"dept\": \"Engineering\", \"salary\": 80000},\n",
        "    \"E103\": {\"name\": \"Kabir\", \"dept\": \"HR\", \"salary\": 45000}\n",
        "}\n",
        "print(\"Employees:\", employees)\n"
      ],
      "metadata": {
        "colab": {
          "base_uri": "https://localhost:8080/"
        },
        "id": "EQhMkauYEb9B",
        "outputId": "0479173a-fd9c-4019-ff88-e8949b9fd5ee"
      },
      "execution_count": 29,
      "outputs": [
        {
          "output_type": "stream",
          "name": "stdout",
          "text": [
            "Employees: {'E101': {'name': 'Ravi', 'dept': 'Sales', 'salary': 50000}, 'E102': {'name': 'Sneha', 'dept': 'Engineering', 'salary': 80000}, 'E103': {'name': 'Kabir', 'dept': 'HR', 'salary': 45000}}\n"
          ]
        }
      ]
    },
    {
      "cell_type": "code",
      "source": [
        "employees[\"E104\"] = {\"name\": \"Anita\", \"dept\": \"Engineering\", \"salary\": 70000}\n",
        "print(\"Employees after adding E104:\", employees)"
      ],
      "metadata": {
        "colab": {
          "base_uri": "https://localhost:8080/"
        },
        "id": "1LUk4sSkEnip",
        "outputId": "f6286efb-3596-4492-c34a-208c26ebb822"
      },
      "execution_count": 30,
      "outputs": [
        {
          "output_type": "stream",
          "name": "stdout",
          "text": [
            "Employees after adding E104: {'E101': {'name': 'Ravi', 'dept': 'Sales', 'salary': 50000}, 'E102': {'name': 'Sneha', 'dept': 'Engineering', 'salary': 80000}, 'E103': {'name': 'Kabir', 'dept': 'HR', 'salary': 45000}, 'E104': {'name': 'Anita', 'dept': 'Engineering', 'salary': 70000}}\n"
          ]
        }
      ]
    },
    {
      "cell_type": "code",
      "source": [
        "for emp in employees.values():\n",
        "    if emp[\"dept\"] == \"Engineering\":\n",
        "        emp[\"salary\"] *= 1.10\n",
        "\n",
        "print(\"\\nAfter 10% raise for Engineering:\", employees)\n"
      ],
      "metadata": {
        "colab": {
          "base_uri": "https://localhost:8080/"
        },
        "id": "_DKTTykyErRh",
        "outputId": "5c7debfd-292c-4989-b999-35eb68516c8e"
      },
      "execution_count": 31,
      "outputs": [
        {
          "output_type": "stream",
          "name": "stdout",
          "text": [
            "\n",
            "After 10% raise for Engineering: {'E101': {'name': 'Ravi', 'dept': 'Sales', 'salary': 50000}, 'E102': {'name': 'Sneha', 'dept': 'Engineering', 'salary': 88000.0}, 'E103': {'name': 'Kabir', 'dept': 'HR', 'salary': 45000}, 'E104': {'name': 'Anita', 'dept': 'Engineering', 'salary': 77000.0}}\n"
          ]
        }
      ]
    },
    {
      "cell_type": "code",
      "source": [
        "dept_salaries = {}\n",
        "for emp in employees.values():\n",
        "    dept = emp[\"dept\"]\n",
        "    dept_salaries.setdefault(dept, []).append(emp[\"salary\"])\n",
        "\n",
        "avg_salaries = {d: sum(sal)/len(sal) for d, sal in dept_salaries.items()}\n",
        "highest_dept = max(avg_salaries, key=avg_salaries.get)\n",
        "print(\"\\nDepartment with highest average salary:\", highest_dept, \"->\", avg_salaries[highest_dept])"
      ],
      "metadata": {
        "colab": {
          "base_uri": "https://localhost:8080/"
        },
        "id": "9G-4rTNsEuI5",
        "outputId": "bdf55e61-7aca-4170-f6c9-a6e19f4123eb"
      },
      "execution_count": 32,
      "outputs": [
        {
          "output_type": "stream",
          "name": "stdout",
          "text": [
            "\n",
            "Department with highest average salary: Engineering -> 82500.0\n"
          ]
        }
      ]
    }
  ]
}