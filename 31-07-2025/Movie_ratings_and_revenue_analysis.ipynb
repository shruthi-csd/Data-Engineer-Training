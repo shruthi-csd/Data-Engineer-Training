{
  "nbformat": 4,
  "nbformat_minor": 0,
  "metadata": {
    "colab": {
      "provenance": []
    },
    "kernelspec": {
      "name": "python3",
      "display_name": "Python 3"
    },
    "language_info": {
      "name": "python"
    }
  },
  "cells": [
    {
      "cell_type": "markdown",
      "source": [
        "#movie.csv"
      ],
      "metadata": {
        "id": "TggwA9XGMZKj"
      }
    },
    {
      "cell_type": "code",
      "execution_count": 2,
      "metadata": {
        "colab": {
          "base_uri": "https://localhost:8080/",
          "height": 286
        },
        "id": "MnxyV8VDL9NS",
        "outputId": "4ca2602e-2cde-48af-b8e4-91d722f64221"
      },
      "outputs": [
        {
          "output_type": "stream",
          "name": "stdout",
          "text": [
            "movies.csv created successfully!\n"
          ]
        },
        {
          "output_type": "execute_result",
          "data": {
            "text/plain": [
              "   MovieID              Title    Genre ReleaseDate  Rating       Revenue  \\\n",
              "0        1          Inception   Sci-Fi  2010-07-16     8.8  8.255328e+08   \n",
              "1        2    The Dark Knight   Action  2008-07-18     9.0  1.004558e+09   \n",
              "2        3            Titanic  Romance  1997-12-19     7.8  2.187464e+09   \n",
              "3        4       Interstellar   Sci-Fi  2014-11-07     8.6  6.774713e+08   \n",
              "4        5              Joker    Drama  2019-10-04     8.4  1.074251e+09   \n",
              "5        6       The Notebook  Romance  2004-06-25     7.9           NaN   \n",
              "6        7  Avengers: Endgame   Action  2019-04-26     8.4  2.797801e+09   \n",
              "\n",
              "      Budget  \n",
              "0  160000000  \n",
              "1  185000000  \n",
              "2  200000000  \n",
              "3  165000000  \n",
              "4   55000000  \n",
              "5   29000000  \n",
              "6  356000000  "
            ],
            "text/html": [
              "\n",
              "  <div id=\"df-95dd7d52-5b3c-46c5-8796-9c24390151a8\" class=\"colab-df-container\">\n",
              "    <div>\n",
              "<style scoped>\n",
              "    .dataframe tbody tr th:only-of-type {\n",
              "        vertical-align: middle;\n",
              "    }\n",
              "\n",
              "    .dataframe tbody tr th {\n",
              "        vertical-align: top;\n",
              "    }\n",
              "\n",
              "    .dataframe thead th {\n",
              "        text-align: right;\n",
              "    }\n",
              "</style>\n",
              "<table border=\"1\" class=\"dataframe\">\n",
              "  <thead>\n",
              "    <tr style=\"text-align: right;\">\n",
              "      <th></th>\n",
              "      <th>MovieID</th>\n",
              "      <th>Title</th>\n",
              "      <th>Genre</th>\n",
              "      <th>ReleaseDate</th>\n",
              "      <th>Rating</th>\n",
              "      <th>Revenue</th>\n",
              "      <th>Budget</th>\n",
              "    </tr>\n",
              "  </thead>\n",
              "  <tbody>\n",
              "    <tr>\n",
              "      <th>0</th>\n",
              "      <td>1</td>\n",
              "      <td>Inception</td>\n",
              "      <td>Sci-Fi</td>\n",
              "      <td>2010-07-16</td>\n",
              "      <td>8.8</td>\n",
              "      <td>8.255328e+08</td>\n",
              "      <td>160000000</td>\n",
              "    </tr>\n",
              "    <tr>\n",
              "      <th>1</th>\n",
              "      <td>2</td>\n",
              "      <td>The Dark Knight</td>\n",
              "      <td>Action</td>\n",
              "      <td>2008-07-18</td>\n",
              "      <td>9.0</td>\n",
              "      <td>1.004558e+09</td>\n",
              "      <td>185000000</td>\n",
              "    </tr>\n",
              "    <tr>\n",
              "      <th>2</th>\n",
              "      <td>3</td>\n",
              "      <td>Titanic</td>\n",
              "      <td>Romance</td>\n",
              "      <td>1997-12-19</td>\n",
              "      <td>7.8</td>\n",
              "      <td>2.187464e+09</td>\n",
              "      <td>200000000</td>\n",
              "    </tr>\n",
              "    <tr>\n",
              "      <th>3</th>\n",
              "      <td>4</td>\n",
              "      <td>Interstellar</td>\n",
              "      <td>Sci-Fi</td>\n",
              "      <td>2014-11-07</td>\n",
              "      <td>8.6</td>\n",
              "      <td>6.774713e+08</td>\n",
              "      <td>165000000</td>\n",
              "    </tr>\n",
              "    <tr>\n",
              "      <th>4</th>\n",
              "      <td>5</td>\n",
              "      <td>Joker</td>\n",
              "      <td>Drama</td>\n",
              "      <td>2019-10-04</td>\n",
              "      <td>8.4</td>\n",
              "      <td>1.074251e+09</td>\n",
              "      <td>55000000</td>\n",
              "    </tr>\n",
              "    <tr>\n",
              "      <th>5</th>\n",
              "      <td>6</td>\n",
              "      <td>The Notebook</td>\n",
              "      <td>Romance</td>\n",
              "      <td>2004-06-25</td>\n",
              "      <td>7.9</td>\n",
              "      <td>NaN</td>\n",
              "      <td>29000000</td>\n",
              "    </tr>\n",
              "    <tr>\n",
              "      <th>6</th>\n",
              "      <td>7</td>\n",
              "      <td>Avengers: Endgame</td>\n",
              "      <td>Action</td>\n",
              "      <td>2019-04-26</td>\n",
              "      <td>8.4</td>\n",
              "      <td>2.797801e+09</td>\n",
              "      <td>356000000</td>\n",
              "    </tr>\n",
              "  </tbody>\n",
              "</table>\n",
              "</div>\n",
              "    <div class=\"colab-df-buttons\">\n",
              "\n",
              "  <div class=\"colab-df-container\">\n",
              "    <button class=\"colab-df-convert\" onclick=\"convertToInteractive('df-95dd7d52-5b3c-46c5-8796-9c24390151a8')\"\n",
              "            title=\"Convert this dataframe to an interactive table.\"\n",
              "            style=\"display:none;\">\n",
              "\n",
              "  <svg xmlns=\"http://www.w3.org/2000/svg\" height=\"24px\" viewBox=\"0 -960 960 960\">\n",
              "    <path d=\"M120-120v-720h720v720H120Zm60-500h600v-160H180v160Zm220 220h160v-160H400v160Zm0 220h160v-160H400v160ZM180-400h160v-160H180v160Zm440 0h160v-160H620v160ZM180-180h160v-160H180v160Zm440 0h160v-160H620v160Z\"/>\n",
              "  </svg>\n",
              "    </button>\n",
              "\n",
              "  <style>\n",
              "    .colab-df-container {\n",
              "      display:flex;\n",
              "      gap: 12px;\n",
              "    }\n",
              "\n",
              "    .colab-df-convert {\n",
              "      background-color: #E8F0FE;\n",
              "      border: none;\n",
              "      border-radius: 50%;\n",
              "      cursor: pointer;\n",
              "      display: none;\n",
              "      fill: #1967D2;\n",
              "      height: 32px;\n",
              "      padding: 0 0 0 0;\n",
              "      width: 32px;\n",
              "    }\n",
              "\n",
              "    .colab-df-convert:hover {\n",
              "      background-color: #E2EBFA;\n",
              "      box-shadow: 0px 1px 2px rgba(60, 64, 67, 0.3), 0px 1px 3px 1px rgba(60, 64, 67, 0.15);\n",
              "      fill: #174EA6;\n",
              "    }\n",
              "\n",
              "    .colab-df-buttons div {\n",
              "      margin-bottom: 4px;\n",
              "    }\n",
              "\n",
              "    [theme=dark] .colab-df-convert {\n",
              "      background-color: #3B4455;\n",
              "      fill: #D2E3FC;\n",
              "    }\n",
              "\n",
              "    [theme=dark] .colab-df-convert:hover {\n",
              "      background-color: #434B5C;\n",
              "      box-shadow: 0px 1px 3px 1px rgba(0, 0, 0, 0.15);\n",
              "      filter: drop-shadow(0px 1px 2px rgba(0, 0, 0, 0.3));\n",
              "      fill: #FFFFFF;\n",
              "    }\n",
              "  </style>\n",
              "\n",
              "    <script>\n",
              "      const buttonEl =\n",
              "        document.querySelector('#df-95dd7d52-5b3c-46c5-8796-9c24390151a8 button.colab-df-convert');\n",
              "      buttonEl.style.display =\n",
              "        google.colab.kernel.accessAllowed ? 'block' : 'none';\n",
              "\n",
              "      async function convertToInteractive(key) {\n",
              "        const element = document.querySelector('#df-95dd7d52-5b3c-46c5-8796-9c24390151a8');\n",
              "        const dataTable =\n",
              "          await google.colab.kernel.invokeFunction('convertToInteractive',\n",
              "                                                    [key], {});\n",
              "        if (!dataTable) return;\n",
              "\n",
              "        const docLinkHtml = 'Like what you see? Visit the ' +\n",
              "          '<a target=\"_blank\" href=https://colab.research.google.com/notebooks/data_table.ipynb>data table notebook</a>'\n",
              "          + ' to learn more about interactive tables.';\n",
              "        element.innerHTML = '';\n",
              "        dataTable['output_type'] = 'display_data';\n",
              "        await google.colab.output.renderOutput(dataTable, element);\n",
              "        const docLink = document.createElement('div');\n",
              "        docLink.innerHTML = docLinkHtml;\n",
              "        element.appendChild(docLink);\n",
              "      }\n",
              "    </script>\n",
              "  </div>\n",
              "\n",
              "\n",
              "    <div id=\"df-114b907a-cbdf-4600-be93-bb8dc1234141\">\n",
              "      <button class=\"colab-df-quickchart\" onclick=\"quickchart('df-114b907a-cbdf-4600-be93-bb8dc1234141')\"\n",
              "                title=\"Suggest charts\"\n",
              "                style=\"display:none;\">\n",
              "\n",
              "<svg xmlns=\"http://www.w3.org/2000/svg\" height=\"24px\"viewBox=\"0 0 24 24\"\n",
              "     width=\"24px\">\n",
              "    <g>\n",
              "        <path d=\"M19 3H5c-1.1 0-2 .9-2 2v14c0 1.1.9 2 2 2h14c1.1 0 2-.9 2-2V5c0-1.1-.9-2-2-2zM9 17H7v-7h2v7zm4 0h-2V7h2v10zm4 0h-2v-4h2v4z\"/>\n",
              "    </g>\n",
              "</svg>\n",
              "      </button>\n",
              "\n",
              "<style>\n",
              "  .colab-df-quickchart {\n",
              "      --bg-color: #E8F0FE;\n",
              "      --fill-color: #1967D2;\n",
              "      --hover-bg-color: #E2EBFA;\n",
              "      --hover-fill-color: #174EA6;\n",
              "      --disabled-fill-color: #AAA;\n",
              "      --disabled-bg-color: #DDD;\n",
              "  }\n",
              "\n",
              "  [theme=dark] .colab-df-quickchart {\n",
              "      --bg-color: #3B4455;\n",
              "      --fill-color: #D2E3FC;\n",
              "      --hover-bg-color: #434B5C;\n",
              "      --hover-fill-color: #FFFFFF;\n",
              "      --disabled-bg-color: #3B4455;\n",
              "      --disabled-fill-color: #666;\n",
              "  }\n",
              "\n",
              "  .colab-df-quickchart {\n",
              "    background-color: var(--bg-color);\n",
              "    border: none;\n",
              "    border-radius: 50%;\n",
              "    cursor: pointer;\n",
              "    display: none;\n",
              "    fill: var(--fill-color);\n",
              "    height: 32px;\n",
              "    padding: 0;\n",
              "    width: 32px;\n",
              "  }\n",
              "\n",
              "  .colab-df-quickchart:hover {\n",
              "    background-color: var(--hover-bg-color);\n",
              "    box-shadow: 0 1px 2px rgba(60, 64, 67, 0.3), 0 1px 3px 1px rgba(60, 64, 67, 0.15);\n",
              "    fill: var(--button-hover-fill-color);\n",
              "  }\n",
              "\n",
              "  .colab-df-quickchart-complete:disabled,\n",
              "  .colab-df-quickchart-complete:disabled:hover {\n",
              "    background-color: var(--disabled-bg-color);\n",
              "    fill: var(--disabled-fill-color);\n",
              "    box-shadow: none;\n",
              "  }\n",
              "\n",
              "  .colab-df-spinner {\n",
              "    border: 2px solid var(--fill-color);\n",
              "    border-color: transparent;\n",
              "    border-bottom-color: var(--fill-color);\n",
              "    animation:\n",
              "      spin 1s steps(1) infinite;\n",
              "  }\n",
              "\n",
              "  @keyframes spin {\n",
              "    0% {\n",
              "      border-color: transparent;\n",
              "      border-bottom-color: var(--fill-color);\n",
              "      border-left-color: var(--fill-color);\n",
              "    }\n",
              "    20% {\n",
              "      border-color: transparent;\n",
              "      border-left-color: var(--fill-color);\n",
              "      border-top-color: var(--fill-color);\n",
              "    }\n",
              "    30% {\n",
              "      border-color: transparent;\n",
              "      border-left-color: var(--fill-color);\n",
              "      border-top-color: var(--fill-color);\n",
              "      border-right-color: var(--fill-color);\n",
              "    }\n",
              "    40% {\n",
              "      border-color: transparent;\n",
              "      border-right-color: var(--fill-color);\n",
              "      border-top-color: var(--fill-color);\n",
              "    }\n",
              "    60% {\n",
              "      border-color: transparent;\n",
              "      border-right-color: var(--fill-color);\n",
              "    }\n",
              "    80% {\n",
              "      border-color: transparent;\n",
              "      border-right-color: var(--fill-color);\n",
              "      border-bottom-color: var(--fill-color);\n",
              "    }\n",
              "    90% {\n",
              "      border-color: transparent;\n",
              "      border-bottom-color: var(--fill-color);\n",
              "    }\n",
              "  }\n",
              "</style>\n",
              "\n",
              "      <script>\n",
              "        async function quickchart(key) {\n",
              "          const quickchartButtonEl =\n",
              "            document.querySelector('#' + key + ' button');\n",
              "          quickchartButtonEl.disabled = true;  // To prevent multiple clicks.\n",
              "          quickchartButtonEl.classList.add('colab-df-spinner');\n",
              "          try {\n",
              "            const charts = await google.colab.kernel.invokeFunction(\n",
              "                'suggestCharts', [key], {});\n",
              "          } catch (error) {\n",
              "            console.error('Error during call to suggestCharts:', error);\n",
              "          }\n",
              "          quickchartButtonEl.classList.remove('colab-df-spinner');\n",
              "          quickchartButtonEl.classList.add('colab-df-quickchart-complete');\n",
              "        }\n",
              "        (() => {\n",
              "          let quickchartButtonEl =\n",
              "            document.querySelector('#df-114b907a-cbdf-4600-be93-bb8dc1234141 button');\n",
              "          quickchartButtonEl.style.display =\n",
              "            google.colab.kernel.accessAllowed ? 'block' : 'none';\n",
              "        })();\n",
              "      </script>\n",
              "    </div>\n",
              "\n",
              "  <div id=\"id_ac3b5a32-1b7f-4e58-8741-24006a5a88a8\">\n",
              "    <style>\n",
              "      .colab-df-generate {\n",
              "        background-color: #E8F0FE;\n",
              "        border: none;\n",
              "        border-radius: 50%;\n",
              "        cursor: pointer;\n",
              "        display: none;\n",
              "        fill: #1967D2;\n",
              "        height: 32px;\n",
              "        padding: 0 0 0 0;\n",
              "        width: 32px;\n",
              "      }\n",
              "\n",
              "      .colab-df-generate:hover {\n",
              "        background-color: #E2EBFA;\n",
              "        box-shadow: 0px 1px 2px rgba(60, 64, 67, 0.3), 0px 1px 3px 1px rgba(60, 64, 67, 0.15);\n",
              "        fill: #174EA6;\n",
              "      }\n",
              "\n",
              "      [theme=dark] .colab-df-generate {\n",
              "        background-color: #3B4455;\n",
              "        fill: #D2E3FC;\n",
              "      }\n",
              "\n",
              "      [theme=dark] .colab-df-generate:hover {\n",
              "        background-color: #434B5C;\n",
              "        box-shadow: 0px 1px 3px 1px rgba(0, 0, 0, 0.15);\n",
              "        filter: drop-shadow(0px 1px 2px rgba(0, 0, 0, 0.3));\n",
              "        fill: #FFFFFF;\n",
              "      }\n",
              "    </style>\n",
              "    <button class=\"colab-df-generate\" onclick=\"generateWithVariable('df')\"\n",
              "            title=\"Generate code using this dataframe.\"\n",
              "            style=\"display:none;\">\n",
              "\n",
              "  <svg xmlns=\"http://www.w3.org/2000/svg\" height=\"24px\"viewBox=\"0 0 24 24\"\n",
              "       width=\"24px\">\n",
              "    <path d=\"M7,19H8.4L18.45,9,17,7.55,7,17.6ZM5,21V16.75L18.45,3.32a2,2,0,0,1,2.83,0l1.4,1.43a1.91,1.91,0,0,1,.58,1.4,1.91,1.91,0,0,1-.58,1.4L9.25,21ZM18.45,9,17,7.55Zm-12,3A5.31,5.31,0,0,0,4.9,8.1,5.31,5.31,0,0,0,1,6.5,5.31,5.31,0,0,0,4.9,4.9,5.31,5.31,0,0,0,6.5,1,5.31,5.31,0,0,0,8.1,4.9,5.31,5.31,0,0,0,12,6.5,5.46,5.46,0,0,0,6.5,12Z\"/>\n",
              "  </svg>\n",
              "    </button>\n",
              "    <script>\n",
              "      (() => {\n",
              "      const buttonEl =\n",
              "        document.querySelector('#id_ac3b5a32-1b7f-4e58-8741-24006a5a88a8 button.colab-df-generate');\n",
              "      buttonEl.style.display =\n",
              "        google.colab.kernel.accessAllowed ? 'block' : 'none';\n",
              "\n",
              "      buttonEl.onclick = () => {\n",
              "        google.colab.notebook.generateWithVariable('df');\n",
              "      }\n",
              "      })();\n",
              "    </script>\n",
              "  </div>\n",
              "\n",
              "    </div>\n",
              "  </div>\n"
            ],
            "application/vnd.google.colaboratory.intrinsic+json": {
              "type": "dataframe",
              "variable_name": "df",
              "summary": "{\n  \"name\": \"df\",\n  \"rows\": 7,\n  \"fields\": [\n    {\n      \"column\": \"MovieID\",\n      \"properties\": {\n        \"dtype\": \"number\",\n        \"std\": 2,\n        \"min\": 1,\n        \"max\": 7,\n        \"num_unique_values\": 7,\n        \"samples\": [\n          1,\n          2,\n          6\n        ],\n        \"semantic_type\": \"\",\n        \"description\": \"\"\n      }\n    },\n    {\n      \"column\": \"Title\",\n      \"properties\": {\n        \"dtype\": \"string\",\n        \"num_unique_values\": 7,\n        \"samples\": [\n          \"Inception\",\n          \"The Dark Knight\",\n          \"The Notebook\"\n        ],\n        \"semantic_type\": \"\",\n        \"description\": \"\"\n      }\n    },\n    {\n      \"column\": \"Genre\",\n      \"properties\": {\n        \"dtype\": \"string\",\n        \"num_unique_values\": 4,\n        \"samples\": [\n          \"Action\",\n          \"Drama\",\n          \"Sci-Fi\"\n        ],\n        \"semantic_type\": \"\",\n        \"description\": \"\"\n      }\n    },\n    {\n      \"column\": \"ReleaseDate\",\n      \"properties\": {\n        \"dtype\": \"object\",\n        \"num_unique_values\": 7,\n        \"samples\": [\n          \"2010-07-16\",\n          \"2008-07-18\",\n          \"2004-06-25\"\n        ],\n        \"semantic_type\": \"\",\n        \"description\": \"\"\n      }\n    },\n    {\n      \"column\": \"Rating\",\n      \"properties\": {\n        \"dtype\": \"number\",\n        \"std\": 0.44131837120372047,\n        \"min\": 7.8,\n        \"max\": 9.0,\n        \"num_unique_values\": 6,\n        \"samples\": [\n          8.8,\n          9.0,\n          7.9\n        ],\n        \"semantic_type\": \"\",\n        \"description\": \"\"\n      }\n    },\n    {\n      \"column\": \"Revenue\",\n      \"properties\": {\n        \"dtype\": \"number\",\n        \"std\": 858351892.1229686,\n        \"min\": 677471339.0,\n        \"max\": 2797800564.0,\n        \"num_unique_values\": 6,\n        \"samples\": [\n          825532764.0,\n          1004558444.0,\n          2797800564.0\n        ],\n        \"semantic_type\": \"\",\n        \"description\": \"\"\n      }\n    },\n    {\n      \"column\": \"Budget\",\n      \"properties\": {\n        \"dtype\": \"number\",\n        \"std\": 107022916,\n        \"min\": 29000000,\n        \"max\": 356000000,\n        \"num_unique_values\": 7,\n        \"samples\": [\n          160000000,\n          185000000,\n          29000000\n        ],\n        \"semantic_type\": \"\",\n        \"description\": \"\"\n      }\n    }\n  ]\n}"
            }
          },
          "metadata": {},
          "execution_count": 2
        }
      ],
      "source": [
        "import pandas as pd\n",
        "\n",
        "data = {\n",
        "    \"MovieID\": [1,2,3,4,5,6,7],\n",
        "    \"Title\": [\n",
        "        \"Inception\",\"The Dark Knight\",\"Titanic\",\"Interstellar\",\n",
        "        \"Joker\",\"The Notebook\",\"Avengers: Endgame\"\n",
        "    ],\n",
        "    \"Genre\": [\"Sci-Fi\",\"Action\",\"Romance\",\"Sci-Fi\",\"Drama\",\"Romance\",\"Action\"],\n",
        "    \"ReleaseDate\": [\n",
        "        \"2010-07-16\",\"2008-07-18\",\"1997-12-19\",\"2014-11-07\",\n",
        "        \"2019-10-04\",\"2004-06-25\",\"2019-04-26\"\n",
        "    ],\n",
        "    \"Rating\": [8.8,9.0,7.8,8.6,8.4,7.9,8.4],\n",
        "    \"Revenue\": [825532764,1004558444,2187463944,677471339,1074251311,None,2797800564],\n",
        "    \"Budget\": [160000000,185000000,200000000,165000000,55000000,29000000,356000000]\n",
        "}\n",
        "\n",
        "df = pd.DataFrame(data)\n",
        "\n",
        "df.to_csv(\"movies.csv\", index=False)\n",
        "\n",
        "print(\"movies.csv created successfully!\")\n",
        "df\n",
        "\n"
      ]
    },
    {
      "cell_type": "markdown",
      "source": [
        "#PART 1: Pandas Operations"
      ],
      "metadata": {
        "id": "CJX6QwmPNuMq"
      }
    },
    {
      "cell_type": "code",
      "source": [
        "import numpy as np\n",
        "import matplotlib.pyplot as plt"
      ],
      "metadata": {
        "id": "t3eNXmOHNERp"
      },
      "execution_count": 3,
      "outputs": []
    },
    {
      "cell_type": "code",
      "source": [],
      "metadata": {
        "id": "E0MUnQQbNwtC"
      },
      "execution_count": null,
      "outputs": []
    },
    {
      "cell_type": "code",
      "source": [
        "df = pd.read_csv(\"movies.csv\")\n",
        "print(\"\\nStep 1: Loaded DataFrame:\")\n",
        "print(df)"
      ],
      "metadata": {
        "colab": {
          "base_uri": "https://localhost:8080/"
        },
        "id": "ODUYnJwCNOu6",
        "outputId": "1b56e2e0-bf04-4817-a7ad-626db6c99343"
      },
      "execution_count": 4,
      "outputs": [
        {
          "output_type": "stream",
          "name": "stdout",
          "text": [
            "\n",
            "Step 1: Loaded DataFrame:\n",
            "   MovieID              Title    Genre ReleaseDate  Rating       Revenue  \\\n",
            "0        1          Inception   Sci-Fi  2010-07-16     8.8  8.255328e+08   \n",
            "1        2    The Dark Knight   Action  2008-07-18     9.0  1.004558e+09   \n",
            "2        3            Titanic  Romance  1997-12-19     7.8  2.187464e+09   \n",
            "3        4       Interstellar   Sci-Fi  2014-11-07     8.6  6.774713e+08   \n",
            "4        5              Joker    Drama  2019-10-04     8.4  1.074251e+09   \n",
            "5        6       The Notebook  Romance  2004-06-25     7.9           NaN   \n",
            "6        7  Avengers: Endgame   Action  2019-04-26     8.4  2.797801e+09   \n",
            "\n",
            "      Budget  \n",
            "0  160000000  \n",
            "1  185000000  \n",
            "2  200000000  \n",
            "3  165000000  \n",
            "4   55000000  \n",
            "5   29000000  \n",
            "6  356000000  \n"
          ]
        }
      ]
    },
    {
      "cell_type": "code",
      "source": [
        "df['ReleaseDate'] = pd.to_datetime(df['ReleaseDate'])\n",
        "print(\"\\nStep 2: ReleaseDate converted to datetime:\")\n",
        "print(df.dtypes)"
      ],
      "metadata": {
        "colab": {
          "base_uri": "https://localhost:8080/"
        },
        "id": "3flhZak4NRcg",
        "outputId": "93a19564-0f07-4372-f2a4-f6463745032e"
      },
      "execution_count": 5,
      "outputs": [
        {
          "output_type": "stream",
          "name": "stdout",
          "text": [
            "\n",
            "Step 2: ReleaseDate converted to datetime:\n",
            "MovieID                 int64\n",
            "Title                  object\n",
            "Genre                  object\n",
            "ReleaseDate    datetime64[ns]\n",
            "Rating                float64\n",
            "Revenue               float64\n",
            "Budget                  int64\n",
            "dtype: object\n"
          ]
        }
      ]
    },
    {
      "cell_type": "code",
      "source": [
        "df['Profit'] = df['Revenue'] - df['Budget']\n",
        "print(\"\\nStep 3: Added Profit column:\")\n",
        "print(df[['Title','Profit']])"
      ],
      "metadata": {
        "colab": {
          "base_uri": "https://localhost:8080/"
        },
        "id": "E6-ZtEDlNVN6",
        "outputId": "dca9528d-52cd-4a4d-a21e-cf998181298e"
      },
      "execution_count": 6,
      "outputs": [
        {
          "output_type": "stream",
          "name": "stdout",
          "text": [
            "\n",
            "Step 3: Added Profit column:\n",
            "               Title        Profit\n",
            "0          Inception  6.655328e+08\n",
            "1    The Dark Knight  8.195584e+08\n",
            "2            Titanic  1.987464e+09\n",
            "3       Interstellar  5.124713e+08\n",
            "4              Joker  1.019251e+09\n",
            "5       The Notebook           NaN\n",
            "6  Avengers: Endgame  2.441801e+09\n"
          ]
        }
      ]
    },
    {
      "cell_type": "code",
      "source": [
        "def get_era(year):\n",
        "    if year < 2000: return \"Classic\"\n",
        "    elif year <= 2010: return \"Mid\"\n",
        "    else: return \"Modern\""
      ],
      "metadata": {
        "id": "_85ECKLlNYuA"
      },
      "execution_count": 7,
      "outputs": []
    },
    {
      "cell_type": "code",
      "source": [
        "df['Era'] = df['ReleaseDate'].dt.year.apply(get_era)\n",
        "print(\"\\nStep 4: Added Era column:\")\n",
        "print(df[['Title','ReleaseDate','Era']])"
      ],
      "metadata": {
        "colab": {
          "base_uri": "https://localhost:8080/"
        },
        "id": "2hOq_za1Na95",
        "outputId": "a866f979-e1a1-469f-830b-4c41db6a232a"
      },
      "execution_count": 8,
      "outputs": [
        {
          "output_type": "stream",
          "name": "stdout",
          "text": [
            "\n",
            "Step 4: Added Era column:\n",
            "               Title ReleaseDate      Era\n",
            "0          Inception  2010-07-16      Mid\n",
            "1    The Dark Knight  2008-07-18      Mid\n",
            "2            Titanic  1997-12-19  Classic\n",
            "3       Interstellar  2014-11-07   Modern\n",
            "4              Joker  2019-10-04   Modern\n",
            "5       The Notebook  2004-06-25      Mid\n",
            "6  Avengers: Endgame  2019-04-26   Modern\n"
          ]
        }
      ]
    },
    {
      "cell_type": "code",
      "source": [
        "df['Revenue'] = df['Revenue'].fillna(df['Revenue'].mean())\n",
        "print(\"\\nStep 5: Null Revenue filled with average:\")\n",
        "print(df[['Title','Revenue']])"
      ],
      "metadata": {
        "colab": {
          "base_uri": "https://localhost:8080/"
        },
        "id": "OPfXzp4TNdkw",
        "outputId": "0d123a45-49b3-49cc-ccaf-c0aa649c502a"
      },
      "execution_count": 9,
      "outputs": [
        {
          "output_type": "stream",
          "name": "stdout",
          "text": [
            "\n",
            "Step 5: Null Revenue filled with average:\n",
            "               Title       Revenue\n",
            "0          Inception  8.255328e+08\n",
            "1    The Dark Knight  1.004558e+09\n",
            "2            Titanic  2.187464e+09\n",
            "3       Interstellar  6.774713e+08\n",
            "4              Joker  1.074251e+09\n",
            "5       The Notebook  1.427846e+09\n",
            "6  Avengers: Endgame  2.797801e+09\n"
          ]
        }
      ]
    },
    {
      "cell_type": "code",
      "source": [
        "df_sorted = df.sort_values(by='Rating', ascending=False)\n",
        "print(\"\\nStep 6: Sorted by Rating (Descending):\")\n",
        "print(df_sorted[['Title','Rating']])"
      ],
      "metadata": {
        "colab": {
          "base_uri": "https://localhost:8080/"
        },
        "id": "KshWaF3jNgrQ",
        "outputId": "308dc38c-06d3-48fc-eff0-03ad2b3de442"
      },
      "execution_count": 10,
      "outputs": [
        {
          "output_type": "stream",
          "name": "stdout",
          "text": [
            "\n",
            "Step 6: Sorted by Rating (Descending):\n",
            "               Title  Rating\n",
            "1    The Dark Knight     9.0\n",
            "0          Inception     8.8\n",
            "3       Interstellar     8.6\n",
            "6  Avengers: Endgame     8.4\n",
            "4              Joker     8.4\n",
            "5       The Notebook     7.9\n",
            "2            Titanic     7.8\n"
          ]
        }
      ]
    },
    {
      "cell_type": "code",
      "source": [
        "genre_summary = df.groupby('Genre').agg({'Rating':'mean','Revenue':'sum'})\n",
        "print(\"\\nStep 7: Genre Summary (Avg Rating & Total Revenue):\")\n",
        "print(genre_summary)"
      ],
      "metadata": {
        "colab": {
          "base_uri": "https://localhost:8080/"
        },
        "id": "cBhbf69ANi_A",
        "outputId": "af1c0b3d-954d-4aca-bd73-cb6f13c12bc8"
      },
      "execution_count": 11,
      "outputs": [
        {
          "output_type": "stream",
          "name": "stdout",
          "text": [
            "\n",
            "Step 7: Genre Summary (Avg Rating & Total Revenue):\n",
            "         Rating       Revenue\n",
            "Genre                        \n",
            "Action     8.70  3.802359e+09\n",
            "Drama      8.40  1.074251e+09\n",
            "Romance    7.85  3.615310e+09\n",
            "Sci-Fi     8.70  1.503004e+09\n"
          ]
        }
      ]
    },
    {
      "cell_type": "code",
      "source": [
        "high_profit_movies = df[(df['Rating']>=8.5) & (df['Profit']>500_000_000)]\n",
        "print(\"\\nStep 8: High Profit Movies (Rating>=8.5 & Profit>500M):\")\n",
        "print(high_profit_movies[['Title','Rating','Profit']])"
      ],
      "metadata": {
        "colab": {
          "base_uri": "https://localhost:8080/"
        },
        "id": "ufXjVu0lNlra",
        "outputId": "6e9be77c-56b5-494f-ed30-affb4447e607"
      },
      "execution_count": 12,
      "outputs": [
        {
          "output_type": "stream",
          "name": "stdout",
          "text": [
            "\n",
            "Step 8: High Profit Movies (Rating>=8.5 & Profit>500M):\n",
            "             Title  Rating       Profit\n",
            "0        Inception     8.8  665532764.0\n",
            "1  The Dark Knight     9.0  819558444.0\n",
            "3     Interstellar     8.6  512471339.0\n"
          ]
        }
      ]
    },
    {
      "cell_type": "code",
      "source": [
        "print(\"\\nStep 9: Plotting Movie Profit Bar Chart...\")\n",
        "plt.figure(figsize=(10,5))\n",
        "plt.bar(df['Title'], df['Profit']/1e6)\n",
        "plt.xticks(rotation=45)\n",
        "plt.ylabel(\"Profit (Millions)\")\n",
        "plt.title(\"Movie Profit Comparison\")\n",
        "plt.show()"
      ],
      "metadata": {
        "colab": {
          "base_uri": "https://localhost:8080/",
          "height": 597
        },
        "id": "X92E2mNINnsB",
        "outputId": "74bedd20-8c3e-4ae5-df8a-f26ec6d7817a"
      },
      "execution_count": 13,
      "outputs": [
        {
          "output_type": "stream",
          "name": "stdout",
          "text": [
            "\n",
            "Step 9: Plotting Movie Profit Bar Chart...\n"
          ]
        },
        {
          "output_type": "display_data",
          "data": {
            "text/plain": [
              "<Figure size 1000x500 with 1 Axes>"
            ],
            "image/png": "[encoded data removed]"
          },
          "metadata": {}
        }
      ]
    },
    {
      "cell_type": "code",
      "source": [],
      "metadata": {
        "id": "XV0Mplr0NrFJ"
      },
      "execution_count": null,
      "outputs": []
    },
    {
      "cell_type": "markdown",
      "source": [
        "#PART 2: PySpark Operations\n"
      ],
      "metadata": {
        "id": "IgkHfAxwNyN4"
      }
    },
    {
      "cell_type": "code",
      "source": [
        "from pyspark.sql import SparkSession\n",
        "from pyspark.sql.functions import col, avg, sum as _sum, when, year, month\n",
        "import pyspark.sql.functions as F\n",
        "from pyspark.sql.window import Window"
      ],
      "metadata": {
        "id": "RJjZ9VATN2wJ"
      },
      "execution_count": 15,
      "outputs": []
    },
    {
      "cell_type": "code",
      "source": [
        "spark = SparkSession.builder.appName(\"MovieAnalysis\").getOrCreate()"
      ],
      "metadata": {
        "id": "OWG97q3BN8uJ"
      },
      "execution_count": 16,
      "outputs": []
    },
    {
      "cell_type": "code",
      "source": [
        "movies_spark = spark.read.csv(\"movies.csv\", header=True, inferSchema=True)\n",
        "print(\"\\nStep 1: Loaded movies.csv into PySpark DataFrame\")\n",
        "movies_spark.show()"
      ],
      "metadata": {
        "colab": {
          "base_uri": "https://localhost:8080/"
        },
        "id": "DZFJ7sLdOCTP",
        "outputId": "508c6dbb-1af6-4b13-8cfa-6eebbf27f618"
      },
      "execution_count": 17,
      "outputs": [
        {
          "output_type": "stream",
          "name": "stdout",
          "text": [
            "\n",
            "Step 1: Loaded movies.csv into PySpark DataFrame\n",
            "+-------+-----------------+-------+-----------+------+-------------+---------+\n",
            "|MovieID|            Title|  Genre|ReleaseDate|Rating|      Revenue|   Budget|\n",
            "+-------+-----------------+-------+-----------+------+-------------+---------+\n",
            "|      1|        Inception| Sci-Fi| 2010-07-16|   8.8| 8.25532764E8|160000000|\n",
            "|      2|  The Dark Knight| Action| 2008-07-18|   9.0|1.004558444E9|185000000|\n",
            "|      3|          Titanic|Romance| 1997-12-19|   7.8|2.187463944E9|200000000|\n",
            "|      4|     Interstellar| Sci-Fi| 2014-11-07|   8.6| 6.77471339E8|165000000|\n",
            "|      5|            Joker|  Drama| 2019-10-04|   8.4|1.074251311E9| 55000000|\n",
            "|      6|     The Notebook|Romance| 2004-06-25|   7.9|         NULL| 29000000|\n",
            "|      7|Avengers: Endgame| Action| 2019-04-26|   8.4|2.797800564E9|356000000|\n",
            "+-------+-----------------+-------+-----------+------+-------------+---------+\n",
            "\n"
          ]
        }
      ]
    },
    {
      "cell_type": "code",
      "source": [
        "movies_spark = movies_spark.withColumn(\"Profit\", col(\"Revenue\")-col(\"Budget\"))\n",
        "print(\"\\nStep 2: Added Profit column\")\n",
        "movies_spark.show()"
      ],
      "metadata": {
        "colab": {
          "base_uri": "https://localhost:8080/"
        },
        "id": "0vj19oP1OIkY",
        "outputId": "9ff3964f-201c-4a22-ceb7-c0b6b345d6a5"
      },
      "execution_count": 18,
      "outputs": [
        {
          "output_type": "stream",
          "name": "stdout",
          "text": [
            "\n",
            "Step 2: Added Profit column\n",
            "+-------+-----------------+-------+-----------+------+-------------+---------+-------------+\n",
            "|MovieID|            Title|  Genre|ReleaseDate|Rating|      Revenue|   Budget|       Profit|\n",
            "+-------+-----------------+-------+-----------+------+-------------+---------+-------------+\n",
            "|      1|        Inception| Sci-Fi| 2010-07-16|   8.8| 8.25532764E8|160000000| 6.65532764E8|\n",
            "|      2|  The Dark Knight| Action| 2008-07-18|   9.0|1.004558444E9|185000000| 8.19558444E8|\n",
            "|      3|          Titanic|Romance| 1997-12-19|   7.8|2.187463944E9|200000000|1.987463944E9|\n",
            "|      4|     Interstellar| Sci-Fi| 2014-11-07|   8.6| 6.77471339E8|165000000| 5.12471339E8|\n",
            "|      5|            Joker|  Drama| 2019-10-04|   8.4|1.074251311E9| 55000000|1.019251311E9|\n",
            "|      6|     The Notebook|Romance| 2004-06-25|   7.9|         NULL| 29000000|         NULL|\n",
            "|      7|Avengers: Endgame| Action| 2019-04-26|   8.4|2.797800564E9|356000000|2.441800564E9|\n",
            "+-------+-----------------+-------+-----------+------+-------------+---------+-------------+\n",
            "\n"
          ]
        }
      ]
    },
    {
      "cell_type": "code",
      "source": [
        "print(\"\\nStep 3: Sci-Fi Movies with Profit > 500M\")\n",
        "sci_fi_hits = movies_spark.filter((col(\"Genre\")==\"Sci-Fi\") & (col(\"Profit\")>500_000_000))\n",
        "sci_fi_hits.show()\n"
      ],
      "metadata": {
        "colab": {
          "base_uri": "https://localhost:8080/"
        },
        "id": "gUdMKviPOLGA",
        "outputId": "a578e76a-4cdf-4644-d244-c4005de305ed"
      },
      "execution_count": 19,
      "outputs": [
        {
          "output_type": "stream",
          "name": "stdout",
          "text": [
            "\n",
            "Step 3: Sci-Fi Movies with Profit > 500M\n",
            "+-------+------------+------+-----------+------+------------+---------+------------+\n",
            "|MovieID|       Title| Genre|ReleaseDate|Rating|     Revenue|   Budget|      Profit|\n",
            "+-------+------------+------+-----------+------+------------+---------+------------+\n",
            "|      1|   Inception|Sci-Fi| 2010-07-16|   8.8|8.25532764E8|160000000|6.65532764E8|\n",
            "|      4|Interstellar|Sci-Fi| 2014-11-07|   8.6|6.77471339E8|165000000|5.12471339E8|\n",
            "+-------+------------+------+-----------+------+------------+---------+------------+\n",
            "\n"
          ]
        }
      ]
    },
    {
      "cell_type": "code",
      "source": [
        "print(\"\\nStep 4: Genre-wise Avg Rating & Total Profit\")\n",
        "genre_stats = movies_spark.groupBy(\"Genre\").agg(\n",
        "    avg(\"Rating\").alias(\"AvgRating\"),\n",
        "    _sum(\"Profit\").alias(\"TotalProfit\")\n",
        ")\n",
        "genre_stats.show()"
      ],
      "metadata": {
        "colab": {
          "base_uri": "https://localhost:8080/"
        },
        "id": "bljyuJqcOP2R",
        "outputId": "b06eef31-29f3-4aaa-e52b-0dc6cf599026"
      },
      "execution_count": 20,
      "outputs": [
        {
          "output_type": "stream",
          "name": "stdout",
          "text": [
            "\n",
            "Step 4: Genre-wise Avg Rating & Total Profit\n",
            "+-------+---------+-------------+\n",
            "|  Genre|AvgRating|  TotalProfit|\n",
            "+-------+---------+-------------+\n",
            "|Romance|     7.85|1.987463944E9|\n",
            "|  Drama|      8.4|1.019251311E9|\n",
            "| Action|      8.7|3.261359008E9|\n",
            "| Sci-Fi|      8.7|1.178004103E9|\n",
            "+-------+---------+-------------+\n",
            "\n"
          ]
        }
      ]
    },
    {
      "cell_type": "code",
      "source": [
        "print(\"\\nStep 5: Classified Movies by Category\")\n",
        "movies_spark = movies_spark.withColumn(\"Category\",\n",
        "    when(col(\"Rating\")==9,\"Blockbuster\")\n",
        "    .when((col(\"Rating\")>=8),\"Hit\")\n",
        "    .otherwise(\"Average\")\n",
        ")\n",
        "movies_spark.show()\n",
        "\n"
      ],
      "metadata": {
        "colab": {
          "base_uri": "https://localhost:8080/"
        },
        "id": "S-wgaf2JOT_P",
        "outputId": "49a072c9-8f49-441c-96a7-9a471157c174"
      },
      "execution_count": 21,
      "outputs": [
        {
          "output_type": "stream",
          "name": "stdout",
          "text": [
            "\n",
            "Step 5: Classified Movies by Category\n",
            "+-------+-----------------+-------+-----------+------+-------------+---------+-------------+-----------+\n",
            "|MovieID|            Title|  Genre|ReleaseDate|Rating|      Revenue|   Budget|       Profit|   Category|\n",
            "+-------+-----------------+-------+-----------+------+-------------+---------+-------------+-----------+\n",
            "|      1|        Inception| Sci-Fi| 2010-07-16|   8.8| 8.25532764E8|160000000| 6.65532764E8|        Hit|\n",
            "|      2|  The Dark Knight| Action| 2008-07-18|   9.0|1.004558444E9|185000000| 8.19558444E8|Blockbuster|\n",
            "|      3|          Titanic|Romance| 1997-12-19|   7.8|2.187463944E9|200000000|1.987463944E9|    Average|\n",
            "|      4|     Interstellar| Sci-Fi| 2014-11-07|   8.6| 6.77471339E8|165000000| 5.12471339E8|        Hit|\n",
            "|      5|            Joker|  Drama| 2019-10-04|   8.4|1.074251311E9| 55000000|1.019251311E9|        Hit|\n",
            "|      6|     The Notebook|Romance| 2004-06-25|   7.9|         NULL| 29000000|         NULL|    Average|\n",
            "|      7|Avengers: Endgame| Action| 2019-04-26|   8.4|2.797800564E9|356000000|2.441800564E9|        Hit|\n",
            "+-------+-----------------+-------+-----------+------+-------------+---------+-------------+-----------+\n",
            "\n"
          ]
        }
      ]
    },
    {
      "cell_type": "code",
      "source": [
        "\n",
        "movies_spark = movies_spark.drop(\"Budget\")\n",
        "print(\"\\nStep 6: Dropped Budget column\")\n",
        "movies_spark.show()"
      ],
      "metadata": {
        "colab": {
          "base_uri": "https://localhost:8080/"
        },
        "id": "KC0shRUmOZNP",
        "outputId": "dedc0146-5315-4688-9d13-29436f0b77a3"
      },
      "execution_count": 22,
      "outputs": [
        {
          "output_type": "stream",
          "name": "stdout",
          "text": [
            "\n",
            "Step 6: Dropped Budget column\n",
            "+-------+-----------------+-------+-----------+------+-------------+-------------+-----------+\n",
            "|MovieID|            Title|  Genre|ReleaseDate|Rating|      Revenue|       Profit|   Category|\n",
            "+-------+-----------------+-------+-----------+------+-------------+-------------+-----------+\n",
            "|      1|        Inception| Sci-Fi| 2010-07-16|   8.8| 8.25532764E8| 6.65532764E8|        Hit|\n",
            "|      2|  The Dark Knight| Action| 2008-07-18|   9.0|1.004558444E9| 8.19558444E8|Blockbuster|\n",
            "|      3|          Titanic|Romance| 1997-12-19|   7.8|2.187463944E9|1.987463944E9|    Average|\n",
            "|      4|     Interstellar| Sci-Fi| 2014-11-07|   8.6| 6.77471339E8| 5.12471339E8|        Hit|\n",
            "|      5|            Joker|  Drama| 2019-10-04|   8.4|1.074251311E9|1.019251311E9|        Hit|\n",
            "|      6|     The Notebook|Romance| 2004-06-25|   7.9|         NULL|         NULL|    Average|\n",
            "|      7|Avengers: Endgame| Action| 2019-04-26|   8.4|2.797800564E9|2.441800564E9|        Hit|\n",
            "+-------+-----------------+-------+-----------+------+-------------+-------------+-----------+\n",
            "\n"
          ]
        }
      ]
    },
    {
      "cell_type": "code",
      "source": [
        "\n",
        "avg_rev = movies_spark.select(F.mean(col(\"Revenue\"))).collect()[0][0]\n",
        "movies_spark = movies_spark.fillna({\"Revenue\": avg_rev})\n",
        "print(\"\\nStep 7: Filled Null Revenue with Average\")\n",
        "movies_spark.show()\n",
        "\n"
      ],
      "metadata": {
        "colab": {
          "base_uri": "https://localhost:8080/"
        },
        "id": "lhwNtTTQOclm",
        "outputId": "08c42a3b-8990-4e41-fe7e-810bcb80d677"
      },
      "execution_count": 23,
      "outputs": [
        {
          "output_type": "stream",
          "name": "stdout",
          "text": [
            "\n",
            "Step 7: Filled Null Revenue with Average\n",
            "+-------+-----------------+-------+-----------+------+--------------------+-------------+-----------+\n",
            "|MovieID|            Title|  Genre|ReleaseDate|Rating|             Revenue|       Profit|   Category|\n",
            "+-------+-----------------+-------+-----------+------+--------------------+-------------+-----------+\n",
            "|      1|        Inception| Sci-Fi| 2010-07-16|   8.8|        8.25532764E8| 6.65532764E8|        Hit|\n",
            "|      2|  The Dark Knight| Action| 2008-07-18|   9.0|       1.004558444E9| 8.19558444E8|Blockbuster|\n",
            "|      3|          Titanic|Romance| 1997-12-19|   7.8|       2.187463944E9|1.987463944E9|    Average|\n",
            "|      4|     Interstellar| Sci-Fi| 2014-11-07|   8.6|        6.77471339E8| 5.12471339E8|        Hit|\n",
            "|      5|            Joker|  Drama| 2019-10-04|   8.4|       1.074251311E9|1.019251311E9|        Hit|\n",
            "|      6|     The Notebook|Romance| 2004-06-25|   7.9|1.4278463943333333E9|         NULL|    Average|\n",
            "|      7|Avengers: Endgame| Action| 2019-04-26|   8.4|       2.797800564E9|2.441800564E9|        Hit|\n",
            "+-------+-----------------+-------+-----------+------+--------------------+-------------+-----------+\n",
            "\n"
          ]
        }
      ]
    },
    {
      "cell_type": "code",
      "source": [
        "movies_spark = movies_spark.withColumn(\"Year\", year(col(\"ReleaseDate\")))\n",
        "movies_spark = movies_spark.withColumn(\"Month\", month(col(\"ReleaseDate\")))\n",
        "print(\"\\nStep 8: Extracted Year and Month\")\n",
        "movies_spark.show()"
      ],
      "metadata": {
        "colab": {
          "base_uri": "https://localhost:8080/"
        },
        "id": "lKwKUm_-Oc5f",
        "outputId": "6cb87e8b-0870-4f12-e1df-fbce06ab31ab"
      },
      "execution_count": 24,
      "outputs": [
        {
          "output_type": "stream",
          "name": "stdout",
          "text": [
            "\n",
            "Step 8: Extracted Year and Month\n",
            "+-------+-----------------+-------+-----------+------+--------------------+-------------+-----------+----+-----+\n",
            "|MovieID|            Title|  Genre|ReleaseDate|Rating|             Revenue|       Profit|   Category|Year|Month|\n",
            "+-------+-----------------+-------+-----------+------+--------------------+-------------+-----------+----+-----+\n",
            "|      1|        Inception| Sci-Fi| 2010-07-16|   8.8|        8.25532764E8| 6.65532764E8|        Hit|2010|    7|\n",
            "|      2|  The Dark Knight| Action| 2008-07-18|   9.0|       1.004558444E9| 8.19558444E8|Blockbuster|2008|    7|\n",
            "|      3|          Titanic|Romance| 1997-12-19|   7.8|       2.187463944E9|1.987463944E9|    Average|1997|   12|\n",
            "|      4|     Interstellar| Sci-Fi| 2014-11-07|   8.6|        6.77471339E8| 5.12471339E8|        Hit|2014|   11|\n",
            "|      5|            Joker|  Drama| 2019-10-04|   8.4|       1.074251311E9|1.019251311E9|        Hit|2019|   10|\n",
            "|      6|     The Notebook|Romance| 2004-06-25|   7.9|1.4278463943333333E9|         NULL|    Average|2004|    6|\n",
            "|      7|Avengers: Endgame| Action| 2019-04-26|   8.4|       2.797800564E9|2.441800564E9|        Hit|2019|    4|\n",
            "+-------+-----------------+-------+-----------+------+--------------------+-------------+-----------+----+-----+\n",
            "\n"
          ]
        }
      ]
    },
    {
      "cell_type": "code",
      "source": [
        "print(\"\\nStep 9: Ranking Movies by Profit within each Genre\")\n",
        "window_spec = Window.partitionBy(\"Genre\").orderBy(col(\"Profit\").desc())\n",
        "ranked_movies = movies_spark.withColumn(\"Rank\", F.rank().over(window_spec))\n",
        "ranked_movies.show()"
      ],
      "metadata": {
        "colab": {
          "base_uri": "https://localhost:8080/"
        },
        "id": "MCT--smJOjZP",
        "outputId": "eb773922-d787-48ff-e13e-f9662e8cffb3"
      },
      "execution_count": 25,
      "outputs": [
        {
          "output_type": "stream",
          "name": "stdout",
          "text": [
            "\n",
            "Step 9: Ranking Movies by Profit within each Genre\n",
            "+-------+-----------------+-------+-----------+------+--------------------+-------------+-----------+----+-----+----+\n",
            "|MovieID|            Title|  Genre|ReleaseDate|Rating|             Revenue|       Profit|   Category|Year|Month|Rank|\n",
            "+-------+-----------------+-------+-----------+------+--------------------+-------------+-----------+----+-----+----+\n",
            "|      7|Avengers: Endgame| Action| 2019-04-26|   8.4|       2.797800564E9|2.441800564E9|        Hit|2019|    4|   1|\n",
            "|      2|  The Dark Knight| Action| 2008-07-18|   9.0|       1.004558444E9| 8.19558444E8|Blockbuster|2008|    7|   2|\n",
            "|      5|            Joker|  Drama| 2019-10-04|   8.4|       1.074251311E9|1.019251311E9|        Hit|2019|   10|   1|\n",
            "|      3|          Titanic|Romance| 1997-12-19|   7.8|       2.187463944E9|1.987463944E9|    Average|1997|   12|   1|\n",
            "|      6|     The Notebook|Romance| 2004-06-25|   7.9|1.4278463943333333E9|         NULL|    Average|2004|    6|   2|\n",
            "|      1|        Inception| Sci-Fi| 2010-07-16|   8.8|        8.25532764E8| 6.65532764E8|        Hit|2010|    7|   1|\n",
            "|      4|     Interstellar| Sci-Fi| 2014-11-07|   8.6|        6.77471339E8| 5.12471339E8|        Hit|2014|   11|   2|\n",
            "+-------+-----------------+-------+-----------+------+--------------------+-------------+-----------+----+-----+----+\n",
            "\n"
          ]
        }
      ]
    },
    {
      "cell_type": "markdown",
      "source": [
        "#PART 3: JSON + Union + Bonus"
      ],
      "metadata": {
        "id": "5c8clbbcOv_-"
      }
    },
    {
      "cell_type": "code",
      "source": [
        "bonus_data = [\n",
        "    {\"MovieID\": 8, \"Title\": \"Barbie\", \"Genre\": \"Drama\", \"Rating\": 7.5, \"Revenue\":1456000000, \"Budget\":145000000},\n",
        "    {\"MovieID\": 9, \"Title\": \"Oppenheimer\", \"Genre\": \"Drama\", \"Rating\": 8.6, \"Revenue\":950000000, \"Budget\":100000000}\n",
        "]\n",
        "bonus_df = pd.DataFrame(bonus_data)\n",
        "bonus_df.to_json(\"movies_bonus.json\", orient=\"records\", lines=False)\n",
        "print(\"\\nStep 0: Created movies_bonus.json\")\n",
        "print(bonus_df)\n"
      ],
      "metadata": {
        "colab": {
          "base_uri": "https://localhost:8080/"
        },
        "id": "QZnz-erlOxf3",
        "outputId": "e1736d13-83a5-42e4-9c0e-df9f4e684b08"
      },
      "execution_count": 26,
      "outputs": [
        {
          "output_type": "stream",
          "name": "stdout",
          "text": [
            "\n",
            "Step 0: Created movies_bonus.json\n",
            "   MovieID        Title  Genre  Rating     Revenue     Budget\n",
            "0        8       Barbie  Drama     7.5  1456000000  145000000\n",
            "1        9  Oppenheimer  Drama     8.6   950000000  100000000\n"
          ]
        }
      ]
    },
    {
      "cell_type": "code",
      "source": [
        "bonus_spark = spark.read.json(\"movies_bonus.json\")\n",
        "print(\"\\nStep 1: Read JSON Data\")\n",
        "bonus_spark.show()\n",
        "\n"
      ],
      "metadata": {
        "colab": {
          "base_uri": "https://localhost:8080/"
        },
        "id": "0I9b82jIO3hf",
        "outputId": "8854aad2-1ea4-4cf0-ae2a-339b1f424dc0"
      },
      "execution_count": 27,
      "outputs": [
        {
          "output_type": "stream",
          "name": "stdout",
          "text": [
            "\n",
            "Step 1: Read JSON Data\n",
            "+---------+-----+-------+------+----------+-----------+\n",
            "|   Budget|Genre|MovieID|Rating|   Revenue|      Title|\n",
            "+---------+-----+-------+------+----------+-----------+\n",
            "|145000000|Drama|      8|   7.5|1456000000|     Barbie|\n",
            "|100000000|Drama|      9|   8.6| 950000000|Oppenheimer|\n",
            "+---------+-----+-------+------+----------+-----------+\n",
            "\n"
          ]
        }
      ]
    },
    {
      "cell_type": "code",
      "source": [
        "\n",
        "final_df = movies_spark.unionByName(bonus_spark, allowMissingColumns=True)\n",
        "print(\"\\nStep 2: Union with original movies DataFrame\")\n",
        "final_df.show()"
      ],
      "metadata": {
        "colab": {
          "base_uri": "https://localhost:8080/"
        },
        "id": "tjT9vFD9O6G2",
        "outputId": "85706edd-7716-4a26-c98f-a8be5181ae59"
      },
      "execution_count": 28,
      "outputs": [
        {
          "output_type": "stream",
          "name": "stdout",
          "text": [
            "\n",
            "Step 2: Union with original movies DataFrame\n",
            "+-------+-----------------+-------+-----------+------+--------------------+-------------+-----------+----+-----+---------+\n",
            "|MovieID|            Title|  Genre|ReleaseDate|Rating|             Revenue|       Profit|   Category|Year|Month|   Budget|\n",
            "+-------+-----------------+-------+-----------+------+--------------------+-------------+-----------+----+-----+---------+\n",
            "|      1|        Inception| Sci-Fi| 2010-07-16|   8.8|        8.25532764E8| 6.65532764E8|        Hit|2010|    7|     NULL|\n",
            "|      2|  The Dark Knight| Action| 2008-07-18|   9.0|       1.004558444E9| 8.19558444E8|Blockbuster|2008|    7|     NULL|\n",
            "|      3|          Titanic|Romance| 1997-12-19|   7.8|       2.187463944E9|1.987463944E9|    Average|1997|   12|     NULL|\n",
            "|      4|     Interstellar| Sci-Fi| 2014-11-07|   8.6|        6.77471339E8| 5.12471339E8|        Hit|2014|   11|     NULL|\n",
            "|      5|            Joker|  Drama| 2019-10-04|   8.4|       1.074251311E9|1.019251311E9|        Hit|2019|   10|     NULL|\n",
            "|      6|     The Notebook|Romance| 2004-06-25|   7.9|1.4278463943333333E9|         NULL|    Average|2004|    6|     NULL|\n",
            "|      7|Avengers: Endgame| Action| 2019-04-26|   8.4|       2.797800564E9|2.441800564E9|        Hit|2019|    4|     NULL|\n",
            "|      8|           Barbie|  Drama|       NULL|   7.5|             1.456E9|         NULL|       NULL|NULL| NULL|145000000|\n",
            "|      9|      Oppenheimer|  Drama|       NULL|   8.6|               9.5E8|         NULL|       NULL|NULL| NULL|100000000|\n",
            "+-------+-----------------+-------+-----------+------+--------------------+-------------+-----------+----+-----+---------+\n",
            "\n"
          ]
        }
      ]
    },
    {
      "cell_type": "code",
      "source": [
        "print(\"\\nStep 3: Top 5 Highest Grossing Movies\")\n",
        "final_df.orderBy(col(\"Revenue\").desc()).show(5)\n",
        "\n"
      ],
      "metadata": {
        "colab": {
          "base_uri": "https://localhost:8080/"
        },
        "id": "2Q_xETJfO_YG",
        "outputId": "e05e9044-e68e-44a2-8ded-d83fdced9e58"
      },
      "execution_count": 29,
      "outputs": [
        {
          "output_type": "stream",
          "name": "stdout",
          "text": [
            "\n",
            "Step 3: Top 5 Highest Grossing Movies\n",
            "+-------+-----------------+-------+-----------+------+--------------------+-------------+--------+----+-----+---------+\n",
            "|MovieID|            Title|  Genre|ReleaseDate|Rating|             Revenue|       Profit|Category|Year|Month|   Budget|\n",
            "+-------+-----------------+-------+-----------+------+--------------------+-------------+--------+----+-----+---------+\n",
            "|      7|Avengers: Endgame| Action| 2019-04-26|   8.4|       2.797800564E9|2.441800564E9|     Hit|2019|    4|     NULL|\n",
            "|      3|          Titanic|Romance| 1997-12-19|   7.8|       2.187463944E9|1.987463944E9| Average|1997|   12|     NULL|\n",
            "|      8|           Barbie|  Drama|       NULL|   7.5|             1.456E9|         NULL|    NULL|NULL| NULL|145000000|\n",
            "|      6|     The Notebook|Romance| 2004-06-25|   7.9|1.4278463943333333E9|         NULL| Average|2004|    6|     NULL|\n",
            "|      5|            Joker|  Drama| 2019-10-04|   8.4|       1.074251311E9|1.019251311E9|     Hit|2019|   10|     NULL|\n",
            "+-------+-----------------+-------+-----------+------+--------------------+-------------+--------+----+-----+---------+\n",
            "only showing top 5 rows\n",
            "\n"
          ]
        }
      ]
    },
    {
      "cell_type": "code",
      "source": [
        "final_df.write.csv(\"final_movies.csv\", header=True, mode=\"overwrite\")\n",
        "print(\"\\nStep 4: Saved final merged DataFrame as final_movies.csv\")"
      ],
      "metadata": {
        "colab": {
          "base_uri": "https://localhost:8080/"
        },
        "id": "x8Bu9TJ4PE3_",
        "outputId": "b8e22de3-0839-4e5f-d1e8-5512b603f195"
      },
      "execution_count": 30,
      "outputs": [
        {
          "output_type": "stream",
          "name": "stdout",
          "text": [
            "\n",
            "Step 4: Saved final merged DataFrame as final_movies.csv\n"
          ]
        }
      ]
    },
    {
      "cell_type": "code",
      "source": [
        "final_df = final_df.withColumn(\"Profit\", col(\"Revenue\")-col(\"Budget\"))\n",
        "final_df = final_df.withColumn(\"ROI\", col(\"Profit\")/col(\"Budget\"))\n",
        "print(\"\\nStep 5: Added Profit and ROI columns\")\n",
        "final_df.show()\n",
        "\n"
      ],
      "metadata": {
        "colab": {
          "base_uri": "https://localhost:8080/"
        },
        "id": "87gKdBoSPIKn",
        "outputId": "bd3403b3-4551-4246-9275-438f042744da"
      },
      "execution_count": 36,
      "outputs": [
        {
          "output_type": "stream",
          "name": "stdout",
          "text": [
            "\n",
            "Step 5: Added Profit and ROI columns\n",
            "+-------+-----------------+-------+-----------+------+--------------------+-------+-----------+----+-----+---------+-----------------+\n",
            "|MovieID|            Title|  Genre|ReleaseDate|Rating|             Revenue| Profit|   Category|Year|Month|   Budget|              ROI|\n",
            "+-------+-----------------+-------+-----------+------+--------------------+-------+-----------+----+-----+---------+-----------------+\n",
            "|      1|        Inception| Sci-Fi| 2010-07-16|   8.8|        8.25532764E8|   NULL|        Hit|2010|    7|     NULL|             NULL|\n",
            "|      2|  The Dark Knight| Action| 2008-07-18|   9.0|       1.004558444E9|   NULL|Blockbuster|2008|    7|     NULL|             NULL|\n",
            "|      3|          Titanic|Romance| 1997-12-19|   7.8|       2.187463944E9|   NULL|    Average|1997|   12|     NULL|             NULL|\n",
            "|      4|     Interstellar| Sci-Fi| 2014-11-07|   8.6|        6.77471339E8|   NULL|        Hit|2014|   11|     NULL|             NULL|\n",
            "|      5|            Joker|  Drama| 2019-10-04|   8.4|       1.074251311E9|   NULL|        Hit|2019|   10|     NULL|             NULL|\n",
            "|      6|     The Notebook|Romance| 2004-06-25|   7.9|1.4278463943333333E9|   NULL|    Average|2004|    6|     NULL|             NULL|\n",
            "|      7|Avengers: Endgame| Action| 2019-04-26|   8.4|       2.797800564E9|   NULL|        Hit|2019|    4|     NULL|             NULL|\n",
            "|      8|           Barbie|  Drama|       NULL|   7.5|             1.456E9|1.311E9|       NULL|NULL| NULL|145000000|9.041379310344828|\n",
            "|      9|      Oppenheimer|  Drama|       NULL|   8.6|               9.5E8|  8.5E8|       NULL|NULL| NULL|100000000|              8.5|\n",
            "+-------+-----------------+-------+-----------+------+--------------------+-------+-----------+----+-----+---------+-----------------+\n",
            "\n"
          ]
        }
      ]
    },
    {
      "cell_type": "code",
      "source": [
        "\n",
        "print(\"\\nBonus: Top ROI Movies (Budget > 50M)\")\n",
        "top_roi = final_df.filter(col(\"Budget\")>=50_000_000).orderBy(col(\"ROI\").desc())\n",
        "top_roi.show()\n"
      ],
      "metadata": {
        "colab": {
          "base_uri": "https://localhost:8080/"
        },
        "id": "RLiWSj8NPNtg",
        "outputId": "eee10277-fda8-4ecd-f806-406d2aba79ff"
      },
      "execution_count": 34,
      "outputs": [
        {
          "output_type": "stream",
          "name": "stdout",
          "text": [
            "\n",
            "Bonus: Top ROI Movies (Budget > 50M)\n",
            "+-------+-----------+-----+-----------+------+-------+-------+--------+----+-----+---------+-----------------+\n",
            "|MovieID|      Title|Genre|ReleaseDate|Rating|Revenue| Profit|Category|Year|Month|   Budget|              ROI|\n",
            "+-------+-----------+-----+-----------+------+-------+-------+--------+----+-----+---------+-----------------+\n",
            "|      8|     Barbie|Drama|       NULL|   7.5|1.456E9|1.311E9|    NULL|NULL| NULL|145000000|9.041379310344828|\n",
            "|      9|Oppenheimer|Drama|       NULL|   8.6|  9.5E8|  8.5E8|    NULL|NULL| NULL|100000000|              8.5|\n",
            "+-------+-----------+-----+-----------+------+-------+-------+--------+----+-----+---------+-----------------+\n",
            "\n"
          ]
        }
      ]
    },
    {
      "cell_type": "code",
      "source": [
        "print(\"\\nBonus: Plotting Genre-wise ROI\")\n",
        "final_pdf = final_df.toPandas()\n",
        "genre_roi = final_pdf.groupby(\"Genre\")[\"ROI\"].mean()\n",
        "genre_roi.plot(kind=\"bar\", title=\"Genre-wise ROI\", figsize=(8,5))\n",
        "plt.ylabel(\"Average ROI\")\n",
        "plt.show()"
      ],
      "metadata": {
        "colab": {
          "base_uri": "https://localhost:8080/",
          "height": 573
        },
        "id": "lk6lFQkePP3w",
        "outputId": "faaca91e-f9c0-4ed8-db48-9866c38abe63"
      },
      "execution_count": 35,
      "outputs": [
        {
          "output_type": "stream",
          "name": "stdout",
          "text": [
            "\n",
            "Bonus: Plotting Genre-wise ROI\n"
          ]
        },
        {
          "output_type": "display_data",
          "data": {
            "text/plain": [
              "<Figure size 800x500 with 1 Axes>"
            ],
            "image/png": "[encoded data removed]"
          },
          "metadata": {}
        }
      ]
    }
  ]
}