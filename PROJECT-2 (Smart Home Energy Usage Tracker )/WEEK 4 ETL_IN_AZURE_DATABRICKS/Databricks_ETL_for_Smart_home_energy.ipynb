{
  "nbformat": 4,
  "nbformat_minor": 0,
  "metadata": {
    "colab": {
      "provenance": []
    },
    "kernelspec": {
      "name": "python3",
      "display_name": "Python 3"
    },
    "language_info": {
      "name": "python"
    }
  },
  "cells": [
    {
      "cell_type": "code",
      "execution_count": 1,
      "metadata": {
        "colab": {
          "base_uri": "https://localhost:8080/"
        },
        "id": "Al5Ii1GnZWBz",
        "outputId": "1261eff7-f948-4d09-83dc-d80f2787b879"
      },
      "outputs": [
        {
          "output_type": "stream",
          "name": "stdout",
          "text": [
            "Collecting pyspark==3.5.0\n",
            "  Downloading pyspark-3.5.0.tar.gz (316.9 MB)\n",
            "\u001b[2K     \u001b[90m━━━━━━━━━━━━━━━━━━━━━━━━━━━━━━━━━━━━━━━\u001b[0m \u001b[32m316.9/316.9 MB\u001b[0m \u001b[31m5.2 MB/s\u001b[0m eta \u001b[36m0:00:00\u001b[0m\n",
            "\u001b[?25h  Preparing metadata (setup.py) ... \u001b[?25l\u001b[?25hdone\n",
            "Collecting delta-spark==3.1.0\n",
            "  Downloading delta_spark-3.1.0-py3-none-any.whl.metadata (1.9 kB)\n",
            "Requirement already satisfied: py4j==0.10.9.7 in /usr/local/lib/python3.11/dist-packages (from pyspark==3.5.0) (0.10.9.7)\n",
            "Requirement already satisfied: importlib-metadata>=1.0.0 in /usr/local/lib/python3.11/dist-packages (from delta-spark==3.1.0) (8.7.0)\n",
            "Requirement already satisfied: zipp>=3.20 in /usr/local/lib/python3.11/dist-packages (from importlib-metadata>=1.0.0->delta-spark==3.1.0) (3.23.0)\n",
            "Downloading delta_spark-3.1.0-py3-none-any.whl (21 kB)\n",
            "Building wheels for collected packages: pyspark\n",
            "  Building wheel for pyspark (setup.py) ... \u001b[?25l\u001b[?25hdone\n",
            "  Created wheel for pyspark: filename=pyspark-3.5.0-py2.py3-none-any.whl size=317425346 sha256=4bc0f640857a6ae64bb1d7a6c9b4813f1078ff0a41e48ba425a3764d7749cfa9\n",
            "  Stored in directory: /root/.cache/pip/wheels/38/df/61/8c121f50c3cffd77f8178180dd232d90b3b99d1bd61fb6d6be\n",
            "Successfully built pyspark\n",
            "Installing collected packages: pyspark, delta-spark\n",
            "  Attempting uninstall: pyspark\n",
            "    Found existing installation: pyspark 3.5.1\n",
            "    Uninstalling pyspark-3.5.1:\n",
            "      Successfully uninstalled pyspark-3.5.1\n",
            "\u001b[31mERROR: pip's dependency resolver does not currently take into account all the packages that are installed. This behaviour is the source of the following dependency conflicts.\n",
            "dataproc-spark-connect 0.8.3 requires pyspark[connect]~=3.5.1, but you have pyspark 3.5.0 which is incompatible.\u001b[0m\u001b[31m\n",
            "\u001b[0mSuccessfully installed delta-spark-3.1.0 pyspark-3.5.0\n"
          ]
        }
      ],
      "source": [
        "\n",
        "!pip install pyspark==3.5.0 delta-spark==3.1.0\n"
      ]
    },
    {
      "cell_type": "code",
      "source": [
        "\n",
        "from pyspark.sql import SparkSession\n",
        "from delta import configure_spark_with_delta_pip\n",
        "\n",
        "builder = (\n",
        "    SparkSession.builder.appName(\"SmartEnergyMonitoringETL\")\n",
        "    .config(\"spark.sql.extensions\", \"io.delta.sql.DeltaSparkSessionExtension\")\n",
        "    .config(\"spark.sql.catalog.spark_catalog\", \"org.apache.spark.sql.delta.catalog.DeltaCatalog\")\n",
        ")\n",
        "\n",
        "spark = configure_spark_with_delta_pip(builder).getOrCreate()\n",
        "print(\" Spark session created with Delta support\")\n"
      ],
      "metadata": {
        "colab": {
          "base_uri": "https://localhost:8080/"
        },
        "id": "Y1obYY99apIf",
        "outputId": "fb80ac4a-ec3b-45dd-b4b5-48a42573e46c"
      },
      "execution_count": 2,
      "outputs": [
        {
          "output_type": "stream",
          "name": "stdout",
          "text": [
            " Spark session created with Delta support\n"
          ]
        }
      ]
    },
    {
      "cell_type": "code",
      "source": [
        "from google.colab import files\n",
        "uploaded = files.upload()\n"
      ],
      "metadata": {
        "colab": {
          "base_uri": "https://localhost:8080/",
          "height": 142
        },
        "id": "rIaTLOdDa2sE",
        "outputId": "70076679-b803-4147-d17b-b18e64453e24"
      },
      "execution_count": 3,
      "outputs": [
        {
          "output_type": "display_data",
          "data": {
            "text/plain": [
              "<IPython.core.display.HTML object>"
            ],
            "text/html": [
              "\n",
              "     <input type=\"file\" id=\"files-d2448940-9985-47e4-a557-843cdbc1650b\" name=\"files[]\" multiple disabled\n",
              "        style=\"border:none\" />\n",
              "     <output id=\"result-d2448940-9985-47e4-a557-843cdbc1650b\">\n",
              "      Upload widget is only available when the cell has been executed in the\n",
              "      current browser session. Please rerun this cell to enable.\n",
              "      </output>\n",
              "      <script>// Copyright 2017 Google LLC\n",
              "//\n",
              "// Licensed under the Apache License, Version 2.0 (the \"License\");\n",
              "// you may not use this file except in compliance with the License.\n",
              "// You may obtain a copy of the License at\n",
              "//\n",
              "//      http://www.apache.org/licenses/LICENSE-2.0\n",
              "//\n",
              "// Unless required by applicable law or agreed to in writing, software\n",
              "// distributed under the License is distributed on an \"AS IS\" BASIS,\n",
              "// WITHOUT WARRANTIES OR CONDITIONS OF ANY KIND, either express or implied.\n",
              "// See the License for the specific language governing permissions and\n",
              "// limitations under the License.\n",
              "\n",
              "/**\n",
              " * @fileoverview Helpers for google.colab Python module.\n",
              " */\n",
              "(function(scope) {\n",
              "function span(text, styleAttributes = {}) {\n",
              "  const element = document.createElement('span');\n",
              "  element.textContent = text;\n",
              "  for (const key of Object.keys(styleAttributes)) {\n",
              "    element.style[key] = styleAttributes[key];\n",
              "  }\n",
              "  return element;\n",
              "}\n",
              "\n",
              "// Max number of bytes which will be uploaded at a time.\n",
              "const MAX_PAYLOAD_SIZE = 100 * 1024;\n",
              "\n",
              "function _uploadFiles(inputId, outputId) {\n",
              "  const steps = uploadFilesStep(inputId, outputId);\n",
              "  const outputElement = document.getElementById(outputId);\n",
              "  // Cache steps on the outputElement to make it available for the next call\n",
              "  // to uploadFilesContinue from Python.\n",
              "  outputElement.steps = steps;\n",
              "\n",
              "  return _uploadFilesContinue(outputId);\n",
              "}\n",
              "\n",
              "// This is roughly an async generator (not supported in the browser yet),\n",
              "// where there are multiple asynchronous steps and the Python side is going\n",
              "// to poll for completion of each step.\n",
              "// This uses a Promise to block the python side on completion of each step,\n",
              "// then passes the result of the previous step as the input to the next step.\n",
              "function _uploadFilesContinue(outputId) {\n",
              "  const outputElement = document.getElementById(outputId);\n",
              "  const steps = outputElement.steps;\n",
              "\n",
              "  const next = steps.next(outputElement.lastPromiseValue);\n",
              "  return Promise.resolve(next.value.promise).then((value) => {\n",
              "    // Cache the last promise value to make it available to the next\n",
              "    // step of the generator.\n",
              "    outputElement.lastPromiseValue = value;\n",
              "    return next.value.response;\n",
              "  });\n",
              "}\n",
              "\n",
              "/**\n",
              " * Generator function which is called between each async step of the upload\n",
              " * process.\n",
              " * @param {string} inputId Element ID of the input file picker element.\n",
              " * @param {string} outputId Element ID of the output display.\n",
              " * @return {!Iterable<!Object>} Iterable of next steps.\n",
              " */\n",
              "function* uploadFilesStep(inputId, outputId) {\n",
              "  const inputElement = document.getElementById(inputId);\n",
              "  inputElement.disabled = false;\n",
              "\n",
              "  const outputElement = document.getElementById(outputId);\n",
              "  outputElement.innerHTML = '';\n",
              "\n",
              "  const pickedPromise = new Promise((resolve) => {\n",
              "    inputElement.addEventListener('change', (e) => {\n",
              "      resolve(e.target.files);\n",
              "    });\n",
              "  });\n",
              "\n",
              "  const cancel = document.createElement('button');\n",
              "  inputElement.parentElement.appendChild(cancel);\n",
              "  cancel.textContent = 'Cancel upload';\n",
              "  const cancelPromise = new Promise((resolve) => {\n",
              "    cancel.onclick = () => {\n",
              "      resolve(null);\n",
              "    };\n",
              "  });\n",
              "\n",
              "  // Wait for the user to pick the files.\n",
              "  const files = yield {\n",
              "    promise: Promise.race([pickedPromise, cancelPromise]),\n",
              "    response: {\n",
              "      action: 'starting',\n",
              "    }\n",
              "  };\n",
              "\n",
              "  cancel.remove();\n",
              "\n",
              "  // Disable the input element since further picks are not allowed.\n",
              "  inputElement.disabled = true;\n",
              "\n",
              "  if (!files) {\n",
              "    return {\n",
              "      response: {\n",
              "        action: 'complete',\n",
              "      }\n",
              "    };\n",
              "  }\n",
              "\n",
              "  for (const file of files) {\n",
              "    const li = document.createElement('li');\n",
              "    li.append(span(file.name, {fontWeight: 'bold'}));\n",
              "    li.append(span(\n",
              "        `(${file.type || 'n/a'}) - ${file.size} bytes, ` +\n",
              "        `last modified: ${\n",
              "            file.lastModifiedDate ? file.lastModifiedDate.toLocaleDateString() :\n",
              "                                    'n/a'} - `));\n",
              "    const percent = span('0% done');\n",
              "    li.appendChild(percent);\n",
              "\n",
              "    outputElement.appendChild(li);\n",
              "\n",
              "    const fileDataPromise = new Promise((resolve) => {\n",
              "      const reader = new FileReader();\n",
              "      reader.onload = (e) => {\n",
              "        resolve(e.target.result);\n",
              "      };\n",
              "      reader.readAsArrayBuffer(file);\n",
              "    });\n",
              "    // Wait for the data to be ready.\n",
              "    let fileData = yield {\n",
              "      promise: fileDataPromise,\n",
              "      response: {\n",
              "        action: 'continue',\n",
              "      }\n",
              "    };\n",
              "\n",
              "    // Use a chunked sending to avoid message size limits. See b/62115660.\n",
              "    let position = 0;\n",
              "    do {\n",
              "      const length = Math.min(fileData.byteLength - position, MAX_PAYLOAD_SIZE);\n",
              "      const chunk = new Uint8Array(fileData, position, length);\n",
              "      position += length;\n",
              "\n",
              "      const base64 = btoa(String.fromCharCode.apply(null, chunk));\n",
              "      yield {\n",
              "        response: {\n",
              "          action: 'append',\n",
              "          file: file.name,\n",
              "          data: base64,\n",
              "        },\n",
              "      };\n",
              "\n",
              "      let percentDone = fileData.byteLength === 0 ?\n",
              "          100 :\n",
              "          Math.round((position / fileData.byteLength) * 100);\n",
              "      percent.textContent = `${percentDone}% done`;\n",
              "\n",
              "    } while (position < fileData.byteLength);\n",
              "  }\n",
              "\n",
              "  // All done.\n",
              "  yield {\n",
              "    response: {\n",
              "      action: 'complete',\n",
              "    }\n",
              "  };\n",
              "}\n",
              "\n",
              "scope.google = scope.google || {};\n",
              "scope.google.colab = scope.google.colab || {};\n",
              "scope.google.colab._files = {\n",
              "  _uploadFiles,\n",
              "  _uploadFilesContinue,\n",
              "};\n",
              "})(self);\n",
              "</script> "
            ]
          },
          "metadata": {}
        },
        {
          "output_type": "stream",
          "name": "stdout",
          "text": [
            "Saving devices.csv to devices.csv\n",
            "Saving energy_logs.csv to energy_logs.csv\n",
            "Saving rooms.csv to rooms.csv\n"
          ]
        }
      ]
    },
    {
      "cell_type": "code",
      "source": [
        "logs_df = spark.read.csv(\"energy_logs.csv\", header=True, inferSchema=True)\n",
        "devices_df = spark.read.csv(\"devices.csv\", header=True, inferSchema=True)\n",
        "rooms_df = spark.read.csv(\"rooms.csv\", header=True, inferSchema=True)\n",
        "\n",
        "print(\" Raw logs loaded\")\n",
        "logs_df.show(5)\n",
        "print(\" Raw devices loaded\")\n",
        "devices_df.show(5)\n",
        "print(\" Raw rooms loaded\")\n",
        "rooms_df.show(5)"
      ],
      "metadata": {
        "colab": {
          "base_uri": "https://localhost:8080/"
        },
        "id": "VHODtQEfb6rC",
        "outputId": "81a34cd5-c784-4dc4-cb2f-e40f517ed37c"
      },
      "execution_count": 7,
      "outputs": [
        {
          "output_type": "stream",
          "name": "stdout",
          "text": [
            " Raw logs loaded\n",
            "+------+---------+-------------------+----------+\n",
            "|log_id|device_id|          timestamp|energy_kwh|\n",
            "+------+---------+-------------------+----------+\n",
            "|     1|        1|2025-07-22 06:30:00|      0.55|\n",
            "|     2|        2|2025-07-22 07:15:00|       1.8|\n",
            "|     3|        3|2025-07-22 08:45:00|      2.25|\n",
            "+------+---------+-------------------+----------+\n",
            "\n",
            " Raw devices loaded\n",
            "+---------+------------+-------+--------+\n",
            "|device_id|        name|room_id|  status|\n",
            "+---------+------------+-------+--------+\n",
            "|        1|  Smart Lamp|      1|  active|\n",
            "|        2|Air Purifier|      2|inactive|\n",
            "|        3|Water Heater|      3|  active|\n",
            "+---------+------------+-------+--------+\n",
            "\n",
            " Raw rooms loaded\n",
            "+-------+----------+\n",
            "|room_id|      name|\n",
            "+-------+----------+\n",
            "|      1|Study Room|\n",
            "|      2|Guest Room|\n",
            "|      3|  Bathroom|\n",
            "+-------+----------+\n",
            "\n"
          ]
        }
      ]
    },
    {
      "cell_type": "code",
      "source": [
        "from pyspark.sql.functions import col\n",
        "\n",
        "\n",
        "logs_df = logs_df.withColumn(\"timestamp\", col(\"timestamp\").cast(\"timestamp\")) \\\n",
        "                 .filter(col(\"energy_kwh\").isNotNull())\n",
        "\n",
        "print(\" Cleaned logs\")\n",
        "logs_df.show(5)"
      ],
      "metadata": {
        "colab": {
          "base_uri": "https://localhost:8080/"
        },
        "id": "Cs-1S6UjcE9D",
        "outputId": "d583dfba-108e-4824-beac-312a9baaf472"
      },
      "execution_count": 10,
      "outputs": [
        {
          "output_type": "stream",
          "name": "stdout",
          "text": [
            " Cleaned logs\n",
            "+------+---------+-------------------+----------+\n",
            "|log_id|device_id|          timestamp|energy_kwh|\n",
            "+------+---------+-------------------+----------+\n",
            "|     1|        1|2025-07-22 06:30:00|      0.55|\n",
            "|     2|        2|2025-07-22 07:15:00|       1.8|\n",
            "|     3|        3|2025-07-22 08:45:00|      2.25|\n",
            "+------+---------+-------------------+----------+\n",
            "\n"
          ]
        }
      ]
    },
    {
      "cell_type": "code",
      "source": [
        "from pyspark.sql.functions import date_trunc, sum as _sum\n",
        "\n",
        "daily_df = logs_df.groupBy(\"device_id\", date_trunc(\"day\", col(\"timestamp\")).alias(\"date\")) \\\n",
        "                  .agg(_sum(\"energy_kwh\").alias(\"daily_energy\"))\n",
        "\n",
        "print(\" Daily summary\")\n",
        "daily_df.show(5)\n",
        "\n",
        "\n",
        "weekly_df = logs_df.groupBy(\"device_id\", date_trunc(\"week\", col(\"timestamp\")).alias(\"week\")) \\\n",
        "                   .agg(_sum(\"energy_kwh\").alias(\"weekly_energy\"))\n",
        "\n",
        "print(\"Weekly summary\")\n",
        "weekly_df.show(5)\n"
      ],
      "metadata": {
        "colab": {
          "base_uri": "https://localhost:8080/"
        },
        "id": "DgU4qM8DcH0h",
        "outputId": "0e7d5c4f-d6b9-45f5-d0b6-6ab5fe465ff3"
      },
      "execution_count": 12,
      "outputs": [
        {
          "output_type": "stream",
          "name": "stdout",
          "text": [
            " Daily summary\n",
            "+---------+-------------------+------------+\n",
            "|device_id|               date|daily_energy|\n",
            "+---------+-------------------+------------+\n",
            "|        1|2025-07-22 00:00:00|        0.55|\n",
            "|        3|2025-07-22 00:00:00|        2.25|\n",
            "|        2|2025-07-22 00:00:00|         1.8|\n",
            "+---------+-------------------+------------+\n",
            "\n",
            "Weekly summary\n",
            "+---------+-------------------+-------------+\n",
            "|device_id|               week|weekly_energy|\n",
            "+---------+-------------------+-------------+\n",
            "|        3|2025-07-21 00:00:00|         2.25|\n",
            "|        2|2025-07-21 00:00:00|          1.8|\n",
            "|        1|2025-07-21 00:00:00|         0.55|\n",
            "+---------+-------------------+-------------+\n",
            "\n"
          ]
        }
      ]
    },
    {
      "cell_type": "code",
      "source": [
        "\n",
        "daily_df.write.format(\"delta\").mode(\"overwrite\").save(\"daily_summary_delta\")\n",
        "daily_df.coalesce(1).write.csv(\"daily_summary_csv\", header=True, mode=\"overwrite\")\n",
        "\n",
        "\n",
        "weekly_df.write.format(\"delta\").mode(\"overwrite\").save(\"weekly_summary_delta\")\n",
        "weekly_df.coalesce(1).write.csv(\"weekly_summary_csv\", header=True, mode=\"overwrite\")\n",
        "\n",
        "print(\" ETL results saved in Delta & CSV formats\")\n"
      ],
      "metadata": {
        "colab": {
          "base_uri": "https://localhost:8080/"
        },
        "id": "SQqWvWiZcPOa",
        "outputId": "8269fda6-ae2d-47e7-a225-34551c1ea010"
      },
      "execution_count": 14,
      "outputs": [
        {
          "output_type": "stream",
          "name": "stdout",
          "text": [
            " ETL results saved in Delta & CSV formats\n"
          ]
        }
      ]
    },
    {
      "cell_type": "code",
      "source": [
        "\n",
        "daily_df.createOrReplaceTempView(\"daily_summary\")\n",
        "weekly_df.createOrReplaceTempView(\"weekly_summary\")\n",
        "\n",
        "\n",
        "high_usage = spark.sql(\"\"\"\n",
        "SELECT device_id, date, daily_energy\n",
        "FROM daily_summary\n",
        "WHERE daily_energy > 100\n",
        "ORDER BY daily_energy DESC\n",
        "\"\"\")\n",
        "\n",
        "print(\" High energy usage detected\")\n",
        "high_usage.show(10)\n"
      ],
      "metadata": {
        "colab": {
          "base_uri": "https://localhost:8080/"
        },
        "id": "ux8MD5hFcefS",
        "outputId": "8b380edf-de4b-42d3-b65c-535ee8db4b3c"
      },
      "execution_count": 15,
      "outputs": [
        {
          "output_type": "stream",
          "name": "stdout",
          "text": [
            " High energy usage detected\n",
            "+---------+----+------------+\n",
            "|device_id|date|daily_energy|\n",
            "+---------+----+------------+\n",
            "+---------+----+------------+\n",
            "\n"
          ]
        }
      ]
    }
  ]
}