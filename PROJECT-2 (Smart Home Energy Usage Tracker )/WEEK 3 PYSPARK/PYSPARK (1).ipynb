{
  "nbformat": 4,
  "nbformat_minor": 0,
  "metadata": {
    "colab": {
      "provenance": []
    },
    "kernelspec": {
      "name": "python3",
      "display_name": "Python 3"
    },
    "language_info": {
      "name": "python"
    }
  },
  "cells": [
    {
      "cell_type": "code",
      "execution_count": null,
      "metadata": {
        "id": "uhPZjL8dkHKI"
      },
      "outputs": [],
      "source": [
        "from pyspark.sql import SparkSession\n",
        "from pyspark.sql.functions import col, sum as _sum, when, hour"
      ]
    },
    {
      "cell_type": "markdown",
      "source": [
        "\n",
        "# Step 1: Initialize Spark Session"
      ],
      "metadata": {
        "id": "JzCnFTYBlsAd"
      }
    },
    {
      "cell_type": "code",
      "source": [
        "spark = SparkSession.builder.appName(\"DeviceLevelAggregation\").getOrCreate()\n",
        "print(\"Spark session created\")"
      ],
      "metadata": {
        "colab": {
          "base_uri": "https://localhost:8080/"
        },
        "id": "dNj8Xh4FkNOi",
        "outputId": "8bef9c23-2747-40c0-c13e-802bcb40efc3"
      },
      "execution_count": null,
      "outputs": [
        {
          "output_type": "stream",
          "name": "stdout",
          "text": [
            "Spark session created\n"
          ]
        }
      ]
    },
    {
      "cell_type": "markdown",
      "source": [
        "# Step 2: Load CSV files"
      ],
      "metadata": {
        "id": "cYbTW8_Klsz-"
      }
    },
    {
      "cell_type": "code",
      "source": [
        "from google.colab import files\n",
        "uploaded = files.upload()"
      ],
      "metadata": {
        "colab": {
          "base_uri": "https://localhost:8080/",
          "height": 142
        },
        "id": "cguluSxsk5fA",
        "outputId": "bba7a9c6-7220-4656-a665-52918c875356"
      },
      "execution_count": 6,
      "outputs": [
        {
          "output_type": "display_data",
          "data": {
            "text/plain": [
              "<IPython.core.display.HTML object>"
            ],
            "text/html": [
              "\n",
              "     <input type=\"file\" id=\"files-90721c7e-8811-4f58-820d-45058e42d53a\" name=\"files[]\" multiple disabled\n",
              "        style=\"border:none\" />\n",
              "     <output id=\"result-90721c7e-8811-4f58-820d-45058e42d53a\">\n",
              "      Upload widget is only available when the cell has been executed in the\n",
              "      current browser session. Please rerun this cell to enable.\n",
              "      </output>\n",
              "      <script>// Copyright 2017 Google LLC\n",
              "//\n",
              "// Licensed under the Apache License, Version 2.0 (the \"License\");\n",
              "// you may not use this file except in compliance with the License.\n",
              "// You may obtain a copy of the License at\n",
              "//\n",
              "//      http://www.apache.org/licenses/LICENSE-2.0\n",
              "//\n",
              "// Unless required by applicable law or agreed to in writing, software\n",
              "// distributed under the License is distributed on an \"AS IS\" BASIS,\n",
              "// WITHOUT WARRANTIES OR CONDITIONS OF ANY KIND, either express or implied.\n",
              "// See the License for the specific language governing permissions and\n",
              "// limitations under the License.\n",
              "\n",
              "/**\n",
              " * @fileoverview Helpers for google.colab Python module.\n",
              " */\n",
              "(function(scope) {\n",
              "function span(text, styleAttributes = {}) {\n",
              "  const element = document.createElement('span');\n",
              "  element.textContent = text;\n",
              "  for (const key of Object.keys(styleAttributes)) {\n",
              "    element.style[key] = styleAttributes[key];\n",
              "  }\n",
              "  return element;\n",
              "}\n",
              "\n",
              "// Max number of bytes which will be uploaded at a time.\n",
              "const MAX_PAYLOAD_SIZE = 100 * 1024;\n",
              "\n",
              "function _uploadFiles(inputId, outputId) {\n",
              "  const steps = uploadFilesStep(inputId, outputId);\n",
              "  const outputElement = document.getElementById(outputId);\n",
              "  // Cache steps on the outputElement to make it available for the next call\n",
              "  // to uploadFilesContinue from Python.\n",
              "  outputElement.steps = steps;\n",
              "\n",
              "  return _uploadFilesContinue(outputId);\n",
              "}\n",
              "\n",
              "// This is roughly an async generator (not supported in the browser yet),\n",
              "// where there are multiple asynchronous steps and the Python side is going\n",
              "// to poll for completion of each step.\n",
              "// This uses a Promise to block the python side on completion of each step,\n",
              "// then passes the result of the previous step as the input to the next step.\n",
              "function _uploadFilesContinue(outputId) {\n",
              "  const outputElement = document.getElementById(outputId);\n",
              "  const steps = outputElement.steps;\n",
              "\n",
              "  const next = steps.next(outputElement.lastPromiseValue);\n",
              "  return Promise.resolve(next.value.promise).then((value) => {\n",
              "    // Cache the last promise value to make it available to the next\n",
              "    // step of the generator.\n",
              "    outputElement.lastPromiseValue = value;\n",
              "    return next.value.response;\n",
              "  });\n",
              "}\n",
              "\n",
              "/**\n",
              " * Generator function which is called between each async step of the upload\n",
              " * process.\n",
              " * @param {string} inputId Element ID of the input file picker element.\n",
              " * @param {string} outputId Element ID of the output display.\n",
              " * @return {!Iterable<!Object>} Iterable of next steps.\n",
              " */\n",
              "function* uploadFilesStep(inputId, outputId) {\n",
              "  const inputElement = document.getElementById(inputId);\n",
              "  inputElement.disabled = false;\n",
              "\n",
              "  const outputElement = document.getElementById(outputId);\n",
              "  outputElement.innerHTML = '';\n",
              "\n",
              "  const pickedPromise = new Promise((resolve) => {\n",
              "    inputElement.addEventListener('change', (e) => {\n",
              "      resolve(e.target.files);\n",
              "    });\n",
              "  });\n",
              "\n",
              "  const cancel = document.createElement('button');\n",
              "  inputElement.parentElement.appendChild(cancel);\n",
              "  cancel.textContent = 'Cancel upload';\n",
              "  const cancelPromise = new Promise((resolve) => {\n",
              "    cancel.onclick = () => {\n",
              "      resolve(null);\n",
              "    };\n",
              "  });\n",
              "\n",
              "  // Wait for the user to pick the files.\n",
              "  const files = yield {\n",
              "    promise: Promise.race([pickedPromise, cancelPromise]),\n",
              "    response: {\n",
              "      action: 'starting',\n",
              "    }\n",
              "  };\n",
              "\n",
              "  cancel.remove();\n",
              "\n",
              "  // Disable the input element since further picks are not allowed.\n",
              "  inputElement.disabled = true;\n",
              "\n",
              "  if (!files) {\n",
              "    return {\n",
              "      response: {\n",
              "        action: 'complete',\n",
              "      }\n",
              "    };\n",
              "  }\n",
              "\n",
              "  for (const file of files) {\n",
              "    const li = document.createElement('li');\n",
              "    li.append(span(file.name, {fontWeight: 'bold'}));\n",
              "    li.append(span(\n",
              "        `(${file.type || 'n/a'}) - ${file.size} bytes, ` +\n",
              "        `last modified: ${\n",
              "            file.lastModifiedDate ? file.lastModifiedDate.toLocaleDateString() :\n",
              "                                    'n/a'} - `));\n",
              "    const percent = span('0% done');\n",
              "    li.appendChild(percent);\n",
              "\n",
              "    outputElement.appendChild(li);\n",
              "\n",
              "    const fileDataPromise = new Promise((resolve) => {\n",
              "      const reader = new FileReader();\n",
              "      reader.onload = (e) => {\n",
              "        resolve(e.target.result);\n",
              "      };\n",
              "      reader.readAsArrayBuffer(file);\n",
              "    });\n",
              "    // Wait for the data to be ready.\n",
              "    let fileData = yield {\n",
              "      promise: fileDataPromise,\n",
              "      response: {\n",
              "        action: 'continue',\n",
              "      }\n",
              "    };\n",
              "\n",
              "    // Use a chunked sending to avoid message size limits. See b/62115660.\n",
              "    let position = 0;\n",
              "    do {\n",
              "      const length = Math.min(fileData.byteLength - position, MAX_PAYLOAD_SIZE);\n",
              "      const chunk = new Uint8Array(fileData, position, length);\n",
              "      position += length;\n",
              "\n",
              "      const base64 = btoa(String.fromCharCode.apply(null, chunk));\n",
              "      yield {\n",
              "        response: {\n",
              "          action: 'append',\n",
              "          file: file.name,\n",
              "          data: base64,\n",
              "        },\n",
              "      };\n",
              "\n",
              "      let percentDone = fileData.byteLength === 0 ?\n",
              "          100 :\n",
              "          Math.round((position / fileData.byteLength) * 100);\n",
              "      percent.textContent = `${percentDone}% done`;\n",
              "\n",
              "    } while (position < fileData.byteLength);\n",
              "  }\n",
              "\n",
              "  // All done.\n",
              "  yield {\n",
              "    response: {\n",
              "      action: 'complete',\n",
              "    }\n",
              "  };\n",
              "}\n",
              "\n",
              "scope.google = scope.google || {};\n",
              "scope.google.colab = scope.google.colab || {};\n",
              "scope.google.colab._files = {\n",
              "  _uploadFiles,\n",
              "  _uploadFilesContinue,\n",
              "};\n",
              "})(self);\n",
              "</script> "
            ]
          },
          "metadata": {}
        },
        {
          "output_type": "stream",
          "name": "stdout",
          "text": [
            "Saving devices.csv to devices (1).csv\n",
            "Saving energy_logs.csv to energy_logs (1).csv\n",
            "Saving rooms.csv to rooms (1).csv\n"
          ]
        }
      ]
    },
    {
      "cell_type": "code",
      "source": [],
      "metadata": {
        "id": "QZ2P8wJQlwfn"
      },
      "execution_count": null,
      "outputs": []
    },
    {
      "cell_type": "code",
      "source": [
        "devices_df = spark.read.csv(\"devices.csv\", header=True, inferSchema=True)\n",
        "\n",
        "print(\"Devices Preview:\")\n",
        "devices_df.show(5)\n",
        "\n"
      ],
      "metadata": {
        "colab": {
          "base_uri": "https://localhost:8080/"
        },
        "id": "Hmchovy4kRgB",
        "outputId": "f33b2644-7edf-473e-b9ab-37d4cec6e748"
      },
      "execution_count": 7,
      "outputs": [
        {
          "output_type": "stream",
          "name": "stdout",
          "text": [
            "Devices Preview:\n",
            "+---------+------------+-------+--------+\n",
            "|device_id|        name|room_id|  status|\n",
            "+---------+------------+-------+--------+\n",
            "|        1|  Smart Lamp|      1|  active|\n",
            "|        2|Air Purifier|      2|inactive|\n",
            "|        3|Water Heater|      3|  active|\n",
            "+---------+------------+-------+--------+\n",
            "\n"
          ]
        }
      ]
    },
    {
      "cell_type": "code",
      "source": [
        "energy_logs_df = spark.read.csv(\"energy_logs.csv\", header=True, inferSchema=True)\n",
        "\n",
        "print(\"Energy Logs Preview:\")\n",
        "energy_logs_df.show(5)"
      ],
      "metadata": {
        "id": "FHofNgQ2kWQh",
        "colab": {
          "base_uri": "https://localhost:8080/"
        },
        "outputId": "9332fc91-4aa7-451a-8002-3ca85f4d84b3"
      },
      "execution_count": 8,
      "outputs": [
        {
          "output_type": "stream",
          "name": "stdout",
          "text": [
            "Energy Logs Preview:\n",
            "+------+---------+-------------------+----------+\n",
            "|log_id|device_id|          timestamp|energy_kwh|\n",
            "+------+---------+-------------------+----------+\n",
            "|     1|        1|2025-07-22 06:30:00|      0.55|\n",
            "|     2|        2|2025-07-22 07:15:00|       1.8|\n",
            "|     3|        3|2025-07-22 08:45:00|      2.25|\n",
            "+------+---------+-------------------+----------+\n",
            "\n"
          ]
        }
      ]
    },
    {
      "cell_type": "code",
      "source": [
        "\n",
        "rooms_df = spark.read.csv(\"rooms.csv\", header=True, inferSchema=True)\n",
        "print(\"Rooms Preview:\")\n",
        "rooms_df.show(5)"
      ],
      "metadata": {
        "id": "XjdFYYcSkZRY",
        "colab": {
          "base_uri": "https://localhost:8080/"
        },
        "outputId": "f1bf8007-8325-43b0-dc2d-71beb008f19e"
      },
      "execution_count": 9,
      "outputs": [
        {
          "output_type": "stream",
          "name": "stdout",
          "text": [
            "Rooms Preview:\n",
            "+-------+----------+\n",
            "|room_id|      name|\n",
            "+-------+----------+\n",
            "|      1|Study Room|\n",
            "|      2|Guest Room|\n",
            "|      3|  Bathroom|\n",
            "+-------+----------+\n",
            "\n"
          ]
        }
      ]
    },
    {
      "cell_type": "markdown",
      "source": [
        "# Step 3: Convert timestamp column to proper timestamp"
      ],
      "metadata": {
        "id": "Y0fXiegFl7vc"
      }
    },
    {
      "cell_type": "code",
      "source": [
        "energy_logs_df = energy_logs_df.withColumn(\"timestamp\", col(\"timestamp\").cast(\"timestamp\"))\n",
        "print(\"Timestamp converted\")\n",
        "energy_logs_df.show(5)"
      ],
      "metadata": {
        "colab": {
          "base_uri": "https://localhost:8080/"
        },
        "id": "pZXTs_7OlO-v",
        "outputId": "34b0d7f5-9232-4c5c-f610-9745c9b79997"
      },
      "execution_count": 10,
      "outputs": [
        {
          "output_type": "stream",
          "name": "stdout",
          "text": [
            "Timestamp converted\n",
            "+------+---------+-------------------+----------+\n",
            "|log_id|device_id|          timestamp|energy_kwh|\n",
            "+------+---------+-------------------+----------+\n",
            "|     1|        1|2025-07-22 06:30:00|      0.55|\n",
            "|     2|        2|2025-07-22 07:15:00|       1.8|\n",
            "|     3|        3|2025-07-22 08:45:00|      2.25|\n",
            "+------+---------+-------------------+----------+\n",
            "\n"
          ]
        }
      ]
    },
    {
      "cell_type": "markdown",
      "source": [
        "# Step 4: Define peak (8 AM to 8 PM) and off-peak usage"
      ],
      "metadata": {
        "id": "-yXBoJ-9mCDM"
      }
    },
    {
      "cell_type": "code",
      "source": [
        "energy_logs_df = energy_logs_df.withColumn(\n",
        "    \"period\",\n",
        "    when((hour(col(\"timestamp\")) >= 8) & (hour(col(\"timestamp\")) < 20), \"Peak\").otherwise(\"Off-Peak\")\n",
        ")\n",
        "print(\" Added Peak/Off-Peak period column\")\n",
        "energy_logs_df.show(5)"
      ],
      "metadata": {
        "colab": {
          "base_uri": "https://localhost:8080/"
        },
        "id": "BInerOD2lSqH",
        "outputId": "913dbc13-ef42-41d6-9e6d-6cf81d704f0f"
      },
      "execution_count": 11,
      "outputs": [
        {
          "output_type": "stream",
          "name": "stdout",
          "text": [
            " Added Peak/Off-Peak period column\n",
            "+------+---------+-------------------+----------+--------+\n",
            "|log_id|device_id|          timestamp|energy_kwh|  period|\n",
            "+------+---------+-------------------+----------+--------+\n",
            "|     1|        1|2025-07-22 06:30:00|      0.55|Off-Peak|\n",
            "|     2|        2|2025-07-22 07:15:00|       1.8|Off-Peak|\n",
            "|     3|        3|2025-07-22 08:45:00|      2.25|    Peak|\n",
            "+------+---------+-------------------+----------+--------+\n",
            "\n"
          ]
        }
      ]
    },
    {
      "cell_type": "markdown",
      "source": [
        "# Step 5: Aggregate energy usage by device and period"
      ],
      "metadata": {
        "id": "RULEUZRqmFou"
      }
    },
    {
      "cell_type": "code",
      "source": [
        "device_usage_df = energy_logs_df.groupBy(\"device_id\", \"period\").agg(\n",
        "    _sum(\"energy_kwh\").alias(\"total_energy_kwh\")\n",
        ")\n",
        "print(\" Aggregated energy by device and period\")\n",
        "device_usage_df.show(10)"
      ],
      "metadata": {
        "colab": {
          "base_uri": "https://localhost:8080/"
        },
        "id": "HRoHQyu9lWpe",
        "outputId": "5b1b1d1e-8448-4c6f-f7eb-192fbb07f567"
      },
      "execution_count": 12,
      "outputs": [
        {
          "output_type": "stream",
          "name": "stdout",
          "text": [
            " Aggregated energy by device and period\n",
            "+---------+--------+----------------+\n",
            "|device_id|  period|total_energy_kwh|\n",
            "+---------+--------+----------------+\n",
            "|        2|Off-Peak|             1.8|\n",
            "|        1|Off-Peak|            0.55|\n",
            "|        3|    Peak|            2.25|\n",
            "+---------+--------+----------------+\n",
            "\n"
          ]
        }
      ]
    },
    {
      "cell_type": "markdown",
      "source": [
        "\n",
        "# Step 6: Pivot to get Peak and Off-Peak in columns"
      ],
      "metadata": {
        "id": "xKJOxoOfmJ18"
      }
    },
    {
      "cell_type": "code",
      "source": [
        "pivot_df = device_usage_df.groupBy(\"device_id\").pivot(\"period\").sum(\"total_energy_kwh\").fillna(0)\n",
        "print(\" Pivoted data to show Peak and Off-Peak columns\")\n",
        "pivot_df.show(10)"
      ],
      "metadata": {
        "colab": {
          "base_uri": "https://localhost:8080/"
        },
        "id": "8xpms5qOla0W",
        "outputId": "1afef78d-f2b6-4fa8-a721-25a4045d9a25"
      },
      "execution_count": 13,
      "outputs": [
        {
          "output_type": "stream",
          "name": "stdout",
          "text": [
            " Pivoted data to show Peak and Off-Peak columns\n",
            "+---------+--------+----+\n",
            "|device_id|Off-Peak|Peak|\n",
            "+---------+--------+----+\n",
            "|        1|    0.55| 0.0|\n",
            "|        3|     0.0|2.25|\n",
            "|        2|     1.8| 0.0|\n",
            "+---------+--------+----+\n",
            "\n"
          ]
        }
      ]
    },
    {
      "cell_type": "markdown",
      "source": [
        "# Step 7: Calculate total energy and identify top devices"
      ],
      "metadata": {
        "id": "oZe9cduemMje"
      }
    },
    {
      "cell_type": "code",
      "source": [
        "pivot_df = pivot_df.withColumn(\"total_energy\", col(\"Peak\") + col(\"Off-Peak\"))\n",
        "top_devices_df = pivot_df.orderBy(col(\"total_energy\").desc())\n",
        "print(\"Calculated total energy and sorted top devices\")\n",
        "top_devices_df.show(10)"
      ],
      "metadata": {
        "colab": {
          "base_uri": "https://localhost:8080/"
        },
        "id": "a3zxCVgtleie",
        "outputId": "601b4fca-d4f1-40ba-be9e-ff41e5b1684c"
      },
      "execution_count": 14,
      "outputs": [
        {
          "output_type": "stream",
          "name": "stdout",
          "text": [
            "Calculated total energy and sorted top devices\n",
            "+---------+--------+----+------------+\n",
            "|device_id|Off-Peak|Peak|total_energy|\n",
            "+---------+--------+----+------------+\n",
            "|        3|     0.0|2.25|        2.25|\n",
            "|        2|     1.8| 0.0|         1.8|\n",
            "|        1|    0.55| 0.0|        0.55|\n",
            "+---------+--------+----+------------+\n",
            "\n"
          ]
        }
      ]
    },
    {
      "cell_type": "markdown",
      "source": [
        "\n",
        "# Step 8: Save result to CSV"
      ],
      "metadata": {
        "id": "mRulyeivmPSL"
      }
    },
    {
      "cell_type": "code",
      "source": [
        "output_path = \"top_devices_by_usage\"\n",
        "top_devices_df.coalesce(1).write.csv(output_path, header=True, mode=\"overwrite\")\n",
        "print(f\" Output saved to folder: {output_path}\")"
      ],
      "metadata": {
        "colab": {
          "base_uri": "https://localhost:8080/"
        },
        "id": "zaZbBXJflhs1",
        "outputId": "aae558c3-fcad-4964-a039-95a4225ce8d9"
      },
      "execution_count": 16,
      "outputs": [
        {
          "output_type": "stream",
          "name": "stdout",
          "text": [
            " Output saved to folder: top_devices_by_usage\n"
          ]
        }
      ]
    }
  ]
}