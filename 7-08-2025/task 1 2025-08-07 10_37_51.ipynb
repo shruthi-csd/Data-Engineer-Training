{
 "cells": [
  {
   "cell_type": "code",
   "execution_count": 0,
   "metadata": {
    "application/vnd.databricks.v1+cell": {
     "cellMetadata": {
      "byteLimit": 2048000,
      "rowLimit": 10000
     },
     "inputWidgets": {},
     "nuid": "782e8854-c312-48c2-8908-bf1359851008",
     "showTitle": false,
     "tableResultSettingsMap": {},
     "title": ""
    }
   },
   "outputs": [],
   "source": [
    "from pyspark.sql import SparkSession\n",
    "from pyspark.sql.functions import col, when, expr, sum as _sum, avg\n",
    "spark = SparkSession.builder.appName(\"ProductDataAnalysis\").getOrCreate()"
   ]
  },
  {
   "cell_type": "code",
   "execution_count": 0,
   "metadata": {
    "application/vnd.databricks.v1+cell": {
     "cellMetadata": {
      "byteLimit": 2048000,
      "rowLimit": 10000
     },
     "inputWidgets": {},
     "nuid": "e061faf0-abaa-4da3-810f-29a98a1e3256",
     "showTitle": false,
     "tableResultSettingsMap": {},
     "title": ""
    }
   },
   "outputs": [],
   "source": [
    "from pyspark.sql import SparkSession\n",
    "\n",
    "spark = SparkSession.builder.appName(\"ProductDataAnalysis\").getOrCreate()\n",
    "\n",
    "data = [\n",
    "    (101, \"Laptop\", \"Electronics\", 55000, 10),\n",
    "    (102, \"Smartphone\", \"Electronics\", 30000, 25),\n",
    "    (103, \"Chair\", \"Furniture\", 2500, 50),\n",
    "    (104, \"Book\", \"Stationery\", 400, 200),\n",
    "    (105, \"Headphones\", \"Electronics\", 1500, 100),\n",
    "    (106, \"Table\", \"Furniture\", 3200, 40),\n",
    "    (107, \"Pen\", \"Stationery\", 20, 500),\n",
    "    (108, \"Monitor\", \"Electronics\", 12000, 15),\n",
    "    (109, \"Notebook\", \"Stationery\", 60, 300),\n",
    "    (110, \"Sofa\", \"Furniture\", 45000, 5)\n",
    "]\n",
    "\n",
    "columns = [\"product_id\", \"product_name\", \"category\", \"price\", \"quantity\"]\n",
    "\n",
    "df = spark.createDataFrame(data, columns)\n",
    "df.write.csv(\"dbfs:/tmp/products_csv\", header=True, mode=\"overwrite\")\n",
    "df.write.json(\"dbfs:/tmp/products_json\", mode=\"overwrite\")\n"
   ]
  },
  {
   "cell_type": "markdown",
   "metadata": {
    "application/vnd.databricks.v1+cell": {
     "cellMetadata": {},
     "inputWidgets": {},
     "nuid": "2b29e3e9-7e33-4680-8247-4f46f4d6c434",
     "showTitle": false,
     "tableResultSettingsMap": {},
     "title": ""
    }
   },
   "source": [
    "# Read CSV into DataFrame and print schema"
   ]
  },
  {
   "cell_type": "code",
   "execution_count": 0,
   "metadata": {
    "application/vnd.databricks.v1+cell": {
     "cellMetadata": {
      "byteLimit": 2048000,
      "rowLimit": 10000
     },
     "inputWidgets": {},
     "nuid": "7c8ee088-21b0-46db-8cfb-bec84c6adfbd",
     "showTitle": false,
     "tableResultSettingsMap": {},
     "title": ""
    }
   },
   "outputs": [
    {
     "output_type": "stream",
     "name": "stdout",
     "output_type": "stream",
     "text": [
      "root\n |-- product_id: integer (nullable = true)\n |-- product_name: string (nullable = true)\n |-- category: string (nullable = true)\n |-- price: integer (nullable = true)\n |-- quantity: integer (nullable = true)\n\n"
     ]
    }
   ],
   "source": [
    "df_csv = spark.read.csv(\"dbfs:/tmp/products_csv/\", header=True, inferSchema=True)\n",
    "df_csv.printSchema()\n"
   ]
  },
  {
   "cell_type": "markdown",
   "metadata": {
    "application/vnd.databricks.v1+cell": {
     "cellMetadata": {},
     "inputWidgets": {},
     "nuid": "0c40696f-4734-48d3-92e9-2e0f4fdc1807",
     "showTitle": false,
     "tableResultSettingsMap": {},
     "title": ""
    }
   },
   "source": [
    "#Read JSON and Compare Schema"
   ]
  },
  {
   "cell_type": "code",
   "execution_count": 0,
   "metadata": {
    "application/vnd.databricks.v1+cell": {
     "cellMetadata": {
      "byteLimit": 2048000,
      "rowLimit": 10000
     },
     "inputWidgets": {},
     "nuid": "1e389728-4724-4593-b7f5-5c225475d409",
     "showTitle": false,
     "tableResultSettingsMap": {},
     "title": ""
    }
   },
   "outputs": [
    {
     "output_type": "stream",
     "name": "stdout",
     "output_type": "stream",
     "text": [
      "root\n |-- category: string (nullable = true)\n |-- price: long (nullable = true)\n |-- product_id: long (nullable = true)\n |-- product_name: string (nullable = true)\n |-- quantity: long (nullable = true)\n\nSchemas match: False\n"
     ]
    }
   ],
   "source": [
    "df_json = spark.read.json(\"dbfs:/tmp/products_json/\")\n",
    "df_json.printSchema()\n",
    "\n",
    "print(\"Schemas match:\", df_csv.schema == df_json.schema)\n"
   ]
  },
  {
   "cell_type": "markdown",
   "metadata": {
    "application/vnd.databricks.v1+cell": {
     "cellMetadata": {},
     "inputWidgets": {},
     "nuid": "2c9ec1fa-0149-459a-80a6-c497132a0e44",
     "showTitle": false,
     "tableResultSettingsMap": {},
     "title": ""
    }
   },
   "source": [
    "# Convert CSV to Parquet"
   ]
  },
  {
   "cell_type": "code",
   "execution_count": 0,
   "metadata": {
    "application/vnd.databricks.v1+cell": {
     "cellMetadata": {
      "byteLimit": 2048000,
      "rowLimit": 10000
     },
     "inputWidgets": {},
     "nuid": "988ccec8-5470-4c7b-8979-e1d115b64646",
     "showTitle": false,
     "tableResultSettingsMap": {},
     "title": ""
    }
   },
   "outputs": [],
   "source": [
    "df_csv.write.parquet(\"dbfs:/tmp/products_parquet\", mode=\"overwrite\")\n"
   ]
  },
  {
   "cell_type": "markdown",
   "metadata": {
    "application/vnd.databricks.v1+cell": {
     "cellMetadata": {},
     "inputWidgets": {},
     "nuid": "3bba7875-77d8-435d-8e3a-87b8e8552434",
     "showTitle": false,
     "tableResultSettingsMap": {},
     "title": ""
    }
   },
   "source": [
    "#Compare File Sizes (CSV vs JSON vs Parquet)\n"
   ]
  },
  {
   "cell_type": "code",
   "execution_count": 0,
   "metadata": {
    "application/vnd.databricks.v1+cell": {
     "cellMetadata": {
      "byteLimit": 2048000,
      "rowLimit": 10000
     },
     "inputWidgets": {},
     "nuid": "5aca3905-7292-4ad1-85ea-3952f9578c05",
     "showTitle": false,
     "tableResultSettingsMap": {},
     "title": ""
    }
   },
   "outputs": [
    {
     "output_type": "stream",
     "name": "stdout",
     "output_type": "stream",
     "text": [
      "CSV Size: 0 bytes\nJSON Size: 0 bytes\nParquet Size: 0 bytes\n"
     ]
    }
   ],
   "source": [
    "import os\n",
    "\n",
    "def get_size(path):\n",
    "    return sum(os.path.getsize(os.path.join(dirpath, f))\n",
    "               for dirpath, _, files in os.walk(path)\n",
    "               for f in files)\n",
    "\n",
    "csv_size = get_size(\"/dbfs/tmp/products_csv\")\n",
    "json_size = get_size(\"/dbfs/tmp/products_json\")\n",
    "parquet_size = get_size(\"/dbfs/tmp/products_parquet\")\n",
    "\n",
    "print(f\"CSV Size: {csv_size} bytes\")\n",
    "print(f\"JSON Size: {json_size} bytes\")\n",
    "print(f\"Parquet Size: {parquet_size} bytes\")\n"
   ]
  },
  {
   "cell_type": "markdown",
   "metadata": {
    "application/vnd.databricks.v1+cell": {
     "cellMetadata": {},
     "inputWidgets": {},
     "nuid": "2f9b3f47-1361-4d81-9b05-825abc41e660",
     "showTitle": false,
     "tableResultSettingsMap": {},
     "title": ""
    }
   },
   "source": [
    "#Add total_revenue Column\n"
   ]
  },
  {
   "cell_type": "code",
   "execution_count": 0,
   "metadata": {
    "application/vnd.databricks.v1+cell": {
     "cellMetadata": {
      "byteLimit": 2048000,
      "rowLimit": 10000
     },
     "inputWidgets": {},
     "nuid": "8a8c15f9-3708-4ee4-8a3f-7276e8ac406e",
     "showTitle": false,
     "tableResultSettingsMap": {},
     "title": ""
    }
   },
   "outputs": [
    {
     "output_type": "stream",
     "name": "stdout",
     "output_type": "stream",
     "text": [
      "+----------+------------+-----------+-----+--------+-------------+\n|product_id|product_name|   category|price|quantity|total_revenue|\n+----------+------------+-----------+-----+--------+-------------+\n|       103|       Chair|  Furniture| 2500|      50|       125000|\n|       104|        Book| Stationery|  400|     200|        80000|\n|       105|  Headphones|Electronics| 1500|     100|       150000|\n|       108|     Monitor|Electronics|12000|      15|       180000|\n|       109|    Notebook| Stationery|   60|     300|        18000|\n|       110|        Sofa|  Furniture|45000|       5|       225000|\n|       101|      Laptop|Electronics|55000|      10|       550000|\n|       102|  Smartphone|Electronics|30000|      25|       750000|\n|       106|       Table|  Furniture| 3200|      40|       128000|\n|       107|         Pen| Stationery|   20|     500|        10000|\n+----------+------------+-----------+-----+--------+-------------+\n\n"
     ]
    }
   ],
   "source": [
    "from pyspark.sql.functions import col\n",
    "\n",
    "df_revenue = df_csv.withColumn(\"total_revenue\", col(\"price\") * col(\"quantity\"))\n",
    "df_revenue.show()\n"
   ]
  },
  {
   "cell_type": "markdown",
   "metadata": {
    "application/vnd.databricks.v1+cell": {
     "cellMetadata": {},
     "inputWidgets": {},
     "nuid": "ea77a97c-5f51-47f7-9cdb-031ff3994cb3",
     "showTitle": false,
     "tableResultSettingsMap": {},
     "title": ""
    }
   },
   "source": [
    "#Top 3 Products by Total Revenue\n"
   ]
  },
  {
   "cell_type": "code",
   "execution_count": 0,
   "metadata": {
    "application/vnd.databricks.v1+cell": {
     "cellMetadata": {
      "byteLimit": 2048000,
      "rowLimit": 10000
     },
     "inputWidgets": {},
     "nuid": "a9954462-511d-4aa7-a9f6-4756054ce04a",
     "showTitle": false,
     "tableResultSettingsMap": {},
     "title": ""
    }
   },
   "outputs": [
    {
     "output_type": "stream",
     "name": "stdout",
     "output_type": "stream",
     "text": [
      "+----------+------------+-----------+-----+--------+-------------+\n|product_id|product_name|   category|price|quantity|total_revenue|\n+----------+------------+-----------+-----+--------+-------------+\n|       102|  Smartphone|Electronics|30000|      25|       750000|\n|       101|      Laptop|Electronics|55000|      10|       550000|\n|       110|        Sofa|  Furniture|45000|       5|       225000|\n+----------+------------+-----------+-----+--------+-------------+\nonly showing top 3 rows\n"
     ]
    }
   ],
   "source": [
    "df_revenue.orderBy(col(\"total_revenue\").desc()).show(3)\n"
   ]
  },
  {
   "cell_type": "markdown",
   "metadata": {
    "application/vnd.databricks.v1+cell": {
     "cellMetadata": {},
     "inputWidgets": {},
     "nuid": "008464a0-efe8-4ceb-b512-4cdd96621888",
     "showTitle": false,
     "tableResultSettingsMap": {},
     "title": ""
    }
   },
   "source": [
    "#Filter Furniture Products with Price > 3000\n"
   ]
  },
  {
   "cell_type": "code",
   "execution_count": 0,
   "metadata": {
    "application/vnd.databricks.v1+cell": {
     "cellMetadata": {
      "byteLimit": 2048000,
      "rowLimit": 10000
     },
     "inputWidgets": {},
     "nuid": "d7fc93e1-850d-450b-94b0-fc3825d5fce8",
     "showTitle": false,
     "tableResultSettingsMap": {},
     "title": ""
    }
   },
   "outputs": [
    {
     "output_type": "stream",
     "name": "stdout",
     "output_type": "stream",
     "text": [
      "+----------+------------+---------+-----+--------+\n|product_id|product_name| category|price|quantity|\n+----------+------------+---------+-----+--------+\n|       110|        Sofa|Furniture|45000|       5|\n|       106|       Table|Furniture| 3200|      40|\n+----------+------------+---------+-----+--------+\n\n"
     ]
    }
   ],
   "source": [
    "df_csv.filter((col(\"category\") == \"Furniture\") & (col(\"price\") > 3000)).show()\n"
   ]
  },
  {
   "cell_type": "markdown",
   "metadata": {
    "application/vnd.databricks.v1+cell": {
     "cellMetadata": {},
     "inputWidgets": {},
     "nuid": "0b37e85b-12ba-409d-a7ce-2fe256f5426c",
     "showTitle": false,
     "tableResultSettingsMap": {},
     "title": ""
    }
   },
   "source": [
    "#Create price_band Column\n"
   ]
  },
  {
   "cell_type": "code",
   "execution_count": 0,
   "metadata": {
    "application/vnd.databricks.v1+cell": {
     "cellMetadata": {
      "byteLimit": 2048000,
      "rowLimit": 10000
     },
     "inputWidgets": {},
     "nuid": "2d4022e5-0afc-474e-a1df-0126b4f1eeb0",
     "showTitle": false,
     "tableResultSettingsMap": {},
     "title": ""
    }
   },
   "outputs": [
    {
     "output_type": "stream",
     "name": "stdout",
     "output_type": "stream",
     "text": [
      "+----------+------------+-----------+-----+--------+----------+\n|product_id|product_name|   category|price|quantity|price_band|\n+----------+------------+-----------+-----+--------+----------+\n|       103|       Chair|  Furniture| 2500|      50|       Low|\n|       104|        Book| Stationery|  400|     200|       Low|\n|       105|  Headphones|Electronics| 1500|     100|       Low|\n|       108|     Monitor|Electronics|12000|      15|      High|\n|       109|    Notebook| Stationery|   60|     300|       Low|\n|       110|        Sofa|  Furniture|45000|       5|      High|\n|       101|      Laptop|Electronics|55000|      10|      High|\n|       102|  Smartphone|Electronics|30000|      25|      High|\n|       106|       Table|  Furniture| 3200|      40|    Medium|\n|       107|         Pen| Stationery|   20|     500|       Low|\n+----------+------------+-----------+-----+--------+----------+\n\n"
     ]
    }
   ],
   "source": [
    "from pyspark.sql.functions import when\n",
    "\n",
    "df_band = df_csv.withColumn(\n",
    "    \"price_band\",\n",
    "    when(col(\"price\") > 10000, \"High\")\n",
    "    .when((col(\"price\") > 3000) & (col(\"price\") <= 10000), \"Medium\")\n",
    "    .otherwise(\"Low\")\n",
    ")\n",
    "df_band.show()\n"
   ]
  },
  {
   "cell_type": "markdown",
   "metadata": {
    "application/vnd.databricks.v1+cell": {
     "cellMetadata": {},
     "inputWidgets": {},
     "nuid": "ffdf6bc8-02c5-4067-950c-5cf57949730c",
     "showTitle": false,
     "tableResultSettingsMap": {},
     "title": ""
    }
   },
   "source": [
    "#Group by Category, Total Quantity\n"
   ]
  },
  {
   "cell_type": "code",
   "execution_count": 0,
   "metadata": {
    "application/vnd.databricks.v1+cell": {
     "cellMetadata": {
      "byteLimit": 2048000,
      "rowLimit": 10000
     },
     "inputWidgets": {},
     "nuid": "96cf6162-573d-4bd5-b493-6942ebef7a2e",
     "showTitle": false,
     "tableResultSettingsMap": {},
     "title": ""
    }
   },
   "outputs": [
    {
     "output_type": "stream",
     "name": "stdout",
     "output_type": "stream",
     "text": [
      "+-----------+--------------+\n|   category|total_quantity|\n+-----------+--------------+\n| Stationery|          1000|\n|Electronics|           150|\n|  Furniture|            95|\n+-----------+--------------+\n\n"
     ]
    }
   ],
   "source": [
    "from pyspark.sql.functions import sum as _sum\n",
    "\n",
    "df_csv.groupBy(\"category\").agg(_sum(\"quantity\").alias(\"total_quantity\")).show()\n"
   ]
  },
  {
   "cell_type": "markdown",
   "metadata": {
    "application/vnd.databricks.v1+cell": {
     "cellMetadata": {},
     "inputWidgets": {},
     "nuid": "3efe545c-8173-4f65-b402-a223a6c39968",
     "showTitle": false,
     "tableResultSettingsMap": {},
     "title": ""
    }
   },
   "source": [
    "#Average Price by Category\n"
   ]
  },
  {
   "cell_type": "code",
   "execution_count": 0,
   "metadata": {
    "application/vnd.databricks.v1+cell": {
     "cellMetadata": {
      "byteLimit": 2048000,
      "rowLimit": 10000
     },
     "inputWidgets": {},
     "nuid": "d6f14f7a-5b76-4000-8b33-2c4f0ebf88b8",
     "showTitle": false,
     "tableResultSettingsMap": {},
     "title": ""
    }
   },
   "outputs": [
    {
     "output_type": "stream",
     "name": "stdout",
     "output_type": "stream",
     "text": [
      "+-----------+---------+\n|   category|avg_price|\n+-----------+---------+\n| Stationery|    160.0|\n|Electronics|  24625.0|\n|  Furniture|  16900.0|\n+-----------+---------+\n\n"
     ]
    }
   ],
   "source": [
    "from pyspark.sql.functions import avg\n",
    "\n",
    "df_csv.groupBy(\"category\").agg(avg(\"price\").alias(\"avg_price\")).show()\n"
   ]
  },
  {
   "cell_type": "markdown",
   "metadata": {
    "application/vnd.databricks.v1+cell": {
     "cellMetadata": {},
     "inputWidgets": {},
     "nuid": "01f130ba-6a1d-4926-ad57-ec34dd2339cf",
     "showTitle": false,
     "tableResultSettingsMap": {},
     "title": ""
    }
   },
   "source": [
    "# Count Products by Price Band\n"
   ]
  },
  {
   "cell_type": "code",
   "execution_count": 0,
   "metadata": {
    "application/vnd.databricks.v1+cell": {
     "cellMetadata": {
      "byteLimit": 2048000,
      "rowLimit": 10000
     },
     "inputWidgets": {},
     "nuid": "64c8ffd3-fa30-4ee5-aa51-4ecdeedbaa52",
     "showTitle": false,
     "tableResultSettingsMap": {},
     "title": ""
    }
   },
   "outputs": [
    {
     "output_type": "stream",
     "name": "stdout",
     "output_type": "stream",
     "text": [
      "+----------+-----+\n|price_band|count|\n+----------+-----+\n|       Low|    5|\n|      High|    4|\n|    Medium|    1|\n+----------+-----+\n\n"
     ]
    }
   ],
   "source": [
    "df_band.groupBy(\"price_band\").count().show()\n"
   ]
  },
  {
   "cell_type": "markdown",
   "metadata": {
    "application/vnd.databricks.v1+cell": {
     "cellMetadata": {},
     "inputWidgets": {},
     "nuid": "3fc559eb-b81a-4f06-a22e-4926b9000d21",
     "showTitle": false,
     "tableResultSettingsMap": {},
     "title": ""
    }
   },
   "source": [
    "#Save Filtered Electronics to Parquet\n"
   ]
  },
  {
   "cell_type": "code",
   "execution_count": 0,
   "metadata": {
    "application/vnd.databricks.v1+cell": {
     "cellMetadata": {
      "byteLimit": 2048000,
      "rowLimit": 10000
     },
     "inputWidgets": {},
     "nuid": "8aadc0f1-ade2-4a12-9b92-00f5930af39f",
     "showTitle": false,
     "tableResultSettingsMap": {},
     "title": ""
    }
   },
   "outputs": [],
   "source": [
    "df_csv.filter((col(\"category\") == \"Electronics\") & (col(\"price\") > 5000)) \\\n",
    "    .write.parquet(\"dbfs:/tmp/electronics_filtered\", mode=\"overwrite\")\n"
   ]
  },
  {
   "cell_type": "markdown",
   "metadata": {
    "application/vnd.databricks.v1+cell": {
     "cellMetadata": {},
     "inputWidgets": {},
     "nuid": "91ff3d8b-8d12-4c7d-9a18-e78e52346042",
     "showTitle": false,
     "tableResultSettingsMap": {},
     "title": ""
    }
   },
   "source": [
    "#Save Stationery to JSON"
   ]
  },
  {
   "cell_type": "code",
   "execution_count": 0,
   "metadata": {
    "application/vnd.databricks.v1+cell": {
     "cellMetadata": {
      "byteLimit": 2048000,
      "rowLimit": 10000
     },
     "inputWidgets": {},
     "nuid": "d329fc7d-0cad-4280-8eb5-ad7e672701ad",
     "showTitle": false,
     "tableResultSettingsMap": {},
     "title": ""
    }
   },
   "outputs": [],
   "source": [
    "df_csv.filter(col(\"category\") == \"Stationery\") \\\n",
    "    .write.json(\"dbfs:/tmp/stationery_products\", mode=\"overwrite\")\n"
   ]
  },
  {
   "cell_type": "markdown",
   "metadata": {
    "application/vnd.databricks.v1+cell": {
     "cellMetadata": {},
     "inputWidgets": {},
     "nuid": "9eb993ba-635a-48c7-8d93-3d9f13f3f01c",
     "showTitle": false,
     "tableResultSettingsMap": {},
     "title": ""
    }
   },
   "source": [
    "#Category with Highest Total Revenue\n"
   ]
  },
  {
   "cell_type": "code",
   "execution_count": 0,
   "metadata": {
    "application/vnd.databricks.v1+cell": {
     "cellMetadata": {
      "byteLimit": 2048000,
      "rowLimit": 10000
     },
     "inputWidgets": {},
     "nuid": "411a371f-24d0-4b93-802a-1b9efb869ec3",
     "showTitle": false,
     "tableResultSettingsMap": {},
     "title": ""
    }
   },
   "outputs": [
    {
     "output_type": "stream",
     "name": "stdout",
     "output_type": "stream",
     "text": [
      "+-----------+-------------+\n|   category|total_revenue|\n+-----------+-------------+\n|Electronics|      1630000|\n+-----------+-------------+\nonly showing top 1 row\n"
     ]
    }
   ],
   "source": [
    "df_parquet = spark.read.parquet(\"dbfs:/tmp/products_parquet\")\n",
    "\n",
    "df_parquet.withColumn(\"total_revenue\", col(\"price\") * col(\"quantity\")) \\\n",
    "    .groupBy(\"category\") \\\n",
    "    .agg(_sum(\"total_revenue\").alias(\"total_revenue\")) \\\n",
    "    .orderBy(col(\"total_revenue\").desc()) \\\n",
    "    .show(1)\n"
   ]
  },
  {
   "cell_type": "markdown",
   "metadata": {
    "application/vnd.databricks.v1+cell": {
     "cellMetadata": {},
     "inputWidgets": {},
     "nuid": "521158e5-f011-4757-b303-04442f887b4a",
     "showTitle": false,
     "tableResultSettingsMap": {},
     "title": ""
    }
   },
   "source": [
    "#Spark SQL: quantity > 100 and price < 1000\n"
   ]
  },
  {
   "cell_type": "code",
   "execution_count": 0,
   "metadata": {
    "application/vnd.databricks.v1+cell": {
     "cellMetadata": {
      "byteLimit": 2048000,
      "rowLimit": 10000
     },
     "inputWidgets": {},
     "nuid": "ea864fd1-1c9d-4c47-82e0-990ab0da3169",
     "showTitle": false,
     "tableResultSettingsMap": {},
     "title": ""
    }
   },
   "outputs": [
    {
     "output_type": "stream",
     "name": "stdout",
     "output_type": "stream",
     "text": [
      "+----------+------------+----------+-----+--------+\n|product_id|product_name|  category|price|quantity|\n+----------+------------+----------+-----+--------+\n|       104|        Book|Stationery|  400|     200|\n|       109|    Notebook|Stationery|   60|     300|\n|       107|         Pen|Stationery|   20|     500|\n+----------+------------+----------+-----+--------+\n\n"
     ]
    }
   ],
   "source": [
    "df_csv.createOrReplaceTempView(\"products\")\n",
    "\n",
    "spark.sql(\"\"\"\n",
    "    SELECT * FROM products\n",
    "    WHERE quantity > 100 AND price < 1000\n",
    "\"\"\").show()\n"
   ]
  }
 ],
 "metadata": {
  "application/vnd.databricks.v1+notebook": {
   "computePreferences": null,
   "dashboards": [],
   "environmentMetadata": {
    "base_environment": "",
    "environment_version": "2"
   },
   "inputWidgetPreferences": null,
   "language": "python",
   "notebookMetadata": {
    "pythonIndentUnit": 4
   },
   "notebookName": "task 1 2025-08-07 10:37:51",
   "widgets": {}
  },
  "language_info": {
   "name": "python"
  }
 },
 "nbformat": 4,
 "nbformat_minor": 0
}