{
  "nbformat": 4,
  "nbformat_minor": 0,
  "metadata": {
    "colab": {
      "provenance": []
    },
    "kernelspec": {
      "name": "python3",
      "display_name": "Python 3"
    },
    "language_info": {
      "name": "python"
    }
  },
  "cells": [
    {
      "cell_type": "code",
      "source": [
        "import pandas as pd\n",
        "import numpy as np"
      ],
      "metadata": {
        "id": "dhQskuSE2MX-"
      },
      "execution_count": 8,
      "outputs": []
    },
    {
      "cell_type": "code",
      "source": [
        "from google.colab import files\n",
        "uploaded = files.upload()"
      ],
      "metadata": {
        "colab": {
          "base_uri": "https://localhost:8080/",
          "height": 142
        },
        "id": "f-MeiRtXCg0u",
        "outputId": "774139a7-a8af-4c42-a93f-133bb8ef9746"
      },
      "execution_count": 53,
      "outputs": [
        {
          "output_type": "display_data",
          "data": {
            "text/plain": [
              "<IPython.core.display.HTML object>"
            ],
            "text/html": [
              "\n",
              "     <input type=\"file\" id=\"files-0bdc6f1e-1c62-442c-9ae7-0190e5456c69\" name=\"files[]\" multiple disabled\n",
              "        style=\"border:none\" />\n",
              "     <output id=\"result-0bdc6f1e-1c62-442c-9ae7-0190e5456c69\">\n",
              "      Upload widget is only available when the cell has been executed in the\n",
              "      current browser session. Please rerun this cell to enable.\n",
              "      </output>\n",
              "      <script>// Copyright 2017 Google LLC\n",
              "//\n",
              "// Licensed under the Apache License, Version 2.0 (the \"License\");\n",
              "// you may not use this file except in compliance with the License.\n",
              "// You may obtain a copy of the License at\n",
              "//\n",
              "//      http://www.apache.org/licenses/LICENSE-2.0\n",
              "//\n",
              "// Unless required by applicable law or agreed to in writing, software\n",
              "// distributed under the License is distributed on an \"AS IS\" BASIS,\n",
              "// WITHOUT WARRANTIES OR CONDITIONS OF ANY KIND, either express or implied.\n",
              "// See the License for the specific language governing permissions and\n",
              "// limitations under the License.\n",
              "\n",
              "/**\n",
              " * @fileoverview Helpers for google.colab Python module.\n",
              " */\n",
              "(function(scope) {\n",
              "function span(text, styleAttributes = {}) {\n",
              "  const element = document.createElement('span');\n",
              "  element.textContent = text;\n",
              "  for (const key of Object.keys(styleAttributes)) {\n",
              "    element.style[key] = styleAttributes[key];\n",
              "  }\n",
              "  return element;\n",
              "}\n",
              "\n",
              "// Max number of bytes which will be uploaded at a time.\n",
              "const MAX_PAYLOAD_SIZE = 100 * 1024;\n",
              "\n",
              "function _uploadFiles(inputId, outputId) {\n",
              "  const steps = uploadFilesStep(inputId, outputId);\n",
              "  const outputElement = document.getElementById(outputId);\n",
              "  // Cache steps on the outputElement to make it available for the next call\n",
              "  // to uploadFilesContinue from Python.\n",
              "  outputElement.steps = steps;\n",
              "\n",
              "  return _uploadFilesContinue(outputId);\n",
              "}\n",
              "\n",
              "// This is roughly an async generator (not supported in the browser yet),\n",
              "// where there are multiple asynchronous steps and the Python side is going\n",
              "// to poll for completion of each step.\n",
              "// This uses a Promise to block the python side on completion of each step,\n",
              "// then passes the result of the previous step as the input to the next step.\n",
              "function _uploadFilesContinue(outputId) {\n",
              "  const outputElement = document.getElementById(outputId);\n",
              "  const steps = outputElement.steps;\n",
              "\n",
              "  const next = steps.next(outputElement.lastPromiseValue);\n",
              "  return Promise.resolve(next.value.promise).then((value) => {\n",
              "    // Cache the last promise value to make it available to the next\n",
              "    // step of the generator.\n",
              "    outputElement.lastPromiseValue = value;\n",
              "    return next.value.response;\n",
              "  });\n",
              "}\n",
              "\n",
              "/**\n",
              " * Generator function which is called between each async step of the upload\n",
              " * process.\n",
              " * @param {string} inputId Element ID of the input file picker element.\n",
              " * @param {string} outputId Element ID of the output display.\n",
              " * @return {!Iterable<!Object>} Iterable of next steps.\n",
              " */\n",
              "function* uploadFilesStep(inputId, outputId) {\n",
              "  const inputElement = document.getElementById(inputId);\n",
              "  inputElement.disabled = false;\n",
              "\n",
              "  const outputElement = document.getElementById(outputId);\n",
              "  outputElement.innerHTML = '';\n",
              "\n",
              "  const pickedPromise = new Promise((resolve) => {\n",
              "    inputElement.addEventListener('change', (e) => {\n",
              "      resolve(e.target.files);\n",
              "    });\n",
              "  });\n",
              "\n",
              "  const cancel = document.createElement('button');\n",
              "  inputElement.parentElement.appendChild(cancel);\n",
              "  cancel.textContent = 'Cancel upload';\n",
              "  const cancelPromise = new Promise((resolve) => {\n",
              "    cancel.onclick = () => {\n",
              "      resolve(null);\n",
              "    };\n",
              "  });\n",
              "\n",
              "  // Wait for the user to pick the files.\n",
              "  const files = yield {\n",
              "    promise: Promise.race([pickedPromise, cancelPromise]),\n",
              "    response: {\n",
              "      action: 'starting',\n",
              "    }\n",
              "  };\n",
              "\n",
              "  cancel.remove();\n",
              "\n",
              "  // Disable the input element since further picks are not allowed.\n",
              "  inputElement.disabled = true;\n",
              "\n",
              "  if (!files) {\n",
              "    return {\n",
              "      response: {\n",
              "        action: 'complete',\n",
              "      }\n",
              "    };\n",
              "  }\n",
              "\n",
              "  for (const file of files) {\n",
              "    const li = document.createElement('li');\n",
              "    li.append(span(file.name, {fontWeight: 'bold'}));\n",
              "    li.append(span(\n",
              "        `(${file.type || 'n/a'}) - ${file.size} bytes, ` +\n",
              "        `last modified: ${\n",
              "            file.lastModifiedDate ? file.lastModifiedDate.toLocaleDateString() :\n",
              "                                    'n/a'} - `));\n",
              "    const percent = span('0% done');\n",
              "    li.appendChild(percent);\n",
              "\n",
              "    outputElement.appendChild(li);\n",
              "\n",
              "    const fileDataPromise = new Promise((resolve) => {\n",
              "      const reader = new FileReader();\n",
              "      reader.onload = (e) => {\n",
              "        resolve(e.target.result);\n",
              "      };\n",
              "      reader.readAsArrayBuffer(file);\n",
              "    });\n",
              "    // Wait for the data to be ready.\n",
              "    let fileData = yield {\n",
              "      promise: fileDataPromise,\n",
              "      response: {\n",
              "        action: 'continue',\n",
              "      }\n",
              "    };\n",
              "\n",
              "    // Use a chunked sending to avoid message size limits. See b/62115660.\n",
              "    let position = 0;\n",
              "    do {\n",
              "      const length = Math.min(fileData.byteLength - position, MAX_PAYLOAD_SIZE);\n",
              "      const chunk = new Uint8Array(fileData, position, length);\n",
              "      position += length;\n",
              "\n",
              "      const base64 = btoa(String.fromCharCode.apply(null, chunk));\n",
              "      yield {\n",
              "        response: {\n",
              "          action: 'append',\n",
              "          file: file.name,\n",
              "          data: base64,\n",
              "        },\n",
              "      };\n",
              "\n",
              "      let percentDone = fileData.byteLength === 0 ?\n",
              "          100 :\n",
              "          Math.round((position / fileData.byteLength) * 100);\n",
              "      percent.textContent = `${percentDone}% done`;\n",
              "\n",
              "    } while (position < fileData.byteLength);\n",
              "  }\n",
              "\n",
              "  // All done.\n",
              "  yield {\n",
              "    response: {\n",
              "      action: 'complete',\n",
              "    }\n",
              "  };\n",
              "}\n",
              "\n",
              "scope.google = scope.google || {};\n",
              "scope.google.colab = scope.google.colab || {};\n",
              "scope.google.colab._files = {\n",
              "  _uploadFiles,\n",
              "  _uploadFilesContinue,\n",
              "};\n",
              "})(self);\n",
              "</script> "
            ]
          },
          "metadata": {}
        },
        {
          "output_type": "stream",
          "name": "stdout",
          "text": [
            "Saving categories.csv to categories (2).csv\n",
            "Saving expense.csv to expense.csv\n",
            "Saving users.csv to users (1).csv\n"
          ]
        }
      ]
    },
    {
      "cell_type": "code",
      "source": [
        "\n",
        "df = pd.read_csv('users.csv')\n",
        "print(df)"
      ],
      "metadata": {
        "colab": {
          "base_uri": "https://localhost:8080/"
        },
        "id": "oGjJFyB6_VnE",
        "outputId": "b558155a-3646-407a-fd4b-c08ccbeed1b5"
      },
      "execution_count": 54,
      "outputs": [
        {
          "output_type": "stream",
          "name": "stdout",
          "text": [
            "   user_id     name                     email\n",
            "0        1  Karthik      karthik2025@mail.com\n",
            "1        2    Sneha      sneha.raju@email.com\n",
            "2        3   Vikram    vikram_nair@domain.com\n",
            "3        4    Pooja  pooja.star95@example.com\n",
            "4        5    Tejas      tejas.mani@gmail.com\n"
          ]
        }
      ]
    },
    {
      "cell_type": "code",
      "source": [
        "df = pd.read_csv('categories.csv')\n",
        "print(df)"
      ],
      "metadata": {
        "colab": {
          "base_uri": "https://localhost:8080/"
        },
        "id": "V8dZnkOrDOyw",
        "outputId": "d67a39a6-7bd2-4794-d340-3324808311c3"
      },
      "execution_count": 32,
      "outputs": [
        {
          "output_type": "stream",
          "name": "stdout",
          "text": [
            "   category_id  category_name\n",
            "0            2      Education\n",
            "1            4  Entertainment\n",
            "2            1     Healthcare\n",
            "3            3           Rent\n",
            "4            5         Travel\n"
          ]
        }
      ]
    },
    {
      "cell_type": "code",
      "source": [
        "df = pd.read_csv('expense.csv')\n",
        "print(df)"
      ],
      "metadata": {
        "colab": {
          "base_uri": "https://localhost:8080/"
        },
        "id": "97m0zRumDS6e",
        "outputId": "3f22874a-9924-4704-ca34-b22227079b0c"
      },
      "execution_count": 55,
      "outputs": [
        {
          "output_type": "stream",
          "name": "stdout",
          "text": [
            "   expense_id  user_id  category_id  amount expense_date  \\\n",
            "0           1        1            1   950.0   2025-07-02   \n",
            "1           2        1            2  2000.0   2025-07-04   \n",
            "2           3        2            3  7000.0   2025-07-06   \n",
            "3           4        3            4   450.0   2025-07-09   \n",
            "4           5        4            5  3000.0   2025-07-11   \n",
            "5           6        5            1   600.0   2025-07-12   \n",
            "6           7        2            5  1250.0   2025-07-13   \n",
            "7           8        3            2  1800.0   2025-07-16   \n",
            "8           9        4            3  7200.0   2025-07-19   \n",
            "9          10        5            4   520.0   2025-07-21   \n",
            "\n",
            "                         description  \n",
            "0  Doctor consultation and medicines  \n",
            "1                  Online course fee  \n",
            "2                    July month rent  \n",
            "3                      Movie tickets  \n",
            "4                       Weekend trip  \n",
            "5                  Pharmacy purchase  \n",
            "6     Cab and hotel for client visit  \n",
            "7            Textbooks and materials  \n",
            "8              Shared apartment rent  \n",
            "9               Stand-up comedy show  \n"
          ]
        }
      ]
    },
    {
      "cell_type": "code",
      "source": [
        "df['amount'] = df['amount'].replace('[$,]', '', regex=True).astype(float)\n",
        "print(df)"
      ],
      "metadata": {
        "colab": {
          "base_uri": "https://localhost:8080/"
        },
        "id": "pWp0LAun_Zt6",
        "outputId": "f0b935ac-15ab-4ec5-ec35-114660925364"
      },
      "execution_count": 56,
      "outputs": [
        {
          "output_type": "stream",
          "name": "stdout",
          "text": [
            "   expense_id  user_id  category_id  amount expense_date  \\\n",
            "0           1        1            1   950.0   2025-07-02   \n",
            "1           2        1            2  2000.0   2025-07-04   \n",
            "2           3        2            3  7000.0   2025-07-06   \n",
            "3           4        3            4   450.0   2025-07-09   \n",
            "4           5        4            5  3000.0   2025-07-11   \n",
            "5           6        5            1   600.0   2025-07-12   \n",
            "6           7        2            5  1250.0   2025-07-13   \n",
            "7           8        3            2  1800.0   2025-07-16   \n",
            "8           9        4            3  7200.0   2025-07-19   \n",
            "9          10        5            4   520.0   2025-07-21   \n",
            "\n",
            "                         description  \n",
            "0  Doctor consultation and medicines  \n",
            "1                  Online course fee  \n",
            "2                    July month rent  \n",
            "3                      Movie tickets  \n",
            "4                       Weekend trip  \n",
            "5                  Pharmacy purchase  \n",
            "6     Cab and hotel for client visit  \n",
            "7            Textbooks and materials  \n",
            "8              Shared apartment rent  \n",
            "9               Stand-up comedy show  \n"
          ]
        }
      ]
    },
    {
      "cell_type": "code",
      "source": [
        "df['expense_date'] = pd.to_datetime(df['expense_date'])\n",
        "print(df)"
      ],
      "metadata": {
        "colab": {
          "base_uri": "https://localhost:8080/"
        },
        "id": "rsK3KcXj_eay",
        "outputId": "8c47ec55-1d35-4070-9f38-8329ae2e59dd"
      },
      "execution_count": 63,
      "outputs": [
        {
          "output_type": "stream",
          "name": "stdout",
          "text": [
            "   expense_id  user_id  category_id  amount expense_date  \\\n",
            "0           1        1            1   950.0   2025-07-02   \n",
            "1           2        1            2  2000.0   2025-07-04   \n",
            "2           3        2            3  7000.0   2025-07-06   \n",
            "3           4        3            4   450.0   2025-07-09   \n",
            "4           5        4            5  3000.0   2025-07-11   \n",
            "5           6        5            1   600.0   2025-07-12   \n",
            "6           7        2            5  1250.0   2025-07-13   \n",
            "7           8        3            2  1800.0   2025-07-16   \n",
            "8           9        4            3  7200.0   2025-07-19   \n",
            "9          10        5            4   520.0   2025-07-21   \n",
            "\n",
            "                         description  \n",
            "0  Doctor consultation and medicines  \n",
            "1                  Online course fee  \n",
            "2                    July month rent  \n",
            "3                      Movie tickets  \n",
            "4                       Weekend trip  \n",
            "5                  Pharmacy purchase  \n",
            "6     Cab and hotel for client visit  \n",
            "7            Textbooks and materials  \n",
            "8              Shared apartment rent  \n",
            "9               Stand-up comedy show  \n"
          ]
        }
      ]
    },
    {
      "cell_type": "code",
      "source": [
        "df['month'] = df['expense_date'].dt.to_period('M')\n",
        "print(df)"
      ],
      "metadata": {
        "colab": {
          "base_uri": "https://localhost:8080/"
        },
        "id": "TIN9Ino6_hND",
        "outputId": "9cdedfd5-7762-4751-85e2-99fc3b61ab1f"
      },
      "execution_count": 65,
      "outputs": [
        {
          "output_type": "stream",
          "name": "stdout",
          "text": [
            "   expense_id  user_id  category_id  amount expense_date  \\\n",
            "0           1        1            1   950.0   2025-07-02   \n",
            "1           2        1            2  2000.0   2025-07-04   \n",
            "2           3        2            3  7000.0   2025-07-06   \n",
            "3           4        3            4   450.0   2025-07-09   \n",
            "4           5        4            5  3000.0   2025-07-11   \n",
            "5           6        5            1   600.0   2025-07-12   \n",
            "6           7        2            5  1250.0   2025-07-13   \n",
            "7           8        3            2  1800.0   2025-07-16   \n",
            "8           9        4            3  7200.0   2025-07-19   \n",
            "9          10        5            4   520.0   2025-07-21   \n",
            "\n",
            "                         description    month  \n",
            "0  Doctor consultation and medicines  2025-07  \n",
            "1                  Online course fee  2025-07  \n",
            "2                    July month rent  2025-07  \n",
            "3                      Movie tickets  2025-07  \n",
            "4                       Weekend trip  2025-07  \n",
            "5                  Pharmacy purchase  2025-07  \n",
            "6     Cab and hotel for client visit  2025-07  \n",
            "7            Textbooks and materials  2025-07  \n",
            "8              Shared apartment rent  2025-07  \n",
            "9               Stand-up comedy show  2025-07  \n"
          ]
        }
      ]
    },
    {
      "cell_type": "code",
      "source": [
        "monthly_totals = df.groupby('month')['amount'].sum()\n",
        "print(\"Monthly Totals:\\n\", monthly_totals, \"\\n\")"
      ],
      "metadata": {
        "colab": {
          "base_uri": "https://localhost:8080/"
        },
        "id": "EIHwEKGH_joi",
        "outputId": "baa6f6e4-cfd7-4d20-cf94-3ad7cdc92be0"
      },
      "execution_count": 66,
      "outputs": [
        {
          "output_type": "stream",
          "name": "stdout",
          "text": [
            "Monthly Totals:\n",
            " month\n",
            "2025-07    24770.0\n",
            "Freq: M, Name: amount, dtype: float64 \n",
            "\n"
          ]
        }
      ]
    },
    {
      "cell_type": "code",
      "source": [
        "monthly_breakdown = df.groupby(['month', 'category_id'])['amount'].sum().unstack().fillna(0)\n",
        "print(\"Monthly Category Breakdown:\\n\", monthly_breakdown, \"\\n\")"
      ],
      "metadata": {
        "colab": {
          "base_uri": "https://localhost:8080/"
        },
        "id": "hPo3GW5E_mDB",
        "outputId": "2194a3f9-c6d3-4275-d51e-ff1172a6ffb9"
      },
      "execution_count": 69,
      "outputs": [
        {
          "output_type": "stream",
          "name": "stdout",
          "text": [
            "Monthly Category Breakdown:\n",
            " category_id       1       2        3      4       5\n",
            "month                                              \n",
            "2025-07      1550.0  3800.0  14200.0  970.0  4250.0 \n",
            "\n"
          ]
        }
      ]
    },
    {
      "cell_type": "code",
      "source": [
        "monthly_avg = np.mean(monthly_totals)\n",
        "print(f\"Average Monthly Expense: {monthly_avg:.2f}\")"
      ],
      "metadata": {
        "colab": {
          "base_uri": "https://localhost:8080/"
        },
        "id": "TJW69b8y_pEi",
        "outputId": "98111462-f9bd-43d2-d150-9e0b8bdd070e"
      },
      "execution_count": 70,
      "outputs": [
        {
          "output_type": "stream",
          "name": "stdout",
          "text": [
            "Average Monthly Expense: 24770.00\n"
          ]
        }
      ]
    },
    {
      "cell_type": "code",
      "source": [
        "unusual_months = monthly_totals[monthly_totals > monthly_avg]\n",
        "print(\"\\nUnusual High Spending Months:\\n\", unusual_months)"
      ],
      "metadata": {
        "colab": {
          "base_uri": "https://localhost:8080/"
        },
        "id": "V6Mk1nZH_uOh",
        "outputId": "65581916-6377-495b-d411-c4315d4a9ed5"
      },
      "execution_count": 71,
      "outputs": [
        {
          "output_type": "stream",
          "name": "stdout",
          "text": [
            "\n",
            "Unusual High Spending Months:\n",
            " Series([], Freq: M, Name: amount, dtype: float64)\n"
          ]
        }
      ]
    },
    {
      "cell_type": "code",
      "source": [
        "df_cleaned = df.sort_values(by='expense_date')\n",
        "print(\"\\n Cleaned Dataset:\\n\", df_cleaned)"
      ],
      "metadata": {
        "colab": {
          "base_uri": "https://localhost:8080/"
        },
        "id": "_tTXfyPZ_wxo",
        "outputId": "fbee063e-e75a-40d4-da6e-63144bd9f32d"
      },
      "execution_count": 73,
      "outputs": [
        {
          "output_type": "stream",
          "name": "stdout",
          "text": [
            "\n",
            " Cleaned Dataset:\n",
            "    expense_id  user_id  category_id  amount expense_date  \\\n",
            "0           1        1            1   950.0   2025-07-02   \n",
            "1           2        1            2  2000.0   2025-07-04   \n",
            "2           3        2            3  7000.0   2025-07-06   \n",
            "3           4        3            4   450.0   2025-07-09   \n",
            "4           5        4            5  3000.0   2025-07-11   \n",
            "5           6        5            1   600.0   2025-07-12   \n",
            "6           7        2            5  1250.0   2025-07-13   \n",
            "7           8        3            2  1800.0   2025-07-16   \n",
            "8           9        4            3  7200.0   2025-07-19   \n",
            "9          10        5            4   520.0   2025-07-21   \n",
            "\n",
            "                         description    month  \n",
            "0  Doctor consultation and medicines  2025-07  \n",
            "1                  Online course fee  2025-07  \n",
            "2                    July month rent  2025-07  \n",
            "3                      Movie tickets  2025-07  \n",
            "4                       Weekend trip  2025-07  \n",
            "5                  Pharmacy purchase  2025-07  \n",
            "6     Cab and hotel for client visit  2025-07  \n",
            "7            Textbooks and materials  2025-07  \n",
            "8              Shared apartment rent  2025-07  \n",
            "9               Stand-up comedy show  2025-07  \n"
          ]
        }
      ]
    },
    {
      "cell_type": "code",
      "source": [
        "\n",
        "\n",
        "df_cleaned.to_csv('cleaned_expenses.csv', index=False)"
      ],
      "metadata": {
        "id": "FCeORjLZAG56"
      },
      "execution_count": 74,
      "outputs": []
    }
  ]
}