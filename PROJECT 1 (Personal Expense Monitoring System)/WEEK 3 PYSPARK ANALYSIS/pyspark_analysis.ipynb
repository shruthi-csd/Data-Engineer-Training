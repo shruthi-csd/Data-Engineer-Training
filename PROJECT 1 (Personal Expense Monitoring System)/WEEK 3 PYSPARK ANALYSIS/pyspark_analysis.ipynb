{
  "nbformat": 4,
  "nbformat_minor": 0,
  "metadata": {
    "colab": {
      "provenance": []
    },
    "kernelspec": {
      "name": "python3",
      "display_name": "Python 3"
    },
    "language_info": {
      "name": "python"
    }
  },
  "cells": [
    {
      "cell_type": "code",
      "execution_count": 1,
      "metadata": {
        "id": "MZ6uPZ3-fDRX"
      },
      "outputs": [],
      "source": [
        "from pyspark.sql import SparkSession\n",
        "from pyspark.sql.functions import col, sum as spark_sum, month, year, avg as spark_avg, max as spark_max\n"
      ]
    },
    {
      "cell_type": "markdown",
      "source": [
        "# 1. Create Spark session"
      ],
      "metadata": {
        "id": "964lWjnHiqa6"
      }
    },
    {
      "cell_type": "code",
      "source": [
        "spark = SparkSession.builder.appName(\"ExpenseAnalysis\").getOrCreate()"
      ],
      "metadata": {
        "id": "DHy000rhfLak"
      },
      "execution_count": 2,
      "outputs": []
    },
    {
      "cell_type": "markdown",
      "source": [
        "# 2. Load CSV files"
      ],
      "metadata": {
        "id": "G41bTxLziw2O"
      }
    },
    {
      "cell_type": "code",
      "source": [
        "from google.colab import files\n",
        "uploaded = files.upload()"
      ],
      "metadata": {
        "colab": {
          "base_uri": "https://localhost:8080/",
          "height": 142
        },
        "id": "BlQREo0jgnWV",
        "outputId": "a699a693-db5d-4e20-b1ad-7cfbb4aea20a"
      },
      "execution_count": 7,
      "outputs": [
        {
          "output_type": "display_data",
          "data": {
            "text/plain": [
              "<IPython.core.display.HTML object>"
            ],
            "text/html": [
              "\n",
              "     <input type=\"file\" id=\"files-a96177fd-3dbf-4c19-99bb-45a444bb8ab2\" name=\"files[]\" multiple disabled\n",
              "        style=\"border:none\" />\n",
              "     <output id=\"result-a96177fd-3dbf-4c19-99bb-45a444bb8ab2\">\n",
              "      Upload widget is only available when the cell has been executed in the\n",
              "      current browser session. Please rerun this cell to enable.\n",
              "      </output>\n",
              "      <script>// Copyright 2017 Google LLC\n",
              "//\n",
              "// Licensed under the Apache License, Version 2.0 (the \"License\");\n",
              "// you may not use this file except in compliance with the License.\n",
              "// You may obtain a copy of the License at\n",
              "//\n",
              "//      http://www.apache.org/licenses/LICENSE-2.0\n",
              "//\n",
              "// Unless required by applicable law or agreed to in writing, software\n",
              "// distributed under the License is distributed on an \"AS IS\" BASIS,\n",
              "// WITHOUT WARRANTIES OR CONDITIONS OF ANY KIND, either express or implied.\n",
              "// See the License for the specific language governing permissions and\n",
              "// limitations under the License.\n",
              "\n",
              "/**\n",
              " * @fileoverview Helpers for google.colab Python module.\n",
              " */\n",
              "(function(scope) {\n",
              "function span(text, styleAttributes = {}) {\n",
              "  const element = document.createElement('span');\n",
              "  element.textContent = text;\n",
              "  for (const key of Object.keys(styleAttributes)) {\n",
              "    element.style[key] = styleAttributes[key];\n",
              "  }\n",
              "  return element;\n",
              "}\n",
              "\n",
              "// Max number of bytes which will be uploaded at a time.\n",
              "const MAX_PAYLOAD_SIZE = 100 * 1024;\n",
              "\n",
              "function _uploadFiles(inputId, outputId) {\n",
              "  const steps = uploadFilesStep(inputId, outputId);\n",
              "  const outputElement = document.getElementById(outputId);\n",
              "  // Cache steps on the outputElement to make it available for the next call\n",
              "  // to uploadFilesContinue from Python.\n",
              "  outputElement.steps = steps;\n",
              "\n",
              "  return _uploadFilesContinue(outputId);\n",
              "}\n",
              "\n",
              "// This is roughly an async generator (not supported in the browser yet),\n",
              "// where there are multiple asynchronous steps and the Python side is going\n",
              "// to poll for completion of each step.\n",
              "// This uses a Promise to block the python side on completion of each step,\n",
              "// then passes the result of the previous step as the input to the next step.\n",
              "function _uploadFilesContinue(outputId) {\n",
              "  const outputElement = document.getElementById(outputId);\n",
              "  const steps = outputElement.steps;\n",
              "\n",
              "  const next = steps.next(outputElement.lastPromiseValue);\n",
              "  return Promise.resolve(next.value.promise).then((value) => {\n",
              "    // Cache the last promise value to make it available to the next\n",
              "    // step of the generator.\n",
              "    outputElement.lastPromiseValue = value;\n",
              "    return next.value.response;\n",
              "  });\n",
              "}\n",
              "\n",
              "/**\n",
              " * Generator function which is called between each async step of the upload\n",
              " * process.\n",
              " * @param {string} inputId Element ID of the input file picker element.\n",
              " * @param {string} outputId Element ID of the output display.\n",
              " * @return {!Iterable<!Object>} Iterable of next steps.\n",
              " */\n",
              "function* uploadFilesStep(inputId, outputId) {\n",
              "  const inputElement = document.getElementById(inputId);\n",
              "  inputElement.disabled = false;\n",
              "\n",
              "  const outputElement = document.getElementById(outputId);\n",
              "  outputElement.innerHTML = '';\n",
              "\n",
              "  const pickedPromise = new Promise((resolve) => {\n",
              "    inputElement.addEventListener('change', (e) => {\n",
              "      resolve(e.target.files);\n",
              "    });\n",
              "  });\n",
              "\n",
              "  const cancel = document.createElement('button');\n",
              "  inputElement.parentElement.appendChild(cancel);\n",
              "  cancel.textContent = 'Cancel upload';\n",
              "  const cancelPromise = new Promise((resolve) => {\n",
              "    cancel.onclick = () => {\n",
              "      resolve(null);\n",
              "    };\n",
              "  });\n",
              "\n",
              "  // Wait for the user to pick the files.\n",
              "  const files = yield {\n",
              "    promise: Promise.race([pickedPromise, cancelPromise]),\n",
              "    response: {\n",
              "      action: 'starting',\n",
              "    }\n",
              "  };\n",
              "\n",
              "  cancel.remove();\n",
              "\n",
              "  // Disable the input element since further picks are not allowed.\n",
              "  inputElement.disabled = true;\n",
              "\n",
              "  if (!files) {\n",
              "    return {\n",
              "      response: {\n",
              "        action: 'complete',\n",
              "      }\n",
              "    };\n",
              "  }\n",
              "\n",
              "  for (const file of files) {\n",
              "    const li = document.createElement('li');\n",
              "    li.append(span(file.name, {fontWeight: 'bold'}));\n",
              "    li.append(span(\n",
              "        `(${file.type || 'n/a'}) - ${file.size} bytes, ` +\n",
              "        `last modified: ${\n",
              "            file.lastModifiedDate ? file.lastModifiedDate.toLocaleDateString() :\n",
              "                                    'n/a'} - `));\n",
              "    const percent = span('0% done');\n",
              "    li.appendChild(percent);\n",
              "\n",
              "    outputElement.appendChild(li);\n",
              "\n",
              "    const fileDataPromise = new Promise((resolve) => {\n",
              "      const reader = new FileReader();\n",
              "      reader.onload = (e) => {\n",
              "        resolve(e.target.result);\n",
              "      };\n",
              "      reader.readAsArrayBuffer(file);\n",
              "    });\n",
              "    // Wait for the data to be ready.\n",
              "    let fileData = yield {\n",
              "      promise: fileDataPromise,\n",
              "      response: {\n",
              "        action: 'continue',\n",
              "      }\n",
              "    };\n",
              "\n",
              "    // Use a chunked sending to avoid message size limits. See b/62115660.\n",
              "    let position = 0;\n",
              "    do {\n",
              "      const length = Math.min(fileData.byteLength - position, MAX_PAYLOAD_SIZE);\n",
              "      const chunk = new Uint8Array(fileData, position, length);\n",
              "      position += length;\n",
              "\n",
              "      const base64 = btoa(String.fromCharCode.apply(null, chunk));\n",
              "      yield {\n",
              "        response: {\n",
              "          action: 'append',\n",
              "          file: file.name,\n",
              "          data: base64,\n",
              "        },\n",
              "      };\n",
              "\n",
              "      let percentDone = fileData.byteLength === 0 ?\n",
              "          100 :\n",
              "          Math.round((position / fileData.byteLength) * 100);\n",
              "      percent.textContent = `${percentDone}% done`;\n",
              "\n",
              "    } while (position < fileData.byteLength);\n",
              "  }\n",
              "\n",
              "  // All done.\n",
              "  yield {\n",
              "    response: {\n",
              "      action: 'complete',\n",
              "    }\n",
              "  };\n",
              "}\n",
              "\n",
              "scope.google = scope.google || {};\n",
              "scope.google.colab = scope.google.colab || {};\n",
              "scope.google.colab._files = {\n",
              "  _uploadFiles,\n",
              "  _uploadFilesContinue,\n",
              "};\n",
              "})(self);\n",
              "</script> "
            ]
          },
          "metadata": {}
        },
        {
          "output_type": "stream",
          "name": "stdout",
          "text": [
            "Saving categories.csv to categories.csv\n",
            "Saving expense.csv to expense.csv\n",
            "Saving users.csv to users.csv\n"
          ]
        }
      ]
    },
    {
      "cell_type": "code",
      "source": [
        "!ls\n"
      ],
      "metadata": {
        "colab": {
          "base_uri": "https://localhost:8080/"
        },
        "id": "zBVHlLGLg7l2",
        "outputId": "f903d630-72fc-47ed-feba-1b1626b8fef9"
      },
      "execution_count": 8,
      "outputs": [
        {
          "output_type": "stream",
          "name": "stdout",
          "text": [
            " categories.csv   sample_data  'WEEK 1_MongoDB.js'\n",
            " expense.csv\t  users.csv    'WEEK 1_SQL_TASK.sql'\n"
          ]
        }
      ]
    },
    {
      "cell_type": "code",
      "source": [
        "users_df = spark.read.csv(\"users.csv\", header=True, inferSchema=True)"
      ],
      "metadata": {
        "id": "Oa17Ard6f-wq"
      },
      "execution_count": 9,
      "outputs": []
    },
    {
      "cell_type": "code",
      "source": [
        "print(\"=== Users Data ===\")\n",
        "users_df.show()\n"
      ],
      "metadata": {
        "colab": {
          "base_uri": "https://localhost:8080/"
        },
        "id": "Izc526YdhIcz",
        "outputId": "089ef0c9-08ce-435a-d72e-aa08eeec3c1f"
      },
      "execution_count": 10,
      "outputs": [
        {
          "output_type": "stream",
          "name": "stdout",
          "text": [
            "=== Users Data ===\n",
            "+-------+-------+--------------------+\n",
            "|user_id|   name|               email|\n",
            "+-------+-------+--------------------+\n",
            "|      1|Karthik|karthik2025@mail.com|\n",
            "|      2|  Sneha|sneha.raju@email.com|\n",
            "|      3| Vikram|vikram_nair@domai...|\n",
            "|      4|  Pooja|pooja.star95@exam...|\n",
            "|      5|  Tejas|tejas.mani@gmail.com|\n",
            "+-------+-------+--------------------+\n",
            "\n"
          ]
        }
      ]
    },
    {
      "cell_type": "code",
      "source": [
        "expenses_df = spark.read.csv(\"expense.csv\", header=True, inferSchema=True)\n"
      ],
      "metadata": {
        "id": "shkHknpdhLSr"
      },
      "execution_count": 12,
      "outputs": []
    },
    {
      "cell_type": "code",
      "source": [
        "print(\"=== Expenses Data ===\")\n",
        "expenses_df.show()\n",
        "\n"
      ],
      "metadata": {
        "colab": {
          "base_uri": "https://localhost:8080/"
        },
        "id": "vB4UQrh8hc-8",
        "outputId": "73ef0aae-29fe-4421-88c8-6127cd571b10"
      },
      "execution_count": 13,
      "outputs": [
        {
          "output_type": "stream",
          "name": "stdout",
          "text": [
            "=== Expenses Data ===\n",
            "+----------+-------+-----------+------+------------+--------------------+\n",
            "|expense_id|user_id|category_id|amount|expense_date|         description|\n",
            "+----------+-------+-----------+------+------------+--------------------+\n",
            "|         1|      1|          1| 950.0|  2025-07-02|Doctor consultati...|\n",
            "|         2|      1|          2|2000.0|  2025-07-04|   Online course fee|\n",
            "|         3|      2|          3|7000.0|  2025-07-06|     July month rent|\n",
            "|         4|      3|          4| 450.0|  2025-07-09|       Movie tickets|\n",
            "|         5|      4|          5|3000.0|  2025-07-11|        Weekend trip|\n",
            "|         6|      5|          1| 600.0|  2025-07-12|   Pharmacy purchase|\n",
            "|         7|      2|          5|1250.0|  2025-07-13|Cab and hotel for...|\n",
            "|         8|      3|          2|1800.0|  2025-07-16|Textbooks and mat...|\n",
            "|         9|      4|          3|7200.0|  2025-07-19|Shared apartment ...|\n",
            "|        10|      5|          4| 520.0|  2025-07-21|Stand-up comedy show|\n",
            "+----------+-------+-----------+------+------------+--------------------+\n",
            "\n"
          ]
        }
      ]
    },
    {
      "cell_type": "code",
      "source": [
        "categories_df = spark.read.csv(\"categories.csv\", header=True, inferSchema=True)"
      ],
      "metadata": {
        "id": "BOZ_zF3ChUw7"
      },
      "execution_count": 16,
      "outputs": []
    },
    {
      "cell_type": "code",
      "source": [
        "print(\"=== Categories Data ===\")\n",
        "categories_df.show()"
      ],
      "metadata": {
        "colab": {
          "base_uri": "https://localhost:8080/"
        },
        "id": "7QHUPTyOheTq",
        "outputId": "d3bc4aa6-9073-400f-c785-66933cfd60b6"
      },
      "execution_count": 17,
      "outputs": [
        {
          "output_type": "stream",
          "name": "stdout",
          "text": [
            "=== Categories Data ===\n",
            "+-----------+-------------+\n",
            "|category_id|category_name|\n",
            "+-----------+-------------+\n",
            "|          2|    Education|\n",
            "|          4|Entertainment|\n",
            "|          1|   Healthcare|\n",
            "|          3|         Rent|\n",
            "|          5|       Travel|\n",
            "+-----------+-------------+\n",
            "\n"
          ]
        }
      ]
    },
    {
      "cell_type": "markdown",
      "source": [
        "# 3. Calculate monthly total spend per user"
      ],
      "metadata": {
        "id": "VgSTWx-Li5Od"
      }
    },
    {
      "cell_type": "code",
      "source": [
        "monthly_spend = (expenses_df\n",
        "    .withColumn(\"month\", month(\"expense_date\"))\n",
        "    .withColumn(\"year\", year(\"expense_date\"))\n",
        "    .groupBy(\"user_id\", \"year\", \"month\")\n",
        "    .agg(spark_sum(\"amount\").alias(\"total_monthly_spend\"))\n",
        ")\n",
        "\n",
        "print(\"=== Monthly Total Spend per User ===\")\n",
        "monthly_spend.show()"
      ],
      "metadata": {
        "colab": {
          "base_uri": "https://localhost:8080/"
        },
        "id": "g3Vkmit2hj_S",
        "outputId": "38a80e8c-2d44-4f07-bd88-217964d83c01"
      },
      "execution_count": 18,
      "outputs": [
        {
          "output_type": "stream",
          "name": "stdout",
          "text": [
            "=== Monthly Total Spend per User ===\n",
            "+-------+----+-----+-------------------+\n",
            "|user_id|year|month|total_monthly_spend|\n",
            "+-------+----+-----+-------------------+\n",
            "|      5|2025|    7|             1120.0|\n",
            "|      3|2025|    7|             2250.0|\n",
            "|      1|2025|    7|             2950.0|\n",
            "|      2|2025|    7|             8250.0|\n",
            "|      4|2025|    7|            10200.0|\n",
            "+-------+----+-----+-------------------+\n",
            "\n"
          ]
        }
      ]
    },
    {
      "cell_type": "markdown",
      "source": [
        "\n",
        "# 4. Compute average monthly spend per user"
      ],
      "metadata": {
        "id": "GZvUNkE4i7R1"
      }
    },
    {
      "cell_type": "code",
      "source": [
        "avg_spend_per_user = monthly_spend.groupBy(\"user_id\").agg(\n",
        "    spark_avg(\"total_monthly_spend\").alias(\"avg_spend\")\n",
        ")\n",
        "\n",
        "print(\"=== Average Monthly Spend per User ===\")\n",
        "avg_spend_per_user.show()"
      ],
      "metadata": {
        "colab": {
          "base_uri": "https://localhost:8080/"
        },
        "id": "PSPwh98Sho6B",
        "outputId": "5cd178dc-20fc-49f4-a563-23fa8fa6c3c7"
      },
      "execution_count": 19,
      "outputs": [
        {
          "output_type": "stream",
          "name": "stdout",
          "text": [
            "=== Average Monthly Spend per User ===\n",
            "+-------+---------+\n",
            "|user_id|avg_spend|\n",
            "+-------+---------+\n",
            "|      1|   2950.0|\n",
            "|      3|   2250.0|\n",
            "|      5|   1120.0|\n",
            "|      4|  10200.0|\n",
            "|      2|   8250.0|\n",
            "+-------+---------+\n",
            "\n"
          ]
        }
      ]
    },
    {
      "cell_type": "markdown",
      "source": [
        "# 5. Detect unusual spending spikes (monthly spend > 2x average)"
      ],
      "metadata": {
        "id": "46sxKHZ3i_Z9"
      }
    },
    {
      "cell_type": "code",
      "source": [
        "spikes = (monthly_spend.join(avg_spend_per_user, on=\"user_id\")\n",
        "          .filter(col(\"total_monthly_spend\") > 2 * col(\"avg_spend\")))\n",
        "\n",
        "print(\"=== Users with Spending Spikes (>2x Average) ===\")\n",
        "spikes.show()\n"
      ],
      "metadata": {
        "colab": {
          "base_uri": "https://localhost:8080/"
        },
        "id": "ijQ_oSFyhr8y",
        "outputId": "ace1a38a-3ab0-44d9-8f02-994deb95ed8a"
      },
      "execution_count": 20,
      "outputs": [
        {
          "output_type": "stream",
          "name": "stdout",
          "text": [
            "=== Users with Spending Spikes (>2x Average) ===\n",
            "+-------+----+-----+-------------------+---------+\n",
            "|user_id|year|month|total_monthly_spend|avg_spend|\n",
            "+-------+----+-----+-------------------+---------+\n",
            "+-------+----+-----+-------------------+---------+\n",
            "\n"
          ]
        }
      ]
    },
    {
      "cell_type": "markdown",
      "source": [
        "\n",
        "# 6. Detect large one-time expenses (expense > 3x user's average)\n"
      ],
      "metadata": {
        "id": "BG-mdbHDjDkt"
      }
    },
    {
      "cell_type": "code",
      "source": [
        "user_max_expense = expenses_df.groupBy(\"user_id\").agg(\n",
        "    spark_max(\"amount\").alias(\"max_expense\")\n",
        ")\n",
        "user_avg_expense = expenses_df.groupBy(\"user_id\").agg(\n",
        "    spark_avg(\"amount\").alias(\"avg_expense\")\n",
        ")\n",
        "large_one_time = (user_max_expense.join(user_avg_expense, \"user_id\")\n",
        "                  .filter(col(\"max_expense\") > 3 * col(\"avg_expense\")))\n",
        "\n",
        "print(\"=== Users with Large One-Time Expenses (>3x Avg) ===\")\n",
        "large_one_time.show()"
      ],
      "metadata": {
        "colab": {
          "base_uri": "https://localhost:8080/"
        },
        "id": "BzX-bpLbhu6C",
        "outputId": "d84b7faa-2fd6-4e39-8621-71f8e98f75cb"
      },
      "execution_count": 21,
      "outputs": [
        {
          "output_type": "stream",
          "name": "stdout",
          "text": [
            "=== Users with Large One-Time Expenses (>3x Avg) ===\n",
            "+-------+-----------+-----------+\n",
            "|user_id|max_expense|avg_expense|\n",
            "+-------+-----------+-----------+\n",
            "+-------+-----------+-----------+\n",
            "\n"
          ]
        }
      ]
    },
    {
      "cell_type": "markdown",
      "source": [
        "# 7. Combine unusual spending users\n"
      ],
      "metadata": {
        "id": "Z5Ej6SOrjIhm"
      }
    },
    {
      "cell_type": "code",
      "source": [
        "unusual_users = spikes.select(\"user_id\").union(\n",
        "    large_one_time.select(\"user_id\")\n",
        ").distinct()\n",
        "\n",
        "print(\"=== Unusual Spending Users (Combined) ===\")\n",
        "unusual_users.show()"
      ],
      "metadata": {
        "colab": {
          "base_uri": "https://localhost:8080/"
        },
        "id": "WkrSmoQeh0Hg",
        "outputId": "56bc70fc-0b08-436f-b375-1ea83c5e1247"
      },
      "execution_count": 22,
      "outputs": [
        {
          "output_type": "stream",
          "name": "stdout",
          "text": [
            "=== Unusual Spending Users (Combined) ===\n",
            "+-------+\n",
            "|user_id|\n",
            "+-------+\n",
            "+-------+\n",
            "\n"
          ]
        }
      ]
    },
    {
      "cell_type": "markdown",
      "source": [
        "# 8. Join with users for final report\n"
      ],
      "metadata": {
        "id": "slU1nJFWjV9s"
      }
    },
    {
      "cell_type": "code",
      "source": [
        "final_output = unusual_users.join(users_df, unusual_users.user_id == users_df.user_id, \"left\") \\\n",
        "                            .select(users_df.user_id, \"name\", \"email\")\n",
        "\n",
        "print(\"=== Final Output: Users with Potential Unusual Spending ===\")\n",
        "final_output.show()"
      ],
      "metadata": {
        "colab": {
          "base_uri": "https://localhost:8080/"
        },
        "id": "IXWe4WQNh4-p",
        "outputId": "72072e14-3da5-44f3-87ce-8bc7d24c95e5"
      },
      "execution_count": 23,
      "outputs": [
        {
          "output_type": "stream",
          "name": "stdout",
          "text": [
            "=== Final Output: Users with Potential Unusual Spending ===\n",
            "+-------+----+-----+\n",
            "|user_id|name|email|\n",
            "+-------+----+-----+\n",
            "+-------+----+-----+\n",
            "\n"
          ]
        }
      ]
    }
  ]
}