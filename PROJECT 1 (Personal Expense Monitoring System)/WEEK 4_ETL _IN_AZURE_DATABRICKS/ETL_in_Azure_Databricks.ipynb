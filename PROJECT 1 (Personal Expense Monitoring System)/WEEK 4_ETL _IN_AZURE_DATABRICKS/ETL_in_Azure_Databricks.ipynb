{
  "nbformat": 4,
  "nbformat_minor": 0,
  "metadata": {
    "colab": {
      "provenance": []
    },
    "kernelspec": {
      "name": "python3",
      "display_name": "Python 3"
    },
    "language_info": {
      "name": "python"
    }
  },
  "cells": [
    {
      "cell_type": "code",
      "execution_count": 1,
      "metadata": {
        "colab": {
          "base_uri": "https://localhost:8080/"
        },
        "id": "YhNipVlVXHZm",
        "outputId": "1eb51253-b35f-4bfd-e118-ffe7607c6ae4"
      },
      "outputs": [
        {
          "output_type": "stream",
          "name": "stdout",
          "text": [
            "Collecting pyspark==3.5.0\n",
            "  Downloading pyspark-3.5.0.tar.gz (316.9 MB)\n",
            "\u001b[2K     \u001b[90m━━━━━━━━━━━━━━━━━━━━━━━━━━━━━━━━━━━━━━━\u001b[0m \u001b[32m316.9/316.9 MB\u001b[0m \u001b[31m4.9 MB/s\u001b[0m eta \u001b[36m0:00:00\u001b[0m\n",
            "\u001b[?25h  Preparing metadata (setup.py) ... \u001b[?25l\u001b[?25hdone\n",
            "Collecting delta-spark==3.1.0\n",
            "  Downloading delta_spark-3.1.0-py3-none-any.whl.metadata (1.9 kB)\n",
            "Requirement already satisfied: py4j==0.10.9.7 in /usr/local/lib/python3.11/dist-packages (from pyspark==3.5.0) (0.10.9.7)\n",
            "Requirement already satisfied: importlib-metadata>=1.0.0 in /usr/local/lib/python3.11/dist-packages (from delta-spark==3.1.0) (8.7.0)\n",
            "Requirement already satisfied: zipp>=3.20 in /usr/local/lib/python3.11/dist-packages (from importlib-metadata>=1.0.0->delta-spark==3.1.0) (3.23.0)\n",
            "Downloading delta_spark-3.1.0-py3-none-any.whl (21 kB)\n",
            "Building wheels for collected packages: pyspark\n",
            "  Building wheel for pyspark (setup.py) ... \u001b[?25l\u001b[?25hdone\n",
            "  Created wheel for pyspark: filename=pyspark-3.5.0-py2.py3-none-any.whl size=317425346 sha256=e4a504d4d86264a96b8656fdefab0996b0a02862c3f2812a1c323c252a6a3de7\n",
            "  Stored in directory: /root/.cache/pip/wheels/38/df/61/8c121f50c3cffd77f8178180dd232d90b3b99d1bd61fb6d6be\n",
            "Successfully built pyspark\n",
            "Installing collected packages: pyspark, delta-spark\n",
            "  Attempting uninstall: pyspark\n",
            "    Found existing installation: pyspark 3.5.1\n",
            "    Uninstalling pyspark-3.5.1:\n",
            "      Successfully uninstalled pyspark-3.5.1\n",
            "\u001b[31mERROR: pip's dependency resolver does not currently take into account all the packages that are installed. This behaviour is the source of the following dependency conflicts.\n",
            "dataproc-spark-connect 0.8.3 requires pyspark[connect]~=3.5.1, but you have pyspark 3.5.0 which is incompatible.\u001b[0m\u001b[31m\n",
            "\u001b[0mSuccessfully installed delta-spark-3.1.0 pyspark-3.5.0\n"
          ]
        }
      ],
      "source": [
        "!pip install pyspark==3.5.0 delta-spark==3.1.0\n"
      ]
    },
    {
      "cell_type": "code",
      "source": [
        "from pyspark.sql import SparkSession\n",
        "from delta import configure_spark_with_delta_pip\n",
        "\n",
        "builder = (\n",
        "    SparkSession.builder.appName(\"CapstoneETL\")\n",
        "    .config(\"spark.sql.extensions\", \"io.delta.sql.DeltaSparkSessionExtension\")\n",
        "    .config(\"spark.sql.catalog.spark_catalog\", \"org.apache.spark.sql.delta.catalog.DeltaCatalog\")\n",
        ")\n",
        "\n",
        "spark = configure_spark_with_delta_pip(builder).getOrCreate()\n"
      ],
      "metadata": {
        "id": "x3z3zLG2XblH"
      },
      "execution_count": 2,
      "outputs": []
    },
    {
      "cell_type": "code",
      "source": [
        "from google.colab import files\n",
        "uploaded = files.upload()\n"
      ],
      "metadata": {
        "colab": {
          "base_uri": "https://localhost:8080/",
          "height": 142
        },
        "id": "s9XJhEaTXi_b",
        "outputId": "8d618637-9823-4804-c48b-aa142d5a1d06"
      },
      "execution_count": 3,
      "outputs": [
        {
          "output_type": "display_data",
          "data": {
            "text/plain": [
              "<IPython.core.display.HTML object>"
            ],
            "text/html": [
              "\n",
              "     <input type=\"file\" id=\"files-14280b0c-0514-4441-a85b-60475875f1ab\" name=\"files[]\" multiple disabled\n",
              "        style=\"border:none\" />\n",
              "     <output id=\"result-14280b0c-0514-4441-a85b-60475875f1ab\">\n",
              "      Upload widget is only available when the cell has been executed in the\n",
              "      current browser session. Please rerun this cell to enable.\n",
              "      </output>\n",
              "      <script>// Copyright 2017 Google LLC\n",
              "//\n",
              "// Licensed under the Apache License, Version 2.0 (the \"License\");\n",
              "// you may not use this file except in compliance with the License.\n",
              "// You may obtain a copy of the License at\n",
              "//\n",
              "//      http://www.apache.org/licenses/LICENSE-2.0\n",
              "//\n",
              "// Unless required by applicable law or agreed to in writing, software\n",
              "// distributed under the License is distributed on an \"AS IS\" BASIS,\n",
              "// WITHOUT WARRANTIES OR CONDITIONS OF ANY KIND, either express or implied.\n",
              "// See the License for the specific language governing permissions and\n",
              "// limitations under the License.\n",
              "\n",
              "/**\n",
              " * @fileoverview Helpers for google.colab Python module.\n",
              " */\n",
              "(function(scope) {\n",
              "function span(text, styleAttributes = {}) {\n",
              "  const element = document.createElement('span');\n",
              "  element.textContent = text;\n",
              "  for (const key of Object.keys(styleAttributes)) {\n",
              "    element.style[key] = styleAttributes[key];\n",
              "  }\n",
              "  return element;\n",
              "}\n",
              "\n",
              "// Max number of bytes which will be uploaded at a time.\n",
              "const MAX_PAYLOAD_SIZE = 100 * 1024;\n",
              "\n",
              "function _uploadFiles(inputId, outputId) {\n",
              "  const steps = uploadFilesStep(inputId, outputId);\n",
              "  const outputElement = document.getElementById(outputId);\n",
              "  // Cache steps on the outputElement to make it available for the next call\n",
              "  // to uploadFilesContinue from Python.\n",
              "  outputElement.steps = steps;\n",
              "\n",
              "  return _uploadFilesContinue(outputId);\n",
              "}\n",
              "\n",
              "// This is roughly an async generator (not supported in the browser yet),\n",
              "// where there are multiple asynchronous steps and the Python side is going\n",
              "// to poll for completion of each step.\n",
              "// This uses a Promise to block the python side on completion of each step,\n",
              "// then passes the result of the previous step as the input to the next step.\n",
              "function _uploadFilesContinue(outputId) {\n",
              "  const outputElement = document.getElementById(outputId);\n",
              "  const steps = outputElement.steps;\n",
              "\n",
              "  const next = steps.next(outputElement.lastPromiseValue);\n",
              "  return Promise.resolve(next.value.promise).then((value) => {\n",
              "    // Cache the last promise value to make it available to the next\n",
              "    // step of the generator.\n",
              "    outputElement.lastPromiseValue = value;\n",
              "    return next.value.response;\n",
              "  });\n",
              "}\n",
              "\n",
              "/**\n",
              " * Generator function which is called between each async step of the upload\n",
              " * process.\n",
              " * @param {string} inputId Element ID of the input file picker element.\n",
              " * @param {string} outputId Element ID of the output display.\n",
              " * @return {!Iterable<!Object>} Iterable of next steps.\n",
              " */\n",
              "function* uploadFilesStep(inputId, outputId) {\n",
              "  const inputElement = document.getElementById(inputId);\n",
              "  inputElement.disabled = false;\n",
              "\n",
              "  const outputElement = document.getElementById(outputId);\n",
              "  outputElement.innerHTML = '';\n",
              "\n",
              "  const pickedPromise = new Promise((resolve) => {\n",
              "    inputElement.addEventListener('change', (e) => {\n",
              "      resolve(e.target.files);\n",
              "    });\n",
              "  });\n",
              "\n",
              "  const cancel = document.createElement('button');\n",
              "  inputElement.parentElement.appendChild(cancel);\n",
              "  cancel.textContent = 'Cancel upload';\n",
              "  const cancelPromise = new Promise((resolve) => {\n",
              "    cancel.onclick = () => {\n",
              "      resolve(null);\n",
              "    };\n",
              "  });\n",
              "\n",
              "  // Wait for the user to pick the files.\n",
              "  const files = yield {\n",
              "    promise: Promise.race([pickedPromise, cancelPromise]),\n",
              "    response: {\n",
              "      action: 'starting',\n",
              "    }\n",
              "  };\n",
              "\n",
              "  cancel.remove();\n",
              "\n",
              "  // Disable the input element since further picks are not allowed.\n",
              "  inputElement.disabled = true;\n",
              "\n",
              "  if (!files) {\n",
              "    return {\n",
              "      response: {\n",
              "        action: 'complete',\n",
              "      }\n",
              "    };\n",
              "  }\n",
              "\n",
              "  for (const file of files) {\n",
              "    const li = document.createElement('li');\n",
              "    li.append(span(file.name, {fontWeight: 'bold'}));\n",
              "    li.append(span(\n",
              "        `(${file.type || 'n/a'}) - ${file.size} bytes, ` +\n",
              "        `last modified: ${\n",
              "            file.lastModifiedDate ? file.lastModifiedDate.toLocaleDateString() :\n",
              "                                    'n/a'} - `));\n",
              "    const percent = span('0% done');\n",
              "    li.appendChild(percent);\n",
              "\n",
              "    outputElement.appendChild(li);\n",
              "\n",
              "    const fileDataPromise = new Promise((resolve) => {\n",
              "      const reader = new FileReader();\n",
              "      reader.onload = (e) => {\n",
              "        resolve(e.target.result);\n",
              "      };\n",
              "      reader.readAsArrayBuffer(file);\n",
              "    });\n",
              "    // Wait for the data to be ready.\n",
              "    let fileData = yield {\n",
              "      promise: fileDataPromise,\n",
              "      response: {\n",
              "        action: 'continue',\n",
              "      }\n",
              "    };\n",
              "\n",
              "    // Use a chunked sending to avoid message size limits. See b/62115660.\n",
              "    let position = 0;\n",
              "    do {\n",
              "      const length = Math.min(fileData.byteLength - position, MAX_PAYLOAD_SIZE);\n",
              "      const chunk = new Uint8Array(fileData, position, length);\n",
              "      position += length;\n",
              "\n",
              "      const base64 = btoa(String.fromCharCode.apply(null, chunk));\n",
              "      yield {\n",
              "        response: {\n",
              "          action: 'append',\n",
              "          file: file.name,\n",
              "          data: base64,\n",
              "        },\n",
              "      };\n",
              "\n",
              "      let percentDone = fileData.byteLength === 0 ?\n",
              "          100 :\n",
              "          Math.round((position / fileData.byteLength) * 100);\n",
              "      percent.textContent = `${percentDone}% done`;\n",
              "\n",
              "    } while (position < fileData.byteLength);\n",
              "  }\n",
              "\n",
              "  // All done.\n",
              "  yield {\n",
              "    response: {\n",
              "      action: 'complete',\n",
              "    }\n",
              "  };\n",
              "}\n",
              "\n",
              "scope.google = scope.google || {};\n",
              "scope.google.colab = scope.google.colab || {};\n",
              "scope.google.colab._files = {\n",
              "  _uploadFiles,\n",
              "  _uploadFilesContinue,\n",
              "};\n",
              "})(self);\n",
              "</script> "
            ]
          },
          "metadata": {}
        },
        {
          "output_type": "stream",
          "name": "stdout",
          "text": [
            "Saving categories.csv to categories.csv\n",
            "Saving expense.csv to expense.csv\n",
            "Saving users.csv to users.csv\n"
          ]
        }
      ]
    },
    {
      "cell_type": "code",
      "source": [
        "users_df = spark.read.csv(\"users.csv\", header=True, inferSchema=True)\n",
        "expenses_df = spark.read.csv(\"expense.csv\", header=True, inferSchema=True)\n",
        "categories_df = spark.read.csv(\"categories.csv\", header=True, inferSchema=True)\n",
        "\n",
        "print(\"=== Users ===\")\n",
        "users_df.show()\n",
        "print(\"=== Expenses ===\")\n",
        "expenses_df.show()\n"
      ],
      "metadata": {
        "colab": {
          "base_uri": "https://localhost:8080/"
        },
        "id": "WBFKhddiXyw-",
        "outputId": "3dea95c2-7fb5-40bd-9214-e136c5c7def9"
      },
      "execution_count": 4,
      "outputs": [
        {
          "output_type": "stream",
          "name": "stdout",
          "text": [
            "=== Users ===\n",
            "+-------+-------+--------------------+\n",
            "|user_id|   name|               email|\n",
            "+-------+-------+--------------------+\n",
            "|      1|Karthik|karthik2025@mail.com|\n",
            "|      2|  Sneha|sneha.raju@email.com|\n",
            "|      3| Vikram|vikram_nair@domai...|\n",
            "|      4|  Pooja|pooja.star95@exam...|\n",
            "|      5|  Tejas|tejas.mani@gmail.com|\n",
            "+-------+-------+--------------------+\n",
            "\n",
            "=== Expenses ===\n",
            "+----------+-------+-----------+------+------------+--------------------+\n",
            "|expense_id|user_id|category_id|amount|expense_date|         description|\n",
            "+----------+-------+-----------+------+------------+--------------------+\n",
            "|         1|      1|          1| 950.0|  2025-07-02|Doctor consultati...|\n",
            "|         2|      1|          2|2000.0|  2025-07-04|   Online course fee|\n",
            "|         3|      2|          3|7000.0|  2025-07-06|     July month rent|\n",
            "|         4|      3|          4| 450.0|  2025-07-09|       Movie tickets|\n",
            "|         5|      4|          5|3000.0|  2025-07-11|        Weekend trip|\n",
            "|         6|      5|          1| 600.0|  2025-07-12|   Pharmacy purchase|\n",
            "|         7|      2|          5|1250.0|  2025-07-13|Cab and hotel for...|\n",
            "|         8|      3|          2|1800.0|  2025-07-16|Textbooks and mat...|\n",
            "|         9|      4|          3|7200.0|  2025-07-19|Shared apartment ...|\n",
            "|        10|      5|          4| 520.0|  2025-07-21|Stand-up comedy show|\n",
            "+----------+-------+-----------+------+------------+--------------------+\n",
            "\n"
          ]
        }
      ]
    },
    {
      "cell_type": "code",
      "source": [
        "from pyspark.sql.functions import month, year, sum as spark_sum\n",
        "\n",
        "combined_df = (expenses_df\n",
        "    .join(users_df, \"user_id\")\n",
        "    .withColumn(\"month\", month(\"expense_date\"))\n",
        "    .withColumn(\"year\", year(\"expense_date\"))\n",
        ")\n",
        "\n",
        "combined_df.show()\n"
      ],
      "metadata": {
        "colab": {
          "base_uri": "https://localhost:8080/"
        },
        "id": "23VGeB7GX4ut",
        "outputId": "115932a1-8e2b-4d14-e511-9eb3002076cd"
      },
      "execution_count": 5,
      "outputs": [
        {
          "output_type": "stream",
          "name": "stdout",
          "text": [
            "+-------+----------+-----------+------+------------+--------------------+-------+--------------------+-----+----+\n",
            "|user_id|expense_id|category_id|amount|expense_date|         description|   name|               email|month|year|\n",
            "+-------+----------+-----------+------+------------+--------------------+-------+--------------------+-----+----+\n",
            "|      1|         1|          1| 950.0|  2025-07-02|Doctor consultati...|Karthik|karthik2025@mail.com|    7|2025|\n",
            "|      1|         2|          2|2000.0|  2025-07-04|   Online course fee|Karthik|karthik2025@mail.com|    7|2025|\n",
            "|      2|         3|          3|7000.0|  2025-07-06|     July month rent|  Sneha|sneha.raju@email.com|    7|2025|\n",
            "|      3|         4|          4| 450.0|  2025-07-09|       Movie tickets| Vikram|vikram_nair@domai...|    7|2025|\n",
            "|      4|         5|          5|3000.0|  2025-07-11|        Weekend trip|  Pooja|pooja.star95@exam...|    7|2025|\n",
            "|      5|         6|          1| 600.0|  2025-07-12|   Pharmacy purchase|  Tejas|tejas.mani@gmail.com|    7|2025|\n",
            "|      2|         7|          5|1250.0|  2025-07-13|Cab and hotel for...|  Sneha|sneha.raju@email.com|    7|2025|\n",
            "|      3|         8|          2|1800.0|  2025-07-16|Textbooks and mat...| Vikram|vikram_nair@domai...|    7|2025|\n",
            "|      4|         9|          3|7200.0|  2025-07-19|Shared apartment ...|  Pooja|pooja.star95@exam...|    7|2025|\n",
            "|      5|        10|          4| 520.0|  2025-07-21|Stand-up comedy show|  Tejas|tejas.mani@gmail.com|    7|2025|\n",
            "+-------+----------+-----------+------+------------+--------------------+-------+--------------------+-----+----+\n",
            "\n"
          ]
        }
      ]
    },
    {
      "cell_type": "code",
      "source": [
        "from pyspark.sql.functions import lit, when, col, month, year, sum as spark_sum\n",
        "\n",
        "# Assume fixed income = 10000 for demo\n",
        "income = 10000\n",
        "\n",
        "summary_df = (combined_df\n",
        "    .groupBy(\"user_id\", \"name\", \"year\", \"month\")\n",
        "    .agg(spark_sum(\"amount\").alias(\"total_spend\"))\n",
        "    .withColumn(\"savings\", lit(income) - col(\"total_spend\"))\n",
        "    .withColumn(\"alert\", when(col(\"total_spend\") > 0.8 * income, \"High Spend\").otherwise(\"OK\"))\n",
        ")\n",
        "\n",
        "summary_df.show()"
      ],
      "metadata": {
        "colab": {
          "base_uri": "https://localhost:8080/"
        },
        "id": "dmZ4NpraYMJu",
        "outputId": "619a23e2-3865-4251-a44e-e6bab0194a9a"
      },
      "execution_count": 8,
      "outputs": [
        {
          "output_type": "stream",
          "name": "stdout",
          "text": [
            "+-------+-------+----+-----+-----------+-------+----------+\n",
            "|user_id|   name|year|month|total_spend|savings|     alert|\n",
            "+-------+-------+----+-----+-----------+-------+----------+\n",
            "|      2|  Sneha|2025|    7|     8250.0| 1750.0|High Spend|\n",
            "|      1|Karthik|2025|    7|     2950.0| 7050.0|        OK|\n",
            "|      3| Vikram|2025|    7|     2250.0| 7750.0|        OK|\n",
            "|      4|  Pooja|2025|    7|    10200.0| -200.0|High Spend|\n",
            "|      5|  Tejas|2025|    7|     1120.0| 8880.0|        OK|\n",
            "+-------+-------+----+-----+-----------+-------+----------+\n",
            "\n"
          ]
        }
      ]
    },
    {
      "cell_type": "code",
      "source": [
        "summary_df.write.format(\"delta\").mode(\"overwrite\").save(\"/content/summary_delta\")\n",
        "summary_df.write.csv(\"/content/summary_csv\", header=True, mode=\"overwrite\")\n",
        "\n",
        "print(\" Summary saved as Delta and CSV\")\n"
      ],
      "metadata": {
        "colab": {
          "base_uri": "https://localhost:8080/"
        },
        "id": "dwdc4etnYPYe",
        "outputId": "7d650f79-332d-4d7e-8236-77f8d909a493"
      },
      "execution_count": 10,
      "outputs": [
        {
          "output_type": "stream",
          "name": "stdout",
          "text": [
            " Summary saved as Delta and CSV\n"
          ]
        }
      ]
    }
  ]
}